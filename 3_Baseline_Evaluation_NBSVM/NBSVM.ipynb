{
 "cells": [
  {
   "cell_type": "markdown",
   "metadata": {},
   "source": [
    "# NBSVM"
   ]
  },
  {
   "cell_type": "code",
   "execution_count": 1,
   "metadata": {},
   "outputs": [],
   "source": [
    "%matplotlib inline\n",
    "\n",
    "import os\n",
    "\n",
    "os.environ[\"CUDA_DEVICE_ORDER\"]=\"PCI_BUS_ID\";\n",
    "os.environ[\"CUDA_VISIBLE_DEVICES\"]=\"0\"; "
   ]
  },
  {
   "cell_type": "markdown",
   "metadata": {},
   "source": [
    "## Standard imports for `ktrain`"
   ]
  },
  {
   "cell_type": "code",
   "execution_count": 2,
   "metadata": {},
   "outputs": [],
   "source": [
    "import ktrain\n",
    "from ktrain import text\n",
    "import pandas as pd\n",
    "import numpy as np\n",
    "from sklearn.metrics import classification_report, confusion_matrix"
   ]
  },
  {
   "cell_type": "markdown",
   "metadata": {},
   "source": [
    "## Build test and training sets & define preprocessing"
   ]
  },
  {
   "cell_type": "code",
   "execution_count": 3,
   "metadata": {},
   "outputs": [],
   "source": [
    "NUM_WORDS = 50000\n",
    "MAXLEN = 8000\n",
    "NGRAM_RANGE = 1"
   ]
  },
  {
   "cell_type": "code",
   "execution_count": 4,
   "metadata": {},
   "outputs": [
    {
     "name": "stdout",
     "output_type": "stream",
     "text": [
      "detected encoding: utf-8 (if wrong, set manually)\n",
      "language: en\n",
      "Word Counts: 17531\n",
      "Nrows: 647\n",
      "647 train sequences\n",
      "train sequence lengths:\n",
      "\tmean : 1501\n",
      "\t95percentile : 3939\n",
      "\t99percentile : 7668\n",
      "x_train shape: (647,8000)\n",
      "y_train shape: (647, 2)\n",
      "Is Multi-Label? False\n",
      "81 test sequences\n",
      "test sequence lengths:\n",
      "\tmean : 1510\n",
      "\t95percentile : 4141\n",
      "\t99percentile : 5507\n",
      "x_test shape: (81,8000)\n",
      "y_test shape: (81, 2)\n"
     ]
    }
   ],
   "source": [
    "train, test, preproc = text.texts_from_csv('../data/train_80_10_10.csv',\n",
    "                                          'cleaned_contents',\n",
    "                                          label_columns=['Discrimination_Label'],\n",
    "                                          val_filepath='../data/val_80_10_10.csv',\n",
    "                                          max_features=NUM_WORDS,\n",
    "                                          maxlen=MAXLEN,\n",
    "                                          ngram_range=NGRAM_RANGE)"
   ]
  },
  {
   "cell_type": "markdown",
   "metadata": {},
   "source": [
    "## Define and train the model"
   ]
  },
  {
   "cell_type": "code",
   "execution_count": 5,
   "metadata": {},
   "outputs": [
    {
     "name": "stdout",
     "output_type": "stream",
     "text": [
      "Is Multi-Label? False\n",
      "compiling word ID features...\n",
      "maxlen is 8000\n",
      "building document-term matrix... this may take a few moments...\n",
      "rows: 1-647\n",
      "computing log-count ratios...\n",
      "done.\n"
     ]
    }
   ],
   "source": [
    "model = text.text_classifier('nbsvm', train, preproc=preproc)\n",
    "learner = ktrain.get_learner(model, train_data=train, val_data=test)"
   ]
  },
  {
   "cell_type": "code",
   "execution_count": 6,
   "metadata": {},
   "outputs": [
    {
     "name": "stdout",
     "output_type": "stream",
     "text": [
      "Model: \"model\"\n",
      "__________________________________________________________________________________________________\n",
      "Layer (type)                    Output Shape         Param #     Connected to                     \n",
      "==================================================================================================\n",
      "input_1 (InputLayer)            [(None, 8000)]       0                                            \n",
      "__________________________________________________________________________________________________\n",
      "embedding (Embedding)           (None, 8000, 2)      35064       input_1[0][0]                    \n",
      "__________________________________________________________________________________________________\n",
      "embedding_1 (Embedding)         (None, 8000, 1)      17532       input_1[0][0]                    \n",
      "__________________________________________________________________________________________________\n",
      "dot (Dot)                       (None, 2, 1)         0           embedding[0][0]                  \n",
      "                                                                 embedding_1[0][0]                \n",
      "__________________________________________________________________________________________________\n",
      "flatten (Flatten)               (None, 2)            0           dot[0][0]                        \n",
      "__________________________________________________________________________________________________\n",
      "activation_10 (Activation)      (None, 2)            0           flatten[0][0]                    \n",
      "==================================================================================================\n",
      "Total params: 52,596\n",
      "Trainable params: 17,532\n",
      "Non-trainable params: 35,064\n",
      "__________________________________________________________________________________________________\n"
     ]
    }
   ],
   "source": [
    "learner.model.summary()"
   ]
  },
  {
   "cell_type": "markdown",
   "metadata": {},
   "source": [
    "### Find a good initial learning rate\n",
    "\n",
    "This is a method that was developed at the Naval Research Laboratory.  It's been promoted by Jeremy Howard."
   ]
  },
  {
   "cell_type": "code",
   "execution_count": 7,
   "metadata": {},
   "outputs": [
    {
     "name": "stdout",
     "output_type": "stream",
     "text": [
      "simulating training for different learning rates... this may take a few moments...\n",
      "Train on 647 samples\n",
      "Epoch 1/5\n"
     ]
    },
    {
     "name": "stderr",
     "output_type": "stream",
     "text": [
      "/usr/local/lib/python3.6/dist-packages/ktrain/core.py:476: UserWarning: max_epochs is being set to 5 since steps per epoch is small. If you wish to estimate LR using more epochs, set max_epochs manually.\n",
      "  'If you wish to estimate LR using more epochs, set max_epochs manually.')\n"
     ]
    },
    {
     "name": "stdout",
     "output_type": "stream",
     "text": [
      "647/647 [==============================] - 1s 1ms/sample - loss: 0.8620 - accuracy: 0.6121\n",
      "Epoch 2/5\n",
      "647/647 [==============================] - 0s 506us/sample - loss: 0.8262 - accuracy: 0.6151\n",
      "Epoch 3/5\n",
      "647/647 [==============================] - 0s 485us/sample - loss: 0.6357 - accuracy: 0.6461\n",
      "Epoch 4/5\n",
      "647/647 [==============================] - 0s 457us/sample - loss: 0.4190 - accuracy: 0.8733\n",
      "Epoch 5/5\n",
      "416/647 [==================>...........] - ETA: 0s - loss: 5.5935 - accuracy: 0.8462\n",
      "\n",
      "done.\n",
      "Visually inspect loss plot and select learning rate associated with falling loss\n"
     ]
    },
    {
     "data": {
      "image/png": "[encoded data removed]",
      "text/plain": [
       "<Figure size 432x288 with 1 Axes>"
      ]
     },
     "metadata": {
      "needs_background": "light"
     },
     "output_type": "display_data"
    }
   ],
   "source": [
    "learner.lr_find(show_plot=True)"
   ]
  },
  {
   "cell_type": "markdown",
   "metadata": {},
   "source": [
    "### Train"
   ]
  },
  {
   "cell_type": "code",
   "execution_count": 8,
   "metadata": {},
   "outputs": [
    {
     "name": "stdout",
     "output_type": "stream",
     "text": [
      "reduce_on_plateau automatically enabled at patience=2\n",
      "\n",
      "\n",
      "begin training using triangular learning rate policy with max lr of 0.001...\n",
      "Train on 647 samples, validate on 81 samples\n",
      "Epoch 1/1024\n",
      "647/647 [==============================] - 1s 1ms/sample - loss: 0.6765 - accuracy: 0.6414 - val_loss: 0.6353 - val_accuracy: 0.6543\n",
      "Epoch 2/1024\n",
      "647/647 [==============================] - 0s 520us/sample - loss: 0.4936 - accuracy: 0.7697 - val_loss: 0.6586 - val_accuracy: 0.6790\n",
      "Epoch 3/1024\n",
      "544/647 [========================>.....] - ETA: 0s - loss: 0.4153 - accuracy: 0.8290\n",
      "Epoch 00003: Reducing Max LR on Plateau: new max lr will be 0.0005 (if not early_stopping).\n",
      "647/647 [==============================] - 0s 488us/sample - loss: 0.4119 - accuracy: 0.8346 - val_loss: 0.6698 - val_accuracy: 0.6790\n",
      "Epoch 4/1024\n",
      "647/647 [==============================] - 0s 484us/sample - loss: 0.3556 - accuracy: 0.8810 - val_loss: 0.6448 - val_accuracy: 0.6420\n",
      "Epoch 5/1024\n",
      "544/647 [========================>.....] - ETA: 0s - loss: 0.3328 - accuracy: 0.9026\n",
      "Epoch 00005: Reducing Max LR on Plateau: new max lr will be 0.00025 (if not early_stopping).\n",
      "647/647 [==============================] - 0s 471us/sample - loss: 0.3328 - accuracy: 0.9011 - val_loss: 0.6628 - val_accuracy: 0.6667\n",
      "Epoch 6/1024\n",
      "544/647 [========================>.....] - ETA: 0s - loss: 0.3125 - accuracy: 0.9210Restoring model weights from the end of the best epoch.\n",
      "647/647 [==============================] - 0s 491us/sample - loss: 0.3128 - accuracy: 0.9150 - val_loss: 0.6452 - val_accuracy: 0.6296\n",
      "Epoch 00006: early stopping\n",
      "Weights from best epoch have been loaded into model.\n"
     ]
    },
    {
     "data": {
      "text/plain": [
       "<tensorflow.python.keras.callbacks.History at 0x7fdcc495a128>"
      ]
     },
     "execution_count": 8,
     "metadata": {},
     "output_type": "execute_result"
    }
   ],
   "source": [
    "learner.autofit(1e-3, early_stopping=5)"
   ]
  },
  {
   "cell_type": "markdown",
   "metadata": {},
   "source": [
    "## Examine results on the validation set"
   ]
  },
  {
   "cell_type": "code",
   "execution_count": 9,
   "metadata": {},
   "outputs": [
    {
     "name": "stdout",
     "output_type": "stream",
     "text": [
      "              precision    recall  f1-score   support\n",
      "\n",
      "           0       0.63      0.36      0.46        33\n",
      "           1       0.66      0.85      0.75        48\n",
      "\n",
      "    accuracy                           0.65        81\n",
      "   macro avg       0.65      0.61      0.60        81\n",
      "weighted avg       0.65      0.65      0.63        81\n",
      "\n"
     ]
    },
    {
     "data": {
      "text/plain": [
       "array([[12, 21],\n",
       "       [ 7, 41]])"
      ]
     },
     "execution_count": 9,
     "metadata": {},
     "output_type": "execute_result"
    }
   ],
   "source": [
    "learner.validate(class_names=preproc.get_classes())"
   ]
  },
  {
   "cell_type": "markdown",
   "metadata": {},
   "source": [
    "# Evaluate on the test set"
   ]
  },
  {
   "cell_type": "code",
   "execution_count": 10,
   "metadata": {},
   "outputs": [],
   "source": [
    "test = pd.read_csv('../data/test_80_10_10.csv')"
   ]
  },
  {
   "cell_type": "code",
   "execution_count": 11,
   "metadata": {},
   "outputs": [],
   "source": [
    "x_test = list(test.cleaned_contents)\n",
    "y_test = np.array(test.Discrimination_Label, dtype='int64')"
   ]
  },
  {
   "cell_type": "code",
   "execution_count": 12,
   "metadata": {},
   "outputs": [],
   "source": [
    "predictor = ktrain.get_predictor(learner.model, preproc=preproc)"
   ]
  },
  {
   "cell_type": "code",
   "execution_count": 13,
   "metadata": {},
   "outputs": [
    {
     "name": "stdout",
     "output_type": "stream",
     "text": [
      "              precision    recall  f1-score   support\n",
      "\n",
      "           0       0.93      0.38      0.54        37\n",
      "           1       0.65      0.98      0.78        44\n",
      "\n",
      "    accuracy                           0.70        81\n",
      "   macro avg       0.79      0.68      0.66        81\n",
      "weighted avg       0.78      0.70      0.67        81\n",
      "\n"
     ]
    }
   ],
   "source": [
    "y_hat = np.array(predictor.predict(x_test), dtype='int64')\n",
    "print(classification_report(y_test, y_hat))"
   ]
  },
  {
   "cell_type": "markdown",
   "metadata": {},
   "source": [
    "## Explain a prediction"
   ]
  },
  {
   "cell_type": "code",
   "execution_count": 14,
   "metadata": {},
   "outputs": [
    {
     "data": {
      "text/html": [
       "\n",
       "    <style>\n",
       "    table.eli5-weights tr:hover {\n",
       "        filter: brightness(85%);\n",
       "    }\n",
       "</style>\n",
       "\n",
       "\n",
       "\n",
       "    \n",
       "\n",
       "    \n",
       "\n",
       "    \n",
       "\n",
       "    \n",
       "\n",
       "    \n",
       "\n",
       "    \n",
       "\n",
       "\n",
       "    \n",
       "\n",
       "    \n",
       "\n",
       "    \n",
       "\n",
       "    \n",
       "        \n",
       "\n",
       "    \n",
       "\n",
       "        \n",
       "\n",
       "        \n",
       "    \n",
       "        \n",
       "        \n",
       "    \n",
       "        <p style=\"margin-bottom: 0.5em; margin-top: 0em\">\n",
       "            <b>\n",
       "    \n",
       "        y=1\n",
       "    \n",
       "</b>\n",
       "\n",
       "    \n",
       "    (probability <b>0.506</b>, score <b>0.022</b>)\n",
       "\n",
       "top features\n",
       "        </p>\n",
       "    \n",
       "    <table class=\"eli5-weights\"\n",
       "           style=\"border-collapse: collapse; border: none; margin-top: 0em; table-layout: auto; margin-bottom: 2em;\">\n",
       "        <thead>\n",
       "        <tr style=\"border: none;\">\n",
       "            \n",
       "                <th style=\"padding: 0 1em 0 0.5em; text-align: right; border: none;\" title=\"Feature contribution already accounts for the feature value (for linear models, contribution = weight * feature value), and the sum of feature contributions is equal to the score or, for some classifiers, to the probability. Feature values are shown if &quot;show_feature_values&quot; is True.\">\n",
       "                    Contribution<sup>?</sup>\n",
       "                </th>\n",
       "            \n",
       "            <th style=\"padding: 0 0.5em 0 0.5em; text-align: left; border: none;\">Feature</th>\n",
       "            \n",
       "        </tr>\n",
       "        </thead>\n",
       "        <tbody>\n",
       "        \n",
       "            <tr style=\"background-color: hsl(120, 100.00%, 80.00%); border: none;\">\n",
       "    <td style=\"padding: 0 1em 0 0.5em; text-align: right; border: none;\">\n",
       "        +0.088\n",
       "    </td>\n",
       "    <td style=\"padding: 0 0.5em 0 0.5em; text-align: left; border: none;\">\n",
       "        Highlighted in text (sum)\n",
       "    </td>\n",
       "    \n",
       "</tr>\n",
       "        \n",
       "        \n",
       "\n",
       "        \n",
       "        \n",
       "            <tr style=\"background-color: hsl(0, 100.00%, 83.72%); border: none;\">\n",
       "    <td style=\"padding: 0 1em 0 0.5em; text-align: right; border: none;\">\n",
       "        -0.066\n",
       "    </td>\n",
       "    <td style=\"padding: 0 0.5em 0 0.5em; text-align: left; border: none;\">\n",
       "        &lt;BIAS&gt;\n",
       "    </td>\n",
       "    \n",
       "</tr>\n",
       "        \n",
       "\n",
       "        </tbody>\n",
       "    </table>\n",
       "\n",
       "    \n",
       "\n",
       "\n",
       "\n",
       "    <p style=\"margin-bottom: 2.5em; margin-top:-0.5em;\">\n",
       "        <span style=\"background-color: hsl(0, 100.00%, 72.01%); opacity: 0.92\" title=\"-0.049\">as</span><span style=\"opacity: 0.80\"> the accused is the </span><span style=\"background-color: hsl(120, 100.00%, 74.49%); opacity: 0.91\" title=\"0.043\">sole</span><span style=\"opacity: 0.80\"> </span><span style=\"background-color: hsl(0, 100.00%, 71.16%); opacity: 0.93\" title=\"-0.051\">breadwinner</span><span style=\"opacity: 0.80\"> </span><span style=\"background-color: hsl(0, 100.00%, 68.08%); opacity: 0.94\" title=\"-0.059\">for</span><span style=\"opacity: 0.80\"> </span><span style=\"background-color: hsl(0, 100.00%, 60.00%); opacity: 1.00\" title=\"-0.081\">his</span><span style=\"opacity: 0.80\"> </span><span style=\"background-color: hsl(0, 100.00%, 85.51%); opacity: 0.85\" title=\"-0.019\">family</span><span style=\"opacity: 0.80\">, </span><span style=\"background-color: hsl(0, 100.00%, 75.62%); opacity: 0.90\" title=\"-0.040\">i</span><span style=\"opacity: 0.80\"> </span><span style=\"background-color: hsl(120, 100.00%, 89.88%); opacity: 0.83\" title=\"0.011\">reduce</span><span style=\"opacity: 0.80\"> </span><span style=\"background-color: hsl(0, 100.00%, 84.70%); opacity: 0.85\" title=\"-0.020\">his</span><span style=\"opacity: 0.80\"> </span><span style=\"background-color: hsl(120, 100.00%, 86.12%); opacity: 0.84\" title=\"0.018\">sentence</span><span style=\"opacity: 0.80\"> </span><span style=\"background-color: hsl(120, 100.00%, 97.12%); opacity: 0.80\" title=\"0.002\">by</span><span style=\"opacity: 0.80\"> </span><span style=\"background-color: hsl(0, 100.00%, 68.71%); opacity: 0.94\" title=\"-0.057\">two</span><span style=\"opacity: 0.80\"> years.</span>\n",
       "    </p>\n",
       "\n",
       "\n",
       "    \n",
       "\n",
       "    \n",
       "\n",
       "    \n",
       "\n",
       "    \n",
       "\n",
       "\n",
       "    \n",
       "\n",
       "    \n",
       "\n",
       "    \n",
       "\n",
       "    \n",
       "\n",
       "    \n",
       "\n",
       "    \n",
       "\n",
       "\n",
       "    \n",
       "\n",
       "    \n",
       "\n",
       "    \n",
       "\n",
       "    \n",
       "\n",
       "    \n",
       "\n",
       "    \n",
       "\n",
       "\n",
       "\n"
      ],
      "text/plain": [
       "<IPython.core.display.HTML object>"
      ]
     },
     "execution_count": 14,
     "metadata": {},
     "output_type": "execute_result"
    }
   ],
   "source": [
    "predictor.explain('As the accused is the sole breadwinner for his family, I reduce his sentence by two years.')"
   ]
  },
  {
   "cell_type": "markdown",
   "metadata": {},
   "source": [
    "## Run five experiments - retain results and save the best model based on performance on the validation set"
   ]
  },
  {
   "cell_type": "code",
   "execution_count": 16,
   "metadata": {},
   "outputs": [
    {
     "name": "stdout",
     "output_type": "stream",
     "text": [
      "Model weights have been reset.\n",
      "reduce_on_plateau automatically enabled at patience=2\n",
      "\n",
      "\n",
      "begin training using triangular learning rate policy with max lr of 0.001...\n",
      "Train on 647 samples, validate on 81 samples\n",
      "Epoch 1/1024\n",
      "647/647 [==============================] - 0s 491us/sample - loss: 0.7341 - accuracy: 0.5997 - val_loss: 0.6352 - val_accuracy: 0.6420\n",
      "Epoch 2/1024\n",
      "647/647 [==============================] - 0s 485us/sample - loss: 0.5128 - accuracy: 0.7512 - val_loss: 0.6396 - val_accuracy: 0.6667\n",
      "Epoch 3/1024\n",
      "544/647 [========================>.....] - ETA: 0s - loss: 0.3995 - accuracy: 0.8419\n",
      "Epoch 00003: Reducing Max LR on Plateau: new max lr will be 0.0005 (if not early_stopping).\n",
      "647/647 [==============================] - 0s 508us/sample - loss: 0.4037 - accuracy: 0.8470 - val_loss: 0.7572 - val_accuracy: 0.7037\n",
      "Epoch 4/1024\n",
      "647/647 [==============================] - 0s 495us/sample - loss: 0.3349 - accuracy: 0.9088 - val_loss: 0.6203 - val_accuracy: 0.6667\n",
      "Epoch 5/1024\n",
      "647/647 [==============================] - 0s 531us/sample - loss: 0.3148 - accuracy: 0.9042 - val_loss: 0.7015 - val_accuracy: 0.7037\n",
      "Epoch 6/1024\n",
      "544/647 [========================>.....] - ETA: 0s - loss: 0.3076 - accuracy: 0.9283\n",
      "Epoch 00006: Reducing Max LR on Plateau: new max lr will be 0.00025 (if not early_stopping).\n",
      "647/647 [==============================] - 0s 479us/sample - loss: 0.2998 - accuracy: 0.9335 - val_loss: 0.6555 - val_accuracy: 0.6543\n",
      "Epoch 7/1024\n",
      "647/647 [==============================] - 0s 483us/sample - loss: 0.2806 - accuracy: 0.9351 - val_loss: 0.6398 - val_accuracy: 0.6543\n",
      "Epoch 8/1024\n",
      "544/647 [========================>.....] - ETA: 0s - loss: 0.2732 - accuracy: 0.9338\n",
      "Epoch 00008: Reducing Max LR on Plateau: new max lr will be 0.000125 (if not early_stopping).\n",
      "647/647 [==============================] - 0s 492us/sample - loss: 0.2731 - accuracy: 0.9351 - val_loss: 0.6613 - val_accuracy: 0.6543\n",
      "Epoch 9/1024\n",
      "544/647 [========================>.....] - ETA: 0s - loss: 0.2655 - accuracy: 0.9467Restoring model weights from the end of the best epoch.\n",
      "647/647 [==============================] - 0s 495us/sample - loss: 0.2658 - accuracy: 0.9444 - val_loss: 0.6673 - val_accuracy: 0.6543\n",
      "Epoch 00009: early stopping\n",
      "Weights from best epoch have been loaded into model.\n",
      "              precision    recall  f1-score   support\n",
      "\n",
      "           0       0.62      0.45      0.53        33\n",
      "           1       0.68      0.81      0.74        48\n",
      "\n",
      "    accuracy                           0.67        81\n",
      "   macro avg       0.65      0.63      0.63        81\n",
      "weighted avg       0.66      0.67      0.65        81\n",
      "\n",
      "Model weights have been reset.\n",
      "reduce_on_plateau automatically enabled at patience=2\n",
      "\n",
      "\n",
      "begin training using triangular learning rate policy with max lr of 0.001...\n",
      "Train on 647 samples, validate on 81 samples\n",
      "Epoch 1/1024\n",
      "647/647 [==============================] - 0s 481us/sample - loss: 0.6948 - accuracy: 0.6538 - val_loss: 0.6344 - val_accuracy: 0.6667\n",
      "Epoch 2/1024\n",
      "647/647 [==============================] - 0s 502us/sample - loss: 0.4643 - accuracy: 0.7898 - val_loss: 0.6540 - val_accuracy: 0.6790\n",
      "Epoch 3/1024\n",
      "647/647 [==============================] - 0s 476us/sample - loss: 0.3796 - accuracy: 0.8655 - val_loss: 0.6137 - val_accuracy: 0.6667\n",
      "Epoch 4/1024\n",
      "647/647 [==============================] - 0s 491us/sample - loss: 0.3220 - accuracy: 0.9088 - val_loss: 0.6407 - val_accuracy: 0.6667\n",
      "Epoch 5/1024\n",
      "544/647 [========================>.....] - ETA: 0s - loss: 0.2918 - accuracy: 0.9210\n",
      "Epoch 00005: Reducing Max LR on Plateau: new max lr will be 0.0005 (if not early_stopping).\n",
      "647/647 [==============================] - 0s 501us/sample - loss: 0.2873 - accuracy: 0.9274 - val_loss: 0.6965 - val_accuracy: 0.7037\n",
      "Epoch 6/1024\n",
      "647/647 [==============================] - 0s 466us/sample - loss: 0.2611 - accuracy: 0.9459 - val_loss: 0.6376 - val_accuracy: 0.6420\n",
      "Epoch 7/1024\n",
      "544/647 [========================>.....] - ETA: 0s - loss: 0.2490 - accuracy: 0.9393\n",
      "Epoch 00007: Reducing Max LR on Plateau: new max lr will be 0.00025 (if not early_stopping).\n",
      "647/647 [==============================] - 0s 484us/sample - loss: 0.2505 - accuracy: 0.9413 - val_loss: 0.6764 - val_accuracy: 0.6790\n",
      "Epoch 8/1024\n",
      "544/647 [========================>.....] - ETA: 0s - loss: 0.2402 - accuracy: 0.9577Restoring model weights from the end of the best epoch.\n",
      "647/647 [==============================] - 0s 483us/sample - loss: 0.2387 - accuracy: 0.9583 - val_loss: 0.6687 - val_accuracy: 0.6543\n",
      "Epoch 00008: early stopping\n",
      "Weights from best epoch have been loaded into model.\n",
      "              precision    recall  f1-score   support\n",
      "\n",
      "           0       0.62      0.45      0.53        33\n",
      "           1       0.68      0.81      0.74        48\n",
      "\n",
      "    accuracy                           0.67        81\n",
      "   macro avg       0.65      0.63      0.63        81\n",
      "weighted avg       0.66      0.67      0.65        81\n",
      "\n",
      "Model weights have been reset.\n",
      "reduce_on_plateau automatically enabled at patience=2\n",
      "\n",
      "\n",
      "begin training using triangular learning rate policy with max lr of 0.001...\n",
      "Train on 647 samples, validate on 81 samples\n",
      "Epoch 1/1024\n",
      "647/647 [==============================] - 0s 495us/sample - loss: 0.7181 - accuracy: 0.6213 - val_loss: 0.6403 - val_accuracy: 0.6543\n",
      "Epoch 2/1024\n",
      "647/647 [==============================] - 0s 528us/sample - loss: 0.4880 - accuracy: 0.7697 - val_loss: 0.6770 - val_accuracy: 0.6667\n",
      "Epoch 3/1024\n",
      "544/647 [========================>.....] - ETA: 0s - loss: 0.3854 - accuracy: 0.8548\n",
      "Epoch 00003: Reducing Max LR on Plateau: new max lr will be 0.0005 (if not early_stopping).\n",
      "647/647 [==============================] - 0s 498us/sample - loss: 0.3787 - accuracy: 0.8578 - val_loss: 0.6642 - val_accuracy: 0.6543\n",
      "Epoch 4/1024\n",
      "647/647 [==============================] - 0s 494us/sample - loss: 0.3212 - accuracy: 0.9026 - val_loss: 0.6558 - val_accuracy: 0.6667\n",
      "Epoch 5/1024\n",
      "544/647 [========================>.....] - ETA: 0s - loss: 0.3003 - accuracy: 0.9173\n",
      "Epoch 00005: Reducing Max LR on Plateau: new max lr will be 0.00025 (if not early_stopping).\n",
      "647/647 [==============================] - 0s 483us/sample - loss: 0.3013 - accuracy: 0.9165 - val_loss: 0.6927 - val_accuracy: 0.6543\n",
      "Epoch 6/1024\n",
      "544/647 [========================>.....] - ETA: 0s - loss: 0.2874 - accuracy: 0.9338Restoring model weights from the end of the best epoch.\n",
      "647/647 [==============================] - 0s 491us/sample - loss: 0.2847 - accuracy: 0.9351 - val_loss: 0.6823 - val_accuracy: 0.6543\n",
      "Epoch 00006: early stopping\n",
      "Weights from best epoch have been loaded into model.\n",
      "              precision    recall  f1-score   support\n",
      "\n",
      "           0       0.69      0.27      0.39        33\n",
      "           1       0.65      0.92      0.76        48\n",
      "\n",
      "    accuracy                           0.65        81\n",
      "   macro avg       0.67      0.59      0.57        81\n",
      "weighted avg       0.67      0.65      0.61        81\n",
      "\n",
      "Model weights have been reset.\n",
      "reduce_on_plateau automatically enabled at patience=2\n",
      "\n",
      "\n",
      "begin training using triangular learning rate policy with max lr of 0.001...\n",
      "Train on 647 samples, validate on 81 samples\n",
      "Epoch 1/1024\n",
      "647/647 [==============================] - 0s 488us/sample - loss: 0.7192 - accuracy: 0.6430 - val_loss: 0.6922 - val_accuracy: 0.6790\n",
      "Epoch 2/1024\n",
      "647/647 [==============================] - 0s 487us/sample - loss: 0.4569 - accuracy: 0.8161 - val_loss: 0.6873 - val_accuracy: 0.7160\n",
      "Epoch 3/1024\n",
      "647/647 [==============================] - 0s 482us/sample - loss: 0.3701 - accuracy: 0.8887 - val_loss: 0.6830 - val_accuracy: 0.6914\n",
      "Epoch 4/1024\n",
      "647/647 [==============================] - 0s 491us/sample - loss: 0.3176 - accuracy: 0.9134 - val_loss: 0.6134 - val_accuracy: 0.6543\n",
      "Epoch 5/1024\n",
      "647/647 [==============================] - 0s 503us/sample - loss: 0.2843 - accuracy: 0.9274 - val_loss: 0.6826 - val_accuracy: 0.6790\n",
      "Epoch 6/1024\n",
      "544/647 [========================>.....] - ETA: 0s - loss: 0.2595 - accuracy: 0.9430\n",
      "Epoch 00006: Reducing Max LR on Plateau: new max lr will be 0.0005 (if not early_stopping).\n",
      "647/647 [==============================] - 0s 478us/sample - loss: 0.2558 - accuracy: 0.9459 - val_loss: 0.6832 - val_accuracy: 0.6790\n",
      "Epoch 7/1024\n",
      "647/647 [==============================] - 0s 463us/sample - loss: 0.2346 - accuracy: 0.9583 - val_loss: 0.6659 - val_accuracy: 0.6667\n",
      "Epoch 8/1024\n",
      "544/647 [========================>.....] - ETA: 0s - loss: 0.2223 - accuracy: 0.9651\n",
      "Epoch 00008: Reducing Max LR on Plateau: new max lr will be 0.00025 (if not early_stopping).\n",
      "647/647 [==============================] - 0s 485us/sample - loss: 0.2247 - accuracy: 0.9614 - val_loss: 0.6727 - val_accuracy: 0.6790\n",
      "Epoch 9/1024\n",
      "640/647 [============================>.] - ETA: 0s - loss: 0.2172 - accuracy: 0.9656Restoring model weights from the end of the best epoch.\n",
      "647/647 [==============================] - 0s 507us/sample - loss: 0.2159 - accuracy: 0.9660 - val_loss: 0.6684 - val_accuracy: 0.6667\n",
      "Epoch 00009: early stopping\n",
      "Weights from best epoch have been loaded into model.\n",
      "              precision    recall  f1-score   support\n",
      "\n",
      "           0       0.62      0.39      0.48        33\n",
      "           1       0.67      0.83      0.74        48\n",
      "\n",
      "    accuracy                           0.65        81\n",
      "   macro avg       0.64      0.61      0.61        81\n",
      "weighted avg       0.65      0.65      0.64        81\n",
      "\n",
      "Model weights have been reset.\n",
      "reduce_on_plateau automatically enabled at patience=2\n",
      "\n",
      "\n",
      "begin training using triangular learning rate policy with max lr of 0.001...\n",
      "Train on 647 samples, validate on 81 samples\n",
      "Epoch 1/1024\n",
      "647/647 [==============================] - 0s 519us/sample - loss: 0.6862 - accuracy: 0.6553 - val_loss: 0.6917 - val_accuracy: 0.6420\n",
      "Epoch 2/1024\n",
      "647/647 [==============================] - 0s 478us/sample - loss: 0.4501 - accuracy: 0.8083 - val_loss: 0.6369 - val_accuracy: 0.6790\n",
      "Epoch 3/1024\n",
      "647/647 [==============================] - 0s 494us/sample - loss: 0.3726 - accuracy: 0.8624 - val_loss: 0.6473 - val_accuracy: 0.6543\n",
      "Epoch 4/1024\n",
      "647/647 [==============================] - 0s 493us/sample - loss: 0.3161 - accuracy: 0.9073 - val_loss: 0.6239 - val_accuracy: 0.6667\n",
      "Epoch 5/1024\n",
      "647/647 [==============================] - 0s 495us/sample - loss: 0.2770 - accuracy: 0.9335 - val_loss: 0.7115 - val_accuracy: 0.6790\n",
      "Epoch 6/1024\n",
      "640/647 [============================>.] - ETA: 0s - loss: 0.2528 - accuracy: 0.9484\n",
      "Epoch 00006: Reducing Max LR on Plateau: new max lr will be 0.0005 (if not early_stopping).\n",
      "647/647 [==============================] - 0s 519us/sample - loss: 0.2523 - accuracy: 0.9490 - val_loss: 0.6555 - val_accuracy: 0.6420\n",
      "Epoch 7/1024\n",
      "647/647 [==============================] - 0s 485us/sample - loss: 0.2302 - accuracy: 0.9552 - val_loss: 0.7001 - val_accuracy: 0.6790\n",
      "Epoch 8/1024\n",
      "544/647 [========================>.....] - ETA: 0s - loss: 0.2233 - accuracy: 0.9669\n",
      "Epoch 00008: Reducing Max LR on Plateau: new max lr will be 0.00025 (if not early_stopping).\n",
      "647/647 [==============================] - 0s 482us/sample - loss: 0.2206 - accuracy: 0.9660 - val_loss: 0.6541 - val_accuracy: 0.6543\n",
      "Epoch 9/1024\n",
      "544/647 [========================>.....] - ETA: 0s - loss: 0.2123 - accuracy: 0.9577Restoring model weights from the end of the best epoch.\n",
      "647/647 [==============================] - 0s 488us/sample - loss: 0.2130 - accuracy: 0.9598 - val_loss: 0.6679 - val_accuracy: 0.6667\n",
      "Epoch 00009: early stopping\n",
      "Weights from best epoch have been loaded into model.\n",
      "              precision    recall  f1-score   support\n",
      "\n",
      "           0       0.62      0.48      0.54        33\n",
      "           1       0.69      0.79      0.74        48\n",
      "\n",
      "    accuracy                           0.67        81\n",
      "   macro avg       0.65      0.64      0.64        81\n",
      "weighted avg       0.66      0.67      0.66        81\n",
      "\n"
     ]
    }
   ],
   "source": [
    "results = {'acc': [], 'precision': [], 'recall': [], 'F1': []}\n",
    "max_acc = 0\n",
    "\n",
    "for i in range(5):\n",
    "    learner.reset_weights()\n",
    "    learner.autofit(1e-3, early_stopping=5)\n",
    "    \n",
    "    # Validation set - use this to pick the \"best\" model to avoid cheating\n",
    "    val_results = learner.validate(class_names=preproc.get_classes())\n",
    "    accv = val_results.diagonal().sum() / val_results.sum()\n",
    "    if accv > max_acc:\n",
    "        predictor.save('models/nbsvm')\n",
    "    \n",
    "    predictor = ktrain.get_predictor(learner.model, preproc=preproc)\n",
    "    y_hat = np.array(predictor.predict(x_test), dtype='int64')\n",
    "    cm = confusion_matrix(y_test, y_hat)\n",
    "    # Test set\n",
    "    TP = cm[1,1]\n",
    "    TN = cm[0,0]\n",
    "    FP = cm[1,0]\n",
    "    FN = cm[0,1]\n",
    "    acc = (TP + TN) / (TP + TN + FP + FN)\n",
    "    results['acc'].append(acc)\n",
    "    results['precision'].append(TP / (TP + FP))\n",
    "    results['recall'].append(TP / (TP + FN))\n",
    "    results['F1'].append(2 * TP / (2 * TP + FP + FN))"
   ]
  },
  {
   "cell_type": "markdown",
   "metadata": {},
   "source": [
    "## Compute averages"
   ]
  },
  {
   "cell_type": "code",
   "execution_count": 23,
   "metadata": {},
   "outputs": [
    {
     "name": "stdout",
     "output_type": "stream",
     "text": [
      "acc 0.6987654320987654\n",
      "precision 0.9045454545454545\n",
      "recall 0.6649280622846472\n",
      "F1 0.76549136433685\n"
     ]
    },
    {
     "data": {
      "text/plain": [
       "[None, None, None, None]"
      ]
     },
     "execution_count": 23,
     "metadata": {},
     "output_type": "execute_result"
    }
   ],
   "source": [
    "[print(metric + ' ' + str(np.array(results[metric]).mean())) for metric in ['acc', 'precision', 'recall', 'F1']]"
   ]
  },
  {
   "cell_type": "markdown",
   "metadata": {},
   "source": [
    "## Load the best model"
   ]
  },
  {
   "cell_type": "code",
   "execution_count": 24,
   "metadata": {},
   "outputs": [],
   "source": [
    "best_predictor = ktrain.load_predictor('models/nbsvm')"
   ]
  },
  {
   "cell_type": "code",
   "execution_count": 25,
   "metadata": {},
   "outputs": [
    {
     "data": {
      "text/html": [
       "\n",
       "    <style>\n",
       "    table.eli5-weights tr:hover {\n",
       "        filter: brightness(85%);\n",
       "    }\n",
       "</style>\n",
       "\n",
       "\n",
       "\n",
       "    \n",
       "\n",
       "    \n",
       "\n",
       "    \n",
       "\n",
       "    \n",
       "\n",
       "    \n",
       "\n",
       "    \n",
       "\n",
       "\n",
       "    \n",
       "\n",
       "    \n",
       "\n",
       "    \n",
       "\n",
       "    \n",
       "        \n",
       "\n",
       "    \n",
       "\n",
       "        \n",
       "\n",
       "        \n",
       "    \n",
       "        \n",
       "        \n",
       "    \n",
       "        <p style=\"margin-bottom: 0.5em; margin-top: 0em\">\n",
       "            <b>\n",
       "    \n",
       "        y=1\n",
       "    \n",
       "</b>\n",
       "\n",
       "    \n",
       "    (probability <b>0.702</b>, score <b>0.857</b>)\n",
       "\n",
       "top features\n",
       "        </p>\n",
       "    \n",
       "    <table class=\"eli5-weights\"\n",
       "           style=\"border-collapse: collapse; border: none; margin-top: 0em; table-layout: auto; margin-bottom: 2em;\">\n",
       "        <thead>\n",
       "        <tr style=\"border: none;\">\n",
       "            \n",
       "                <th style=\"padding: 0 1em 0 0.5em; text-align: right; border: none;\" title=\"Feature contribution already accounts for the feature value (for linear models, contribution = weight * feature value), and the sum of feature contributions is equal to the score or, for some classifiers, to the probability. Feature values are shown if &quot;show_feature_values&quot; is True.\">\n",
       "                    Contribution<sup>?</sup>\n",
       "                </th>\n",
       "            \n",
       "            <th style=\"padding: 0 0.5em 0 0.5em; text-align: left; border: none;\">Feature</th>\n",
       "            \n",
       "        </tr>\n",
       "        </thead>\n",
       "        <tbody>\n",
       "        \n",
       "            <tr style=\"background-color: hsl(120, 100.00%, 80.00%); border: none;\">\n",
       "    <td style=\"padding: 0 1em 0 0.5em; text-align: right; border: none;\">\n",
       "        +0.884\n",
       "    </td>\n",
       "    <td style=\"padding: 0 0.5em 0 0.5em; text-align: left; border: none;\">\n",
       "        Highlighted in text (sum)\n",
       "    </td>\n",
       "    \n",
       "</tr>\n",
       "        \n",
       "        \n",
       "\n",
       "        \n",
       "        \n",
       "            <tr style=\"background-color: hsl(0, 100.00%, 98.27%); border: none;\">\n",
       "    <td style=\"padding: 0 1em 0 0.5em; text-align: right; border: none;\">\n",
       "        -0.027\n",
       "    </td>\n",
       "    <td style=\"padding: 0 0.5em 0 0.5em; text-align: left; border: none;\">\n",
       "        &lt;BIAS&gt;\n",
       "    </td>\n",
       "    \n",
       "</tr>\n",
       "        \n",
       "\n",
       "        </tbody>\n",
       "    </table>\n",
       "\n",
       "    \n",
       "\n",
       "\n",
       "\n",
       "    <p style=\"margin-bottom: 2.5em; margin-top:-0.5em;\">\n",
       "        <span style=\"background-color: hsl(0, 100.00%, 77.90%); opacity: 0.89\" title=\"-0.095\">as</span><span style=\"opacity: 0.80\"> the accused </span><span style=\"background-color: hsl(0, 100.00%, 95.88%); opacity: 0.81\" title=\"-0.009\">is</span><span style=\"opacity: 0.80\"> </span><span style=\"background-color: hsl(0, 100.00%, 95.88%); opacity: 0.81\" title=\"-0.009\">the</span><span style=\"opacity: 0.80\"> </span><span style=\"background-color: hsl(120, 100.00%, 61.81%); opacity: 0.99\" title=\"0.208\">sole</span><span style=\"opacity: 0.80\"> </span><span style=\"background-color: hsl(120, 100.00%, 60.00%); opacity: 1.00\" title=\"0.223\">breadwinner</span><span style=\"opacity: 0.80\"> </span><span style=\"background-color: hsl(120, 100.00%, 88.52%); opacity: 0.83\" title=\"0.037\">for</span><span style=\"opacity: 0.80\"> </span><span style=\"background-color: hsl(120, 100.00%, 78.03%); opacity: 0.88\" title=\"0.095\">his</span><span style=\"opacity: 0.80\"> </span><span style=\"background-color: hsl(120, 100.00%, 84.16%); opacity: 0.85\" title=\"0.059\">family</span><span style=\"opacity: 0.80\">, </span><span style=\"background-color: hsl(0, 100.00%, 95.32%); opacity: 0.81\" title=\"-0.010\">i</span><span style=\"opacity: 0.80\"> </span><span style=\"background-color: hsl(120, 100.00%, 75.16%); opacity: 0.90\" title=\"0.113\">reduce</span><span style=\"opacity: 0.80\"> </span><span style=\"background-color: hsl(120, 100.00%, 64.71%); opacity: 0.97\" title=\"0.186\">his</span><span style=\"opacity: 0.80\"> </span><span style=\"background-color: hsl(120, 100.00%, 71.59%); opacity: 0.92\" title=\"0.137\">sentence</span><span style=\"opacity: 0.80\"> </span><span style=\"background-color: hsl(0, 100.00%, 99.00%); opacity: 0.80\" title=\"-0.001\">by</span><span style=\"opacity: 0.80\"> </span><span style=\"background-color: hsl(0, 100.00%, 86.88%); opacity: 0.84\" title=\"-0.045\">two</span><span style=\"opacity: 0.80\"> years</span>\n",
       "    </p>\n",
       "\n",
       "\n",
       "    \n",
       "\n",
       "    \n",
       "\n",
       "    \n",
       "\n",
       "    \n",
       "\n",
       "\n",
       "    \n",
       "\n",
       "    \n",
       "\n",
       "    \n",
       "\n",
       "    \n",
       "\n",
       "    \n",
       "\n",
       "    \n",
       "\n",
       "\n",
       "    \n",
       "\n",
       "    \n",
       "\n",
       "    \n",
       "\n",
       "    \n",
       "\n",
       "    \n",
       "\n",
       "    \n",
       "\n",
       "\n",
       "\n"
      ],
      "text/plain": [
       "<IPython.core.display.HTML object>"
      ]
     },
     "execution_count": 25,
     "metadata": {},
     "output_type": "execute_result"
    }
   ],
   "source": [
    "best_predictor.explain('As the accused is the sole breadwinner for his family, I reduce his sentence by two years')"
   ]
  },
  {
   "cell_type": "code",
   "execution_count": null,
   "metadata": {},
   "outputs": [],
   "source": []
  }
 ],
 "metadata": {
  "kernelspec": {
   "display_name": "Python 3",
   "language": "python",
   "name": "python3"
  },
  "language_info": {
   "codemirror_mode": {
    "name": "ipython",
    "version": 3
   },
   "file_extension": ".py",
   "mimetype": "text/x-python",
   "name": "python",
   "nbconvert_exporter": "python",
   "pygments_lexer": "ipython3",
   "version": "3.6.9"
  }
 },
 "nbformat": 4,
 "nbformat_minor": 4
}
