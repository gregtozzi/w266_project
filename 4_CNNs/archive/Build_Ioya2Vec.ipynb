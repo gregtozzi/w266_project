{
 "cells": [
  {
   "cell_type": "markdown",
   "metadata": {},
   "source": [
    "# Building Ioya2Vec"
   ]
  },
  {
   "cell_type": "code",
   "execution_count": 1,
   "metadata": {},
   "outputs": [],
   "source": [
    "import ktrain\n",
    "import numpy as np\n",
    "from gensim.models import Word2Vec\n",
    "from gensim import utils\n",
    "import pandas as pd\n",
    "import pickle"
   ]
  },
  {
   "cell_type": "markdown",
   "metadata": {},
   "source": [
    "## Compute custom Word2Vec embeddings"
   ]
  },
  {
   "cell_type": "code",
   "execution_count": 2,
   "metadata": {},
   "outputs": [],
   "source": [
    "NUM_WORDS = 33000\n",
    "MAXLEN = 5000\n",
    "DIMS = 300\n",
    "NGRAM_RANGE = 1"
   ]
  },
  {
   "cell_type": "markdown",
   "metadata": {},
   "source": [
    "### Functions to do the heavy lifting"
   ]
  },
  {
   "cell_type": "code",
   "execution_count": 3,
   "metadata": {},
   "outputs": [],
   "source": [
    "def preprocess_corpus(corpus_path, text_column='contents', max_features=33000, maxlen=5000, class_names=[0,1]):\n",
    "    \"\"\"\n",
    "    Takes a corpus of texts stored in a csv file and processes them\n",
    "    through ktrain's preprocessor in preparation for using them in\n",
    "    gensim's Word2Vec model.\n",
    "    \"\"\"\n",
    "    preproc = ktrain.text.preprocessor.StandardTextPreprocessor(max_features=max_features,\n",
    "                                                                maxlen=maxlen,\n",
    "                                                                class_names=class_names)\n",
    "    full_corpus = pd.read_csv(corpus_path)\n",
    "    full_corpus_text = full_corpus[text_column]\n",
    "    dummy_labels = np.zeros(len(full_corpus_text))\n",
    "    X, dummy_y = preproc.preprocess_train(full_corpus_text, dummy_labels)\n",
    "    X = list(X)\n",
    "    corpus = [preproc.undo(doc).split(' ') for doc in X]\n",
    "    return preproc, corpus\n",
    "\n",
    "\n",
    "def build_wv_model(corpus, dims, save_path=None, workers=8):\n",
    "    \"\"\"\n",
    "    Builds, returns, and saves the Word2Vec-like model developed\n",
    "    from the corpus returned by preprocess_corpus.\n",
    "    \"\"\"\n",
    "    WV = Word2Vec(sentences=corpus, size=dims, workers=8)\n",
    "    vocab = WV.wv.index2word\n",
    "    vocab_len = len(vocab)\n",
    "    embeddings = np.array([WV.wv.get_vector(word) for word in vocab])\n",
    "    text_to_token = {word: i for word, i in zip(vocab, range(vocab_len))}\n",
    "    token_to_text = {i: word for word, i in zip(vocab, range(vocab_len))}\n",
    "    model = {'embeddings': embeddings,\n",
    "             'text_to_token': text_to_token,\n",
    "             'token_to_text': token_to_text,\n",
    "             'vocab': vocab,\n",
    "             'vocab_len': len(vocab)}\n",
    "    if save_path is not None:\n",
    "        with open(save_path, 'wb') as f:\n",
    "            pickle.dump(model, f)\n",
    "    return model\n",
    "\n",
    "\n",
    "def embed_word(word, wv_model, dims):\n",
    "    if word in wv_model['vocab']:\n",
    "        token = wv_model['text_to_token'][word]\n",
    "        return wv_model['embeddings'][token]\n",
    "    else:\n",
    "        return np.zeros(dims)\n",
    "    \n",
    "\n",
    "def build_embeddings(preproc, wv_model, dims):\n",
    "    preproc_vocab = preproc.undo(range(NUM_WORDS)).split(' ')\n",
    "    Embeddings = [embed_word(word, wv_model, dims) for word in preproc_vocab]\n",
    "    Embeddings = np.stack(Embeddings)\n",
    "    return(Embeddings)"
   ]
  },
  {
   "cell_type": "code",
   "execution_count": null,
   "metadata": {},
   "outputs": [
    {
     "name": "stdout",
     "output_type": "stream",
     "text": [
      "language: en\n",
      "Word Counts: 132011\n",
      "Nrows: 13384\n",
      "13384 train sequences\n",
      "train sequence lengths:\n",
      "\tmean : 2218\n",
      "\t95percentile : 5989\n",
      "\t99percentile : 11259\n",
      "x_train shape: (13384,5000)\n",
      "y_train shape: (13384, 1)\n",
      "Is Multi-Label? False\n"
     ]
    }
   ],
   "source": [
    "%%time\n",
    "preproc, corpus = preprocess_corpus('../data/ICAAD_FIJI.csv', max_features=NUM_WORDS, maxlen=MAXLEN)"
   ]
  },
  {
   "cell_type": "code",
   "execution_count": 5,
   "metadata": {},
   "outputs": [
    {
     "name": "stdout",
     "output_type": "stream",
     "text": [
      "CPU times: user 8min 6s, sys: 2.21 s, total: 8min 8s\n",
      "Wall time: 1min 27s\n"
     ]
    }
   ],
   "source": [
    "%%time\n",
    "wv_model = build_wv_model(corpus, DIMS, save_path='./Ioya2Vec/Ioya2Vec.pickle')"
   ]
  },
  {
   "cell_type": "code",
   "execution_count": null,
   "metadata": {},
   "outputs": [],
   "source": []
  }
 ],
 "metadata": {
  "kernelspec": {
   "display_name": "Python 3",
   "language": "python",
   "name": "python3"
  },
  "language_info": {
   "codemirror_mode": {
    "name": "ipython",
    "version": 3
   },
   "file_extension": ".py",
   "mimetype": "text/x-python",
   "name": "python",
   "nbconvert_exporter": "python",
   "pygments_lexer": "ipython3",
   "version": "3.6.9"
  }
 },
 "nbformat": 4,
 "nbformat_minor": 4
}
