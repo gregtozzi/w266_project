{
 "cells": [
  {
   "cell_type": "markdown",
   "metadata": {},
   "source": [
    "# CNN with a Trainable Embedding Layer"
   ]
  },
  {
   "cell_type": "code",
   "execution_count": 1,
   "metadata": {},
   "outputs": [],
   "source": [
    "%matplotlib inline\n",
    "\n",
    "import os\n",
    "\n",
    "os.environ[\"CUDA_DEVICE_ORDER\"]=\"PCI_BUS_ID\";\n",
    "os.environ[\"CUDA_VISIBLE_DEVICES\"]=\"0\"; "
   ]
  },
  {
   "cell_type": "code",
   "execution_count": 2,
   "metadata": {},
   "outputs": [],
   "source": [
    "import ktrain\n",
    "from ktrain import text\n",
    "\n",
    "import numpy as np\n",
    "import tensorflow as tf\n",
    "from gensim.models import Word2Vec\n",
    "from gensim import utils\n",
    "import pandas as pd\n",
    "import pickle"
   ]
  },
  {
   "cell_type": "markdown",
   "metadata": {},
   "source": [
    "## Compute custom Word2Vec embeddings"
   ]
  },
  {
   "cell_type": "code",
   "execution_count": 3,
   "metadata": {},
   "outputs": [],
   "source": [
    "NUM_WORDS = 33000\n",
    "MAXLEN = 5000\n",
    "DIMS = 300\n",
    "NGRAM_RANGE = 1"
   ]
  },
  {
   "cell_type": "markdown",
   "metadata": {},
   "source": [
    "### Functions to do the heavy lifting"
   ]
  },
  {
   "cell_type": "code",
   "execution_count": 4,
   "metadata": {},
   "outputs": [],
   "source": [
    "def preprocess_corpus(corpus_path, text_column='contents', max_features=33000, maxlen=5000, class_names=[0,1]):\n",
    "    \"\"\"\n",
    "    Takes a corpus of texts stored in a csv file and processes them\n",
    "    through ktrain's preprocessor in preparation for using them in\n",
    "    gensim's Word2Vec model.\n",
    "    \"\"\"\n",
    "    preproc = ktrain.text.preprocessor.StandardTextPreprocessor(max_features=max_features,\n",
    "                                                                maxlen=maxlen,\n",
    "                                                                class_names=class_names)\n",
    "    full_corpus = pd.read_csv(corpus_path)\n",
    "    full_corpus_text = full_corpus[text_column]\n",
    "    dummy_labels = np.zeros(len(full_corpus_text))\n",
    "    X, dummy_y = preproc.preprocess_train(full_corpus_text, dummy_labels)\n",
    "    X = list(X)\n",
    "    corpus = [preproc.undo(doc).split(' ') for doc in X]\n",
    "    return preproc, corpus\n",
    "\n",
    "\n",
    "def build_wv_model(corpus, dims, save_path=None, workers=8):\n",
    "    \"\"\"\n",
    "    Builds, returns, and saves the Word2Vec-like model developed\n",
    "    from the corpus returned by preprocess_corpus.\n",
    "    \"\"\"\n",
    "    WV = Word2Vec(sentences=corpus, size=dims, workers=8)\n",
    "    vocab = WV.wv.index2word\n",
    "    vocab_len = len(vocab)\n",
    "    embeddings = np.array([WV.wv.get_vector(word) for word in vocab])\n",
    "    text_to_token = {word: i for word, i in zip(vocab, range(vocab_len))}\n",
    "    token_to_text = {i: word for word, i in zip(vocab, range(vocab_len))}\n",
    "    model = {'embeddings': embeddings,\n",
    "             'text_to_token': text_to_token,\n",
    "             'token_to_text': token_to_text,\n",
    "             'vocab': vocab,\n",
    "             'vocab_len': len(vocab)}\n",
    "    if save_path is not None:\n",
    "        with open(save_path, 'wb') as f:\n",
    "            pickle.dump(model, f)\n",
    "    return model\n",
    "\n",
    "\n",
    "def embed_word(word, wv_model, dims):\n",
    "    if word in wv_model['vocab']:\n",
    "        token = wv_model['text_to_token'][word]\n",
    "        return wv_model['embeddings'][token]\n",
    "    else:\n",
    "        return np.zeros(dims)\n",
    "    \n",
    "\n",
    "def build_embeddings(preproc, wv_model, dims):\n",
    "    preproc_vocab = preproc.undo(range(NUM_WORDS)).split(' ')\n",
    "    Embeddings = [embed_word(word, wv_model, dims) for word in preproc_vocab]\n",
    "    Embeddings = np.stack(Embeddings)\n",
    "    return(Embeddings)"
   ]
  },
  {
   "cell_type": "markdown",
   "metadata": {},
   "source": [
    "## Preprocess the full 13K document corpus using the ktrain preprocessor\n",
    "\n",
    "Using the ktrain preprocessor on the front end ensures that the tokens that are fed to GENSIM to create the embeddings are as close to the same as will be used to build the"
   ]
  },
  {
   "cell_type": "code",
   "execution_count": 5,
   "metadata": {},
   "outputs": [
    {
     "name": "stdout",
     "output_type": "stream",
     "text": [
      "language: en\n",
      "Word Counts: 132011\n",
      "Nrows: 13384\n",
      "13384 train sequences\n",
      "train sequence lengths:\n",
      "\tmean : 2218\n",
      "\t95percentile : 5989\n",
      "\t99percentile : 11259\n",
      "x_train shape: (13384,5000)\n",
      "y_train shape: (13384, 1)\n",
      "Is Multi-Label? False\n",
      "CPU times: user 3min 50s, sys: 2.14 s, total: 3min 52s\n",
      "Wall time: 3min 52s\n"
     ]
    }
   ],
   "source": [
    "%%time\n",
    "preproc, corpus = preprocess_corpus('../data/ICAAD_FIJI.csv', max_features=NUM_WORDS, maxlen=MAXLEN)"
   ]
  },
  {
   "cell_type": "code",
   "execution_count": 6,
   "metadata": {},
   "outputs": [
    {
     "name": "stdout",
     "output_type": "stream",
     "text": [
      "CPU times: user 8min 11s, sys: 2.27 s, total: 8min 13s\n",
      "Wall time: 1min 27s\n"
     ]
    }
   ],
   "source": [
    "%%time\n",
    "wv_model = build_wv_model(corpus, DIMS, save_path='./Ioya2Vec/Ioya2Vec.pickle')"
   ]
  },
  {
   "cell_type": "code",
   "execution_count": 7,
   "metadata": {},
   "outputs": [
    {
     "name": "stdout",
     "output_type": "stream",
     "text": [
      "CPU times: user 12.8 s, sys: 27.9 ms, total: 12.8 s\n",
      "Wall time: 12.8 s\n"
     ]
    }
   ],
   "source": [
    "%%time\n",
    "Embeddings = build_embeddings(preproc, wv_model, DIMS)"
   ]
  },
  {
   "cell_type": "code",
   "execution_count": 8,
   "metadata": {},
   "outputs": [],
   "source": [
    "Train = pd.read_csv('../data/train_80_10_10.csv')\n",
    "x_train = Train.cleaned_contents\n",
    "y_train = Train.Discrimination_Label\n",
    "\n",
    "Test = pd.read_csv('../data/val_80_10_10.csv')\n",
    "x_test = Test.cleaned_contents\n",
    "y_test = Test.Discrimination_Label"
   ]
  },
  {
   "cell_type": "code",
   "execution_count": 9,
   "metadata": {},
   "outputs": [
    {
     "name": "stdout",
     "output_type": "stream",
     "text": [
      "647 test sequences\n",
      "test sequence lengths:\n",
      "\tmean : 1491\n",
      "\t95percentile : 3900\n",
      "\t99percentile : 7614\n",
      "x_test shape: (647,5000)\n",
      "y_test shape: (647, 2)\n",
      "81 test sequences\n",
      "test sequence lengths:\n",
      "\tmean : 1514\n",
      "\t95percentile : 4159\n",
      "\t99percentile : 5506\n",
      "x_test shape: (81,5000)\n",
      "y_test shape: (81, 2)\n"
     ]
    }
   ],
   "source": [
    "train = preproc.preprocess_test(x_train, y_train)\n",
    "test = preproc.preprocess_test(x_test, y_test)"
   ]
  },
  {
   "cell_type": "markdown",
   "metadata": {},
   "source": [
    "## Build the model"
   ]
  },
  {
   "cell_type": "code",
   "execution_count": 17,
   "metadata": {},
   "outputs": [],
   "source": [
    "def _build_cnn(maxlen, max_features, embed_dim, filters, kernels,\n",
    "               embeddings, dropout=0.1, density=64,\n",
    "               loss_func='categorical_crossentropy',\n",
    "               activation = 'softmax', metrics=['accuracy'],\n",
    "               verbose=1, optimizer='adam'):\n",
    "    \n",
    "    embedding_matrix = np.ones((max_features, 1))\n",
    "    embedding_matrix[0] = 0\n",
    "\n",
    "    # set up the model\n",
    "    inp = tf.keras.layers.Input(shape=(maxlen,))\n",
    "    x = tf.keras.layers.Embedding(max_features, embed_dim, input_length=maxlen, \n",
    "                                  trainable=False)(inp)\n",
    "    x0 = tf.keras.layers.Conv1D(filters=filters,\n",
    "                               kernel_size=kernels[0],\n",
    "                               activation='relu')(x)\n",
    "    x0 = tf.keras.layers.MaxPool1D(pool_size=maxlen - kernels[0] + 1)(x0)\n",
    "\n",
    "    x1 = tf.keras.layers.Conv1D(filters=filters,\n",
    "                                kernel_size=kernels[1],\n",
    "                                activation='relu')(x)\n",
    "    x1 = tf.keras.layers.MaxPool1D(pool_size=maxlen - kernels[1] + 1)(x1)\n",
    "    \n",
    "    x2 = tf.keras.layers.Conv1D(filters=filters,\n",
    "                                kernel_size=kernels[2],\n",
    "                                activation='relu')(x)\n",
    "    x2 = tf.keras.layers.MaxPool1D(pool_size=maxlen - kernels[2] + 1)(x2)\n",
    "    \n",
    "    x3 = tf.keras.layers.Conv1D(filters=filters,\n",
    "                                kernel_size=kernels[3],\n",
    "                                activation='relu')(x)\n",
    "    x3 = tf.keras.layers.MaxPool1D(pool_size=maxlen - kernels[3] + 1)(x3)\n",
    "\n",
    "    x4 = tf.keras.layers.Conv1D(filters=filters,\n",
    "                                kernel_size=kernels[4],\n",
    "                                activation='relu')(x)\n",
    "    x4 = tf.keras.layers.MaxPool1D(pool_size=maxlen - kernels[4] + 1)(x4)\n",
    "\n",
    "    x = tf.keras.layers.concatenate([x0, x1, x2, x3, x4])\n",
    "\n",
    "    x = tf.keras.layers.Dense(density, activation='relu')(x)\n",
    "    x = tf.keras.layers.Dropout(dropout)(x)\n",
    "    x = tf.keras.layers.Flatten()(x)\n",
    "    outputs = tf.keras.layers.Dense(2, activation=activation)(x)\n",
    "    model = tf.keras.Model(inputs=inp, outputs=outputs)\n",
    "    model.compile(loss=loss_func,\n",
    "                  optimizer=optimizer,\n",
    "                  metrics=metrics)\n",
    "    \n",
    "    model.layers[1].set_weights([embeddings])\n",
    "    \n",
    "    return model"
   ]
  },
  {
   "cell_type": "code",
   "execution_count": 18,
   "metadata": {},
   "outputs": [],
   "source": [
    "model = _build_cnn(MAXLEN, len(Embeddings), DIMS, filters=32, kernels=[2, 3, 4, 5, 6], embeddings=Embeddings, dropout=0.4, density=64)\n",
    "learner = ktrain.get_learner(model, train_data=train, val_data=test)"
   ]
  },
  {
   "cell_type": "code",
   "execution_count": 19,
   "metadata": {},
   "outputs": [
    {
     "name": "stdout",
     "output_type": "stream",
     "text": [
      "Model: \"model_1\"\n",
      "__________________________________________________________________________________________________\n",
      "Layer (type)                    Output Shape         Param #     Connected to                     \n",
      "==================================================================================================\n",
      "input_2 (InputLayer)            [(None, 5000)]       0                                            \n",
      "__________________________________________________________________________________________________\n",
      "embedding_1 (Embedding)         (None, 5000, 300)    9899700     input_2[0][0]                    \n",
      "__________________________________________________________________________________________________\n",
      "conv1d_5 (Conv1D)               (None, 4999, 32)     19232       embedding_1[0][0]                \n",
      "__________________________________________________________________________________________________\n",
      "conv1d_6 (Conv1D)               (None, 4998, 32)     28832       embedding_1[0][0]                \n",
      "__________________________________________________________________________________________________\n",
      "conv1d_7 (Conv1D)               (None, 4997, 32)     38432       embedding_1[0][0]                \n",
      "__________________________________________________________________________________________________\n",
      "conv1d_8 (Conv1D)               (None, 4996, 32)     48032       embedding_1[0][0]                \n",
      "__________________________________________________________________________________________________\n",
      "conv1d_9 (Conv1D)               (None, 4995, 32)     57632       embedding_1[0][0]                \n",
      "__________________________________________________________________________________________________\n",
      "max_pooling1d_5 (MaxPooling1D)  (None, 1, 32)        0           conv1d_5[0][0]                   \n",
      "__________________________________________________________________________________________________\n",
      "max_pooling1d_6 (MaxPooling1D)  (None, 1, 32)        0           conv1d_6[0][0]                   \n",
      "__________________________________________________________________________________________________\n",
      "max_pooling1d_7 (MaxPooling1D)  (None, 1, 32)        0           conv1d_7[0][0]                   \n",
      "__________________________________________________________________________________________________\n",
      "max_pooling1d_8 (MaxPooling1D)  (None, 1, 32)        0           conv1d_8[0][0]                   \n",
      "__________________________________________________________________________________________________\n",
      "max_pooling1d_9 (MaxPooling1D)  (None, 1, 32)        0           conv1d_9[0][0]                   \n",
      "__________________________________________________________________________________________________\n",
      "concatenate_1 (Concatenate)     (None, 1, 160)       0           max_pooling1d_5[0][0]            \n",
      "                                                                 max_pooling1d_6[0][0]            \n",
      "                                                                 max_pooling1d_7[0][0]            \n",
      "                                                                 max_pooling1d_8[0][0]            \n",
      "                                                                 max_pooling1d_9[0][0]            \n",
      "__________________________________________________________________________________________________\n",
      "dense_2 (Dense)                 (None, 1, 64)        10304       concatenate_1[0][0]              \n",
      "__________________________________________________________________________________________________\n",
      "dropout_1 (Dropout)             (None, 1, 64)        0           dense_2[0][0]                    \n",
      "__________________________________________________________________________________________________\n",
      "flatten_1 (Flatten)             (None, 64)           0           dropout_1[0][0]                  \n",
      "__________________________________________________________________________________________________\n",
      "dense_3 (Dense)                 (None, 2)            130         flatten_1[0][0]                  \n",
      "==================================================================================================\n",
      "Total params: 10,102,294\n",
      "Trainable params: 202,594\n",
      "Non-trainable params: 9,899,700\n",
      "__________________________________________________________________________________________________\n"
     ]
    }
   ],
   "source": [
    "learner.model.summary()"
   ]
  },
  {
   "cell_type": "markdown",
   "metadata": {},
   "source": [
    "## Make sure the pre-trained embeddings are there"
   ]
  },
  {
   "cell_type": "code",
   "execution_count": 20,
   "metadata": {},
   "outputs": [
    {
     "data": {
      "text/plain": [
       "<tf.Variable 'embedding_1_1/embeddings:0' shape=(32999, 300) dtype=float32, numpy=\n",
       "array([[-0.5354345 ,  0.22387125,  0.02880204, ..., -1.3848579 ,\n",
       "         1.5576115 ,  0.18880406],\n",
       "       [-0.40620747,  0.08913937,  0.07565121, ..., -0.08150197,\n",
       "        -0.09886656, -0.06049462],\n",
       "       [-1.1660781 , -0.00840707,  0.3964261 , ...,  1.1272421 ,\n",
       "         1.4180498 ,  1.5545428 ],\n",
       "       ...,\n",
       "       [-0.04102749, -0.03190312,  0.04215588, ...,  0.06510602,\n",
       "        -0.00922401, -0.0091866 ],\n",
       "       [ 0.02105029,  0.07139266, -0.0166001 , ..., -0.04184289,\n",
       "         0.08671629,  0.13433607],\n",
       "       [ 0.00550077,  0.03187895,  0.09394377, ...,  0.01703161,\n",
       "         0.06442675,  0.02497038]], dtype=float32)>"
      ]
     },
     "execution_count": 20,
     "metadata": {},
     "output_type": "execute_result"
    }
   ],
   "source": [
    "learner.model.weights[0]"
   ]
  },
  {
   "cell_type": "code",
   "execution_count": 21,
   "metadata": {},
   "outputs": [
    {
     "data": {
      "text/plain": [
       "array([[-0.53543448,  0.22387125,  0.02880204, ..., -1.38485789,\n",
       "         1.55761147,  0.18880406],\n",
       "       [-0.40620747,  0.08913937,  0.07565121, ..., -0.08150197,\n",
       "        -0.09886656, -0.06049462],\n",
       "       [-1.16607809, -0.00840707,  0.39642611, ...,  1.12724209,\n",
       "         1.41804981,  1.55454278],\n",
       "       ...,\n",
       "       [-0.04102749, -0.03190312,  0.04215588, ...,  0.06510602,\n",
       "        -0.00922401, -0.0091866 ],\n",
       "       [ 0.02105029,  0.07139266, -0.0166001 , ..., -0.04184289,\n",
       "         0.08671629,  0.13433607],\n",
       "       [ 0.00550077,  0.03187895,  0.09394377, ...,  0.01703161,\n",
       "         0.06442675,  0.02497038]])"
      ]
     },
     "execution_count": 21,
     "metadata": {},
     "output_type": "execute_result"
    }
   ],
   "source": [
    "Embeddings"
   ]
  },
  {
   "cell_type": "markdown",
   "metadata": {},
   "source": [
    "## Define and train the model"
   ]
  },
  {
   "cell_type": "markdown",
   "metadata": {},
   "source": [
    "### Find a good initial learning rate\n",
    "\n",
    "This is a method that was developed at the Naval Research Laboratory.  It's been promoted by Jeremy Howard."
   ]
  },
  {
   "cell_type": "code",
   "execution_count": 22,
   "metadata": {},
   "outputs": [
    {
     "name": "stdout",
     "output_type": "stream",
     "text": [
      "simulating training for different learning rates... this may take a few moments...\n",
      "Train on 647 samples\n",
      "Epoch 1/5\n"
     ]
    },
    {
     "name": "stderr",
     "output_type": "stream",
     "text": [
      "/usr/local/lib/python3.6/dist-packages/ktrain/core.py:476: UserWarning: max_epochs is being set to 5 since steps per epoch is small. If you wish to estimate LR using more epochs, set max_epochs manually.\n",
      "  'If you wish to estimate LR using more epochs, set max_epochs manually.')\n"
     ]
    },
    {
     "name": "stdout",
     "output_type": "stream",
     "text": [
      "647/647 [==============================] - 4s 6ms/sample - loss: 2.5902 - accuracy: 0.5193\n",
      "Epoch 2/5\n",
      "647/647 [==============================] - 4s 5ms/sample - loss: 2.4599 - accuracy: 0.5240\n",
      "Epoch 3/5\n",
      "647/647 [==============================] - 4s 5ms/sample - loss: 1.5063 - accuracy: 0.5425\n",
      "Epoch 4/5\n",
      "647/647 [==============================] - 4s 5ms/sample - loss: 2.9384 - accuracy: 0.5178\n",
      "Epoch 5/5\n",
      "647/647 [==============================] - 3s 5ms/sample - loss: 0.7339 - accuracy: 0.5719\n",
      "\n",
      "\n",
      "done.\n",
      "Visually inspect loss plot and select learning rate associated with falling loss\n"
     ]
    },
    {
     "data": {
      "image/png": "[encoded data removed]",
      "text/plain": [
       "<Figure size 432x288 with 1 Axes>"
      ]
     },
     "metadata": {
      "needs_background": "light"
     },
     "output_type": "display_data"
    }
   ],
   "source": [
    "learner.lr_find(show_plot=True)"
   ]
  },
  {
   "cell_type": "markdown",
   "metadata": {},
   "source": [
    "### Train"
   ]
  },
  {
   "cell_type": "code",
   "execution_count": 23,
   "metadata": {},
   "outputs": [
    {
     "name": "stdout",
     "output_type": "stream",
     "text": [
      "reduce_on_plateau automatically enabled at patience=2\n",
      "\n",
      "\n",
      "begin training using triangular learning rate policy with max lr of 0.001...\n",
      "Train on 647 samples, validate on 81 samples\n",
      "Epoch 1/1024\n",
      "647/647 [==============================] - 5s 8ms/sample - loss: 1.7193 - accuracy: 0.5379 - val_loss: 0.7308 - val_accuracy: 0.5679\n",
      "Epoch 2/1024\n",
      "647/647 [==============================] - 4s 6ms/sample - loss: 0.7175 - accuracy: 0.6306 - val_loss: 0.6679 - val_accuracy: 0.5556\n",
      "Epoch 3/1024\n",
      "647/647 [==============================] - 4s 6ms/sample - loss: 0.5567 - accuracy: 0.7187 - val_loss: 0.6786 - val_accuracy: 0.5679\n",
      "Epoch 4/1024\n",
      "647/647 [==============================] - 4s 6ms/sample - loss: 0.4803 - accuracy: 0.7620 - val_loss: 0.6476 - val_accuracy: 0.6049\n",
      "Epoch 5/1024\n",
      "647/647 [==============================] - 4s 6ms/sample - loss: 0.4079 - accuracy: 0.8099 - val_loss: 0.6692 - val_accuracy: 0.6790\n",
      "Epoch 6/1024\n",
      "640/647 [============================>.] - ETA: 0s - loss: 0.3956 - accuracy: 0.8406\n",
      "Epoch 00006: Reducing Max LR on Plateau: new max lr will be 0.0005 (if not early_stopping).\n",
      "647/647 [==============================] - 4s 6ms/sample - loss: 0.3950 - accuracy: 0.8408 - val_loss: 0.6866 - val_accuracy: 0.6173\n",
      "Epoch 7/1024\n",
      "647/647 [==============================] - 4s 6ms/sample - loss: 0.3295 - accuracy: 0.8563 - val_loss: 0.6946 - val_accuracy: 0.6790\n",
      "Epoch 8/1024\n",
      "640/647 [============================>.] - ETA: 0s - loss: 0.2865 - accuracy: 0.8703\n",
      "Epoch 00008: Reducing Max LR on Plateau: new max lr will be 0.00025 (if not early_stopping).\n",
      "647/647 [==============================] - 4s 6ms/sample - loss: 0.2872 - accuracy: 0.8702 - val_loss: 0.6806 - val_accuracy: 0.6296\n",
      "Epoch 9/1024\n",
      "640/647 [============================>.] - ETA: 0s - loss: 0.2527 - accuracy: 0.9094Restoring model weights from the end of the best epoch.\n",
      "647/647 [==============================] - 4s 6ms/sample - loss: 0.2533 - accuracy: 0.9088 - val_loss: 0.6941 - val_accuracy: 0.6543\n",
      "Epoch 00009: early stopping\n",
      "Weights from best epoch have been loaded into model.\n"
     ]
    },
    {
     "data": {
      "text/plain": [
       "<tensorflow.python.keras.callbacks.History at 0x7f5568050eb8>"
      ]
     },
     "execution_count": 23,
     "metadata": {},
     "output_type": "execute_result"
    }
   ],
   "source": [
    "learner.autofit(10e-4, early_stopping=5)"
   ]
  },
  {
   "cell_type": "markdown",
   "metadata": {},
   "source": [
    "## Examine results"
   ]
  },
  {
   "cell_type": "code",
   "execution_count": 24,
   "metadata": {},
   "outputs": [
    {
     "name": "stdout",
     "output_type": "stream",
     "text": [
      "              precision    recall  f1-score   support\n",
      "\n",
      "           0       0.52      0.45      0.48        33\n",
      "           1       0.65      0.71      0.68        48\n",
      "\n",
      "    accuracy                           0.60        81\n",
      "   macro avg       0.59      0.58      0.58        81\n",
      "weighted avg       0.60      0.60      0.60        81\n",
      "\n"
     ]
    },
    {
     "data": {
      "text/plain": [
       "array([[15, 18],\n",
       "       [14, 34]])"
      ]
     },
     "execution_count": 24,
     "metadata": {},
     "output_type": "execute_result"
    }
   ],
   "source": [
    "learner.validate(class_names=preproc.get_classes())"
   ]
  },
  {
   "cell_type": "markdown",
   "metadata": {},
   "source": [
    "## Explain a prediction"
   ]
  },
  {
   "cell_type": "code",
   "execution_count": 31,
   "metadata": {},
   "outputs": [],
   "source": [
    "import pandas as pd\n",
    "X_test = pd.read_csv('../data/test_80_10_10.csv')['cleaned_contents']"
   ]
  },
  {
   "cell_type": "code",
   "execution_count": 32,
   "metadata": {},
   "outputs": [],
   "source": [
    "predictor = ktrain.get_predictor(learner.model, preproc=preproc)"
   ]
  },
  {
   "cell_type": "code",
   "execution_count": 33,
   "metadata": {},
   "outputs": [],
   "source": [
    "y_hat = predictor.predict(list(x_test))"
   ]
  },
  {
   "cell_type": "code",
   "execution_count": 34,
   "metadata": {},
   "outputs": [
    {
     "data": {
      "text/plain": [
       "49"
      ]
     },
     "execution_count": 34,
     "metadata": {},
     "output_type": "execute_result"
    }
   ],
   "source": [
    "(y_hat == y_test).sum()"
   ]
  },
  {
   "cell_type": "code",
   "execution_count": 35,
   "metadata": {},
   "outputs": [
    {
     "data": {
      "text/html": [
       "\n",
       "    <style>\n",
       "    table.eli5-weights tr:hover {\n",
       "        filter: brightness(85%);\n",
       "    }\n",
       "</style>\n",
       "\n",
       "\n",
       "\n",
       "    \n",
       "\n",
       "    \n",
       "\n",
       "    \n",
       "\n",
       "    \n",
       "\n",
       "    \n",
       "\n",
       "    \n",
       "\n",
       "\n",
       "    \n",
       "\n",
       "    \n",
       "\n",
       "    \n",
       "\n",
       "    \n",
       "        \n",
       "\n",
       "    \n",
       "\n",
       "        \n",
       "\n",
       "        \n",
       "    \n",
       "        \n",
       "        \n",
       "    \n",
       "        <p style=\"margin-bottom: 0.5em; margin-top: 0em\">\n",
       "            <b>\n",
       "    \n",
       "        y=1\n",
       "    \n",
       "</b>\n",
       "\n",
       "    \n",
       "    (probability <b>0.707</b>, score <b>0.882</b>)\n",
       "\n",
       "top features\n",
       "        </p>\n",
       "    \n",
       "    <table class=\"eli5-weights\"\n",
       "           style=\"border-collapse: collapse; border: none; margin-top: 0em; table-layout: auto; margin-bottom: 2em;\">\n",
       "        <thead>\n",
       "        <tr style=\"border: none;\">\n",
       "            \n",
       "                <th style=\"padding: 0 1em 0 0.5em; text-align: right; border: none;\" title=\"Feature contribution already accounts for the feature value (for linear models, contribution = weight * feature value), and the sum of feature contributions is equal to the score or, for some classifiers, to the probability. Feature values are shown if &quot;show_feature_values&quot; is True.\">\n",
       "                    Contribution<sup>?</sup>\n",
       "                </th>\n",
       "            \n",
       "            <th style=\"padding: 0 0.5em 0 0.5em; text-align: left; border: none;\">Feature</th>\n",
       "            \n",
       "        </tr>\n",
       "        </thead>\n",
       "        <tbody>\n",
       "        \n",
       "            <tr style=\"background-color: hsl(120, 100.00%, 80.00%); border: none;\">\n",
       "    <td style=\"padding: 0 1em 0 0.5em; text-align: right; border: none;\">\n",
       "        +0.661\n",
       "    </td>\n",
       "    <td style=\"padding: 0 0.5em 0 0.5em; text-align: left; border: none;\">\n",
       "        Highlighted in text (sum)\n",
       "    </td>\n",
       "    \n",
       "</tr>\n",
       "        \n",
       "            <tr style=\"background-color: hsl(120, 100.00%, 90.73%); border: none;\">\n",
       "    <td style=\"padding: 0 1em 0 0.5em; text-align: right; border: none;\">\n",
       "        +0.221\n",
       "    </td>\n",
       "    <td style=\"padding: 0 0.5em 0 0.5em; text-align: left; border: none;\">\n",
       "        &lt;BIAS&gt;\n",
       "    </td>\n",
       "    \n",
       "</tr>\n",
       "        \n",
       "        \n",
       "\n",
       "        \n",
       "        \n",
       "\n",
       "        </tbody>\n",
       "    </table>\n",
       "\n",
       "    \n",
       "\n",
       "\n",
       "\n",
       "    <p style=\"margin-bottom: 2.5em; margin-top:-0.5em;\">\n",
       "        <span style=\"background-color: hsl(0, 100.00%, 82.87%); opacity: 0.86\" title=\"-0.120\">as</span><span style=\"opacity: 0.80\"> </span><span style=\"background-color: hsl(0, 100.00%, 95.32%); opacity: 0.81\" title=\"-0.019\">the</span><span style=\"opacity: 0.80\"> </span><span style=\"background-color: hsl(0, 100.00%, 83.05%); opacity: 0.86\" title=\"-0.118\">perpetrator</span><span style=\"opacity: 0.80\"> </span><span style=\"background-color: hsl(120, 100.00%, 98.33%); opacity: 0.80\" title=\"0.004\">is</span><span style=\"opacity: 0.80\"> </span><span style=\"background-color: hsl(120, 100.00%, 89.33%); opacity: 0.83\" title=\"0.061\">the</span><span style=\"opacity: 0.80\"> </span><span style=\"background-color: hsl(120, 100.00%, 76.27%); opacity: 0.89\" title=\"0.190\">sole</span><span style=\"opacity: 0.80\"> </span><span style=\"background-color: hsl(0, 100.00%, 83.38%); opacity: 0.86\" title=\"-0.114\">breadwinner</span><span style=\"opacity: 0.80\"> </span><span style=\"background-color: hsl(0, 100.00%, 72.17%); opacity: 0.92\" title=\"-0.239\">for</span><span style=\"opacity: 0.80\"> </span><span style=\"background-color: hsl(0, 100.00%, 66.17%); opacity: 0.96\" title=\"-0.316\">his</span><span style=\"opacity: 0.80\"> </span><span style=\"background-color: hsl(120, 100.00%, 63.13%); opacity: 0.98\" title=\"0.357\">family</span><span style=\"opacity: 0.80\">, </span><span style=\"background-color: hsl(0, 100.00%, 87.89%); opacity: 0.84\" title=\"-0.073\">i</span><span style=\"opacity: 0.80\"> </span><span style=\"background-color: hsl(0, 100.00%, 76.93%); opacity: 0.89\" title=\"-0.183\">reduce</span><span style=\"opacity: 0.80\"> </span><span style=\"background-color: hsl(120, 100.00%, 73.71%); opacity: 0.91\" title=\"0.220\">his</span><span style=\"opacity: 0.80\"> </span><span style=\"background-color: hsl(120, 100.00%, 77.36%); opacity: 0.89\" title=\"0.178\">sentence</span><span style=\"opacity: 0.80\"> </span><span style=\"background-color: hsl(120, 100.00%, 64.94%); opacity: 0.97\" title=\"0.333\">by</span><span style=\"opacity: 0.80\"> </span><span style=\"background-color: hsl(0, 100.00%, 71.23%); opacity: 0.92\" title=\"-0.251\">two</span><span style=\"opacity: 0.80\"> </span><span style=\"background-color: hsl(0, 100.00%, 60.00%); opacity: 1.00\" title=\"-0.401\">years</span><span style=\"opacity: 0.80\">.</span>\n",
       "    </p>\n",
       "\n",
       "\n",
       "    \n",
       "\n",
       "    \n",
       "\n",
       "    \n",
       "\n",
       "    \n",
       "\n",
       "\n",
       "    \n",
       "\n",
       "    \n",
       "\n",
       "    \n",
       "\n",
       "    \n",
       "\n",
       "    \n",
       "\n",
       "    \n",
       "\n",
       "\n",
       "    \n",
       "\n",
       "    \n",
       "\n",
       "    \n",
       "\n",
       "    \n",
       "\n",
       "    \n",
       "\n",
       "    \n",
       "\n",
       "\n",
       "\n"
      ],
      "text/plain": [
       "<IPython.core.display.HTML object>"
      ]
     },
     "execution_count": 35,
     "metadata": {},
     "output_type": "execute_result"
    }
   ],
   "source": [
    "predictor.explain('As the perpetrator is the sole breadwinner for his family, I reduce his sentence by two years.')"
   ]
  },
  {
   "cell_type": "code",
   "execution_count": 36,
   "metadata": {},
   "outputs": [
    {
     "name": "stdout",
     "output_type": "stream",
     "text": [
      "              precision    recall  f1-score   support\n",
      "\n",
      "           0       0.52      0.45      0.48        33\n",
      "           1       0.65      0.71      0.68        48\n",
      "\n",
      "    accuracy                           0.60        81\n",
      "   macro avg       0.59      0.58      0.58        81\n",
      "weighted avg       0.60      0.60      0.60        81\n",
      "\n"
     ]
    },
    {
     "data": {
      "text/plain": [
       "array([[15, 18],\n",
       "       [14, 34]])"
      ]
     },
     "execution_count": 36,
     "metadata": {},
     "output_type": "execute_result"
    }
   ],
   "source": [
    "learner.evaluate(test)"
   ]
  },
  {
   "cell_type": "code",
   "execution_count": 37,
   "metadata": {},
   "outputs": [],
   "source": [
    "from sklearn.metrics.pairwise import cosine_similarity"
   ]
  },
  {
   "cell_type": "code",
   "execution_count": 38,
   "metadata": {},
   "outputs": [
    {
     "data": {
      "text/plain": [
       "127"
      ]
     },
     "execution_count": 38,
     "metadata": {},
     "output_type": "execute_result"
    }
   ],
   "source": [
    "wv_model['text_to_token']['suva']"
   ]
  },
  {
   "cell_type": "code",
   "execution_count": 39,
   "metadata": {},
   "outputs": [
    {
     "data": {
      "text/plain": [
       "[[128]]"
      ]
     },
     "execution_count": 39,
     "metadata": {},
     "output_type": "execute_result"
    }
   ],
   "source": [
    "preproc.tok.texts_to_sequences(['suva'])"
   ]
  },
  {
   "cell_type": "code",
   "execution_count": 43,
   "metadata": {},
   "outputs": [
    {
     "data": {
      "text/plain": [
       "array([[11288, 19951, 26369, ...,  7412,   488,   128]])"
      ]
     },
     "execution_count": 43,
     "metadata": {},
     "output_type": "execute_result"
    }
   ],
   "source": [
    "cosine_similarity(Embeddings[128,:].reshape(1,-1), Embeddings).argsort()"
   ]
  },
  {
   "cell_type": "code",
   "execution_count": 46,
   "metadata": {},
   "outputs": [
    {
     "data": {
      "text/plain": [
       "['prasad']"
      ]
     },
     "execution_count": 46,
     "metadata": {},
     "output_type": "execute_result"
    }
   ],
   "source": [
    "preproc.tok.sequences_to_texts([[480]])"
   ]
  },
  {
   "cell_type": "code",
   "execution_count": 42,
   "metadata": {},
   "outputs": [
    {
     "ename": "TypeError",
     "evalue": "unhashable type: 'list'",
     "output_type": "error",
     "traceback": [
      "\u001b[0;31m---------------------------------------------------------------------------\u001b[0m",
      "\u001b[0;31mTypeError\u001b[0m                                 Traceback (most recent call last)",
      "\u001b[0;32m<ipython-input-42-3c31de32b863>\u001b[0m in \u001b[0;36m<module>\u001b[0;34m\u001b[0m\n\u001b[0;32m----> 1\u001b[0;31m \u001b[0;34m{\u001b[0m\u001b[0mpreproc\u001b[0m\u001b[0;34m.\u001b[0m\u001b[0mtok\u001b[0m\u001b[0;34m.\u001b[0m\u001b[0mtexts_to_sequences\u001b[0m\u001b[0;34m(\u001b[0m\u001b[0;34m[\u001b[0m\u001b[0mword\u001b[0m\u001b[0;34m]\u001b[0m\u001b[0;34m)\u001b[0m \u001b[0;34m:\u001b[0m \u001b[0mword\u001b[0m \u001b[0;32mfor\u001b[0m \u001b[0mword\u001b[0m \u001b[0;32min\u001b[0m \u001b[0mwv_model\u001b[0m\u001b[0;34m[\u001b[0m\u001b[0;34m'vocab'\u001b[0m\u001b[0;34m]\u001b[0m\u001b[0;34m}\u001b[0m\u001b[0;34m\u001b[0m\u001b[0;34m\u001b[0m\u001b[0m\n\u001b[0m",
      "\u001b[0;32m<ipython-input-42-3c31de32b863>\u001b[0m in \u001b[0;36m<dictcomp>\u001b[0;34m(.0)\u001b[0m\n\u001b[0;32m----> 1\u001b[0;31m \u001b[0;34m{\u001b[0m\u001b[0mpreproc\u001b[0m\u001b[0;34m.\u001b[0m\u001b[0mtok\u001b[0m\u001b[0;34m.\u001b[0m\u001b[0mtexts_to_sequences\u001b[0m\u001b[0;34m(\u001b[0m\u001b[0;34m[\u001b[0m\u001b[0mword\u001b[0m\u001b[0;34m]\u001b[0m\u001b[0;34m)\u001b[0m \u001b[0;34m:\u001b[0m \u001b[0mword\u001b[0m \u001b[0;32mfor\u001b[0m \u001b[0mword\u001b[0m \u001b[0;32min\u001b[0m \u001b[0mwv_model\u001b[0m\u001b[0;34m[\u001b[0m\u001b[0;34m'vocab'\u001b[0m\u001b[0;34m]\u001b[0m\u001b[0;34m}\u001b[0m\u001b[0;34m\u001b[0m\u001b[0;34m\u001b[0m\u001b[0m\n\u001b[0m",
      "\u001b[0;31mTypeError\u001b[0m: unhashable type: 'list'"
     ]
    }
   ],
   "source": [
    "{preproc.tok.texts_to_sequences([word]) : word for word in wv_model['vocab']}"
   ]
  },
  {
   "cell_type": "code",
   "execution_count": 140,
   "metadata": {},
   "outputs": [],
   "source": [
    "embed_dict = {preproc.tok.texts_to_sequences([word])[0][0] : word for word in wv_model['vocab']}"
   ]
  },
  {
   "cell_type": "code",
   "execution_count": 190,
   "metadata": {},
   "outputs": [
    {
     "data": {
      "text/plain": [
       "[[593]]"
      ]
     },
     "execution_count": 190,
     "metadata": {},
     "output_type": "execute_result"
    }
   ],
   "source": [
    "preproc.tok.texts_to_sequences(['rape'])"
   ]
  },
  {
   "cell_type": "code",
   "execution_count": 191,
   "metadata": {},
   "outputs": [
    {
     "data": {
      "text/plain": [
       "'rape'"
      ]
     },
     "execution_count": 191,
     "metadata": {},
     "output_type": "execute_result"
    }
   ],
   "source": [
    "embed_dict[593]"
   ]
  },
  {
   "cell_type": "code",
   "execution_count": 192,
   "metadata": {},
   "outputs": [
    {
     "data": {
      "text/plain": [
       "['rape']"
      ]
     },
     "execution_count": 192,
     "metadata": {},
     "output_type": "execute_result"
    }
   ],
   "source": [
    "preproc.tok.sequences_to_texts([[593]])"
   ]
  },
  {
   "cell_type": "code",
   "execution_count": 146,
   "metadata": {},
   "outputs": [],
   "source": [
    "Embeddings = np.stack([embed_word(preproc.tok.sequences_to_texts([[i]])[0], wv_model, 300) for i in range (1, 33000)])"
   ]
  },
  {
   "cell_type": "code",
   "execution_count": 196,
   "metadata": {},
   "outputs": [
    {
     "data": {
      "text/plain": [
       "(32999, 300)"
      ]
     },
     "execution_count": 196,
     "metadata": {},
     "output_type": "execute_result"
    }
   ],
   "source": [
    "Embeddings.shape"
   ]
  },
  {
   "cell_type": "code",
   "execution_count": 198,
   "metadata": {},
   "outputs": [],
   "source": [
    "Embeddings = np.concatenate((np.zeros(300).reshape(1,-1), Embeddings))"
   ]
  },
  {
   "cell_type": "code",
   "execution_count": 210,
   "metadata": {},
   "outputs": [
    {
     "name": "stdout",
     "output_type": "stream",
     "text": [
      "Model weights have been reset.\n"
     ]
    }
   ],
   "source": [
    "learner.reset_weights()"
   ]
  },
  {
   "cell_type": "code",
   "execution_count": 211,
   "metadata": {},
   "outputs": [
    {
     "data": {
      "text/plain": [
       "<tf.Variable 'embedding_4/embeddings:0' shape=(32999, 300) dtype=float32, numpy=\n",
       "array([[-0.95571923,  0.80129987, -1.4521965 , ...,  1.0145426 ,\n",
       "         1.7779183 , -0.66057944],\n",
       "       [-0.7398424 ,  1.0029879 ,  0.9430608 , ...,  0.48449713,\n",
       "         0.5587407 ,  1.963655  ],\n",
       "       [-0.20715149,  2.017186  , -0.32258588, ..., -0.22842658,\n",
       "         1.2660419 , -0.05658771],\n",
       "       ...,\n",
       "       [-0.05113932,  0.00685608,  0.00228031, ...,  0.04837001,\n",
       "         0.00929243, -0.00382673],\n",
       "       [ 0.02422185, -0.04101824, -0.03618522, ...,  0.02189103,\n",
       "         0.02863402, -0.02953816],\n",
       "       [-0.01571665,  0.0836259 ,  0.0910797 , ...,  0.03493011,\n",
       "         0.01273112, -0.01555377]], dtype=float32)>"
      ]
     },
     "execution_count": 211,
     "metadata": {},
     "output_type": "execute_result"
    }
   ],
   "source": [
    "learner.model.weights[0]"
   ]
  },
  {
   "cell_type": "code",
   "execution_count": 217,
   "metadata": {},
   "outputs": [
    {
     "data": {
      "text/plain": [
       "(33000, 300)"
      ]
     },
     "execution_count": 217,
     "metadata": {},
     "output_type": "execute_result"
    }
   ],
   "source": [
    "Embeddings.shape"
   ]
  },
  {
   "cell_type": "code",
   "execution_count": 218,
   "metadata": {},
   "outputs": [],
   "source": [
    "learner.model.weights[0] = Embeddings[:-1]"
   ]
  },
  {
   "cell_type": "code",
   "execution_count": 301,
   "metadata": {},
   "outputs": [],
   "source": [
    "model = _build_cnn(MAXLEN, len(Embeddings), DIMS, filters=32, kernels=[2, 3, 4, 5, 6], embeddings=Embeddings, dropout=0.1, density=64, loss_func='binary_crossentropy',)\n",
    "learner = ktrain.get_learner(model, train_data=train, val_data=test)"
   ]
  },
  {
   "cell_type": "code",
   "execution_count": 302,
   "metadata": {},
   "outputs": [
    {
     "data": {
      "text/plain": [
       "<tf.Variable 'embedding_15/embeddings:0' shape=(33000, 300) dtype=float32, numpy=\n",
       "array([[ 0.        ,  0.        ,  0.        , ...,  0.        ,\n",
       "         0.        ,  0.        ],\n",
       "       [-0.95571923,  0.80129987, -1.4521965 , ...,  1.0145426 ,\n",
       "         1.7779183 , -0.66057944],\n",
       "       [-0.7398424 ,  1.0029879 ,  0.9430608 , ...,  0.48449713,\n",
       "         0.5587407 ,  1.963655  ],\n",
       "       ...,\n",
       "       [-0.05113932,  0.00685608,  0.00228031, ...,  0.04837001,\n",
       "         0.00929243, -0.00382673],\n",
       "       [ 0.02422185, -0.04101824, -0.03618522, ...,  0.02189103,\n",
       "         0.02863402, -0.02953816],\n",
       "       [-0.01571665,  0.0836259 ,  0.0910797 , ...,  0.03493011,\n",
       "         0.01273112, -0.01555377]], dtype=float32)>"
      ]
     },
     "execution_count": 302,
     "metadata": {},
     "output_type": "execute_result"
    }
   ],
   "source": [
    "learner.model.weights[0]"
   ]
  },
  {
   "cell_type": "code",
   "execution_count": 303,
   "metadata": {},
   "outputs": [
    {
     "name": "stdout",
     "output_type": "stream",
     "text": [
      "simulating training for different learning rates... this may take a few moments...\n"
     ]
    },
    {
     "name": "stderr",
     "output_type": "stream",
     "text": [
      "/usr/local/lib/python3.6/dist-packages/ktrain/core.py:476: UserWarning: max_epochs is being set to 5 since steps per epoch is small. If you wish to estimate LR using more epochs, set max_epochs manually.\n",
      "  'If you wish to estimate LR using more epochs, set max_epochs manually.')\n"
     ]
    },
    {
     "name": "stdout",
     "output_type": "stream",
     "text": [
      "Train on 647 samples\n",
      "Epoch 1/5\n",
      "647/647 [==============================] - 5s 7ms/sample - loss: 1.8140 - accuracy: 0.5626\n",
      "Epoch 2/5\n",
      "647/647 [==============================] - 4s 5ms/sample - loss: 1.6460 - accuracy: 0.5317\n",
      "Epoch 3/5\n",
      "647/647 [==============================] - 4s 5ms/sample - loss: 1.2638 - accuracy: 0.5425\n",
      "Epoch 4/5\n",
      "647/647 [==============================] - 4s 6ms/sample - loss: 2.5898 - accuracy: 0.5533\n",
      "Epoch 5/5\n",
      "647/647 [==============================] - 4s 6ms/sample - loss: 7.5969 - accuracy: 0.4869\n",
      "\n",
      "\n",
      "done.\n",
      "Visually inspect loss plot and select learning rate associated with falling loss\n"
     ]
    },
    {
     "data": {
      "image/png": "[encoded data removed]",
      "text/plain": [
       "<Figure size 432x288 with 1 Axes>"
      ]
     },
     "metadata": {
      "needs_background": "light"
     },
     "output_type": "display_data"
    }
   ],
   "source": [
    "learner.lr_find(show_plot=True)"
   ]
  },
  {
   "cell_type": "code",
   "execution_count": 304,
   "metadata": {},
   "outputs": [
    {
     "name": "stdout",
     "output_type": "stream",
     "text": [
      "early_stopping automatically enabled at patience=5\n",
      "reduce_on_plateau automatically enabled at patience=2\n",
      "\n",
      "\n",
      "begin training using triangular learning rate policy with max lr of 0.01...\n",
      "Train on 647 samples, validate on 162 samples\n",
      "Epoch 1/1024\n",
      "647/647 [==============================] - 5s 8ms/sample - loss: 2.4335 - accuracy: 0.5549 - val_loss: 1.1787 - val_accuracy: 0.3951\n",
      "Epoch 2/1024\n",
      "647/647 [==============================] - 4s 6ms/sample - loss: 0.8704 - accuracy: 0.5240 - val_loss: 0.7714 - val_accuracy: 0.4074\n",
      "Epoch 3/1024\n",
      "647/647 [==============================] - 4s 6ms/sample - loss: 0.6915 - accuracy: 0.5595 - val_loss: 0.6673 - val_accuracy: 0.5988\n",
      "Epoch 4/1024\n",
      "647/647 [==============================] - 4s 6ms/sample - loss: 0.6617 - accuracy: 0.5734 - val_loss: 0.6796 - val_accuracy: 0.5988\n",
      "Epoch 5/1024\n",
      "647/647 [==============================] - 4s 6ms/sample - loss: 0.6675 - accuracy: 0.5951 - val_loss: 0.6531 - val_accuracy: 0.6111\n",
      "Epoch 6/1024\n",
      "647/647 [==============================] - 4s 6ms/sample - loss: 0.6432 - accuracy: 0.6368 - val_loss: 0.6487 - val_accuracy: 0.5988\n",
      "Epoch 7/1024\n",
      "647/647 [==============================] - 4s 6ms/sample - loss: 0.5976 - accuracy: 0.6646 - val_loss: 0.6100 - val_accuracy: 0.7284\n",
      "Epoch 8/1024\n",
      "647/647 [==============================] - 4s 6ms/sample - loss: 0.5494 - accuracy: 0.6986 - val_loss: 0.7415 - val_accuracy: 0.4568\n",
      "Epoch 9/1024\n",
      "640/647 [============================>.] - ETA: 0s - loss: 0.6983 - accuracy: 0.4344\n",
      "Epoch 00009: Reducing Max LR on Plateau: new max lr will be 0.005 (if not early_stopping).\n",
      "647/647 [==============================] - 4s 6ms/sample - loss: 0.6981 - accuracy: 0.4328 - val_loss: 0.6919 - val_accuracy: 0.5988\n",
      "Epoch 10/1024\n",
      "647/647 [==============================] - 4s 6ms/sample - loss: 0.6832 - accuracy: 0.6306 - val_loss: 0.6876 - val_accuracy: 0.5988\n",
      "Epoch 11/1024\n",
      "640/647 [============================>.] - ETA: 0s - loss: 0.6762 - accuracy: 0.6031\n",
      "Epoch 00011: Reducing Max LR on Plateau: new max lr will be 0.0025 (if not early_stopping).\n",
      "647/647 [==============================] - 4s 6ms/sample - loss: 0.6753 - accuracy: 0.6043 - val_loss: 0.6882 - val_accuracy: 0.6111\n",
      "Epoch 12/1024\n",
      "640/647 [============================>.] - ETA: 0s - loss: 0.6592 - accuracy: 0.6281Restoring model weights from the end of the best epoch.\n",
      "647/647 [==============================] - 4s 6ms/sample - loss: 0.6594 - accuracy: 0.6275 - val_loss: 0.6705 - val_accuracy: 0.6358\n",
      "Epoch 00012: early stopping\n",
      "Weights from best epoch have been loaded into model.\n"
     ]
    },
    {
     "data": {
      "text/plain": [
       "<tensorflow.python.keras.callbacks.History at 0x7fb1cdda6748>"
      ]
     },
     "execution_count": 304,
     "metadata": {},
     "output_type": "execute_result"
    }
   ],
   "source": [
    "learner.autofit(10e-3)"
   ]
  },
  {
   "cell_type": "code",
   "execution_count": 305,
   "metadata": {},
   "outputs": [],
   "source": [
    "predictor = ktrain.get_predictor(learner.model, preproc)"
   ]
  },
  {
   "cell_type": "code",
   "execution_count": 306,
   "metadata": {},
   "outputs": [],
   "source": [
    "y_hat = predictor.predict(list(x_test))"
   ]
  },
  {
   "cell_type": "code",
   "execution_count": 307,
   "metadata": {},
   "outputs": [],
   "source": [
    "y_HAT = np.array([i[1][1] > i[0][1] for i in y_hat])"
   ]
  },
  {
   "cell_type": "code",
   "execution_count": 325,
   "metadata": {},
   "outputs": [],
   "source": [
    "TP = ((y_HAT == True) & (y_test == 1)).sum()"
   ]
  },
  {
   "cell_type": "code",
   "execution_count": 326,
   "metadata": {},
   "outputs": [
    {
     "data": {
      "text/plain": [
       "70"
      ]
     },
     "execution_count": 326,
     "metadata": {},
     "output_type": "execute_result"
    }
   ],
   "source": [
    "TP"
   ]
  },
  {
   "cell_type": "code",
   "execution_count": 310,
   "metadata": {},
   "outputs": [],
   "source": [
    "FN = ((y_HAT == False) & (y_test == 1)).sum()"
   ]
  },
  {
   "cell_type": "code",
   "execution_count": 311,
   "metadata": {},
   "outputs": [
    {
     "data": {
      "text/plain": [
       "27"
      ]
     },
     "execution_count": 311,
     "metadata": {},
     "output_type": "execute_result"
    }
   ],
   "source": [
    "FN"
   ]
  },
  {
   "cell_type": "code",
   "execution_count": 312,
   "metadata": {},
   "outputs": [],
   "source": [
    "FP = ((y_HAT == True) & (y_test == 0)).sum()"
   ]
  },
  {
   "cell_type": "code",
   "execution_count": 313,
   "metadata": {},
   "outputs": [
    {
     "data": {
      "text/plain": [
       "17"
      ]
     },
     "execution_count": 313,
     "metadata": {},
     "output_type": "execute_result"
    }
   ],
   "source": [
    "FP"
   ]
  },
  {
   "cell_type": "code",
   "execution_count": 327,
   "metadata": {},
   "outputs": [
    {
     "data": {
      "text/plain": [
       "0.7608695652173914"
      ]
     },
     "execution_count": 327,
     "metadata": {},
     "output_type": "execute_result"
    }
   ],
   "source": [
    "2*TP/(2*TP + FN + FP)"
   ]
  },
  {
   "cell_type": "code",
   "execution_count": 329,
   "metadata": {},
   "outputs": [
    {
     "data": {
      "text/plain": [
       "0.7283950617283951"
      ]
     },
     "execution_count": 329,
     "metadata": {},
     "output_type": "execute_result"
    }
   ],
   "source": [
    "(y_HAT == y_test).sum() / len(y_test)"
   ]
  },
  {
   "cell_type": "code",
   "execution_count": 330,
   "metadata": {},
   "outputs": [
    {
     "data": {
      "text/plain": [
       "0.8045977011494253"
      ]
     },
     "execution_count": 330,
     "metadata": {},
     "output_type": "execute_result"
    }
   ],
   "source": [
    "TP / (TP + FP)"
   ]
  },
  {
   "cell_type": "code",
   "execution_count": 331,
   "metadata": {},
   "outputs": [
    {
     "data": {
      "text/plain": [
       "0.7216494845360825"
      ]
     },
     "execution_count": 331,
     "metadata": {},
     "output_type": "execute_result"
    }
   ],
   "source": [
    "TP / (TP + FN)"
   ]
  },
  {
   "cell_type": "code",
   "execution_count": 323,
   "metadata": {},
   "outputs": [],
   "source": [
    "TN = len(y_hat) - TP - FN - FP"
   ]
  },
  {
   "cell_type": "code",
   "execution_count": 324,
   "metadata": {},
   "outputs": [
    {
     "data": {
      "text/plain": [
       "0"
      ]
     },
     "execution_count": 324,
     "metadata": {},
     "output_type": "execute_result"
    }
   ],
   "source": [
    "TN"
   ]
  },
  {
   "cell_type": "code",
   "execution_count": 332,
   "metadata": {},
   "outputs": [],
   "source": [
    "learner.save_model('cnn_Ioya2Vec_model')"
   ]
  },
  {
   "cell_type": "code",
   "execution_count": 333,
   "metadata": {},
   "outputs": [],
   "source": [
    "tf.keras.models.save_model(model, filepath='./cnn_Ioya2Vec_model')"
   ]
  },
  {
   "cell_type": "code",
   "execution_count": 334,
   "metadata": {},
   "outputs": [],
   "source": [
    "predictor.save('cnn_Ioya2Vec_predictor')"
   ]
  },
  {
   "cell_type": "code",
   "execution_count": null,
   "metadata": {},
   "outputs": [],
   "source": []
  }
 ],
 "metadata": {
  "kernelspec": {
   "display_name": "Python 3",
   "language": "python",
   "name": "python3"
  },
  "language_info": {
   "codemirror_mode": {
    "name": "ipython",
    "version": 3
   },
   "file_extension": ".py",
   "mimetype": "text/x-python",
   "name": "python",
   "nbconvert_exporter": "python",
   "pygments_lexer": "ipython3",
   "version": "3.6.9"
  }
 },
 "nbformat": 4,
 "nbformat_minor": 4
}
