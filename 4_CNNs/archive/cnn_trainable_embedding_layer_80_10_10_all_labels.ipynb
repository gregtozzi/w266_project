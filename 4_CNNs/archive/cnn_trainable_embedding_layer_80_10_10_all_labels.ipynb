{
 "cells": [
  {
   "cell_type": "markdown",
   "metadata": {},
   "source": [
    "# CNN with a Trainable Embedding Layer - Multi-label study\n",
    "## Redoing with 80/10/10 split data\n",
    "\n",
    "In this, I use a 3-neuron sigmoid layer as the three sublabels are not unique."
   ]
  },
  {
   "cell_type": "code",
   "execution_count": 1,
   "metadata": {},
   "outputs": [],
   "source": [
    "%matplotlib inline\n",
    "\n",
    "import os\n",
    "\n",
    "os.environ[\"CUDA_DEVICE_ORDER\"]=\"PCI_BUS_ID\";\n",
    "os.environ[\"CUDA_VISIBLE_DEVICES\"]=\"0\"; "
   ]
  },
  {
   "cell_type": "code",
   "execution_count": 2,
   "metadata": {},
   "outputs": [],
   "source": [
    "import ktrain\n",
    "from ktrain import text\n",
    "\n",
    "import numpy as np\n",
    "import tensorflow as tf\n",
    "import pandas as pd\n",
    "from sklearn.metrics import classification_report, confusion_matrix"
   ]
  },
  {
   "cell_type": "markdown",
   "metadata": {},
   "source": [
    "## Build test and training sets & define preprocessing"
   ]
  },
  {
   "cell_type": "code",
   "execution_count": 3,
   "metadata": {},
   "outputs": [],
   "source": [
    "NUM_WORDS = 50000\n",
    "MAXLEN = 5000\n",
    "NGRAM_RANGE = 1"
   ]
  },
  {
   "cell_type": "code",
   "execution_count": 4,
   "metadata": {},
   "outputs": [
    {
     "name": "stdout",
     "output_type": "stream",
     "text": [
      "detected encoding: utf-8 (if wrong, set manually)\n",
      "language: en\n",
      "Word Counts: 17531\n",
      "Nrows: 647\n",
      "647 train sequences\n",
      "train sequence lengths:\n",
      "\tmean : 1501\n",
      "\t95percentile : 3939\n",
      "\t99percentile : 7668\n",
      "x_train shape: (647,5000)\n",
      "y_train shape: (647, 3)\n",
      "Is Multi-Label? True\n",
      "81 test sequences\n",
      "test sequence lengths:\n",
      "\tmean : 1510\n",
      "\t95percentile : 4141\n",
      "\t99percentile : 5507\n",
      "x_test shape: (81,5000)\n",
      "y_test shape: (81, 3)\n"
     ]
    }
   ],
   "source": [
    "train, test, preproc = text.texts_from_csv('../data/train_80_10_10.csv',\n",
    "                                          'cleaned_contents',\n",
    "                                          label_columns=['Gender_Stereotypes', 'Customary_Practices', 'Other_Factors'],\n",
    "                                          val_filepath='../data/val_80_10_10.csv',\n",
    "                                          max_features=NUM_WORDS,\n",
    "                                          maxlen=MAXLEN,\n",
    "                                          ngram_range=NGRAM_RANGE)"
   ]
  },
  {
   "cell_type": "markdown",
   "metadata": {},
   "source": [
    "## Build the model"
   ]
  },
  {
   "cell_type": "code",
   "execution_count": 5,
   "metadata": {},
   "outputs": [],
   "source": [
    "def _build_cnn(maxlen, max_features, embed_dim, filters, kernels,\n",
    "               dropout=0.1,\n",
    "               loss_func='binary_crossentropy',\n",
    "               activation = 'softmax', metrics=['accuracy'],\n",
    "               verbose=1, optimizer='adam'):\n",
    "    \n",
    "    embedding_matrix = np.ones((max_features, 1))\n",
    "    embedding_matrix[0] = 0\n",
    "\n",
    "    # set up the model\n",
    "    inp = tf.keras.layers.Input(shape=(maxlen,))\n",
    "    x = tf.keras.layers.Embedding(max_features, embed_dim, input_length=maxlen, \n",
    "                                  trainable=True)(inp)\n",
    "    x0 = tf.keras.layers.Conv1D(filters=filters,\n",
    "                               kernel_size=kernels[0],\n",
    "                               activation='relu')(x)\n",
    "    x0 = tf.keras.layers.MaxPool1D(pool_size=maxlen - kernels[0] + 1)(x0)\n",
    "\n",
    "    x1 = tf.keras.layers.Conv1D(filters=filters,\n",
    "                                kernel_size=kernels[1],\n",
    "                                activation='relu')(x)\n",
    "    x1 = tf.keras.layers.MaxPool1D(pool_size=maxlen - kernels[1] + 1)(x1)\n",
    "    \n",
    "    x2 = tf.keras.layers.Conv1D(filters=filters,\n",
    "                                kernel_size=kernels[2],\n",
    "                                activation='relu')(x)\n",
    "    x2 = tf.keras.layers.MaxPool1D(pool_size=maxlen - kernels[2] + 1)(x2)\n",
    "    \n",
    "    x3 = tf.keras.layers.Conv1D(filters=filters,\n",
    "                                kernel_size=kernels[3],\n",
    "                                activation='relu')(x)\n",
    "    x3 = tf.keras.layers.MaxPool1D(pool_size=maxlen - kernels[3] + 1)(x3)\n",
    "\n",
    "    x4 = tf.keras.layers.Conv1D(filters=filters,\n",
    "                                kernel_size=kernels[4],\n",
    "                                activation='relu')(x)\n",
    "    x4 = tf.keras.layers.MaxPool1D(pool_size=maxlen - kernels[4] + 1)(x4)\n",
    "\n",
    "    x = tf.keras.layers.concatenate([x0, x1, x2, x3, x4])\n",
    "\n",
    "    x = tf.keras.layers.Dense(64, activation='relu')(x)\n",
    "    x = tf.keras.layers.Dropout(dropout)(x)\n",
    "    x = tf.keras.layers.Flatten()(x)\n",
    "    outputs = tf.keras.layers.Dense(3, activation=activation)(x)\n",
    "    model = tf.keras.Model(inputs=inp, outputs=outputs)\n",
    "    model.compile(loss=loss_func,\n",
    "                  optimizer=optimizer,\n",
    "                  metrics=metrics)\n",
    "    return model"
   ]
  },
  {
   "cell_type": "code",
   "execution_count": 6,
   "metadata": {},
   "outputs": [],
   "source": [
    "model = _build_cnn(5000, 50000, 100, filters=32, kernels=[2, 3, 4, 5, 6], dropout=0.4, activation='sigmoid')\n",
    "learner = ktrain.get_learner(model, train_data=train, val_data=test)"
   ]
  },
  {
   "cell_type": "code",
   "execution_count": 7,
   "metadata": {},
   "outputs": [
    {
     "name": "stdout",
     "output_type": "stream",
     "text": [
      "Model: \"model\"\n",
      "__________________________________________________________________________________________________\n",
      "Layer (type)                    Output Shape         Param #     Connected to                     \n",
      "==================================================================================================\n",
      "input_1 (InputLayer)            [(None, 5000)]       0                                            \n",
      "__________________________________________________________________________________________________\n",
      "embedding (Embedding)           (None, 5000, 100)    5000000     input_1[0][0]                    \n",
      "__________________________________________________________________________________________________\n",
      "conv1d (Conv1D)                 (None, 4999, 32)     6432        embedding[0][0]                  \n",
      "__________________________________________________________________________________________________\n",
      "conv1d_1 (Conv1D)               (None, 4998, 32)     9632        embedding[0][0]                  \n",
      "__________________________________________________________________________________________________\n",
      "conv1d_2 (Conv1D)               (None, 4997, 32)     12832       embedding[0][0]                  \n",
      "__________________________________________________________________________________________________\n",
      "conv1d_3 (Conv1D)               (None, 4996, 32)     16032       embedding[0][0]                  \n",
      "__________________________________________________________________________________________________\n",
      "conv1d_4 (Conv1D)               (None, 4995, 32)     19232       embedding[0][0]                  \n",
      "__________________________________________________________________________________________________\n",
      "max_pooling1d (MaxPooling1D)    (None, 1, 32)        0           conv1d[0][0]                     \n",
      "__________________________________________________________________________________________________\n",
      "max_pooling1d_1 (MaxPooling1D)  (None, 1, 32)        0           conv1d_1[0][0]                   \n",
      "__________________________________________________________________________________________________\n",
      "max_pooling1d_2 (MaxPooling1D)  (None, 1, 32)        0           conv1d_2[0][0]                   \n",
      "__________________________________________________________________________________________________\n",
      "max_pooling1d_3 (MaxPooling1D)  (None, 1, 32)        0           conv1d_3[0][0]                   \n",
      "__________________________________________________________________________________________________\n",
      "max_pooling1d_4 (MaxPooling1D)  (None, 1, 32)        0           conv1d_4[0][0]                   \n",
      "__________________________________________________________________________________________________\n",
      "concatenate (Concatenate)       (None, 1, 160)       0           max_pooling1d[0][0]              \n",
      "                                                                 max_pooling1d_1[0][0]            \n",
      "                                                                 max_pooling1d_2[0][0]            \n",
      "                                                                 max_pooling1d_3[0][0]            \n",
      "                                                                 max_pooling1d_4[0][0]            \n",
      "__________________________________________________________________________________________________\n",
      "dense (Dense)                   (None, 1, 64)        10304       concatenate[0][0]                \n",
      "__________________________________________________________________________________________________\n",
      "dropout (Dropout)               (None, 1, 64)        0           dense[0][0]                      \n",
      "__________________________________________________________________________________________________\n",
      "flatten (Flatten)               (None, 64)           0           dropout[0][0]                    \n",
      "__________________________________________________________________________________________________\n",
      "dense_1 (Dense)                 (None, 3)            195         flatten[0][0]                    \n",
      "==================================================================================================\n",
      "Total params: 5,074,659\n",
      "Trainable params: 5,074,659\n",
      "Non-trainable params: 0\n",
      "__________________________________________________________________________________________________\n"
     ]
    }
   ],
   "source": [
    "learner.model.summary()"
   ]
  },
  {
   "cell_type": "markdown",
   "metadata": {},
   "source": [
    "## Define and train the model"
   ]
  },
  {
   "cell_type": "markdown",
   "metadata": {},
   "source": [
    "### Find a good initial learning rate\n",
    "\n",
    "This is a method that was developed at the Naval Research Laboratory.  It's been promoted by Jeremy Howard."
   ]
  },
  {
   "cell_type": "code",
   "execution_count": 8,
   "metadata": {},
   "outputs": [
    {
     "name": "stdout",
     "output_type": "stream",
     "text": [
      "simulating training for different learning rates... this may take a few moments...\n"
     ]
    },
    {
     "name": "stderr",
     "output_type": "stream",
     "text": [
      "/usr/local/lib/python3.6/dist-packages/ktrain/core.py:476: UserWarning: max_epochs is being set to 5 since steps per epoch is small. If you wish to estimate LR using more epochs, set max_epochs manually.\n",
      "  'If you wish to estimate LR using more epochs, set max_epochs manually.')\n"
     ]
    },
    {
     "name": "stdout",
     "output_type": "stream",
     "text": [
      "Train on 647 samples\n",
      "Epoch 1/5\n",
      "647/647 [==============================] - 5s 8ms/sample - loss: 0.6973 - accuracy: 0.4930\n",
      "Epoch 2/5\n",
      "647/647 [==============================] - 3s 5ms/sample - loss: 0.6964 - accuracy: 0.5064\n",
      "Epoch 3/5\n",
      "647/647 [==============================] - 3s 5ms/sample - loss: 0.6565 - accuracy: 0.6589\n",
      "Epoch 4/5\n",
      "647/647 [==============================] - 3s 5ms/sample - loss: 0.7347 - accuracy: 0.6785\n",
      "Epoch 5/5\n",
      "647/647 [==============================] - 3s 5ms/sample - loss: 0.7374 - accuracy: 0.6919\n",
      "\n",
      "\n",
      "done.\n",
      "Visually inspect loss plot and select learning rate associated with falling loss\n"
     ]
    },
    {
     "data": {
      "image/png": "[encoded data removed]",
      "text/plain": [
       "<Figure size 432x288 with 1 Axes>"
      ]
     },
     "metadata": {
      "needs_background": "light"
     },
     "output_type": "display_data"
    }
   ],
   "source": [
    "learner.lr_find(show_plot=True)"
   ]
  },
  {
   "cell_type": "markdown",
   "metadata": {},
   "source": [
    "### Train"
   ]
  },
  {
   "cell_type": "code",
   "execution_count": 9,
   "metadata": {},
   "outputs": [
    {
     "name": "stdout",
     "output_type": "stream",
     "text": [
      "reduce_on_plateau automatically enabled at patience=2\n",
      "\n",
      "\n",
      "begin training using triangular learning rate policy with max lr of 0.001...\n",
      "Train on 647 samples, validate on 81 samples\n",
      "Epoch 1/1024\n",
      "647/647 [==============================] - 4s 7ms/sample - loss: 0.6509 - accuracy: 0.6538 - val_loss: 0.6132 - val_accuracy: 0.7078\n",
      "Epoch 2/1024\n",
      "647/647 [==============================] - 3s 5ms/sample - loss: 0.6054 - accuracy: 0.6945 - val_loss: 0.6015 - val_accuracy: 0.7078\n",
      "Epoch 3/1024\n",
      "647/647 [==============================] - 3s 5ms/sample - loss: 0.5991 - accuracy: 0.6924 - val_loss: 0.6008 - val_accuracy: 0.7078\n",
      "Epoch 4/1024\n",
      "647/647 [==============================] - 3s 5ms/sample - loss: 0.5985 - accuracy: 0.6899 - val_loss: 0.5981 - val_accuracy: 0.7078\n",
      "Epoch 5/1024\n",
      "647/647 [==============================] - 3s 5ms/sample - loss: 0.5847 - accuracy: 0.6991 - val_loss: 0.5950 - val_accuracy: 0.7078\n",
      "Epoch 6/1024\n",
      "647/647 [==============================] - 3s 5ms/sample - loss: 0.5715 - accuracy: 0.6929 - val_loss: 0.5932 - val_accuracy: 0.7078\n",
      "Epoch 7/1024\n",
      "647/647 [==============================] - 3s 5ms/sample - loss: 0.5596 - accuracy: 0.7048 - val_loss: 0.5905 - val_accuracy: 0.7078\n",
      "Epoch 8/1024\n",
      "647/647 [==============================] - 3s 5ms/sample - loss: 0.5411 - accuracy: 0.7038 - val_loss: 0.5855 - val_accuracy: 0.7078\n",
      "Epoch 9/1024\n",
      "647/647 [==============================] - 3s 5ms/sample - loss: 0.5258 - accuracy: 0.7367 - val_loss: 0.5804 - val_accuracy: 0.7119\n",
      "Epoch 10/1024\n",
      "647/647 [==============================] - 3s 5ms/sample - loss: 0.4968 - accuracy: 0.7455 - val_loss: 0.5750 - val_accuracy: 0.7078\n",
      "Epoch 11/1024\n",
      "647/647 [==============================] - 3s 5ms/sample - loss: 0.4638 - accuracy: 0.7795 - val_loss: 0.5702 - val_accuracy: 0.7160\n",
      "Epoch 12/1024\n",
      "647/647 [==============================] - 3s 5ms/sample - loss: 0.4261 - accuracy: 0.8166 - val_loss: 0.5699 - val_accuracy: 0.7078\n",
      "Epoch 13/1024\n",
      "647/647 [==============================] - 3s 5ms/sample - loss: 0.3933 - accuracy: 0.8357 - val_loss: 0.5617 - val_accuracy: 0.7284\n",
      "Epoch 14/1024\n",
      "647/647 [==============================] - 3s 5ms/sample - loss: 0.3512 - accuracy: 0.8614 - val_loss: 0.5644 - val_accuracy: 0.7407\n",
      "Epoch 15/1024\n",
      "640/647 [============================>.] - ETA: 0s - loss: 0.3146 - accuracy: 0.8927\n",
      "Epoch 00015: Reducing Max LR on Plateau: new max lr will be 0.0005 (if not early_stopping).\n",
      "647/647 [==============================] - 3s 5ms/sample - loss: 0.3147 - accuracy: 0.8928 - val_loss: 0.5624 - val_accuracy: 0.7449\n",
      "Epoch 16/1024\n",
      "647/647 [==============================] - 3s 5ms/sample - loss: 0.2761 - accuracy: 0.9207 - val_loss: 0.5673 - val_accuracy: 0.7407\n",
      "Epoch 17/1024\n",
      "640/647 [============================>.] - ETA: 0s - loss: 0.2598 - accuracy: 0.9203\n",
      "Epoch 00017: Reducing Max LR on Plateau: new max lr will be 0.00025 (if not early_stopping).\n",
      "647/647 [==============================] - 3s 5ms/sample - loss: 0.2583 - accuracy: 0.9212 - val_loss: 0.5704 - val_accuracy: 0.7366\n",
      "Epoch 18/1024\n",
      "640/647 [============================>.] - ETA: 0s - loss: 0.2378 - accuracy: 0.9323Restoring model weights from the end of the best epoch.\n",
      "647/647 [==============================] - 3s 5ms/sample - loss: 0.2375 - accuracy: 0.9330 - val_loss: 0.5710 - val_accuracy: 0.7366\n",
      "Epoch 00018: early stopping\n",
      "Weights from best epoch have been loaded into model.\n"
     ]
    },
    {
     "data": {
      "text/plain": [
       "<tensorflow.python.keras.callbacks.History at 0x7fa0bc1896d8>"
      ]
     },
     "execution_count": 9,
     "metadata": {},
     "output_type": "execute_result"
    }
   ],
   "source": [
    "learner.autofit(0.001, early_stopping=5)"
   ]
  },
  {
   "cell_type": "markdown",
   "metadata": {},
   "source": [
    "## Examine results"
   ]
  },
  {
   "cell_type": "code",
   "execution_count": 12,
   "metadata": {},
   "outputs": [],
   "source": [
    "val_x = list(pd.read_csv('../data/val_80_10_10.csv')['cleaned_contents'])\n",
    "predictor = ktrain.get_predictor(learner.model, preproc=preproc)\n",
    "y_hat = predictor.predict(list(val_x))\n"
   ]
  },
  {
   "cell_type": "code",
   "execution_count": 39,
   "metadata": {},
   "outputs": [],
   "source": [
    "y_pa_gs = np.array([i[0][1] for i in y_hat])\n",
    "y_pa_cp = np.array([i[1][1] for i in y_hat])\n",
    "y_pa_of = np.array([i[2][1] for i in y_hat])"
   ]
  },
  {
   "cell_type": "code",
   "execution_count": 26,
   "metadata": {},
   "outputs": [],
   "source": [
    "y_gs = np.array(pd.read_csv('../data/val_80_10_10.csv')['Gender_Stereotypes'], dtype='bool')\n",
    "y_cp = np.array(pd.read_csv('../data/val_80_10_10.csv')['Customary_Practices'], dtype='bool')\n",
    "y_of = np.array(pd.read_csv('../data/val_80_10_10.csv')['Other_Factors'], dtype='bool')"
   ]
  },
  {
   "cell_type": "code",
   "execution_count": 53,
   "metadata": {},
   "outputs": [
    {
     "name": "stdout",
     "output_type": "stream",
     "text": [
      "----------------------------------------------\n",
      "Gender_Stereotypes\n",
      "              precision    recall  f1-score   support\n",
      "\n",
      "       False       0.74      0.91      0.81        55\n",
      "        True       0.62      0.31      0.41        26\n",
      "\n",
      "    accuracy                           0.72        81\n",
      "   macro avg       0.68      0.61      0.61        81\n",
      "weighted avg       0.70      0.72      0.68        81\n",
      "\n",
      "----------------------------------------------\n",
      "Customary_Practices\n",
      "              precision    recall  f1-score   support\n",
      "\n",
      "       False       0.78      0.97      0.86        61\n",
      "        True       0.60      0.15      0.24        20\n",
      "\n",
      "    accuracy                           0.77        81\n",
      "   macro avg       0.69      0.56      0.55        81\n",
      "weighted avg       0.73      0.77      0.71        81\n",
      "\n",
      "----------------------------------------------\n",
      "Other_Factors\n",
      "              precision    recall  f1-score   support\n",
      "\n",
      "       False       0.71      0.98      0.82        56\n",
      "        True       0.67      0.08      0.14        25\n",
      "\n",
      "    accuracy                           0.70        81\n",
      "   macro avg       0.69      0.53      0.48        81\n",
      "weighted avg       0.69      0.70      0.61        81\n",
      "\n"
     ]
    }
   ],
   "source": [
    "threshold = 0.5\n",
    "y_hat_gs = y_pa_gs > threshold\n",
    "y_hat_cp = y_pa_cp > threshold\n",
    "y_hat_of = y_pa_of > threshold\n",
    "\n",
    "print('----------------------------------------------')\n",
    "print('Gender_Stereotypes')\n",
    "print(classification_report(y_gs, y_hat_gs))\n",
    "print('----------------------------------------------')\n",
    "print('Customary_Practices')\n",
    "print(classification_report(y_cp, y_hat_cp))\n",
    "print('----------------------------------------------')\n",
    "print('Other_Factors')\n",
    "print(classification_report(y_of, y_hat_of))"
   ]
  },
  {
   "cell_type": "markdown",
   "metadata": {},
   "source": [
    "These results are very poor likely owing to the relatively small number of samples of each disaggregated trigger of gender disrimination."
   ]
  },
  {
   "cell_type": "code",
   "execution_count": null,
   "metadata": {},
   "outputs": [],
   "source": []
  }
 ],
 "metadata": {
  "kernelspec": {
   "display_name": "Python 3",
   "language": "python",
   "name": "python3"
  },
  "language_info": {
   "codemirror_mode": {
    "name": "ipython",
    "version": 3
   },
   "file_extension": ".py",
   "mimetype": "text/x-python",
   "name": "python",
   "nbconvert_exporter": "python",
   "pygments_lexer": "ipython3",
   "version": "3.6.9"
  }
 },
 "nbformat": 4,
 "nbformat_minor": 4
}
