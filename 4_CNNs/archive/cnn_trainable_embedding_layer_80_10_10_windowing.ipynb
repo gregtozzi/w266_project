{
 "cells": [
  {
   "cell_type": "markdown",
   "metadata": {},
   "source": [
    "# CNN with a Trainable Embedding Layer - Why aren't we getting better results?\n",
    "## Redoing with 80/10/10 split\n",
    "\n",
    "Trying predictions on chunks of the input in order to find where the signal is in the underlying documents."
   ]
  },
  {
   "cell_type": "code",
   "execution_count": 1,
   "metadata": {},
   "outputs": [],
   "source": [
    "%matplotlib inline\n",
    "\n",
    "import os\n",
    "\n",
    "os.environ[\"CUDA_DEVICE_ORDER\"]=\"PCI_BUS_ID\";\n",
    "os.environ[\"CUDA_VISIBLE_DEVICES\"]=\"0\"; "
   ]
  },
  {
   "cell_type": "code",
   "execution_count": 2,
   "metadata": {},
   "outputs": [],
   "source": [
    "import ktrain\n",
    "from ktrain import text\n",
    "\n",
    "import numpy as np\n",
    "import tensorflow as tf\n",
    "import pandas as pd\n",
    "from sklearn.metrics import classification_report, confusion_matrix\n",
    "import matplotlib.pyplot as plt"
   ]
  },
  {
   "cell_type": "markdown",
   "metadata": {},
   "source": [
    "## Build test and training sets & define preprocessing"
   ]
  },
  {
   "cell_type": "code",
   "execution_count": 3,
   "metadata": {},
   "outputs": [],
   "source": [
    "NUM_WORDS = 50000\n",
    "MAXLEN = 5000\n",
    "NGRAM_RANGE = 1"
   ]
  },
  {
   "cell_type": "code",
   "execution_count": 4,
   "metadata": {},
   "outputs": [
    {
     "name": "stdout",
     "output_type": "stream",
     "text": [
      "detected encoding: utf-8 (if wrong, set manually)\n",
      "language: en\n",
      "Word Counts: 17531\n",
      "Nrows: 647\n",
      "647 train sequences\n",
      "train sequence lengths:\n",
      "\tmean : 1501\n",
      "\t95percentile : 3939\n",
      "\t99percentile : 7668\n",
      "x_train shape: (647,5000)\n",
      "y_train shape: (647, 2)\n",
      "Is Multi-Label? False\n",
      "81 test sequences\n",
      "test sequence lengths:\n",
      "\tmean : 1510\n",
      "\t95percentile : 4141\n",
      "\t99percentile : 5507\n",
      "x_test shape: (81,5000)\n",
      "y_test shape: (81, 2)\n"
     ]
    }
   ],
   "source": [
    "train, test, preproc = text.texts_from_csv('../data/train_80_10_10.csv',\n",
    "                                          'cleaned_contents',\n",
    "                                          label_columns=['Discrimination_Label'],\n",
    "                                          val_filepath='../data/val_80_10_10.csv',\n",
    "                                          max_features=NUM_WORDS,\n",
    "                                          maxlen=MAXLEN,\n",
    "                                          ngram_range=NGRAM_RANGE)"
   ]
  },
  {
   "cell_type": "markdown",
   "metadata": {},
   "source": [
    "## Build the model"
   ]
  },
  {
   "cell_type": "code",
   "execution_count": 5,
   "metadata": {},
   "outputs": [],
   "source": [
    "def _build_cnn(maxlen, max_features, embed_dim, filters, kernels,\n",
    "               dropout=0.1,\n",
    "               loss_func='categorical_crossentropy',\n",
    "               activation = 'softmax', metrics=['accuracy'],\n",
    "               verbose=1, optimizer='adam'):\n",
    "    \n",
    "    embedding_matrix = np.ones((max_features, 1))\n",
    "    embedding_matrix[0] = 0\n",
    "\n",
    "    # set up the model\n",
    "    inp = tf.keras.layers.Input(shape=(maxlen,))\n",
    "    x = tf.keras.layers.Embedding(max_features, embed_dim, input_length=maxlen, \n",
    "                                  trainable=True)(inp)\n",
    "    x0 = tf.keras.layers.Conv1D(filters=filters,\n",
    "                               kernel_size=kernels[0],\n",
    "                               activation='relu')(x)\n",
    "    x0 = tf.keras.layers.MaxPool1D(pool_size=maxlen - kernels[0] + 1)(x0)\n",
    "\n",
    "    x1 = tf.keras.layers.Conv1D(filters=filters,\n",
    "                                kernel_size=kernels[1],\n",
    "                                activation='relu')(x)\n",
    "    x1 = tf.keras.layers.MaxPool1D(pool_size=maxlen - kernels[1] + 1)(x1)\n",
    "    \n",
    "    x2 = tf.keras.layers.Conv1D(filters=filters,\n",
    "                                kernel_size=kernels[2],\n",
    "                                activation='relu')(x)\n",
    "    x2 = tf.keras.layers.MaxPool1D(pool_size=maxlen - kernels[2] + 1)(x2)\n",
    "    \n",
    "    x3 = tf.keras.layers.Conv1D(filters=filters,\n",
    "                                kernel_size=kernels[3],\n",
    "                                activation='relu')(x)\n",
    "    x3 = tf.keras.layers.MaxPool1D(pool_size=maxlen - kernels[3] + 1)(x3)\n",
    "\n",
    "    x4 = tf.keras.layers.Conv1D(filters=filters,\n",
    "                                kernel_size=kernels[4],\n",
    "                                activation='relu')(x)\n",
    "    x4 = tf.keras.layers.MaxPool1D(pool_size=maxlen - kernels[4] + 1)(x4)\n",
    "\n",
    "    x = tf.keras.layers.concatenate([x0, x1, x2, x3, x4])\n",
    "\n",
    "    x = tf.keras.layers.Dense(64, activation='relu')(x)\n",
    "    x = tf.keras.layers.Dropout(dropout)(x)\n",
    "    x = tf.keras.layers.Flatten()(x)\n",
    "    outputs = tf.keras.layers.Dense(2, activation=activation)(x)\n",
    "    model = tf.keras.Model(inputs=inp, outputs=outputs)\n",
    "    model.compile(loss=loss_func,\n",
    "                  optimizer=optimizer,\n",
    "                  metrics=metrics)\n",
    "    return model"
   ]
  },
  {
   "cell_type": "code",
   "execution_count": 6,
   "metadata": {},
   "outputs": [],
   "source": [
    "model = _build_cnn(MAXLEN, 50000, 100, filters=32, kernels=[2, 3, 4, 5, 6], dropout=0.4)\n",
    "learner = ktrain.get_learner(model, train_data=train, val_data=test)"
   ]
  },
  {
   "cell_type": "code",
   "execution_count": 7,
   "metadata": {},
   "outputs": [
    {
     "name": "stdout",
     "output_type": "stream",
     "text": [
      "Model: \"model\"\n",
      "__________________________________________________________________________________________________\n",
      "Layer (type)                    Output Shape         Param #     Connected to                     \n",
      "==================================================================================================\n",
      "input_1 (InputLayer)            [(None, 5000)]       0                                            \n",
      "__________________________________________________________________________________________________\n",
      "embedding (Embedding)           (None, 5000, 100)    5000000     input_1[0][0]                    \n",
      "__________________________________________________________________________________________________\n",
      "conv1d (Conv1D)                 (None, 4999, 32)     6432        embedding[0][0]                  \n",
      "__________________________________________________________________________________________________\n",
      "conv1d_1 (Conv1D)               (None, 4998, 32)     9632        embedding[0][0]                  \n",
      "__________________________________________________________________________________________________\n",
      "conv1d_2 (Conv1D)               (None, 4997, 32)     12832       embedding[0][0]                  \n",
      "__________________________________________________________________________________________________\n",
      "conv1d_3 (Conv1D)               (None, 4996, 32)     16032       embedding[0][0]                  \n",
      "__________________________________________________________________________________________________\n",
      "conv1d_4 (Conv1D)               (None, 4995, 32)     19232       embedding[0][0]                  \n",
      "__________________________________________________________________________________________________\n",
      "max_pooling1d (MaxPooling1D)    (None, 1, 32)        0           conv1d[0][0]                     \n",
      "__________________________________________________________________________________________________\n",
      "max_pooling1d_1 (MaxPooling1D)  (None, 1, 32)        0           conv1d_1[0][0]                   \n",
      "__________________________________________________________________________________________________\n",
      "max_pooling1d_2 (MaxPooling1D)  (None, 1, 32)        0           conv1d_2[0][0]                   \n",
      "__________________________________________________________________________________________________\n",
      "max_pooling1d_3 (MaxPooling1D)  (None, 1, 32)        0           conv1d_3[0][0]                   \n",
      "__________________________________________________________________________________________________\n",
      "max_pooling1d_4 (MaxPooling1D)  (None, 1, 32)        0           conv1d_4[0][0]                   \n",
      "__________________________________________________________________________________________________\n",
      "concatenate (Concatenate)       (None, 1, 160)       0           max_pooling1d[0][0]              \n",
      "                                                                 max_pooling1d_1[0][0]            \n",
      "                                                                 max_pooling1d_2[0][0]            \n",
      "                                                                 max_pooling1d_3[0][0]            \n",
      "                                                                 max_pooling1d_4[0][0]            \n",
      "__________________________________________________________________________________________________\n",
      "dense (Dense)                   (None, 1, 64)        10304       concatenate[0][0]                \n",
      "__________________________________________________________________________________________________\n",
      "dropout (Dropout)               (None, 1, 64)        0           dense[0][0]                      \n",
      "__________________________________________________________________________________________________\n",
      "flatten (Flatten)               (None, 64)           0           dropout[0][0]                    \n",
      "__________________________________________________________________________________________________\n",
      "dense_1 (Dense)                 (None, 2)            130         flatten[0][0]                    \n",
      "==================================================================================================\n",
      "Total params: 5,074,594\n",
      "Trainable params: 5,074,594\n",
      "Non-trainable params: 0\n",
      "__________________________________________________________________________________________________\n"
     ]
    }
   ],
   "source": [
    "learner.model.summary()"
   ]
  },
  {
   "cell_type": "markdown",
   "metadata": {},
   "source": [
    "## Define and train the model"
   ]
  },
  {
   "cell_type": "markdown",
   "metadata": {},
   "source": [
    "### Train"
   ]
  },
  {
   "cell_type": "code",
   "execution_count": 8,
   "metadata": {},
   "outputs": [
    {
     "name": "stdout",
     "output_type": "stream",
     "text": [
      "reduce_on_plateau automatically enabled at patience=2\n",
      "\n",
      "\n",
      "begin training using triangular learning rate policy with max lr of 0.001...\n",
      "Train on 647 samples, validate on 81 samples\n",
      "Epoch 1/1024\n",
      "647/647 [==============================] - 7s 10ms/sample - loss: 0.6811 - accuracy: 0.5564 - val_loss: 0.6725 - val_accuracy: 0.5926\n",
      "Epoch 2/1024\n",
      "647/647 [==============================] - 3s 5ms/sample - loss: 0.6556 - accuracy: 0.6090 - val_loss: 0.6665 - val_accuracy: 0.5926\n",
      "Epoch 3/1024\n",
      "647/647 [==============================] - 3s 5ms/sample - loss: 0.6244 - accuracy: 0.6785 - val_loss: 0.6523 - val_accuracy: 0.5926\n",
      "Epoch 4/1024\n",
      "647/647 [==============================] - 3s 5ms/sample - loss: 0.5661 - accuracy: 0.7821 - val_loss: 0.6558 - val_accuracy: 0.7160\n",
      "Epoch 5/1024\n",
      "647/647 [==============================] - 3s 5ms/sample - loss: 0.5113 - accuracy: 0.8532 - val_loss: 0.6383 - val_accuracy: 0.6667\n",
      "Epoch 6/1024\n",
      "647/647 [==============================] - 3s 5ms/sample - loss: 0.4390 - accuracy: 0.8748 - val_loss: 0.6404 - val_accuracy: 0.6667\n",
      "Epoch 7/1024\n",
      "640/647 [============================>.] - ETA: 0s - loss: 0.3560 - accuracy: 0.9344\n",
      "Epoch 00007: Reducing Max LR on Plateau: new max lr will be 0.0005 (if not early_stopping).\n",
      "647/647 [==============================] - 3s 5ms/sample - loss: 0.3557 - accuracy: 0.9351 - val_loss: 0.6555 - val_accuracy: 0.6790\n",
      "Epoch 8/1024\n",
      "647/647 [==============================] - 3s 5ms/sample - loss: 0.2788 - accuracy: 0.9583 - val_loss: 0.6552 - val_accuracy: 0.6790\n",
      "Epoch 9/1024\n",
      "640/647 [============================>.] - ETA: 0s - loss: 0.2302 - accuracy: 0.9672\n",
      "Epoch 00009: Reducing Max LR on Plateau: new max lr will be 0.00025 (if not early_stopping).\n",
      "647/647 [==============================] - 3s 5ms/sample - loss: 0.2305 - accuracy: 0.9675 - val_loss: 0.6617 - val_accuracy: 0.6667\n",
      "Epoch 10/1024\n",
      "640/647 [============================>.] - ETA: 0s - loss: 0.1933 - accuracy: 0.9859Restoring model weights from the end of the best epoch.\n",
      "647/647 [==============================] - 3s 5ms/sample - loss: 0.1930 - accuracy: 0.9861 - val_loss: 0.6637 - val_accuracy: 0.6667\n",
      "Epoch 00010: early stopping\n",
      "Weights from best epoch have been loaded into model.\n"
     ]
    },
    {
     "data": {
      "text/plain": [
       "<tensorflow.python.keras.callbacks.History at 0x7fa4447f4748>"
      ]
     },
     "execution_count": 8,
     "metadata": {},
     "output_type": "execute_result"
    }
   ],
   "source": [
    "learner.autofit(0.001, early_stopping=5)"
   ]
  },
  {
   "cell_type": "markdown",
   "metadata": {},
   "source": [
    "## Examine results"
   ]
  },
  {
   "cell_type": "code",
   "execution_count": 9,
   "metadata": {},
   "outputs": [
    {
     "name": "stdout",
     "output_type": "stream",
     "text": [
      "              precision    recall  f1-score   support\n",
      "\n",
      "           0       0.64      0.42      0.51        33\n",
      "           1       0.68      0.83      0.75        48\n",
      "\n",
      "    accuracy                           0.67        81\n",
      "   macro avg       0.66      0.63      0.63        81\n",
      "weighted avg       0.66      0.67      0.65        81\n",
      "\n"
     ]
    },
    {
     "data": {
      "text/plain": [
       "array([[14, 19],\n",
       "       [ 8, 40]])"
      ]
     },
     "execution_count": 9,
     "metadata": {},
     "output_type": "execute_result"
    }
   ],
   "source": [
    "learner.validate(class_names=preproc.get_classes())"
   ]
  },
  {
   "cell_type": "code",
   "execution_count": 10,
   "metadata": {},
   "outputs": [],
   "source": [
    "test_x = list(pd.read_csv('../data/test_80_10_10.csv')['cleaned_contents'])\n",
    "predictor = ktrain.get_predictor(learner.model, preproc=preproc)\n",
    "y_hat = np.array(predictor.predict(test_x), dtype=np.int64)\n",
    "y = np.array(pd.read_csv('../data/test_80_10_10.csv')['Discrimination_Label'])"
   ]
  },
  {
   "cell_type": "code",
   "execution_count": 11,
   "metadata": {},
   "outputs": [
    {
     "name": "stdout",
     "output_type": "stream",
     "text": [
      "              precision    recall  f1-score   support\n",
      "\n",
      "           0       0.83      0.51      0.63        37\n",
      "           1       0.69      0.91      0.78        44\n",
      "\n",
      "    accuracy                           0.73        81\n",
      "   macro avg       0.76      0.71      0.71        81\n",
      "weighted avg       0.75      0.73      0.72        81\n",
      "\n",
      "[[19 18]\n",
      " [ 4 40]]\n"
     ]
    }
   ],
   "source": [
    "print(classification_report(y, y_hat))\n",
    "print(confusion_matrix(y, y_hat))"
   ]
  },
  {
   "cell_type": "markdown",
   "metadata": {},
   "source": [
    "## Explain a prediction"
   ]
  },
  {
   "cell_type": "code",
   "execution_count": 12,
   "metadata": {},
   "outputs": [
    {
     "data": {
      "text/html": [
       "\n",
       "    <style>\n",
       "    table.eli5-weights tr:hover {\n",
       "        filter: brightness(85%);\n",
       "    }\n",
       "</style>\n",
       "\n",
       "\n",
       "\n",
       "    \n",
       "\n",
       "    \n",
       "\n",
       "    \n",
       "\n",
       "    \n",
       "\n",
       "    \n",
       "\n",
       "    \n",
       "\n",
       "\n",
       "    \n",
       "\n",
       "    \n",
       "\n",
       "    \n",
       "\n",
       "    \n",
       "        \n",
       "\n",
       "    \n",
       "\n",
       "        \n",
       "\n",
       "        \n",
       "    \n",
       "        \n",
       "        \n",
       "    \n",
       "        <p style=\"margin-bottom: 0.5em; margin-top: 0em\">\n",
       "            <b>\n",
       "    \n",
       "        y=1\n",
       "    \n",
       "</b>\n",
       "\n",
       "    \n",
       "    (probability <b>0.512</b>, score <b>0.046</b>)\n",
       "\n",
       "top features\n",
       "        </p>\n",
       "    \n",
       "    <table class=\"eli5-weights\"\n",
       "           style=\"border-collapse: collapse; border: none; margin-top: 0em; table-layout: auto; margin-bottom: 2em;\">\n",
       "        <thead>\n",
       "        <tr style=\"border: none;\">\n",
       "            \n",
       "                <th style=\"padding: 0 1em 0 0.5em; text-align: right; border: none;\" title=\"Feature contribution already accounts for the feature value (for linear models, contribution = weight * feature value), and the sum of feature contributions is equal to the score or, for some classifiers, to the probability. Feature values are shown if &quot;show_feature_values&quot; is True.\">\n",
       "                    Contribution<sup>?</sup>\n",
       "                </th>\n",
       "            \n",
       "            <th style=\"padding: 0 0.5em 0 0.5em; text-align: left; border: none;\">Feature</th>\n",
       "            \n",
       "        </tr>\n",
       "        </thead>\n",
       "        <tbody>\n",
       "        \n",
       "            <tr style=\"background-color: hsl(120, 100.00%, 80.00%); border: none;\">\n",
       "    <td style=\"padding: 0 1em 0 0.5em; text-align: right; border: none;\">\n",
       "        +0.149\n",
       "    </td>\n",
       "    <td style=\"padding: 0 0.5em 0 0.5em; text-align: left; border: none;\">\n",
       "        Highlighted in text (sum)\n",
       "    </td>\n",
       "    \n",
       "</tr>\n",
       "        \n",
       "        \n",
       "\n",
       "        \n",
       "        \n",
       "            <tr style=\"background-color: hsl(0, 100.00%, 84.58%); border: none;\">\n",
       "    <td style=\"padding: 0 1em 0 0.5em; text-align: right; border: none;\">\n",
       "        -0.103\n",
       "    </td>\n",
       "    <td style=\"padding: 0 0.5em 0 0.5em; text-align: left; border: none;\">\n",
       "        &lt;BIAS&gt;\n",
       "    </td>\n",
       "    \n",
       "</tr>\n",
       "        \n",
       "\n",
       "        </tbody>\n",
       "    </table>\n",
       "\n",
       "    \n",
       "\n",
       "\n",
       "\n",
       "    <p style=\"margin-bottom: 2.5em; margin-top:-0.5em;\">\n",
       "        <span style=\"background-color: hsl(0, 100.00%, 61.98%); opacity: 0.99\" title=\"-0.095\">as</span><span style=\"opacity: 0.80\"> </span><span style=\"background-color: hsl(0, 100.00%, 81.76%); opacity: 0.87\" title=\"-0.033\">the</span><span style=\"opacity: 0.80\"> </span><span style=\"background-color: hsl(0, 100.00%, 74.71%); opacity: 0.90\" title=\"-0.053\">perpetrator</span><span style=\"opacity: 0.80\"> </span><span style=\"background-color: hsl(120, 100.00%, 87.55%); opacity: 0.84\" title=\"0.019\">is</span><span style=\"opacity: 0.80\"> </span><span style=\"background-color: hsl(0, 100.00%, 93.90%); opacity: 0.81\" title=\"-0.007\">the</span><span style=\"opacity: 0.80\"> </span><span style=\"background-color: hsl(0, 100.00%, 92.29%); opacity: 0.82\" title=\"-0.010\">sole</span><span style=\"opacity: 0.80\"> </span><span style=\"background-color: hsl(0, 100.00%, 66.23%); opacity: 0.96\" title=\"-0.080\">breadwinner</span><span style=\"opacity: 0.80\"> </span><span style=\"background-color: hsl(0, 100.00%, 80.11%); opacity: 0.87\" title=\"-0.038\">for</span><span style=\"opacity: 0.80\"> </span><span style=\"background-color: hsl(0, 100.00%, 78.22%); opacity: 0.88\" title=\"-0.043\">his</span><span style=\"opacity: 0.80\"> </span><span style=\"background-color: hsl(120, 100.00%, 60.75%); opacity: 0.99\" title=\"0.099\">family</span><span style=\"opacity: 0.80\">, </span><span style=\"background-color: hsl(0, 100.00%, 94.30%); opacity: 0.81\" title=\"-0.006\">i</span><span style=\"opacity: 0.80\"> </span><span style=\"background-color: hsl(120, 100.00%, 68.92%); opacity: 0.94\" title=\"0.071\">reduce</span><span style=\"opacity: 0.80\"> </span><span style=\"background-color: hsl(120, 100.00%, 87.31%); opacity: 0.84\" title=\"0.020\">his</span><span style=\"opacity: 0.80\"> </span><span style=\"background-color: hsl(0, 100.00%, 79.42%); opacity: 0.88\" title=\"-0.039\">sentence</span><span style=\"opacity: 0.80\"> </span><span style=\"background-color: hsl(0, 100.00%, 60.00%); opacity: 1.00\" title=\"-0.102\">by</span><span style=\"opacity: 0.80\"> </span><span style=\"background-color: hsl(0, 100.00%, 95.21%); opacity: 0.81\" title=\"-0.005\">two</span><span style=\"opacity: 0.80\"> </span><span style=\"background-color: hsl(120, 100.00%, 97.50%); opacity: 0.80\" title=\"0.002\">years</span><span style=\"opacity: 0.80\">.</span>\n",
       "    </p>\n",
       "\n",
       "\n",
       "    \n",
       "\n",
       "    \n",
       "\n",
       "    \n",
       "\n",
       "    \n",
       "\n",
       "\n",
       "    \n",
       "\n",
       "    \n",
       "\n",
       "    \n",
       "\n",
       "    \n",
       "\n",
       "    \n",
       "\n",
       "    \n",
       "\n",
       "\n",
       "    \n",
       "\n",
       "    \n",
       "\n",
       "    \n",
       "\n",
       "    \n",
       "\n",
       "    \n",
       "\n",
       "    \n",
       "\n",
       "\n",
       "\n"
      ],
      "text/plain": [
       "<IPython.core.display.HTML object>"
      ]
     },
     "execution_count": 12,
     "metadata": {},
     "output_type": "execute_result"
    }
   ],
   "source": [
    "predictor.explain('As the perpetrator is the sole breadwinner for his family, I reduce his sentence by two years.')"
   ]
  },
  {
   "cell_type": "markdown",
   "metadata": {},
   "source": [
    "## Look at windows of input text"
   ]
  },
  {
   "cell_type": "code",
   "execution_count": 13,
   "metadata": {},
   "outputs": [],
   "source": [
    "data = pd.read_csv('../data/val_80_10_10.csv')"
   ]
  },
  {
   "cell_type": "code",
   "execution_count": 14,
   "metadata": {},
   "outputs": [
    {
     "data": {
      "text/html": [
       "<div>\n",
       "<style scoped>\n",
       "    .dataframe tbody tr th:only-of-type {\n",
       "        vertical-align: middle;\n",
       "    }\n",
       "\n",
       "    .dataframe tbody tr th {\n",
       "        vertical-align: top;\n",
       "    }\n",
       "\n",
       "    .dataframe thead th {\n",
       "        text-align: right;\n",
       "    }\n",
       "</style>\n",
       "<table border=\"1\" class=\"dataframe\">\n",
       "  <thead>\n",
       "    <tr style=\"text-align: right;\">\n",
       "      <th></th>\n",
       "      <th>Unnamed: 0</th>\n",
       "      <th>docid</th>\n",
       "      <th>cleaned_contents</th>\n",
       "      <th>Discrimination_Label</th>\n",
       "      <th>Customary_Practices</th>\n",
       "      <th>Gender_Stereotypes</th>\n",
       "      <th>Other_Factors</th>\n",
       "      <th>Num_Factors</th>\n",
       "    </tr>\n",
       "  </thead>\n",
       "  <tbody>\n",
       "    <tr>\n",
       "      <th>0</th>\n",
       "      <td>647</td>\n",
       "      <td>73659</td>\n",
       "      <td>SENTENCE\\n\\n\\t1.\\tThe Director of Public Prose...</td>\n",
       "      <td>0</td>\n",
       "      <td>0</td>\n",
       "      <td>0</td>\n",
       "      <td>0</td>\n",
       "      <td>0</td>\n",
       "    </tr>\n",
       "    <tr>\n",
       "      <th>1</th>\n",
       "      <td>648</td>\n",
       "      <td>249010</td>\n",
       "      <td>SENTENCE\\n \\n  \\n• In a judgment delivered yes...</td>\n",
       "      <td>1</td>\n",
       "      <td>0</td>\n",
       "      <td>0</td>\n",
       "      <td>1</td>\n",
       "      <td>1</td>\n",
       "    </tr>\n",
       "    <tr>\n",
       "      <th>2</th>\n",
       "      <td>649</td>\n",
       "      <td>269632</td>\n",
       "      <td>JUDGMENT\\n \\n \\nGates P:\\n \\n \\n1. I agree wit...</td>\n",
       "      <td>1</td>\n",
       "      <td>0</td>\n",
       "      <td>1</td>\n",
       "      <td>0</td>\n",
       "      <td>1</td>\n",
       "    </tr>\n",
       "    <tr>\n",
       "      <th>3</th>\n",
       "      <td>650</td>\n",
       "      <td>251896</td>\n",
       "      <td>JUDGMENT\\n \\n \\n INTRODUCTION\\n \\n  \\n• The Ap...</td>\n",
       "      <td>0</td>\n",
       "      <td>0</td>\n",
       "      <td>0</td>\n",
       "      <td>0</td>\n",
       "      <td>0</td>\n",
       "    </tr>\n",
       "    <tr>\n",
       "      <th>4</th>\n",
       "      <td>651</td>\n",
       "      <td>71037</td>\n",
       "      <td>JUDGMENT\\n\\nThe Appellant was convicted in the...</td>\n",
       "      <td>1</td>\n",
       "      <td>0</td>\n",
       "      <td>1</td>\n",
       "      <td>0</td>\n",
       "      <td>1</td>\n",
       "    </tr>\n",
       "  </tbody>\n",
       "</table>\n",
       "</div>"
      ],
      "text/plain": [
       "   Unnamed: 0   docid                                   cleaned_contents  \\\n",
       "0         647   73659  SENTENCE\\n\\n\\t1.\\tThe Director of Public Prose...   \n",
       "1         648  249010  SENTENCE\\n \\n  \\n• In a judgment delivered yes...   \n",
       "2         649  269632  JUDGMENT\\n \\n \\nGates P:\\n \\n \\n1. I agree wit...   \n",
       "3         650  251896  JUDGMENT\\n \\n \\n INTRODUCTION\\n \\n  \\n• The Ap...   \n",
       "4         651   71037  JUDGMENT\\n\\nThe Appellant was convicted in the...   \n",
       "\n",
       "   Discrimination_Label  Customary_Practices  Gender_Stereotypes  \\\n",
       "0                     0                    0                   0   \n",
       "1                     1                    0                   0   \n",
       "2                     1                    0                   1   \n",
       "3                     0                    0                   0   \n",
       "4                     1                    0                   1   \n",
       "\n",
       "   Other_Factors  Num_Factors  \n",
       "0              0            0  \n",
       "1              1            1  \n",
       "2              0            1  \n",
       "3              0            0  \n",
       "4              0            1  "
      ]
     },
     "execution_count": 14,
     "metadata": {},
     "output_type": "execute_result"
    }
   ],
   "source": [
    "data.head()"
   ]
  },
  {
   "cell_type": "code",
   "execution_count": 15,
   "metadata": {},
   "outputs": [],
   "source": [
    "WINDOW = 500\n",
    "accuracy = []\n",
    "F1 = []\n",
    "x = []\n",
    "\n",
    "for i in range(40):\n",
    "    cut_start = i * 100\n",
    "    cut_stop = cut_start + WINDOW\n",
    "    window_data = [' '.join(i.split(' ')[cut_start:cut_stop]) for i in data['cleaned_contents']]\n",
    "    window_y_hat = np.array(predictor.predict(window_data), dtype='int64')\n",
    "    accuracy.append((window_y_hat == y).sum() / len(y))\n",
    "    TP = ((window_y_hat == 1) & (y == 1)).sum()\n",
    "    FP = ((window_y_hat == 1) & (y == 0)).sum()\n",
    "    FN = ((window_y_hat == 0) & (y == 1)).sum()\n",
    "    F1.append(2 * TP / (2 * TP + FP + FN))\n",
    "    x.append(cut_start)"
   ]
  },
  {
   "cell_type": "code",
   "execution_count": 16,
   "metadata": {},
   "outputs": [
    {
     "data": {
      "text/plain": [
       "array([0.58024691, 0.58024691, 0.58024691, 0.60493827, 0.58024691,\n",
       "       0.55555556, 0.58024691, 0.55555556, 0.56790123, 0.5308642 ,\n",
       "       0.48148148, 0.56790123, 0.55555556, 0.54320988, 0.5308642 ,\n",
       "       0.55555556, 0.55555556, 0.5308642 , 0.50617284, 0.4691358 ,\n",
       "       0.45679012, 0.44444444, 0.45679012, 0.4691358 , 0.4691358 ,\n",
       "       0.4691358 , 0.4691358 , 0.45679012, 0.44444444, 0.45679012,\n",
       "       0.45679012, 0.4691358 , 0.45679012, 0.45679012, 0.43209877,\n",
       "       0.43209877, 0.43209877, 0.45679012, 0.44444444, 0.45679012])"
      ]
     },
     "execution_count": 16,
     "metadata": {},
     "output_type": "execute_result"
    }
   ],
   "source": [
    "np.array(accuracy)"
   ]
  },
  {
   "cell_type": "code",
   "execution_count": 17,
   "metadata": {},
   "outputs": [
    {
     "data": {
      "image/png": "[encoded data removed]",
      "text/plain": [
       "<Figure size 432x288 with 1 Axes>"
      ]
     },
     "metadata": {
      "needs_background": "light"
     },
     "output_type": "display_data"
    }
   ],
   "source": [
    "plt.plot(x, np.array(accuracy), marker='o', linestyle=':')\n",
    "plt.ylabel('Validation accuracy')\n",
    "plt.xlabel('Window start (# of words from start)')\n",
    "plt.title('Validation accuracy for 500-word windows')\n",
    "plt.show()"
   ]
  },
  {
   "cell_type": "markdown",
   "metadata": {},
   "source": [
    "#### Now try reversing the word order in the documents"
   ]
  },
  {
   "cell_type": "code",
   "execution_count": 18,
   "metadata": {},
   "outputs": [],
   "source": [
    "WINDOW = 500\n",
    "accuracy = []\n",
    "F1 = []\n",
    "x = []\n",
    "\n",
    "for i in range(40):\n",
    "    cut_start = i * 100\n",
    "    cut_stop = cut_start + WINDOW\n",
    "    window_data = [' '.join(i[::-1].split(' ')[cut_start:cut_stop]) for i in data['cleaned_contents']]\n",
    "    window_y_hat = np.array(predictor.predict(window_data), dtype='int64')\n",
    "    accuracy.append((window_y_hat == y).sum() / len(y))\n",
    "    TP = ((window_y_hat == 1) & (y == 1)).sum()\n",
    "    FP = ((window_y_hat == 1) & (y == 0)).sum()\n",
    "    FN = ((window_y_hat == 0) & (y == 1)).sum()\n",
    "    F1.append(2 * TP / (2 * TP + FP + FN))\n",
    "    x.append(cut_start)"
   ]
  },
  {
   "cell_type": "code",
   "execution_count": 19,
   "metadata": {},
   "outputs": [
    {
     "data": {
      "image/png": "[encoded data removed]",
      "text/plain": [
       "<Figure size 432x288 with 1 Axes>"
      ]
     },
     "metadata": {
      "needs_background": "light"
     },
     "output_type": "display_data"
    }
   ],
   "source": [
    "plt.plot(x, np.array(accuracy), marker='o', linestyle=':')\n",
    "plt.ylabel('Validation accuracy')\n",
    "plt.xlabel('Window start (# of words from end)')\n",
    "plt.title('Validation accuracy for 500-word windows for reversed documents')\n",
    "plt.show()"
   ]
  },
  {
   "cell_type": "code",
   "execution_count": 20,
   "metadata": {},
   "outputs": [],
   "source": [
    "predictor.save('./cnn_80_10_10')"
   ]
  },
  {
   "cell_type": "code",
   "execution_count": null,
   "metadata": {},
   "outputs": [],
   "source": []
  }
 ],
 "metadata": {
  "kernelspec": {
   "display_name": "Python 3",
   "language": "python",
   "name": "python3"
  },
  "language_info": {
   "codemirror_mode": {
    "name": "ipython",
    "version": 3
   },
   "file_extension": ".py",
   "mimetype": "text/x-python",
   "name": "python",
   "nbconvert_exporter": "python",
   "pygments_lexer": "ipython3",
   "version": "3.6.9"
  }
 },
 "nbformat": 4,
 "nbformat_minor": 4
}
