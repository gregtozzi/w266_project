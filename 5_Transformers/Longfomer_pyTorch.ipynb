{
 "cells": [
  {
   "cell_type": "markdown",
   "metadata": {},
   "source": [
    "# Longformer using Pytorch. Longformer huggingface not available for Tensorflow at time of writing"
   ]
  },
  {
   "cell_type": "code",
   "execution_count": null,
   "metadata": {
    "colab": {
     "base_uri": "https://localhost:8080/",
     "height": 360
    },
    "colab_type": "code",
    "id": "uZzLMaRbAXDK",
    "outputId": "c7fab41e-4cd5-432b-aa73-cab9c69b4dce"
   },
   "outputs": [],
   "source": [
    "!pip install transformers"
   ]
  },
  {
   "cell_type": "code",
   "execution_count": null,
   "metadata": {
    "colab": {
     "base_uri": "https://localhost:8080/",
     "height": 241
    },
    "colab_type": "code",
    "id": "BR1HWv08QD4Q",
    "outputId": "bbc69b4f-ebb9-4810-9ec7-1a0bcf8d3050"
   },
   "outputs": [],
   "source": [
    "!pip install torch-lr-finder"
   ]
  },
  {
   "cell_type": "code",
   "execution_count": null,
   "metadata": {
    "colab": {
     "base_uri": "https://localhost:8080/",
     "height": 71
    },
    "colab_type": "code",
    "id": "hBCF_21D_5KE",
    "outputId": "5e42ef79-1a69-4500-8af6-0e5e32ecc3ce"
   },
   "outputs": [
    {
     "name": "stderr",
     "output_type": "stream",
     "text": [
      "/usr/local/lib/python3.6/dist-packages/statsmodels/tools/_testing.py:19: FutureWarning: pandas.util.testing is deprecated. Use the functions in the public API at pandas.testing instead.\n",
      "  import pandas.util.testing as tm\n"
     ]
    }
   ],
   "source": [
    "#!pip install pytorch-model-summary\n",
    "\n",
    "import numpy as np\n",
    "import pandas as pd\n",
    "import warnings\n",
    "import time\n",
    "import datetime\n",
    "import re\n",
    "import random\n",
    "\n",
    "from sklearn.metrics import precision_recall_fscore_support\n",
    "\n",
    "# Graphing\n",
    "import matplotlib.pyplot as plt\n",
    "%matplotlib inline\n",
    "import seaborn as sns \n",
    "\n",
    "# PyTorch Imports\n",
    "import torch # a tensor library\n",
    "from torch.utils.data import TensorDataset, random_split\n",
    "from torch.utils.data import DataLoader, RandomSampler, SequentialSampler\n",
    "\n",
    "#Huggingface Transformers\n",
    "import transformers\n",
    "from transformers import get_linear_schedule_with_warmup\n",
    "\n",
    "from transformers import LongformerModel, LongformerTokenizer, LongformerConfig\n",
    "from transformers import LongformerForSequenceClassification, AdamW"
   ]
  },
  {
   "cell_type": "code",
   "execution_count": null,
   "metadata": {
    "colab": {},
    "colab_type": "code",
    "id": "I0mwc0VTAOgD"
   },
   "outputs": [],
   "source": []
  },
  {
   "cell_type": "markdown",
   "metadata": {
    "colab_type": "text",
    "id": "gAePwUbO_5KJ"
   },
   "source": [
    "## Model Set Up\n",
    "Set up the model and the configuration we need\n",
    "\n",
    "- max_len - how many tokens will be used from the document.\n",
    "- batch_size - reduce if memory issues. paper reccomends 16-32\n",
    "- num epochs\n",
    "\n",
    "- tokenizer - this should be a pretrined tokenizer, e.g. distilBert. \n",
    "- model - make sure it uses the same tokenizer for generating the weights\n",
    "\n",
    "#### input files\n",
    "- train.csv: heading removed, dates and URL replcaed, un-cased, sentence breaks and punctuation included  \n",
    "- train_lcase.csv: heading removed, dates and URL replcaed, lower cased, sentence breaks and punctuation removed\n",
    "  "
   ]
  },
  {
   "cell_type": "code",
   "execution_count": null,
   "metadata": {
    "colab": {
     "base_uri": "https://localhost:8080/",
     "height": 122
    },
    "colab_type": "code",
    "id": "aFp1pXBE_5KK",
    "outputId": "90d020a5-9776-4d44-ff09-7dd17f48ac95"
   },
   "outputs": [
    {
     "name": "stderr",
     "output_type": "stream",
     "text": [
      "Some weights of the model checkpoint at allenai/longformer-base-4096 were not used when initializing LongformerForSequenceClassification: ['lm_head.bias', 'lm_head.dense.weight', 'lm_head.dense.bias', 'lm_head.layer_norm.weight', 'lm_head.layer_norm.bias', 'lm_head.decoder.weight']\n",
      "- This IS expected if you are initializing LongformerForSequenceClassification from the checkpoint of a model trained on another task or with another architecture (e.g. initializing a BertForSequenceClassification model from a BertForPretraining model).\n",
      "- This IS NOT expected if you are initializing LongformerForSequenceClassification from the checkpoint of a model that you expect to be exactly identical (initializing a BertForSequenceClassification model from a BertForSequenceClassification model).\n",
      "Some weights of LongformerForSequenceClassification were not initialized from the model checkpoint at allenai/longformer-base-4096 and are newly initialized: ['classifier.dense.weight', 'classifier.dense.bias', 'classifier.out_proj.weight', 'classifier.out_proj.bias']\n",
      "You should probably TRAIN this model on a down-stream task to be able to use it for predictions and inference.\n"
     ]
    }
   ],
   "source": [
    "train_file = \"train.csv\"\n",
    "test_file = \"test.csv\"\n",
    "\n",
    "\n",
    "max_len = 512\n",
    "batch_size = 8\n",
    "num_epochs = 15\n",
    "lr = 3e-5\n",
    "use_global_mask = False\n",
    "\n",
    "config = LongformerConfig.from_pretrained('allenai/longformer-base-4096',\n",
    "    #attention_mode = 'sliding_chunks',\n",
    "    num_labels=2,\n",
    "    dropout = 0.2,\n",
    "    attention_dropout = 0.2,\n",
    "    output_attentions = False,\n",
    "    output_hidden_states = False\n",
    "    )\n",
    "\n",
    "\n",
    "tokenizer = LongformerTokenizer.from_pretrained('allenai/longformer-base-4096')\n",
    "model = LongformerForSequenceClassification.from_pretrained('allenai/longformer-base-4096', config = config)\n",
    "                                                       "
   ]
  },
  {
   "cell_type": "markdown",
   "metadata": {
    "colab_type": "text",
    "id": "B9nGgXJ__5KP"
   },
   "source": [
    "## Helper Functions"
   ]
  },
  {
   "cell_type": "code",
   "execution_count": null,
   "metadata": {
    "colab": {},
    "colab_type": "code",
    "id": "OLXtZpdM_5KQ"
   },
   "outputs": [],
   "source": [
    "# Function to get data\n",
    "def get_data(fname):\n",
    "    df = pd.read_csv(fname)\n",
    "    df = df[['cleaned_contents', 'Discrimination_Label']]\n",
    "    df = df.rename(columns = {'cleaned_contents':'text', 'Discrimination_Label':'label'})\n",
    "    df.reset_index(inplace=True, drop=True)\n",
    "    return df"
   ]
  },
  {
   "cell_type": "code",
   "execution_count": null,
   "metadata": {
    "colab": {},
    "colab_type": "code",
    "id": "LBui4eey_5KT"
   },
   "outputs": [],
   "source": [
    "# Function to calculate the accuracy of our predictions vs labels\n",
    "def flat_accuracy(preds, labels):\n",
    "    pred_flat = np.argmax(preds, axis=1).flatten()\n",
    "    labels_flat = labels.flatten()\n",
    "    return np.sum(pred_flat == labels_flat) / len(labels_flat)"
   ]
  },
  {
   "cell_type": "code",
   "execution_count": null,
   "metadata": {
    "colab": {},
    "colab_type": "code",
    "id": "OVqvnRhN_5KW"
   },
   "outputs": [],
   "source": [
    "# Function to format elapsed time \n",
    "def format_time(elapsed):\n",
    "    elapsed_rounded = int(round((elapsed)))\n",
    "    return str(datetime.timedelta(seconds=elapsed_rounded))"
   ]
  },
  {
   "cell_type": "code",
   "execution_count": null,
   "metadata": {
    "colab": {},
    "colab_type": "code",
    "id": "Y-zpq1n3_5KZ"
   },
   "outputs": [],
   "source": [
    "# Function to tokenize data and return tensors for input ids, attention mask and labels\n",
    "def tokenize_plus(df):\n",
    "\n",
    "    sentences = df['text'].values\n",
    "    labels = df['label'].values\n",
    "\n",
    "    input_ids = []\n",
    "    attention_masks = []\n",
    "\n",
    "    for sent in sentences:\n",
    "        encoded_dict = tokenizer.encode_plus(\n",
    "                            sent,                     \n",
    "                            add_special_tokens = True, \n",
    "                            max_length = max_len,    \n",
    "                            truncation = True,\n",
    "                            pad_to_max_length = True,\n",
    "                            return_attention_mask = True, \n",
    "                            return_tensors = 'pt'    \n",
    "                       )\n",
    "\n",
    "        input_ids.append(encoded_dict['input_ids'])\n",
    "        attention_masks.append(encoded_dict['attention_mask'])\n",
    "\n",
    "    # Convert the lists into tensors.\n",
    "    input_ids = torch.cat(input_ids, dim=0)\n",
    "    attention_masks = torch.cat(attention_masks, dim=0)\n",
    "    labels = torch.tensor(labels)\n",
    "\n",
    "    return input_ids, attention_masks, labels"
   ]
  },
  {
   "cell_type": "code",
   "execution_count": null,
   "metadata": {
    "colab": {},
    "colab_type": "code",
    "id": "V8t7crx7_5Kd"
   },
   "outputs": [],
   "source": [
    "# Function to semi manually okenize data and return tensors for input ids, attention mask and labels\n",
    "# Adds ability to add global attention mask =2 for <s> tokens (x=0)\n",
    "\n",
    "def tokenize_manual(df, att=True):\n",
    "    tokenized = df['text'].apply((lambda x: tokenizer.encode(x, add_special_tokens=True, \n",
    "                                                             max_length=max_len, \n",
    "                                                             truncation=True)))\n",
    "    padded = np.array([i + [0]*(max_len-len(i)) for i in tokenized.values])\n",
    "    attention_mask = np.where(padded != 0, 1, 0)\n",
    "    if att:\n",
    "        for i in range(len(padded)):\n",
    "            idx = [i for i, x in enumerate(padded[i]) if x == 0]\n",
    "            attention_mask[i][idx] = 2\n",
    "    \n",
    "    input_ids = torch.tensor(padded) \n",
    "    attention_mask = torch.tensor(attention_mask)\n",
    "\n",
    "    labels = df['label']\n",
    "    labels = torch.tensor(labels)\n",
    "    \n",
    "    return input_ids, attention_mask, labels"
   ]
  },
  {
   "cell_type": "markdown",
   "metadata": {
    "colab_type": "text",
    "id": "YgBt-yJg_5Kh"
   },
   "source": [
    "# Fine Tuning and training"
   ]
  },
  {
   "cell_type": "code",
   "execution_count": null,
   "metadata": {
    "colab": {
     "base_uri": "https://localhost:8080/",
     "height": 204
    },
    "colab_type": "code",
    "id": "nC7d03GT_5Kh",
    "outputId": "34516306-90ae-4929-92e9-13712991cd28"
   },
   "outputs": [
    {
     "data": {
      "text/html": [
       "<div>\n",
       "<style scoped>\n",
       "    .dataframe tbody tr th:only-of-type {\n",
       "        vertical-align: middle;\n",
       "    }\n",
       "\n",
       "    .dataframe tbody tr th {\n",
       "        vertical-align: top;\n",
       "    }\n",
       "\n",
       "    .dataframe thead th {\n",
       "        text-align: right;\n",
       "    }\n",
       "</style>\n",
       "<table border=\"1\" class=\"dataframe\">\n",
       "  <thead>\n",
       "    <tr style=\"text-align: right;\">\n",
       "      <th></th>\n",
       "      <th>text</th>\n",
       "      <th>label</th>\n",
       "    </tr>\n",
       "  </thead>\n",
       "  <tbody>\n",
       "    <tr>\n",
       "      <th>0</th>\n",
       "      <td>SENTENCE\\n\\n\\t1.\\tYou are charged as follows:\\...</td>\n",
       "      <td>0</td>\n",
       "    </tr>\n",
       "    <tr>\n",
       "      <th>1</th>\n",
       "      <td>SENTENCE\\n\\n\\t1.\\tJOSEFA KOTOBALAVU, you were ...</td>\n",
       "      <td>1</td>\n",
       "    </tr>\n",
       "    <tr>\n",
       "      <th>2</th>\n",
       "      <td>SENTENCE\\n\\n1. The Director of Public Prosecut...</td>\n",
       "      <td>1</td>\n",
       "    </tr>\n",
       "    <tr>\n",
       "      <th>3</th>\n",
       "      <td>SENTENCE\\n\\n\\t1.\\tMOHOMMED NABI UD- DEAN, you ...</td>\n",
       "      <td>1</td>\n",
       "    </tr>\n",
       "    <tr>\n",
       "      <th>4</th>\n",
       "      <td>JUDGMENT OF THE COURT\\n\\nBackground\\n\\n[1] The...</td>\n",
       "      <td>0</td>\n",
       "    </tr>\n",
       "  </tbody>\n",
       "</table>\n",
       "</div>"
      ],
      "text/plain": [
       "                                                text  label\n",
       "0  SENTENCE\\n\\n\\t1.\\tYou are charged as follows:\\...      0\n",
       "1  SENTENCE\\n\\n\\t1.\\tJOSEFA KOTOBALAVU, you were ...      1\n",
       "2  SENTENCE\\n\\n1. The Director of Public Prosecut...      1\n",
       "3  SENTENCE\\n\\n\\t1.\\tMOHOMMED NABI UD- DEAN, you ...      1\n",
       "4  JUDGMENT OF THE COURT\\n\\nBackground\\n\\n[1] The...      0"
      ]
     },
     "execution_count": 10,
     "metadata": {
      "tags": []
     },
     "output_type": "execute_result"
    }
   ],
   "source": [
    "df = get_data(train_file)\n",
    "df.head()"
   ]
  },
  {
   "cell_type": "code",
   "execution_count": null,
   "metadata": {
    "colab": {},
    "colab_type": "code",
    "id": "LvrITmM4_5Kl"
   },
   "outputs": [],
   "source": [
    "# Get tokenized labels\n",
    "\n",
    "if use_global_mask:\n",
    "    input_ids, attention_masks, labels = tokenize_manual(df)\n",
    "else:\n",
    "    input_ids, attention_masks, labels = tokenize_plus(df)"
   ]
  },
  {
   "cell_type": "code",
   "execution_count": null,
   "metadata": {
    "colab": {
     "base_uri": "https://localhost:8080/",
     "height": 34
    },
    "colab_type": "code",
    "id": "624PVM1aCIVA",
    "outputId": "cfa405d8-4d97-4102-af9c-f4eccbd0a01e"
   },
   "outputs": [
    {
     "data": {
      "application/vnd.google.colaboratory.intrinsic+json": {
       "type": "string"
      },
      "text/plain": [
       "'Tesla P100-PCIE-16GB'"
      ]
     },
     "execution_count": 12,
     "metadata": {
      "tags": []
     },
     "output_type": "execute_result"
    }
   ],
   "source": [
    "# What GPU are we using?\n",
    "torch.cuda.get_device_name(0)"
   ]
  },
  {
   "cell_type": "code",
   "execution_count": null,
   "metadata": {
    "colab": {
     "base_uri": "https://localhost:8080/",
     "height": 54
    },
    "colab_type": "code",
    "id": "uzfxBgOVCP9c",
    "outputId": "281ed670-a64e-45b7-8bf0-c51527785ad2"
   },
   "outputs": [
    {
     "name": "stdout",
     "output_type": "stream",
     "text": [
      "Tokenized:  ['S', 'ENT', 'ENCE', 'ĊĊ', 'ĉ', '1', '.', 'ĉ', 'You', 'Ġare', 'Ġcharged', 'Ġas', 'Ġfollows', ':', 'Ċ', 'Ċ', 'First', 'ĠCount', 'Ċ', 'Statement', 'Ġof', 'ĠOff', 'ence', 'Ċ', 'Ċ', 'R', 'ape', ':', 'ĠContrary', 'Ġto', 'ĠSections', 'Ġ149', 'Ġand', 'Ġ150', 'Ġof', 'Ġthe', 'ĠPenal', 'ĠCode', ',', 'ĠCap', 'Ġ17', '.', 'Ċ', 'Ċ', 'Part', 'icular', 's', 'Ġof', 'ĠOff', 'ence', 'Ċ', 'Ċ', 'S', 'ere', 'ma', 'ia', 'ĠDel', 'a', 'Ġbetween', 'Ġthe', 'Ġ1', 'st', 'ĠJanuary', ',', 'Ġ2007', 'Ġto', 'Ġ31', 'st', 'Ġday', 'Ġof', 'ĠDecember', ',', 'Ġ2007', ',', 'Ġat', 'ĠN', 'ade', 'le', 'i', 'ĠVillage', ',', 'ĠV', 'at', 'uk', 'oul', 'a', ',', 'ĠTav', 'ua', 'Ġin', 'Ġthe', 'ĠWestern', 'ĠDivision', ',', 'Ġhad', 'Ġunlawful', 'Ġcarn', 'al', 'Ġknowledge', 'Ġof', 'ĠN', 'N', ',', 'Ġwithout', 'Ġher', 'Ġconsent', '.', 'Ċ', 'Ċ', 'Second', 'ĠCount', 'Ċ', 'Statement', 'Ġof', 'ĠOff', 'ence', 'Ċ', 'Ċ', 'R', 'ape', ':', 'ĠContrary', 'Ġto', 'ĠSection', 'Ġ207', 'Ġ(', '1', ')', 'Ġand', 'Ġ(', '2', ')', 'Ġ(', 'a', ')', 'Ġof', 'Ġthe', 'ĠCrimes', 'ĠDec', 'ree', 'Ġ44', 'Ġof', 'Ġ2009', '.', 'Ċ', 'Ċ', 'Part', 'icular', 's', 'Ġof', 'ĠOff', 'ence', 'Ċ', 'Ċ', 'S', 'ere', 'ma', 'ia', 'ĠDel', 'a', 'Ġbetween', 'Ġthe', 'Ġ1', 'st', 'ĠJuly', 'Ġ2012', 'Ġto', 'Ġthe', 'Ġ31', 'st', 'ĠJuly', 'Ġ2012', ',', 'Ġat', 'ĠN', 'ade', 'le', 'i', 'ĠVillage', ',', 'ĠV', 'at', 'uk', 'oul', 'a', ',', 'ĠTav', 'ua', 'Ġin', 'Ġthe', 'ĠWestern', 'ĠDivision', 'Ġpenetrated', 'Ġthe', 'Ġvagina', 'Ġof', 'ĠN', 'N', ',', 'Ġwith', 'Ġhis', 'Ġpenis', ',', 'Ġwithout', 'Ġher', 'Ġconsent', '.', 'ĊĊ', 'ĉ', '1', '.', 'ĉ', 'On', 'Ġ28', 'th', 'ĠNovember', 'Ġ2013', 'Ġyou', 'Ġpleaded', 'Ġguilty', 'Ġto', 'Ġboth', 'Ġcharges', 'Ġagainst', 'Ġyou', 'Ġand', 'Ġadmitted', 'Ġthe', 'ĠSummary', 'Ġof', 'ĠFacts', 'Ġon', 'Ġ4', 'th', 'ĠDecember', 'Ġ2013', '.', 'ĊĊ', 'ĉ', '2', '.', 'ĉ', 'The', 'ĠSummary', 'Ġof', 'ĠFacts', 'Ġsubmitted', 'Ġby', 'Ġthe', 'ĠState', 'ĠCounsel', 'Ġstates', 'Ġas', 'Ġfollows', ':', 'Ċ', 'Ċ', 'The', 'Ġaccused', ',', 'ĠSere', 'ma', 'ia', 'ĠDel', 'a', 'Ġis', 'Ġ38', 'Ġyears', 'Ġof', 'ĠN', 'ade', 'le', 'i', 'ĠVillage', ',', 'ĠV', 'at', 'uk', 'oul', 'a', ',', 'ĠTav', 'ua', '.', 'ĠThe', 'Ġcomplainant', 'Ġin', 'Ġthis', 'Ġcase', 'Ġis', 'Ġone', 'ĠN', 'N', ',', 'Ġ10', 'Ġyears', 'Ġof', 'Ġthe', 'Ġsame', 'Ġvillage', '.', 'Ċ', 'Ċ', 'The', 'Ġcomplainant', 'Ġwas', 'Ġ10', 'Ġyears', 'Ġold', ',', 'Ġschooling', 'Ġin', 'ĠN', 'ade', 'le', 'i', 'ĠCatholic', 'ĠSchool', 'Ġwhen', 'Ġthe', 'Ġfirst', 'Ġincident', 'Ġtook', 'Ġplace', '.', 'ĠShe', 'Ġcould', 'Ġrecall', 'Ġthat', 'Ġin', 'Ġthe', 'Ġyear', 'Ġ2007', 'Ġduring', 'Ġthe', 'Ġsecond', 'Ġterm', 'Ġschool', 'Ġand', 'Ġin', 'Ġparticular', 'Ġon', 'Ġthe', 'Ġday', 'Ġshe', 'Ġdid', 'Ġnot', 'Ġgo', 'Ġto', 'Ġschool', 'Ġthe', 'Ġcomplainant', 'Ġwas', 'Ġtold', 'Ġby', 'Ġher', 'Ġmother', 'Ġto', 'Ġgo', 'Ġand', 'Ġhave', 'Ġher', 'Ġbath', 'Ġin', 'Ġthe', 'Ġriver', 'Ġnext', 'Ġto', 'Ġthe', 'Ġvillage', '.', 'ĠShe', 'Ġleft', 'Ġher', 'Ġhome', 'Ġalone', 'Ġto', 'Ġhave', 'Ġher', 'Ġbath', 'Ġand', 'Ġon', 'Ġthe', 'Ġway', 'Ġback', 'Ġshe', 'Ġmet', 'Ġthe', 'Ġaccused', 'Ġsitting', 'Ġnext', 'Ġto', 'Ġthe', 'Ġriver', 'Ġbank', '.', 'ĠThe', 'Ġaccused', 'Ġapproached', 'Ġthe', 'Ġcomplainant', 'Ġand', 'Ġasked', 'Ġher', 'Ġto', 'Ġaccompany', 'Ġher', 'Ġto', 'Ġthe', 'Ġgu', 'ava', 'Ġpatch', 'Ġto', 'Ġcollect', 'Ġgu', 'av', 'as', '.', 'ĠThe', 'Ġcomplainant', 'Ġtrusted', 'Ġthe', 'Ġaccused', 'Ġand', 'Ġfollowed', 'Ġhim', ',', 'Ġsuddenly', 'Ġthe', 'Ġaccused', 'Ġtold', 'Ġher', 'Ġto', 'Ġstop', 'Ġand', 'Ġlie', 'Ġdown', 'Ġon', 'Ġthe', 'Ġground', '.', 'ĠHe', 'Ġthen', 'Ġapproached', 'Ġher', 'Ġto', 'Ġremove', 'Ġher', 'Ġclothes', 'Ġand', 'Ġwarned', 'Ġher', 'Ġif', 'Ġshe', 'Ġdoesn', \"'t\", 'Ġthen', 'Ġhe', 'Ġwill', 'Ġbeat', 'Ġher', 'Ġwith', 'Ġa', 'Ġgu', 'ava', 'Ġstick', '.', 'ĠThe', 'Ġcomplainant', 'Ġwas', 'Ġscared', 'Ġwhen', 'Ġshe', 'Ġheard', 'Ġthis', 'Ġand', 'Ġfollowed', 'Ġthe', 'Ġaccused', \"'s\", 'Ġinstructions', '.', 'ĠWhen', 'Ġthe', 'Ġcomplainant', 'Ġgot', 'Ġund', 'ressed', 'Ġhe', 'Ġsaw', 'Ġthe', 'Ġaccused', 'Ġkneeling', 'Ġdown', 'Ġand', 'Ġusing', 'Ġhis', 'Ġtongue', 'Ġto', 'Ġlick', 'Ġher', 'Ġvagina', '.', 'ĠThe', 'Ġaccused', 'Ġthen', 'Ġun', 'z', 'ipped', 'Ġhis', 'ĠÂ', '¾', 'Ġpants', 'Ġand', 'Ġthen', 'Ġinserted', 'Ġhis', 'Ġerected', 'Ġpenis', 'Ġinto', 'Ġthe', 'Ġcomplainant', \"'s\", 'Ġvagina', '.', 'ĠShe', 'Ġwas', 'Ġin', 'Ġgreat', 'Ġpain', 'Ġand', 'Ġstarted', 'Ġcrying', '.', 'ĠShe', 'Ġwas', 'Ġhelpless', 'Ġas', 'Ġthe', 'Ġaccused', 'Ġon', 'Ġtop', 'Ġof', 'Ġher', '.', 'ĠShe', 'Ġcould', 'Ġfeel', 'Ġthat', 'Ġher', 'Ġvagina', 'Ġwas', 'Ġwet', '.', 'ĠWhen', 'Ġthe', 'Ġaccused', 'Ġrealized', 'Ġthat', 'Ġthe', 'Ġcomplainant', 'Ġwas', 'Ġcrying', ',', 'Ġhe', 'Ġinformed', 'Ġher', 'Ġto', 'Ġget', 'Ġup', ',', 'Ġget', 'Ġdressed', 'Ġand', 'Ġnot', 'Ġto', 'Ġinform', 'Ġanyone', 'Ġabout', 'Ġthis', 'Ġincident', '.', 'ĠWhen', 'Ġthe', 'Ġcomplainant', 'Ġwas', 'Ġwalking', 'Ġto', 'Ġthe', 'Ġriver', 'Ġshe', 'Ġcould', 'Ġfeel', 'Ġdrops', 'Ġof', 'Ġblood', 'Ġcoming', 'Ġout', 'Ġof', 'Ġher', 'Ġvagina', '.', 'ĠShe', 'Ġthen', 'Ġhad', 'Ġher', 'Ġbath', 'Ġand', 'Ġwent', 'Ġhome', 'Ġwithout', 'Ġinforming', 'Ġanyone', 'Ġas', 'Ġshe', 'Ġwas', 'Ġscared', 'Ġof', 'Ġthe', 'Ġaccused', 'Ġas', 'Ġhe', 'Ġmight', 'Ġdo', 'Ġsomething', 'Ġto', 'Ġher', '.', 'Ċ', 'Ċ', 'The', 'Ġsecond', 'Ġincident', 'Ġhappened', 'Ġsometimes', 'Ġin', 'ĠJuly', 'Ġ2012', 'Ġwhen', 'Ġthe', 'Ġcomplainant', \"'s\", 'Ġfather', 'Ġwas', 'Ġcutting', 'Ġcane', 'Ġat', 'ĠKor', 'o', 'ĠNo', '.', '2', '.', 'ĠThe', 'Ġcomplainant', \"'s\", 'Ġfamily', 'Ġwere', 'Ġresiding', 'Ġat', 'Ġan', 'ĠIndian', 'Ġman', \"'s\", 'Ġhouse', 'Ġin', 'ĠKor', 'o', 'ĠNo', '.', '2', '.', 'ĠDuring', 'Ġtheir', 'Ġstay', 'Ġin', 'ĠJuly', 'Ġ2012', ',', 'Ġone', 'Ġafternoon', 'Ġafter', 'Ġreturning', 'Ġfrom', 'Ġschool', 'Ġthe', 'Ġcomplainant', 'Ġwas', 'Ġinformed', 'Ġby', 'Ġher', 'Ġneighbours', 'Ġthat', 'Ġher', 'Ġmother', 'Ġand', 'Ġfather', 'Ġwere', 'Ġboth', 'Ġin', 'Ġthe', 'Ġfarm', '.', 'ĠShe', 'Ġentered', 'Ġthe', 'Ġhouse', 'Ġwhere', 'Ġthe', 'Ġfamily', 'Ġwas', 'Ġstaying', ',', 'Ġto', 'Ġher', 'Ġaston', 'ishment', 'Ġshe', 'Ġsaw', 'Ġthe', 'Ġaccused', 'Ġlying', 'Ġon', 'Ġthe', 'Ġfloor', '.', 'ĠShe', 'Ġquestioned', 'Ġher', 'Ġas', 'Ġto', 'Ġwhat', 'Ġhe', 'Ġis', 'Ġdoing', 'Ġhere', 'Ġand', 'Ġthe', 'Ġaccused', 'Ġinformed', 'Ġher', 'Ġthat', 'Ġhe', 'Ġis', 'Ġjust', 'Ġvisiting', '.', 'ĠThe', 'Ġcomplainant', 'Ġwas', 'Ġmoving', 'Ġin', 'Ġthe', 'Ġroom', 'Ġto', 'Ġfind', 'Ġher', 'Ġclothes', 'Ġwhen', 'Ġshe', 'Ġwas', 'Ġtold', 'Ġby', 'Ġthe', 'Ġaccused', 'Ġto', 'Ġsit', 'Ġon', 'Ġthe', 'Ġbed', '.', 'ĠShe', 'Ġtried', 'Ġto', 'Ġsee', 'Ġif', 'Ġanyone', 'Ġwas', 'Ġcoming', '.', 'ĠShe', 'Ġsaw', 'Ġher', 'Ġbrother', 'Ġat', 'Ġa', 'Ġdistant', 'Ġbut', 'Ġstill', 'Ġfar', 'Ġfrom', 'Ġher', 'Ġroom', '.', 'ĠThe', 'Ġaccused', 'Ġthen', 'Ġund', 'ressed', 'Ġthe', 'Ġcomplainant', 'Ġand', 'Ġhimself', 'Ġand', 'Ġinserted', 'Ġhis', 'Ġerected', 'Ġpenis', 'Ġinto', 'Ġthe', 'Ġcomplainant', \"'s\", 'Ġvagina', '.', 'ĠHe', 'Ġhad', 'Ġforceful', 'Ġsexual', 'Ġintercourse', 'Ġwith', 'Ġher', 'Ġfor', 'Ġtwo', 'Ġminutes', 'Ġas', 'Ġhe', 'Ġsaw', 'Ġthe', 'Ġcomplainant', \"'s\", 'Ġbrother', 'Ġapproaching', 'Ġthe', 'Ġroom', '.', 'ĠHe', 'Ġthen', 'Ġtold', 'Ġthe', 'Ġcomplainant', 'Ġto', 'Ġdress', 'Ġup', 'Ġand', 'Ġthen', 'Ġleft', 'Ġthe', 'Ġroom', 'Ġafter', 'Ġwarning', 'Ġthe', 'Ġcomplainant', '.', 'Ċ', 'Ċ', 'The', 'Ġaccused', 'Ġwas', 'Ġarrested', ',', 'Ġinterviewed', 'Ġunder', 'Ġcaution', 'Ġto', 'Ġwhich', 'Ġhe', 'Ġadmitted', 'Ġthe', 'Ġoffence', '.', 'ĊĊ', 'ĉ', '1', '.', 'ĉ', 'After', 'Ġcarefully', 'Ġconsidering', 'Ġthe', 'ĠPle', 'a', 'Ġof', 'Ġyou', 'Ġto', 'Ġbe', 'Ġunequiv', 'ocal', ',', 'Ġthis', 'ĠCourt', 'Ġfound', 'Ġyou', 'Ġguilty', 'Ġfor', 'Ġtwo', 'Ġcounts', 'Ġof', 'ĠRape', 'Ġand', 'Ġaccordingly', 'Ġyou', 'Ġare', 'Ġconvicted', 'Ġfor', 'Ġtwo', 'Ġcounts', 'Ġof', 'ĠRape', 'Ġunder', 'ĠSection', 'Ġ149', 'Ġand', 'Ġ150', 'Ġof', 'Ġthe', 'ĠPenal', 'ĠCode', ',', 'ĠCap', '17', '.', 'ĊĊ', 'ĉ', '2', '.', 'ĉ', 'Acc', 'used', 'ĠSere', 'ma', 'ia', 'ĠDel', 'a', 'Ġyou', 'Ġstand', 'Ġconvicted', 'Ġfor', 'Ġtwo', 'Ġcounts', 'Ġof', 'ĠRape', '.', 'ĊĊ', 'ĉ', '3', '.', 'ĉ', 'The', 'Ġtariff', 'Ġfor', 'Ġrape', 'Ġis', 'Ġwell', 'Ġsettled', 'Ġsince', 'Ġthe', 'ĠJudgment', 'Ġof', 'ĠHis', 'ĠLords', 'hip', 'ĠMr', '.', 'ĠA', '.', 'H', '.', 'C', '.', 'T', '.', 'ĠGates', 'Ġin', 'ĠState', 'Ġv', 'ĠMar', 'awa', '.', 'Ġ[', '2004', ']', 'ĠF', 'J', 'HC', 'Ġ338', ';', 'ĠH', 'AC', 'Ġ00', '16', 'T', '.', '2003', 'S', 'Ġ(', '23', 'ĠApril', 'Ġ2004', ').', 'ĠThe', 'Ġstarting', 'Ġpoint', 'Ġof', 'Ġa', 'Ġrape', 'Ġof', 'Ġan', 'Ġadult', 'Ġis', 'Ġ7', 'Ġyears', '.', 'ĠThe', 'Ġtariff', 'Ġis', 'Ġ7', 'Ġyears', 'Ġto', 'Ġ15', 'Ġyears', '.', 'ĊĊ', 'ĉ', '4', '.', 'ĉ', 'In', 'ĠMohamed', 'ĠKas', 'im', 'Ġv', 'ĠThe', 'ĠState', 'Ġ(', 'un', 'reported', ')', 'ĠFiji', 'ĠCourt', 'Ġof', 'ĠAppeal', 'ĠCr', '.', 'ĠCase', 'ĠNo', '.', 'Ġ14', 'Ġof', 'Ġ1993', ';', 'Ġ27', 'ĠMay', 'Ġ1994', ',', 'ĠThe', 'ĠCourt', 'Ġof', 'ĠAppeal', 'Ġobserved', ':', 'Ġ', 'Ċ', 'Ċ', '\"', 'We', 'Ġconsider', 'Ġthat', 'Ġat', 'Ġany', 'Ġrape', 'Ġcase', 'Ġwithout', 'Ġaggrav', 'ating', 'Ġor', 'Ġmitigating', 'Ġfeatures', 'Ġthe', 'Ġstarting', 'Ġpoint', 'Ġfor', 'Ġsentencing', 'Ġan', 'Ġadult', 'Ġshould', 'Ġbe', 'Ġa', 'Ġterm', 'Ġof', 'Ġimprisonment', 'Ġof', 'Ġseven', 'Ġyears', '.', 'ĠIt', 'Ġmust', 'Ġbe', 'Ġrecognized', 'Ġby', 'Ġthe', 'ĠCourts', 'Ġthat', 'Ġthe', 'Ġcrime', 'Ġof', 'Ġrape', 'Ġhas', 'Ġbecome', 'Ġaltogether', 'Ġtoo', 'Ġfrequent', 'Ġand', 'Ġthat', 'Ġthe', 'Ġsentences', 'Ġimposed', 'Ġby', 'Ġthe', 'ĠCourts', 'Ġfor', 'Ġthat', 'Ġcrime', 'Ġmust', 'Ġmore', 'Ġnearly', 'Ġreflect', 'Ġthe', 'Ġunderstandable', 'Ġpublic', 'Ġoutrage', '.', 'ĠWe', 'Ġmust', 'Ġstress', ',', 'Ġhowever', ',', 'Ġthat', 'Ġthe', 'Ġparticular', 'Ġcircumstances', 'Ġof', 'Ġa', 'Ġcase', 'Ġwill', 'Ġmean', 'Ġthat', 'Ġthere', 'Ġare', 'Ġcases', 'Ġwhere', 'Ġthe', 'Ġproper', 'Ġsentence', 'Ġmay', 'Ġbe', 'Ġsubstantially', 'Ġhigher', 'Ġor', 'Ġsubstantially', 'Ġlower', 'Ġthan', 'Ġthat', 'Ġstarting', 'Ġpoint', '.\"', 'ĊĊ', 'ĉ', '1', '.', 'ĉ', 'The', 'Ġtariff', 'Ġfor', 'Ġthe', 'Ġrape', 'Ġof', 'Ġchildren', 'Ġdiffers', 'Ġfrom', 'Ġthat', 'Ġof', 'Ġadults', 'Ġand', 'Ġtakes', 'Ġthe', 'Ġtariff', 'Ġof', 'Ġ10', 'Ġto', 'Ġ15', 'Ġyears', '.', 'Ġ', 'ĊĊ', 'ĉ', '2', '.', 'ĉ', 'In', 'ĠState', 'Ġv', 'ĠMario', 'ĠTau', 'vol', 'i', 'Ġ[', '2011', ']', 'ĠF', 'J', 'HC', 'Ġ216', ',', 'ĠH', 'AC', 'Ġ0', '27', '.', '2011', 'ĠHis', 'ĠLords', 'hip', 'ĠMr', '.', 'ĠPaul', 'ĠMad', 'igan', 'Ġheld', 'Ġthat', ':', 'Ċ', 'Ċ', '\"', 'R', 'ape', 'Ġof', 'Ġchildren', 'Ġis', 'Ġa', 'Ġvery', 'Ġserious', 'Ġoffence', 'Ġin', 'Ġdeed', 'Ġand', 'Ġit', 'Ġseems', 'Ġto', 'Ġbe', 'Ġvery', 'Ġprevalent', 'Ġin', 'ĠFiji', 'Ġat', 'Ġthe', 'Ġtime', '.', 'ĠThe', 'Ġlegislation', 'Ġhad', 'Ġdictated', 'Ġharsh', 'Ġpenalties', 'Ġand', 'Ġthe', 'ĠCourts', 'Ġare', 'Ġimposing', 'Ġthose', 'Ġpenalties', 'Ġin', 'Ġorder', 'Ġto', 'Ġreflect', 'Ġsociety', \"'s\", 'Ġabhor', 'rence', 'Ġfor', 'Ġsuch', 'Ġcrimes', '.', 'ĠOur', 'Ġnation', \"'s\", 'Ġchildren', 'Ġmust', 'Ġbe', 'Ġprotected', 'Ġand', 'Ġthey', 'Ġmust', 'Ġbe', 'Ġallowed', 'Ġto', 'Ġdevelop', 'Ġto', 'Ġsexual', 'Ġmaturity', 'Ġunm', 'ol', 'ested', '.', 'ĠPsych', 'ologists', 'Ġtell', 'Ġus', 'Ġthat', 'Ġthe', 'Ġeffect', 'Ġof', 'Ġsexual', 'Ġabuse', 'Ġon', 'Ġchildren', 'Ġin', 'Ġtheir', 'Ġlater', 'Ġdevelopment', 'Ġis', 'Ġprofound', '.\"', 'Ċ', 'Ċ', 'In', 'Ġthis', 'Ġcase', 'Ġ42', 'Ġyear', 'Ġstep', 'Ġfather', 'Ġwas', 'Ġsentenced', 'Ġfor', 'Ġ13', 'Ġyears', 'Ġwith', 'Ġnon', 'Ġparole', 'Ġperiod', 'Ġof', 'Ġ10', 'Ġyears', 'Ġfor', 'Ġdigital', 'Ġrape', 'Ġof', 'Ġ14', 'Ġyear', 'Ġold', 'Ġstep', 'Ġdaughter', '.', 'ĊĊ', 'ĉ', '1', '.', 'ĉ', 'In', 'ĠState', 'Ġv', 'ĠAnthony', 'Ġ[', '2012', ']', 'ĠF', 'J', 'HC', 'Ġ101', '3', ';', 'ĠH', 'AC', 'Ġ151', '.', '2010', 'ĠHis', 'ĠLords', 'hip', 'ĠMr', '.', 'ĠPri', 'yn', 'atha', 'ĠNaw', 'ana', 'Ġheld', 'Ġthat', ':', 'Ċ', 'Ċ', '\"', 'The', 'Ġaccused', \"'s\", 'Ġengagement', 'Ġin', 'Ġhis', 'Ġunilateral', 'Ġsexual', 'Ġactivity', 'Ġwith', 'Ġa', 'Ġlittle', 'Ġgirl', 'Ġwho', 'Ġwas', 'Ġinsensitive', 'Ġto', 'Ġsuch', 'Ġactivity', 'Ġis', 'Ġmost', 'Ġabhor', 'rent', '.', 'ĠThis', 'Ġkind', 'Ġof', 'Ġimmoral', 'Ġact', 'Ġon', 'Ġa', 'Ġlittle', 'Ġgirl', 'Ġof', 'ĠMB', \"'s\", 'Ġstanding', 'Ġis', 'Ġbound', 'Ġto', 'Ġyield', 'Ġadverse', 'Ġresults', 'Ġand', 'Ġpsychological', 'Ġtrauma', ',', 'Ġthe', 'Ġeffect', 'Ġof', 'Ġwhich', 'Ġis', 'Ġindeed', 'Ġdifficult', 'Ġto', 'Ġforesee', 'Ġand', 'Ġasses', 'Ġeven', 'Ġby', 'Ġpsychologists', 'Ġand', 'Ġsoc', 'i', 'ologists', '.', 'ĠThe', 'Ġdep', 'ravity', 'Ġof', 'Ġthe', 'Ġaccused', 'Ġin', 'Ġcommitting', 'Ġthe', 'Ġoffence', 'Ġshould', 'Ġbe', 'Ġdenounced', 'Ġto', 'Ġsave', 'Ġlittle', 'Ġchildren', 'Ġfor', 'Ġtheir', 'Ġown', 'Ġfuture', ';', 'Ġand', ',', 'Ġthe', 'Ġmen', 'Ġof', 'Ġthe', 'Ġaccused', \"'s\", 'Ġcaliber', 'Ġshould', 'Ġnot', 'Ġbe', 'Ġallowed', 'Ġto', 'Ġdeny', 'Ġthe', 'Ġchildren', 'Ġof', 'Ġtheir', 'Ġlegitimate', 'Ġplace', 'Ġin', 'Ġthe', 'Ġcommunity', '.', 'ĠIn', 'Ġpassing', 'Ġdown', 'Ġthe', 'Ġsentence', 'Ġin', 'Ġcase', 'Ġof', 'Ġthis', 'Ġnature', ',', 'Ġdeterrence', 'Ġis', 'Ġtherefore', ',', 'Ġof', 'Ġparamount', 'Ġimportance', '.\"', 'Ġ', 'ĊĊ', 'ĉ', '1', '.', 'ĉ', 'Considering', 'Ġthe', 'Ġabove', ',', 'ĠI', 'Ġcommence', 'Ġyour', 'Ġsentence', 'Ġat', 'Ġ13', 'Ġyears', 'Ġimprisonment', 'Ġfor', 'Ġeach', 'Ġcharge', 'Ġof', 'ĠRape', '.', 'ĊĊ', 'ĉ', '2', '.', 'ĉ', 'Agg', 'rav', 'ating', 'Ġfactors', ';', 'Ċ', 'ĉ', 'ĉ', '(', 'a', ')', 'ĠThe', 'Ġvictim', 'Ġwas', 'Ġof', 'Ġa', 'Ġyounger', 'Ġand', 'Ġtender', 'Ġage', ',', 'Ċ', 'ĉ', 'ĉ', '(', 'b', ')', 'ĠVictim', 'Ġwas', 'Ġsubjected', 'Ġto', 'Ġmore', 'Ġthan', 'Ġone', 'Ġsexual', 'Ġact', ',', 'Ċ', 'ĉ', 'ĉ', '(', 'c', ')', 'ĠYou', 'Ġhad', 'Ġmade', 'Ġthe', 'Ġvictim', 'Ġsexually', 'Ġactive', 'Ġat', 'Ġa', 'Ġyoung', 'Ġage', ',', 'Ċ', 'ĉ', 'ĉ', '(', 'd', ')', 'ĠYou', 'Ġhad', 'Ġtraumat', 'ized', 'Ġthe', 'Ġlife', 'Ġof', 'Ġthe', 'Ġvictim', '.', 'Ċ', 'Ċ', 'Considering', 'Ġall', ',', 'ĠI', 'Ġincrease', 'Ġyour', 'Ġsentence', 'Ġby', 'Ġ3', 'Ġyears', ',', 'Ġnow', 'Ġthe', 'Ġsentence', 'Ġis', 'Ġ16', 'Ġyears', 'Ġimprisonment', '.', 'ĊĊ', 'ĉ', '1', '.', 'ĉ', 'Mit', 'igating', 'Ġcircumstances', ':', 'Ċ', 'Ċ', '(', 'a', ')', 'ĠYou', 'Ġare', 'Ġfirst', 'Ġoffender', 'Ġat', 'Ġthe', 'Ġage', 'Ġof', 'Ġ38', 'Ġyears', 'Ġuntil', 'Ġyou', 'Ġwere', 'Ġconvicted', 'Ġand', 'Ġsentenced', 'Ġby', 'Ġthis', 'ĠCourt', 'Ġon', 'Ġ29', '.', '11', '.', '2013', '.', 'Ġ', 'Ċ', 'Considering', 'Ġall', ',', 'ĠI', 'Ġreduce', 'Ġ1', 'Ġyear', 'Ġfrom', 'Ġyour', 'Ġsentence', 'Ġnow', 'Ġyour', 'Ġsentence', 'Ġis', 'Ġ15', 'Ġyears', 'Ġimprisonment', '.', 'ĊĊ', 'ĉ', '1', '.', 'ĉ', 'For', 'Ġthe', 'Ġguilty', 'Ġplea', ',', 'ĠI', 'Ġdeduct', 'Ġ3', 'Ġyears', 'Ġand', 'Ġnow', 'Ġyour', 'Ġsentence', 'Ġis', 'Ġ12', 'Ġyears', '.', 'ĊĊ', 'ĉ', '2', '.', 'ĉ', 'You', 'Ġwere', 'Ġin', 'Ġrem', 'and', 'Ġfrom', 'Ġ12', '.', '6', '.', '2013', 'Ġfor', 'Ġa', 'Ġperiod', 'Ġof', 'Ġ5', 'Ġmonths', '.', 'ĠThat', 'Ġperiod', 'Ġwas', 'Ġdeducted', 'Ġin', 'Ġthe', 'Ġsentence', 'Ġof', 'ĠH', 'AC', 'Ġ125', '/', '2013', '.', 'ĊĊ', 'ĉ', '3', '.', 'ĉ', 'Considering', 'ĠSection', 'Ġ18', 'Ġ(', '1', ')', 'Ġof', 'Ġthe', 'ĠSent', 'encing', 'Ġand', 'ĠPen', 'alties', 'ĠDec', 'ree', ',', 'ĠI', 'Ġimpose', 'Ġ11', 'Ġyears', 'Ġas', 'Ġnon', 'Ġparole', 'Ġperiod', '.', 'ĊĊ', 'ĉ', '4', '.', 'ĉ', 'Your', 'Ġsentences', 'Ġare', 'Ġas', 'Ġfollows', ':', 'Ġ', 'Ċ', 'ĉ', 'ĉ', '(', 'i', ')', 'Ġ1', 'st', 'Ġcount', 'Ġof', 'ĠRape', 'Ġ-', 'Ġ12', 'Ġyears', 'Ġ', 'Ċ', 'ĉ', 'ĉ', '(', 'ii', ')', 'Ġ2', 'nd', 'Ġcount', 'Ġof', 'ĠRape', 'Ġ-', 'Ġ12', 'Ġyears', 'Ġ', 'ĊĊ', 'ĉ', '5', '.', 'ĉ', 'The', 'ĠFiji', 'ĠCourt', 'Ġof', 'ĠAppeal', 'Ġin', 'ĠV', 'uk', 'it', 'oga', 'Ġv', 'ĠState', 'Ġ[', '2013', ']', 'ĠF', 'J', 'CA', 'Ġ19', ';', 'ĠAA', 'U', 'Ġ00', '49', '.', '2008', 'Ġ(', '13', 'ĠMarch', 'Ġ2013', ')', 'Ġcited', 'Ġwith', 'Ġapproval', 'Ġthe', 'Ġfollowing', 'Ġcitation', 'Ġof', 'ĠD', '.', 'A', '.', 'ĠThomas', ',', 'ĠPrinciples', 'Ġof', 'ĠSent', 'encing', 'Ġ(', '2', 'nd', 'Ġedition', ',', 'Ġ1979', ')', 'Ġp', '.', 'Ġ56', '-', '57', 'Ġwhich', 'Ġwas', 'Ġcited', 'Ġin', 'ĠHigh', 'ĠCourt', 'Ġof', 'ĠAustralia', 'Ġjudgment', 'ĠMill', 'Ġv', 'ĠThe', 'ĠQueen', 'Ġ[', '1988', ']', 'ĠH', 'CA', 'Ġ70', ':', 'Ċ', 'Ċ', '\"', 'The', 'Ġeffect', 'Ġof', 'Ġthe', 'Ġtotality', 'Ġprinciple', 'Ġis', 'Ġto', 'Ġrequire', 'Ġa', 'Ġsent', 'encer', 'Ġwho', 'Ġhas', 'Ġpassed', 'Ġa', 'Ġseries', 'Ġof', 'Ġsentences', ',', 'Ġeach', 'Ġproperly', 'Ġcalculated', 'Ġin', 'Ġrelation', 'Ġto', 'Ġthe', 'Ġoffence', 'Ġfor', 'Ġwhich', 'Ġit', 'Ġis', 'Ġimposed', 'Ġand', 'Ġeach', 'Ġproperly', 'Ġmade', 'Ġconsecutive', 'Ġin', 'Ġaccordance', 'Ġwith', 'Ġthe', 'Ġprinciples', 'Ġgoverning', 'Ġconsecutive', 'Ġsentences', ',', 'Ġto', 'Ġreview', 'Ġthe', 'Ġaggregate', 'Ġsentence', 'Ġand', 'Ġconsider', 'Ġwhether', 'Ġthe', 'Ġaggregate', 'Ġis', \"Ġ'\", 'just', 'Ġand', 'Ġappropriate', \"'.\", 'ĠThe', 'Ġprinciple', 'Ġhas', 'Ġbeen', 'Ġstated', 'Ġmany', 'Ġtimes', 'Ġin', 'Ġvarious', 'Ġforms', ':', \"Ġ'\", 'when', 'Ġa', 'Ġnumber', 'Ġof', 'Ġoffences', 'Ġare', 'Ġbeing', 'Ġdealt', 'Ġwith', 'Ġand', 'Ġspecific', 'Ġpunishments', 'Ġin', 'Ġrespect', 'Ġof', 'Ġthem', 'Ġare', 'Ġbeing', 'Ġto', 'tted', 'Ġup', 'Ġto', 'Ġmake', 'Ġa', 'Ġtotal', ',', 'Ġit', 'Ġis', 'Ġalways', 'Ġnecessary', 'Ġfor', 'Ġthe', 'Ġcourt', 'Ġto', 'Ġtake', 'Ġa', 'Ġlast', 'Ġlook', 'Ġat', 'Ġthe', 'Ġtotal', 'Ġjust', 'Ġto', 'Ġsee', 'Ġwhether', 'Ġit', 'Ġlooks', 'Ġwrong', \"';\", 'Ġ\"', 'when', '...', 'Ġcases', 'Ġof', 'Ġmultipl', 'icity', 'Ġof', 'Ġoffences', 'Ġcome', 'Ġbefore', 'Ġthe', 'Ġcourt', ',', 'Ġthe', 'Ġcourt', 'Ġmust', 'Ġnot', 'Ġcontent', 'Ġitself', 'Ġby', 'Ġdoing', 'Ġthe', 'Ġarithmetic', 'Ġand', 'Ġpassing', 'Ġthe', 'Ġsentence', 'Ġwhich', 'Ġthe', 'Ġarithmetic', 'Ġproduces', '.', 'ĠIt', 'Ġmust', 'Ġlook', 'Ġat', 'Ġthe', 'Ġtotality', 'Ġof', 'Ġthe', 'Ġcriminal', 'Ġbehavior', 'Ġand', 'Ġask', 'Ġitself', 'Ġwhat', 'Ġis', 'Ġthe', 'Ġappropriate', 'Ġsentence', 'Ġfor', 'Ġall', 'Ġthe', 'Ġoffences', '.\"', 'ĊĊ', 'ĉ', '1', '.', 'ĉ', 'Considering', 'Ġthe', 'Ġtotality', 'Ġprinciple', ',', 'ĠI', 'Ġorder', 'Ġthe', 'Ġsentences', 'Ġof', 'Ġboth', 'Ġcharges', 'Ġto', 'Ġrun', 'Ġconcurrently', '.', 'ĊĊ', 'ĉ', '2', '.', 'ĉ', 'Further', 'Ġyou', 'Ġare', 'Ġalready', 'Ġserving', 'Ġa', 'Ġsentence', 'Ġof', 'Ġ11', 'Ġyears', 'Ġ7', 'Ġmonths', 'Ġgiven', 'Ġto', 'Ġyou', 'Ġon', 'Ġ29', '.', '11', '.', '2013', '.', 'ĠYou', 'Ġhave', 'Ġpleaded', 'Ġguilty', 'Ġto', 'Ġall', 'Ġthe', 'Ġcharges', 'Ġin', 'Ġfive', 'Ġseparate', 'Ġsimilar', 'Ġcases', '.', 'Ċ', 'If', 'Ġseparate', 'Ġsentences', 'Ġare', 'Ġgiven', 'Ġfor', 'Ġeach', 'Ġof', 'Ġthese', 'Ġcases', 'Ġit', 'Ġwill', 'Ġhave', 'Ġa', 'Ġcrushing', 'Ġeffect', 'Ġon', 'Ġyou', '.', 'ĠThe', 'ĠState', 'Ġhad', 'Ġconceded', 'Ġthis', 'Ġposition', '.', 'ĠThus', ',', 'ĠI', 'Ġorder', 'Ġthis', 'Ġsentence', 'Ġto', 'Ġrun', 'Ġconcurrently', 'Ġwith', 'Ġthe', 'Ġsentences', 'Ġyou', 'Ġare', 'Ġalready', 'Ġserving', '.', 'ĊĊ', 'ĉ', '1', '.', 'ĉ', 'There', 'Ġwas', 'Ġreport', 'Ġfrom', 'Ġpsychiatrist', 'ĠVictor', 'ĠHerald', 'ĠWass', 'on', 'Ġthat', 'Ġyou', 'Ġare', 'Ġfit', 'Ġto', 'Ġplea', '.', 'ĠThe', 'Ġdoctor', 'Ġwas', 'Ġcalled', 'Ġto', 'Ġgive', 'Ġevidence', '.', 'ĠAccording', 'Ġto', 'Ġhim', 'Ġyou', 'Ġhad', 'Ġschizophrenia', '.', 'ĠNow', 'Ġyou', 'Ġare', 'Ġtreated', 'Ġand', 'Ġfit', 'Ġto', 'Ġplea', '.', 'ĠFurther', 'Ġsuch', 'Ġtreatment', 'Ġcould', 'Ġbe', 'Ġcontinued', 'Ġwhile', 'Ġyou', 'Ġare', 'Ġin', 'Ġrem', 'and', '.', 'ĠOnce', 'Ġyou', 'Ġare', 'Ġserved', 'Ġthe', 'Ġterm', ',', 'Ġa', 'Ġcommunity', 'Ġtreatment', 'Ġorder', 'Ġcould', 'Ġbe', 'Ġissued', 'Ġif', 'Ġneeded', '.', 'Ċ', 'Ċ', 'Summary', 'ĊĊ', 'ĉ', '1', '.', 'ĉ', 'You', 'Ġare', 'Ġsentenced', 'Ġto', 'Ġ12', 'Ġyears', 'Ġimprisonment', '.', 'ĠYou', 'Ġwill', 'Ġnot', 'Ġbe', 'Ġeligible', 'Ġfor', 'Ġparole', 'Ġuntil', 'Ġyou', 'Ġcomplete', 'Ġserving', 'Ġ11', 'Ġyears', 'Ġof', 'Ġimprisonment', '.', 'ĠThis', 'Ġsentence', 'Ġto', 'Ġrun', 'Ġconcurrently', 'Ġwith', 'Ġother', 'Ġsentences', 'Ġalready', 'Ġordered', '.', 'ĊĊ', 'ĉ', '2', '.', 'ĉ', 'Pr', 'ison', 'Ġauthorities', 'Ġare', 'Ġdirected', 'Ġto', 'Ġcontinue', 'Ġwith', 'Ġthe', 'Ġtreatment', 'Ġof', 'Ġyou', 'Ġacting', 'Ġunder', 'ĠSection', 'Ġ86', 'Ġ(', '1', ')', 'Ġ&', 'Ġ(', '2', ')', 'Ġof', 'Ġthe', 'ĠMental', 'ĠHealth', 'ĠDec', 'ree', ',', 'Ġ2010', '.', 'Ġ', 'ĊĊ', 'ĉ', '3', '.', 'ĉ', '30', 'Ġdays', 'Ġto', 'Ġappeal', 'Ġto', 'ĠCourt', 'Ġof', 'ĠAppeal', '.', 'Ċ', 'Ċ', 'S', 'ud', 'h', 'arsh', 'ana', 'ĠDe', 'ĠSilva', 'Ċ', 'J', 'UD', 'GE', 'Ċ', 'Ċ', 'AT', 'ĠLA', 'UT', 'OK', 'A', 'Ċ', 'On', 'Ġ06', 'th', 'ĠDecember', 'Ġ2013', 'Ċ', 'Ċ', 'Sol', 'icit', 'ors', 'Ġfor', 'Ġthe', 'ĠState', ':', 'ĠOffice', 'Ġof', 'Ġthe', 'ĠDirector', 'Ġof', 'ĠPublic', 'ĠPro', 'secution', 'Ċ', 'Sol', 'icit', 'ors', 'Ġfor', 'Ġthe', 'ĠAcc', 'used', ':', 'ĠOffice', 'Ġof', 'Ġthe', 'ĠLegal', 'ĠAid', 'ĠCommission', 'Ġ', 'ĊĊ', 'Ċ', 'Pac', 'L', 'II', ':', 'ĠCopyright', 'ĠPolicy', 'Ġ|', 'ĠDis', 'claim', 'ers', 'Ġ|', 'ĠPrivacy', 'ĠPolicy', 'Ġ|', 'ĠFeedback', 'Ċ', 'URL', ':', 'Ġ<', 'URL', '>', 'ĊĊ', 'ĊĊ', 'Ċ']\n"
     ]
    }
   ],
   "source": [
    "# Print the original sentence.\n",
    "#print(' Original: ', df['text'][0])\n",
    "\n",
    "# Print the sentence split into tokens.\n",
    "print('Tokenized: ', tokenizer.tokenize(df['text'][0]))\n",
    "\n",
    "# Print the sentence mapped to token ids.\n",
    "#print('Token IDs: ', tokenizer.convert_tokens_to_ids(tokenizer.tokenize(sentences[0])))"
   ]
  },
  {
   "cell_type": "code",
   "execution_count": null,
   "metadata": {
    "colab": {
     "base_uri": "https://localhost:8080/",
     "height": 282
    },
    "colab_type": "code",
    "id": "Kb0EqWUrM5eJ",
    "outputId": "e1b6d7a7-004c-4b95-fe81-688f42c1cece"
   },
   "outputs": [
    {
     "data": {
      "text/plain": [
       "<matplotlib.axes._subplots.AxesSubplot at 0x7f8f6b826630>"
      ]
     },
     "execution_count": 14,
     "metadata": {
      "tags": []
     },
     "output_type": "execute_result"
    },
    {
     "data": {
      "image/png": "[encoded data removed]",
      "text/plain": [
       "<Figure size 432x288 with 1 Axes>"
      ]
     },
     "metadata": {
      "needs_background": "light",
      "tags": []
     },
     "output_type": "display_data"
    }
   ],
   "source": [
    "df['text'].apply(lambda x: len(x.split()) if len(x.split())<4000 else 4000).plot(kind='hist')"
   ]
  },
  {
   "cell_type": "code",
   "execution_count": null,
   "metadata": {
    "colab": {
     "base_uri": "https://localhost:8080/",
     "height": 297
    },
    "colab_type": "code",
    "id": "fsfAKFdTNS__",
    "outputId": "5ef8cc83-9d21-471d-de19-c6482b98cbf9"
   },
   "outputs": [
    {
     "data": {
      "text/html": [
       "<div>\n",
       "<style scoped>\n",
       "    .dataframe tbody tr th:only-of-type {\n",
       "        vertical-align: middle;\n",
       "    }\n",
       "\n",
       "    .dataframe tbody tr th {\n",
       "        vertical-align: top;\n",
       "    }\n",
       "\n",
       "    .dataframe thead th {\n",
       "        text-align: right;\n",
       "    }\n",
       "</style>\n",
       "<table border=\"1\" class=\"dataframe\">\n",
       "  <thead>\n",
       "    <tr style=\"text-align: right;\">\n",
       "      <th></th>\n",
       "      <th>label</th>\n",
       "      <th>len_txt</th>\n",
       "    </tr>\n",
       "  </thead>\n",
       "  <tbody>\n",
       "    <tr>\n",
       "      <th>count</th>\n",
       "      <td>647.000000</td>\n",
       "      <td>647.000000</td>\n",
       "    </tr>\n",
       "    <tr>\n",
       "      <th>mean</th>\n",
       "      <td>0.571870</td>\n",
       "      <td>1516.514683</td>\n",
       "    </tr>\n",
       "    <tr>\n",
       "      <th>std</th>\n",
       "      <td>0.495191</td>\n",
       "      <td>1698.831551</td>\n",
       "    </tr>\n",
       "    <tr>\n",
       "      <th>min</th>\n",
       "      <td>0.000000</td>\n",
       "      <td>99.000000</td>\n",
       "    </tr>\n",
       "    <tr>\n",
       "      <th>25%</th>\n",
       "      <td>0.000000</td>\n",
       "      <td>750.500000</td>\n",
       "    </tr>\n",
       "    <tr>\n",
       "      <th>50%</th>\n",
       "      <td>1.000000</td>\n",
       "      <td>1123.000000</td>\n",
       "    </tr>\n",
       "    <tr>\n",
       "      <th>75%</th>\n",
       "      <td>1.000000</td>\n",
       "      <td>1635.500000</td>\n",
       "    </tr>\n",
       "    <tr>\n",
       "      <th>max</th>\n",
       "      <td>1.000000</td>\n",
       "      <td>28652.000000</td>\n",
       "    </tr>\n",
       "  </tbody>\n",
       "</table>\n",
       "</div>"
      ],
      "text/plain": [
       "            label       len_txt\n",
       "count  647.000000    647.000000\n",
       "mean     0.571870   1516.514683\n",
       "std      0.495191   1698.831551\n",
       "min      0.000000     99.000000\n",
       "25%      0.000000    750.500000\n",
       "50%      1.000000   1123.000000\n",
       "75%      1.000000   1635.500000\n",
       "max      1.000000  28652.000000"
      ]
     },
     "execution_count": 15,
     "metadata": {
      "tags": []
     },
     "output_type": "execute_result"
    }
   ],
   "source": [
    "df['len_txt'] =df['text'].apply(lambda x: len(x.split()))\n",
    "df.describe()"
   ]
  },
  {
   "cell_type": "code",
   "execution_count": null,
   "metadata": {
    "colab": {
     "base_uri": "https://localhost:8080/",
     "height": 34
    },
    "colab_type": "code",
    "id": "v4qEn_AONl0V",
    "outputId": "af859620-fc59-4c35-ab63-3855fe556148"
   },
   "outputs": [
    {
     "data": {
      "text/plain": [
       "358"
      ]
     },
     "execution_count": 16,
     "metadata": {
      "tags": []
     },
     "output_type": "execute_result"
    }
   ],
   "source": [
    "len(df[df['len_txt'] > 1024]) "
   ]
  },
  {
   "cell_type": "code",
   "execution_count": null,
   "metadata": {
    "colab": {},
    "colab_type": "code",
    "id": "N4iGX0oA_5Ko"
   },
   "outputs": [],
   "source": [
    "# Combine the training inputs into a TensorDataset.\n",
    "dataset = TensorDataset(input_ids, attention_masks, labels)"
   ]
  },
  {
   "cell_type": "code",
   "execution_count": null,
   "metadata": {
    "colab": {
     "base_uri": "https://localhost:8080/",
     "height": 51
    },
    "colab_type": "code",
    "id": "hjaZOiqV_5Kq",
    "outputId": "e41f6ac0-cc37-4899-a0d8-81d5b8e0c66c"
   },
   "outputs": [
    {
     "name": "stdout",
     "output_type": "stream",
     "text": [
      "647\n",
      "512\n"
     ]
    }
   ],
   "source": [
    "# check size of embeddings\n",
    "print(len(input_ids))\n",
    "print(len(input_ids[0]))"
   ]
  },
  {
   "cell_type": "code",
   "execution_count": null,
   "metadata": {
    "colab": {},
    "colab_type": "code",
    "id": "n_X8c-AaDqTI"
   },
   "outputs": [],
   "source": []
  },
  {
   "cell_type": "code",
   "execution_count": null,
   "metadata": {
    "colab": {},
    "colab_type": "code",
    "id": "-LUl293eOESc"
   },
   "outputs": [],
   "source": []
  },
  {
   "cell_type": "code",
   "execution_count": null,
   "metadata": {
    "colab": {
     "base_uri": "https://localhost:8080/",
     "height": 51
    },
    "colab_type": "code",
    "id": "4SSD8wCT_5Ks",
    "outputId": "a951d267-47ec-49a8-811d-f1d3236d4788"
   },
   "outputs": [
    {
     "name": "stdout",
     "output_type": "stream",
     "text": [
      "  582 training samples\n",
      "   65 validation samples\n"
     ]
    }
   ],
   "source": [
    "# Create a 90-10 train-validation split.\n",
    "train_size = int(0.9 * len(dataset))\n",
    "val_size = len(dataset) - train_size\n",
    "\n",
    "train_dataset, val_dataset = random_split(dataset, [train_size, val_size])\n",
    "\n",
    "print('{:>5,} training samples'.format(train_size))\n",
    "print('{:>5,} validation samples'.format(val_size))"
   ]
  },
  {
   "cell_type": "code",
   "execution_count": null,
   "metadata": {
    "colab": {},
    "colab_type": "code",
    "id": "-YSQ87ha_5Kv"
   },
   "outputs": [],
   "source": [
    "# Create the DataLoaders for our training and validation sets.\n",
    "train_dataloader = DataLoader(\n",
    "            train_dataset,  # The training samples.\n",
    "            sampler = RandomSampler(train_dataset), # Select batches randomly\n",
    "            batch_size = batch_size # Trains with this batch size.\n",
    "        )\n",
    "\n",
    "# For validation the order doesn't matter, so just read them sequentially.\n",
    "validation_dataloader = DataLoader(\n",
    "            val_dataset, # The validation samples.\n",
    "            sampler = SequentialSampler(val_dataset), # Pull out batches sequentially.\n",
    "            batch_size = batch_size # Evaluate with this batch size.\n",
    "        )"
   ]
  },
  {
   "cell_type": "code",
   "execution_count": null,
   "metadata": {
    "colab": {},
    "colab_type": "code",
    "id": "V4sVuVoL_5K0"
   },
   "outputs": [],
   "source": [
    "# Note: AdamW is a class from the huggingface library (as opposed to pytorch) \n",
    "optimizer = AdamW(model.parameters(),\n",
    "                  lr = lr, \n",
    "                  eps = 1e-8 \n",
    "                )"
   ]
  },
  {
   "cell_type": "code",
   "execution_count": null,
   "metadata": {
    "colab": {
     "base_uri": "https://localhost:8080/",
     "height": 1000
    },
    "colab_type": "code",
    "id": "OpCOLW4q_5Kx",
    "outputId": "bd0bf7ba-d7e2-4cff-ce7d-48f624f0394e"
   },
   "outputs": [
    {
     "data": {
      "text/plain": [
       "LongformerForSequenceClassification(\n",
       "  (longformer): LongformerModel(\n",
       "    (embeddings): RobertaEmbeddings(\n",
       "      (word_embeddings): Embedding(50265, 768, padding_idx=1)\n",
       "      (position_embeddings): Embedding(4098, 768, padding_idx=1)\n",
       "      (token_type_embeddings): Embedding(1, 768)\n",
       "      (LayerNorm): LayerNorm((768,), eps=1e-05, elementwise_affine=True)\n",
       "      (dropout): Dropout(p=0.1, inplace=False)\n",
       "    )\n",
       "    (encoder): LongformerEncoder(\n",
       "      (layer): ModuleList(\n",
       "        (0): LongformerLayer(\n",
       "          (attention): LongformerAttention(\n",
       "            (self): LongformerSelfAttention(\n",
       "              (query): Linear(in_features=768, out_features=768, bias=True)\n",
       "              (key): Linear(in_features=768, out_features=768, bias=True)\n",
       "              (value): Linear(in_features=768, out_features=768, bias=True)\n",
       "              (query_global): Linear(in_features=768, out_features=768, bias=True)\n",
       "              (key_global): Linear(in_features=768, out_features=768, bias=True)\n",
       "              (value_global): Linear(in_features=768, out_features=768, bias=True)\n",
       "            )\n",
       "            (output): BertSelfOutput(\n",
       "              (dense): Linear(in_features=768, out_features=768, bias=True)\n",
       "              (LayerNorm): LayerNorm((768,), eps=1e-05, elementwise_affine=True)\n",
       "              (dropout): Dropout(p=0.1, inplace=False)\n",
       "            )\n",
       "          )\n",
       "          (intermediate): BertIntermediate(\n",
       "            (dense): Linear(in_features=768, out_features=3072, bias=True)\n",
       "          )\n",
       "          (output): BertOutput(\n",
       "            (dense): Linear(in_features=3072, out_features=768, bias=True)\n",
       "            (LayerNorm): LayerNorm((768,), eps=1e-05, elementwise_affine=True)\n",
       "            (dropout): Dropout(p=0.1, inplace=False)\n",
       "          )\n",
       "        )\n",
       "        (1): LongformerLayer(\n",
       "          (attention): LongformerAttention(\n",
       "            (self): LongformerSelfAttention(\n",
       "              (query): Linear(in_features=768, out_features=768, bias=True)\n",
       "              (key): Linear(in_features=768, out_features=768, bias=True)\n",
       "              (value): Linear(in_features=768, out_features=768, bias=True)\n",
       "              (query_global): Linear(in_features=768, out_features=768, bias=True)\n",
       "              (key_global): Linear(in_features=768, out_features=768, bias=True)\n",
       "              (value_global): Linear(in_features=768, out_features=768, bias=True)\n",
       "            )\n",
       "            (output): BertSelfOutput(\n",
       "              (dense): Linear(in_features=768, out_features=768, bias=True)\n",
       "              (LayerNorm): LayerNorm((768,), eps=1e-05, elementwise_affine=True)\n",
       "              (dropout): Dropout(p=0.1, inplace=False)\n",
       "            )\n",
       "          )\n",
       "          (intermediate): BertIntermediate(\n",
       "            (dense): Linear(in_features=768, out_features=3072, bias=True)\n",
       "          )\n",
       "          (output): BertOutput(\n",
       "            (dense): Linear(in_features=3072, out_features=768, bias=True)\n",
       "            (LayerNorm): LayerNorm((768,), eps=1e-05, elementwise_affine=True)\n",
       "            (dropout): Dropout(p=0.1, inplace=False)\n",
       "          )\n",
       "        )\n",
       "        (2): LongformerLayer(\n",
       "          (attention): LongformerAttention(\n",
       "            (self): LongformerSelfAttention(\n",
       "              (query): Linear(in_features=768, out_features=768, bias=True)\n",
       "              (key): Linear(in_features=768, out_features=768, bias=True)\n",
       "              (value): Linear(in_features=768, out_features=768, bias=True)\n",
       "              (query_global): Linear(in_features=768, out_features=768, bias=True)\n",
       "              (key_global): Linear(in_features=768, out_features=768, bias=True)\n",
       "              (value_global): Linear(in_features=768, out_features=768, bias=True)\n",
       "            )\n",
       "            (output): BertSelfOutput(\n",
       "              (dense): Linear(in_features=768, out_features=768, bias=True)\n",
       "              (LayerNorm): LayerNorm((768,), eps=1e-05, elementwise_affine=True)\n",
       "              (dropout): Dropout(p=0.1, inplace=False)\n",
       "            )\n",
       "          )\n",
       "          (intermediate): BertIntermediate(\n",
       "            (dense): Linear(in_features=768, out_features=3072, bias=True)\n",
       "          )\n",
       "          (output): BertOutput(\n",
       "            (dense): Linear(in_features=3072, out_features=768, bias=True)\n",
       "            (LayerNorm): LayerNorm((768,), eps=1e-05, elementwise_affine=True)\n",
       "            (dropout): Dropout(p=0.1, inplace=False)\n",
       "          )\n",
       "        )\n",
       "        (3): LongformerLayer(\n",
       "          (attention): LongformerAttention(\n",
       "            (self): LongformerSelfAttention(\n",
       "              (query): Linear(in_features=768, out_features=768, bias=True)\n",
       "              (key): Linear(in_features=768, out_features=768, bias=True)\n",
       "              (value): Linear(in_features=768, out_features=768, bias=True)\n",
       "              (query_global): Linear(in_features=768, out_features=768, bias=True)\n",
       "              (key_global): Linear(in_features=768, out_features=768, bias=True)\n",
       "              (value_global): Linear(in_features=768, out_features=768, bias=True)\n",
       "            )\n",
       "            (output): BertSelfOutput(\n",
       "              (dense): Linear(in_features=768, out_features=768, bias=True)\n",
       "              (LayerNorm): LayerNorm((768,), eps=1e-05, elementwise_affine=True)\n",
       "              (dropout): Dropout(p=0.1, inplace=False)\n",
       "            )\n",
       "          )\n",
       "          (intermediate): BertIntermediate(\n",
       "            (dense): Linear(in_features=768, out_features=3072, bias=True)\n",
       "          )\n",
       "          (output): BertOutput(\n",
       "            (dense): Linear(in_features=3072, out_features=768, bias=True)\n",
       "            (LayerNorm): LayerNorm((768,), eps=1e-05, elementwise_affine=True)\n",
       "            (dropout): Dropout(p=0.1, inplace=False)\n",
       "          )\n",
       "        )\n",
       "        (4): LongformerLayer(\n",
       "          (attention): LongformerAttention(\n",
       "            (self): LongformerSelfAttention(\n",
       "              (query): Linear(in_features=768, out_features=768, bias=True)\n",
       "              (key): Linear(in_features=768, out_features=768, bias=True)\n",
       "              (value): Linear(in_features=768, out_features=768, bias=True)\n",
       "              (query_global): Linear(in_features=768, out_features=768, bias=True)\n",
       "              (key_global): Linear(in_features=768, out_features=768, bias=True)\n",
       "              (value_global): Linear(in_features=768, out_features=768, bias=True)\n",
       "            )\n",
       "            (output): BertSelfOutput(\n",
       "              (dense): Linear(in_features=768, out_features=768, bias=True)\n",
       "              (LayerNorm): LayerNorm((768,), eps=1e-05, elementwise_affine=True)\n",
       "              (dropout): Dropout(p=0.1, inplace=False)\n",
       "            )\n",
       "          )\n",
       "          (intermediate): BertIntermediate(\n",
       "            (dense): Linear(in_features=768, out_features=3072, bias=True)\n",
       "          )\n",
       "          (output): BertOutput(\n",
       "            (dense): Linear(in_features=3072, out_features=768, bias=True)\n",
       "            (LayerNorm): LayerNorm((768,), eps=1e-05, elementwise_affine=True)\n",
       "            (dropout): Dropout(p=0.1, inplace=False)\n",
       "          )\n",
       "        )\n",
       "        (5): LongformerLayer(\n",
       "          (attention): LongformerAttention(\n",
       "            (self): LongformerSelfAttention(\n",
       "              (query): Linear(in_features=768, out_features=768, bias=True)\n",
       "              (key): Linear(in_features=768, out_features=768, bias=True)\n",
       "              (value): Linear(in_features=768, out_features=768, bias=True)\n",
       "              (query_global): Linear(in_features=768, out_features=768, bias=True)\n",
       "              (key_global): Linear(in_features=768, out_features=768, bias=True)\n",
       "              (value_global): Linear(in_features=768, out_features=768, bias=True)\n",
       "            )\n",
       "            (output): BertSelfOutput(\n",
       "              (dense): Linear(in_features=768, out_features=768, bias=True)\n",
       "              (LayerNorm): LayerNorm((768,), eps=1e-05, elementwise_affine=True)\n",
       "              (dropout): Dropout(p=0.1, inplace=False)\n",
       "            )\n",
       "          )\n",
       "          (intermediate): BertIntermediate(\n",
       "            (dense): Linear(in_features=768, out_features=3072, bias=True)\n",
       "          )\n",
       "          (output): BertOutput(\n",
       "            (dense): Linear(in_features=3072, out_features=768, bias=True)\n",
       "            (LayerNorm): LayerNorm((768,), eps=1e-05, elementwise_affine=True)\n",
       "            (dropout): Dropout(p=0.1, inplace=False)\n",
       "          )\n",
       "        )\n",
       "        (6): LongformerLayer(\n",
       "          (attention): LongformerAttention(\n",
       "            (self): LongformerSelfAttention(\n",
       "              (query): Linear(in_features=768, out_features=768, bias=True)\n",
       "              (key): Linear(in_features=768, out_features=768, bias=True)\n",
       "              (value): Linear(in_features=768, out_features=768, bias=True)\n",
       "              (query_global): Linear(in_features=768, out_features=768, bias=True)\n",
       "              (key_global): Linear(in_features=768, out_features=768, bias=True)\n",
       "              (value_global): Linear(in_features=768, out_features=768, bias=True)\n",
       "            )\n",
       "            (output): BertSelfOutput(\n",
       "              (dense): Linear(in_features=768, out_features=768, bias=True)\n",
       "              (LayerNorm): LayerNorm((768,), eps=1e-05, elementwise_affine=True)\n",
       "              (dropout): Dropout(p=0.1, inplace=False)\n",
       "            )\n",
       "          )\n",
       "          (intermediate): BertIntermediate(\n",
       "            (dense): Linear(in_features=768, out_features=3072, bias=True)\n",
       "          )\n",
       "          (output): BertOutput(\n",
       "            (dense): Linear(in_features=3072, out_features=768, bias=True)\n",
       "            (LayerNorm): LayerNorm((768,), eps=1e-05, elementwise_affine=True)\n",
       "            (dropout): Dropout(p=0.1, inplace=False)\n",
       "          )\n",
       "        )\n",
       "        (7): LongformerLayer(\n",
       "          (attention): LongformerAttention(\n",
       "            (self): LongformerSelfAttention(\n",
       "              (query): Linear(in_features=768, out_features=768, bias=True)\n",
       "              (key): Linear(in_features=768, out_features=768, bias=True)\n",
       "              (value): Linear(in_features=768, out_features=768, bias=True)\n",
       "              (query_global): Linear(in_features=768, out_features=768, bias=True)\n",
       "              (key_global): Linear(in_features=768, out_features=768, bias=True)\n",
       "              (value_global): Linear(in_features=768, out_features=768, bias=True)\n",
       "            )\n",
       "            (output): BertSelfOutput(\n",
       "              (dense): Linear(in_features=768, out_features=768, bias=True)\n",
       "              (LayerNorm): LayerNorm((768,), eps=1e-05, elementwise_affine=True)\n",
       "              (dropout): Dropout(p=0.1, inplace=False)\n",
       "            )\n",
       "          )\n",
       "          (intermediate): BertIntermediate(\n",
       "            (dense): Linear(in_features=768, out_features=3072, bias=True)\n",
       "          )\n",
       "          (output): BertOutput(\n",
       "            (dense): Linear(in_features=3072, out_features=768, bias=True)\n",
       "            (LayerNorm): LayerNorm((768,), eps=1e-05, elementwise_affine=True)\n",
       "            (dropout): Dropout(p=0.1, inplace=False)\n",
       "          )\n",
       "        )\n",
       "        (8): LongformerLayer(\n",
       "          (attention): LongformerAttention(\n",
       "            (self): LongformerSelfAttention(\n",
       "              (query): Linear(in_features=768, out_features=768, bias=True)\n",
       "              (key): Linear(in_features=768, out_features=768, bias=True)\n",
       "              (value): Linear(in_features=768, out_features=768, bias=True)\n",
       "              (query_global): Linear(in_features=768, out_features=768, bias=True)\n",
       "              (key_global): Linear(in_features=768, out_features=768, bias=True)\n",
       "              (value_global): Linear(in_features=768, out_features=768, bias=True)\n",
       "            )\n",
       "            (output): BertSelfOutput(\n",
       "              (dense): Linear(in_features=768, out_features=768, bias=True)\n",
       "              (LayerNorm): LayerNorm((768,), eps=1e-05, elementwise_affine=True)\n",
       "              (dropout): Dropout(p=0.1, inplace=False)\n",
       "            )\n",
       "          )\n",
       "          (intermediate): BertIntermediate(\n",
       "            (dense): Linear(in_features=768, out_features=3072, bias=True)\n",
       "          )\n",
       "          (output): BertOutput(\n",
       "            (dense): Linear(in_features=3072, out_features=768, bias=True)\n",
       "            (LayerNorm): LayerNorm((768,), eps=1e-05, elementwise_affine=True)\n",
       "            (dropout): Dropout(p=0.1, inplace=False)\n",
       "          )\n",
       "        )\n",
       "        (9): LongformerLayer(\n",
       "          (attention): LongformerAttention(\n",
       "            (self): LongformerSelfAttention(\n",
       "              (query): Linear(in_features=768, out_features=768, bias=True)\n",
       "              (key): Linear(in_features=768, out_features=768, bias=True)\n",
       "              (value): Linear(in_features=768, out_features=768, bias=True)\n",
       "              (query_global): Linear(in_features=768, out_features=768, bias=True)\n",
       "              (key_global): Linear(in_features=768, out_features=768, bias=True)\n",
       "              (value_global): Linear(in_features=768, out_features=768, bias=True)\n",
       "            )\n",
       "            (output): BertSelfOutput(\n",
       "              (dense): Linear(in_features=768, out_features=768, bias=True)\n",
       "              (LayerNorm): LayerNorm((768,), eps=1e-05, elementwise_affine=True)\n",
       "              (dropout): Dropout(p=0.1, inplace=False)\n",
       "            )\n",
       "          )\n",
       "          (intermediate): BertIntermediate(\n",
       "            (dense): Linear(in_features=768, out_features=3072, bias=True)\n",
       "          )\n",
       "          (output): BertOutput(\n",
       "            (dense): Linear(in_features=3072, out_features=768, bias=True)\n",
       "            (LayerNorm): LayerNorm((768,), eps=1e-05, elementwise_affine=True)\n",
       "            (dropout): Dropout(p=0.1, inplace=False)\n",
       "          )\n",
       "        )\n",
       "        (10): LongformerLayer(\n",
       "          (attention): LongformerAttention(\n",
       "            (self): LongformerSelfAttention(\n",
       "              (query): Linear(in_features=768, out_features=768, bias=True)\n",
       "              (key): Linear(in_features=768, out_features=768, bias=True)\n",
       "              (value): Linear(in_features=768, out_features=768, bias=True)\n",
       "              (query_global): Linear(in_features=768, out_features=768, bias=True)\n",
       "              (key_global): Linear(in_features=768, out_features=768, bias=True)\n",
       "              (value_global): Linear(in_features=768, out_features=768, bias=True)\n",
       "            )\n",
       "            (output): BertSelfOutput(\n",
       "              (dense): Linear(in_features=768, out_features=768, bias=True)\n",
       "              (LayerNorm): LayerNorm((768,), eps=1e-05, elementwise_affine=True)\n",
       "              (dropout): Dropout(p=0.1, inplace=False)\n",
       "            )\n",
       "          )\n",
       "          (intermediate): BertIntermediate(\n",
       "            (dense): Linear(in_features=768, out_features=3072, bias=True)\n",
       "          )\n",
       "          (output): BertOutput(\n",
       "            (dense): Linear(in_features=3072, out_features=768, bias=True)\n",
       "            (LayerNorm): LayerNorm((768,), eps=1e-05, elementwise_affine=True)\n",
       "            (dropout): Dropout(p=0.1, inplace=False)\n",
       "          )\n",
       "        )\n",
       "        (11): LongformerLayer(\n",
       "          (attention): LongformerAttention(\n",
       "            (self): LongformerSelfAttention(\n",
       "              (query): Linear(in_features=768, out_features=768, bias=True)\n",
       "              (key): Linear(in_features=768, out_features=768, bias=True)\n",
       "              (value): Linear(in_features=768, out_features=768, bias=True)\n",
       "              (query_global): Linear(in_features=768, out_features=768, bias=True)\n",
       "              (key_global): Linear(in_features=768, out_features=768, bias=True)\n",
       "              (value_global): Linear(in_features=768, out_features=768, bias=True)\n",
       "            )\n",
       "            (output): BertSelfOutput(\n",
       "              (dense): Linear(in_features=768, out_features=768, bias=True)\n",
       "              (LayerNorm): LayerNorm((768,), eps=1e-05, elementwise_affine=True)\n",
       "              (dropout): Dropout(p=0.1, inplace=False)\n",
       "            )\n",
       "          )\n",
       "          (intermediate): BertIntermediate(\n",
       "            (dense): Linear(in_features=768, out_features=3072, bias=True)\n",
       "          )\n",
       "          (output): BertOutput(\n",
       "            (dense): Linear(in_features=3072, out_features=768, bias=True)\n",
       "            (LayerNorm): LayerNorm((768,), eps=1e-05, elementwise_affine=True)\n",
       "            (dropout): Dropout(p=0.1, inplace=False)\n",
       "          )\n",
       "        )\n",
       "      )\n",
       "    )\n",
       "    (pooler): BertPooler(\n",
       "      (dense): Linear(in_features=768, out_features=768, bias=True)\n",
       "      (activation): Tanh()\n",
       "    )\n",
       "  )\n",
       "  (classifier): LongformerClassificationHead(\n",
       "    (dense): Linear(in_features=768, out_features=768, bias=True)\n",
       "    (dropout): Dropout(p=0.1, inplace=False)\n",
       "    (out_proj): Linear(in_features=768, out_features=2, bias=True)\n",
       "  )\n",
       ")"
      ]
     },
     "execution_count": 22,
     "metadata": {
      "tags": []
     },
     "output_type": "execute_result"
    }
   ],
   "source": [
    "# Tell pytorch to run this model on the GPU.\n",
    "model.cuda()"
   ]
  },
  {
   "cell_type": "code",
   "execution_count": null,
   "metadata": {
    "colab": {
     "base_uri": "https://localhost:8080/",
     "height": 612
    },
    "colab_type": "code",
    "id": "NH3yaw18CYcb",
    "outputId": "3f1712f6-5b5c-4c49-ad53-5fb1bae6bfc1"
   },
   "outputs": [
    {
     "name": "stdout",
     "output_type": "stream",
     "text": [
      "The BERT model has 275 different named parameters.\n",
      "\n",
      "==== Embedding Layer ====\n",
      "\n",
      "longformer.embeddings.word_embeddings.weight            (50265, 768)\n",
      "longformer.embeddings.position_embeddings.weight         (4098, 768)\n",
      "longformer.embeddings.token_type_embeddings.weight          (1, 768)\n",
      "longformer.embeddings.LayerNorm.weight                        (768,)\n",
      "longformer.embeddings.LayerNorm.bias                          (768,)\n",
      "\n",
      "==== First Transformer ====\n",
      "\n",
      "longformer.encoder.layer.0.attention.self.query.weight    (768, 768)\n",
      "longformer.encoder.layer.0.attention.self.query.bias          (768,)\n",
      "longformer.encoder.layer.0.attention.self.key.weight      (768, 768)\n",
      "longformer.encoder.layer.0.attention.self.key.bias            (768,)\n",
      "longformer.encoder.layer.0.attention.self.value.weight    (768, 768)\n",
      "longformer.encoder.layer.0.attention.self.value.bias          (768,)\n",
      "longformer.encoder.layer.0.attention.self.query_global.weight   (768, 768)\n",
      "longformer.encoder.layer.0.attention.self.query_global.bias       (768,)\n",
      "longformer.encoder.layer.0.attention.self.key_global.weight   (768, 768)\n",
      "longformer.encoder.layer.0.attention.self.key_global.bias       (768,)\n",
      "longformer.encoder.layer.0.attention.self.value_global.weight   (768, 768)\n",
      "longformer.encoder.layer.0.attention.self.value_global.bias       (768,)\n",
      "longformer.encoder.layer.0.attention.output.dense.weight   (768, 768)\n",
      "longformer.encoder.layer.0.attention.output.dense.bias        (768,)\n",
      "longformer.encoder.layer.0.attention.output.LayerNorm.weight       (768,)\n",
      "longformer.encoder.layer.0.attention.output.LayerNorm.bias       (768,)\n",
      "\n",
      "==== Output Layer ====\n",
      "\n",
      "classifier.dense.weight                                   (768, 768)\n",
      "classifier.dense.bias                                         (768,)\n",
      "classifier.out_proj.weight                                  (2, 768)\n",
      "classifier.out_proj.bias                                        (2,)\n"
     ]
    }
   ],
   "source": [
    "# Get all of the model's parameters as a list of tuples.\n",
    "params = list(model.named_parameters())\n",
    "\n",
    "print('The BERT model has {:} different named parameters.\\n'.format(len(params)))\n",
    "\n",
    "print('==== Embedding Layer ====\\n')\n",
    "\n",
    "for p in params[0:5]:\n",
    "    print(\"{:<55} {:>12}\".format(p[0], str(tuple(p[1].size()))))\n",
    "\n",
    "print('\\n==== First Transformer ====\\n')\n",
    "\n",
    "for p in params[5:21]:\n",
    "    print(\"{:<55} {:>12}\".format(p[0], str(tuple(p[1].size()))))\n",
    "\n",
    "print('\\n==== Output Layer ====\\n')\n",
    "\n",
    "for p in params[-4:]:\n",
    "    print(\"{:<55} {:>12}\".format(p[0], str(tuple(p[1].size()))))"
   ]
  },
  {
   "cell_type": "code",
   "execution_count": null,
   "metadata": {
    "colab": {},
    "colab_type": "code",
    "id": "zvoMRhpaQVcC"
   },
   "outputs": [],
   "source": []
  },
  {
   "cell_type": "code",
   "execution_count": null,
   "metadata": {
    "colab": {},
    "colab_type": "code",
    "id": "vmZH3X0J_5K1"
   },
   "outputs": [],
   "source": [
    "# Number of training epochs. The BERT authors recommend between 2 and 4. \n",
    "epochs = num_epochs\n",
    "\n",
    "# Total number of training steps is [number of batches] x [number of epochs]. \n",
    "total_steps = len(train_dataloader) * epochs\n",
    "warmup_steps = total_steps * 0.1\n",
    "\n",
    "# Create the learning rate scheduler.\n",
    "scheduler = get_linear_schedule_with_warmup(optimizer, \n",
    "                                            num_warmup_steps = warmup_steps, # Default value in run_glue.py\n",
    "                                            num_training_steps = total_steps)"
   ]
  },
  {
   "cell_type": "code",
   "execution_count": null,
   "metadata": {
    "colab": {
     "base_uri": "https://localhost:8080/",
     "height": 1000
    },
    "colab_type": "code",
    "id": "1GsKTWcy_5K3",
    "outputId": "97e1820f-eb0d-41ba-80ff-d91a3b780f22"
   },
   "outputs": [
    {
     "name": "stdout",
     "output_type": "stream",
     "text": [
      "\n",
      "======== Epoch 1 / 15 ========\n",
      "Training...\n",
      "  Batch    16  of     73.    Elapsed: 0:00:15.\n",
      "  Batch    32  of     73.    Elapsed: 0:00:29.\n",
      "  Batch    48  of     73.    Elapsed: 0:00:44.\n",
      "  Batch    64  of     73.    Elapsed: 0:00:58.\n",
      "\n",
      "  Average training loss: 0.67\n",
      "  Training epcoh took: 0:01:06\n",
      "\n",
      "Running Validation...\n",
      "  Accuracy: 0.65\n",
      "  Validation Loss: 0.67\n",
      "  Validation took: 0:00:02\n",
      "\n",
      "======== Epoch 2 / 15 ========\n",
      "Training...\n",
      "  Batch    16  of     73.    Elapsed: 0:00:15.\n",
      "  Batch    32  of     73.    Elapsed: 0:00:29.\n",
      "  Batch    48  of     73.    Elapsed: 0:00:44.\n",
      "  Batch    64  of     73.    Elapsed: 0:00:58.\n",
      "\n",
      "  Average training loss: 0.68\n",
      "  Training epcoh took: 0:01:06\n",
      "\n",
      "Running Validation...\n",
      "  Accuracy: 0.64\n",
      "  Validation Loss: 0.64\n",
      "  Validation took: 0:00:02\n",
      "\n",
      "======== Epoch 3 / 15 ========\n",
      "Training...\n",
      "  Batch    16  of     73.    Elapsed: 0:00:15.\n",
      "  Batch    32  of     73.    Elapsed: 0:00:29.\n",
      "  Batch    48  of     73.    Elapsed: 0:00:44.\n",
      "  Batch    64  of     73.    Elapsed: 0:00:58.\n",
      "\n",
      "  Average training loss: 0.66\n",
      "  Training epcoh took: 0:01:06\n",
      "\n",
      "Running Validation...\n",
      "  Accuracy: 0.67\n",
      "  Validation Loss: 0.64\n",
      "  Validation took: 0:00:02\n",
      "\n",
      "======== Epoch 4 / 15 ========\n",
      "Training...\n",
      "  Batch    16  of     73.    Elapsed: 0:00:15.\n",
      "  Batch    32  of     73.    Elapsed: 0:00:29.\n",
      "  Batch    48  of     73.    Elapsed: 0:00:44.\n",
      "  Batch    64  of     73.    Elapsed: 0:00:58.\n",
      "\n",
      "  Average training loss: 0.61\n",
      "  Training epcoh took: 0:01:06\n",
      "\n",
      "Running Validation...\n",
      "  Accuracy: 0.65\n",
      "  Validation Loss: 0.79\n",
      "  Validation took: 0:00:02\n",
      "\n",
      "======== Epoch 5 / 15 ========\n",
      "Training...\n",
      "  Batch    16  of     73.    Elapsed: 0:00:15.\n",
      "  Batch    32  of     73.    Elapsed: 0:00:29.\n",
      "  Batch    48  of     73.    Elapsed: 0:00:44.\n",
      "  Batch    64  of     73.    Elapsed: 0:00:58.\n",
      "\n",
      "  Average training loss: 0.56\n",
      "  Training epcoh took: 0:01:06\n",
      "\n",
      "Running Validation...\n",
      "  Accuracy: 0.62\n",
      "  Validation Loss: 0.81\n",
      "  Validation took: 0:00:02\n",
      "\n",
      "======== Epoch 6 / 15 ========\n",
      "Training...\n",
      "  Batch    16  of     73.    Elapsed: 0:00:15.\n",
      "  Batch    32  of     73.    Elapsed: 0:00:29.\n",
      "  Batch    48  of     73.    Elapsed: 0:00:44.\n",
      "  Batch    64  of     73.    Elapsed: 0:00:58.\n",
      "\n",
      "  Average training loss: 0.43\n",
      "  Training epcoh took: 0:01:06\n",
      "\n",
      "Running Validation...\n",
      "  Accuracy: 0.56\n",
      "  Validation Loss: 0.82\n",
      "  Validation took: 0:00:02\n",
      "\n",
      "======== Epoch 7 / 15 ========\n",
      "Training...\n",
      "  Batch    16  of     73.    Elapsed: 0:00:15.\n",
      "  Batch    32  of     73.    Elapsed: 0:00:29.\n",
      "  Batch    48  of     73.    Elapsed: 0:00:44.\n",
      "  Batch    64  of     73.    Elapsed: 0:00:58.\n",
      "\n",
      "  Average training loss: 0.33\n",
      "  Training epcoh took: 0:01:06\n",
      "\n",
      "Running Validation...\n",
      "  Accuracy: 0.61\n",
      "  Validation Loss: 1.10\n",
      "  Validation took: 0:00:02\n",
      "\n",
      "======== Epoch 8 / 15 ========\n",
      "Training...\n",
      "  Batch    16  of     73.    Elapsed: 0:00:15.\n",
      "  Batch    32  of     73.    Elapsed: 0:00:29.\n",
      "  Batch    48  of     73.    Elapsed: 0:00:44.\n",
      "  Batch    64  of     73.    Elapsed: 0:00:58.\n",
      "\n",
      "  Average training loss: 0.24\n",
      "  Training epcoh took: 0:01:06\n",
      "\n",
      "Running Validation...\n",
      "  Accuracy: 0.58\n",
      "  Validation Loss: 1.69\n",
      "  Validation took: 0:00:02\n",
      "\n",
      "======== Epoch 9 / 15 ========\n",
      "Training...\n",
      "  Batch    16  of     73.    Elapsed: 0:00:15.\n",
      "  Batch    32  of     73.    Elapsed: 0:00:29.\n",
      "  Batch    48  of     73.    Elapsed: 0:00:44.\n",
      "  Batch    64  of     73.    Elapsed: 0:00:58.\n",
      "\n",
      "  Average training loss: 0.21\n",
      "  Training epcoh took: 0:01:06\n",
      "\n",
      "Running Validation...\n",
      "  Accuracy: 0.58\n",
      "  Validation Loss: 2.14\n",
      "  Validation took: 0:00:02\n",
      "\n",
      "======== Epoch 10 / 15 ========\n",
      "Training...\n",
      "  Batch    16  of     73.    Elapsed: 0:00:15.\n",
      "  Batch    32  of     73.    Elapsed: 0:00:29.\n",
      "  Batch    48  of     73.    Elapsed: 0:00:44.\n",
      "  Batch    64  of     73.    Elapsed: 0:00:58.\n",
      "\n",
      "  Average training loss: 0.12\n",
      "  Training epcoh took: 0:01:06\n",
      "\n",
      "Running Validation...\n",
      "  Accuracy: 0.56\n",
      "  Validation Loss: 2.64\n",
      "  Validation took: 0:00:02\n",
      "\n",
      "======== Epoch 11 / 15 ========\n",
      "Training...\n",
      "  Batch    16  of     73.    Elapsed: 0:00:15.\n",
      "  Batch    32  of     73.    Elapsed: 0:00:29.\n",
      "  Batch    48  of     73.    Elapsed: 0:00:44.\n",
      "  Batch    64  of     73.    Elapsed: 0:00:58.\n",
      "\n",
      "  Average training loss: 0.06\n",
      "  Training epcoh took: 0:01:06\n",
      "\n",
      "Running Validation...\n",
      "  Accuracy: 0.57\n",
      "  Validation Loss: 2.79\n",
      "  Validation took: 0:00:02\n",
      "\n",
      "======== Epoch 12 / 15 ========\n",
      "Training...\n",
      "  Batch    16  of     73.    Elapsed: 0:00:15.\n",
      "  Batch    32  of     73.    Elapsed: 0:00:29.\n",
      "  Batch    48  of     73.    Elapsed: 0:00:44.\n",
      "  Batch    64  of     73.    Elapsed: 0:00:58.\n",
      "\n",
      "  Average training loss: 0.03\n",
      "  Training epcoh took: 0:01:06\n",
      "\n",
      "Running Validation...\n",
      "  Accuracy: 0.61\n",
      "  Validation Loss: 2.78\n",
      "  Validation took: 0:00:02\n",
      "\n",
      "======== Epoch 13 / 15 ========\n",
      "Training...\n",
      "  Batch    16  of     73.    Elapsed: 0:00:15.\n",
      "  Batch    32  of     73.    Elapsed: 0:00:29.\n",
      "  Batch    48  of     73.    Elapsed: 0:00:44.\n",
      "  Batch    64  of     73.    Elapsed: 0:00:58.\n",
      "\n",
      "  Average training loss: 0.03\n",
      "  Training epcoh took: 0:01:06\n",
      "\n",
      "Running Validation...\n",
      "  Accuracy: 0.57\n",
      "  Validation Loss: 2.95\n",
      "  Validation took: 0:00:02\n",
      "\n",
      "======== Epoch 14 / 15 ========\n",
      "Training...\n",
      "  Batch    16  of     73.    Elapsed: 0:00:15.\n",
      "  Batch    32  of     73.    Elapsed: 0:00:29.\n",
      "  Batch    48  of     73.    Elapsed: 0:00:44.\n",
      "  Batch    64  of     73.    Elapsed: 0:00:58.\n",
      "\n",
      "  Average training loss: 0.03\n",
      "  Training epcoh took: 0:01:06\n",
      "\n",
      "Running Validation...\n",
      "  Accuracy: 0.60\n",
      "  Validation Loss: 2.85\n",
      "  Validation took: 0:00:02\n",
      "\n",
      "======== Epoch 15 / 15 ========\n",
      "Training...\n",
      "  Batch    16  of     73.    Elapsed: 0:00:15.\n",
      "  Batch    32  of     73.    Elapsed: 0:00:29.\n",
      "  Batch    48  of     73.    Elapsed: 0:00:44.\n",
      "  Batch    64  of     73.    Elapsed: 0:00:58.\n",
      "\n",
      "  Average training loss: 0.01\n",
      "  Training epcoh took: 0:01:06\n",
      "\n",
      "Running Validation...\n",
      "  Accuracy: 0.58\n",
      "  Validation Loss: 2.93\n",
      "  Validation took: 0:00:02\n",
      "\n",
      "Training complete!\n",
      "Total training took 0:17:04 (h:mm:ss)\n"
     ]
    }
   ],
   "source": [
    "# Train the model\n",
    "device = torch.device(\"cuda\")\n",
    "training_stats = []\n",
    "total_t0 = time.time()\n",
    "\n",
    "# For each epoch...\n",
    "for epoch_i in range(0, epochs):\n",
    "    \n",
    "    # ========================================\n",
    "    #               Training\n",
    "    # ========================================\n",
    "    \n",
    "    # Perform one full pass over the training set.\n",
    "\n",
    "    print(\"\")\n",
    "    print('======== Epoch {:} / {:} ========'.format(epoch_i + 1, epochs))\n",
    "    print('Training...')\n",
    "\n",
    "    t0 = time.time()\n",
    "\n",
    "    # Reset the total loss for this epoch.\n",
    "    total_train_loss = 0\n",
    "    model.train()\n",
    "\n",
    "    # For each batch of training data...\n",
    "    for step, batch in enumerate(train_dataloader):\n",
    "\n",
    "        if step % 16 == 0 and not step == 0:\n",
    "            elapsed = format_time(time.time() - t0)\n",
    "            print('  Batch {:>5,}  of  {:>5,}.    Elapsed: {:}.'.format(step, len(train_dataloader), elapsed))\n",
    "\n",
    "        b_input_ids = batch[0].to(device) # input ids\n",
    "        b_input_mask = batch[1].to(device) # attention masks\n",
    "        b_labels = batch[2].to(device) # labels\n",
    "\n",
    "        # Clear previously calculated gradients before performing backward pass. \n",
    "        model.zero_grad()        \n",
    "\n",
    "        # Forward pass\n",
    "        loss, logits = model(b_input_ids, \n",
    "                             token_type_ids=None, \n",
    "                             attention_mask=b_input_mask, \n",
    "                             labels=b_labels)\n",
    "\n",
    "        total_train_loss += loss.item() # Accumulate the training loss over all of the batches \n",
    "\n",
    "        # Perform a backward pass to calculate the gradients.\n",
    "        loss.backward()\n",
    "\n",
    "        # Clip the norm of the gradients to 1.0. to help prevent the \"exploding gradients\" problem.\n",
    "        torch.nn.utils.clip_grad_norm_(model.parameters(), 1.0)\n",
    "\n",
    "        # Update parameters and take a step using the computed gradient.\n",
    "        optimizer.step()\n",
    "\n",
    "        # Update the learning rate.\n",
    "        scheduler.step()\n",
    "\n",
    "    # Calculate the average loss over all of the batches.\n",
    "    avg_train_loss = total_train_loss / len(train_dataloader)            \n",
    "    \n",
    "    # Measure how long this epoch took.\n",
    "    training_time = format_time(time.time() - t0)\n",
    "\n",
    "    print(\"\")\n",
    "    print(\"  Average training loss: {0:.2f}\".format(avg_train_loss))\n",
    "    print(\"  Training epcoh took: {:}\".format(training_time))\n",
    "        \n",
    "    # ========================================\n",
    "    #               Validation\n",
    "    # ========================================\n",
    "    # After the completion of each training epoch, measure our performance on\n",
    "    # our validation set.\n",
    "\n",
    "    print(\"\")\n",
    "    print(\"Running Validation...\")\n",
    "\n",
    "    t0 = time.time()\n",
    "\n",
    "    # Put the model in evaluation mode--the dropout layers behave differently\n",
    "    # during evaluation.\n",
    "    model.eval()\n",
    "\n",
    "    # Tracking variables \n",
    "    total_eval_accuracy = 0\n",
    "    total_eval_loss = 0\n",
    "    nb_eval_steps = 0\n",
    "\n",
    "    # Evaluate data for one epoch\n",
    "    for batch in validation_dataloader:\n",
    "        b_input_ids = batch[0].to(device)\n",
    "        b_input_mask = batch[1].to(device)\n",
    "        b_labels = batch[2].to(device)\n",
    "        \n",
    "        with torch.no_grad():        \n",
    "\n",
    "            # Forward pass, calculate logit predictions.\n",
    "            (loss, logits) = model(b_input_ids, \n",
    "                                   token_type_ids=None, \n",
    "                                   attention_mask=b_input_mask,\n",
    "                                   labels=b_labels)\n",
    "            \n",
    "        # Accumulate the validation loss.\n",
    "        total_eval_loss += loss.item()\n",
    "\n",
    "        # Move logits and labels to CPU\n",
    "        logits = logits.detach().cpu().numpy()\n",
    "        label_ids = b_labels.to('cpu').numpy()\n",
    "\n",
    "        # Calculate the accuracy for this batch of test sentences, and accumulate over all batches.\n",
    "        total_eval_accuracy += flat_accuracy(logits, label_ids)\n",
    "\n",
    "    # Report the final accuracy for this validation run.\n",
    "    avg_val_accuracy = total_eval_accuracy / len(validation_dataloader)\n",
    "    print(\"  Accuracy: {0:.2f}\".format(avg_val_accuracy))\n",
    "\n",
    "    # Calculate the average loss over all of the batches.\n",
    "    avg_val_loss = total_eval_loss / len(validation_dataloader)\n",
    "    \n",
    "    # Measure how long the validation run took.\n",
    "    validation_time = format_time(time.time() - t0)\n",
    "    \n",
    "    print(\"  Validation Loss: {0:.2f}\".format(avg_val_loss))\n",
    "    print(\"  Validation took: {:}\".format(validation_time))\n",
    "\n",
    "    # Record all statistics from this epoch.\n",
    "    training_stats.append(\n",
    "        {\n",
    "            'epoch': epoch_i + 1,\n",
    "            'Training Loss': avg_train_loss,\n",
    "            'Valid. Loss': avg_val_loss,\n",
    "            'Valid. Accur.': avg_val_accuracy,\n",
    "            'Training Time': training_time,\n",
    "            'Validation Time': validation_time\n",
    "        }\n",
    "    )\n",
    "\n",
    "print(\"\")\n",
    "print(\"Training complete!\")\n",
    "\n",
    "print(\"Total training took {:} (h:mm:ss)\".format(format_time(time.time()-total_t0)))"
   ]
  },
  {
   "cell_type": "code",
   "execution_count": null,
   "metadata": {
    "colab": {
     "base_uri": "https://localhost:8080/",
     "height": 545
    },
    "colab_type": "code",
    "id": "hQla5mCH_5K4",
    "outputId": "b5e36989-3aeb-49eb-9259-9be5cec280dc"
   },
   "outputs": [
    {
     "data": {
      "text/html": [
       "<div>\n",
       "<style scoped>\n",
       "    .dataframe tbody tr th:only-of-type {\n",
       "        vertical-align: middle;\n",
       "    }\n",
       "\n",
       "    .dataframe tbody tr th {\n",
       "        vertical-align: top;\n",
       "    }\n",
       "\n",
       "    .dataframe thead th {\n",
       "        text-align: right;\n",
       "    }\n",
       "</style>\n",
       "<table border=\"1\" class=\"dataframe\">\n",
       "  <thead>\n",
       "    <tr style=\"text-align: right;\">\n",
       "      <th></th>\n",
       "      <th>Training Loss</th>\n",
       "      <th>Valid. Loss</th>\n",
       "      <th>Valid. Accur.</th>\n",
       "      <th>Training Time</th>\n",
       "      <th>Validation Time</th>\n",
       "    </tr>\n",
       "    <tr>\n",
       "      <th>epoch</th>\n",
       "      <th></th>\n",
       "      <th></th>\n",
       "      <th></th>\n",
       "      <th></th>\n",
       "      <th></th>\n",
       "    </tr>\n",
       "  </thead>\n",
       "  <tbody>\n",
       "    <tr>\n",
       "      <th>1</th>\n",
       "      <td>0.67</td>\n",
       "      <td>0.67</td>\n",
       "      <td>0.65</td>\n",
       "      <td>0:01:06</td>\n",
       "      <td>0:00:02</td>\n",
       "    </tr>\n",
       "    <tr>\n",
       "      <th>2</th>\n",
       "      <td>0.68</td>\n",
       "      <td>0.64</td>\n",
       "      <td>0.64</td>\n",
       "      <td>0:01:06</td>\n",
       "      <td>0:00:02</td>\n",
       "    </tr>\n",
       "    <tr>\n",
       "      <th>3</th>\n",
       "      <td>0.66</td>\n",
       "      <td>0.64</td>\n",
       "      <td>0.67</td>\n",
       "      <td>0:01:06</td>\n",
       "      <td>0:00:02</td>\n",
       "    </tr>\n",
       "    <tr>\n",
       "      <th>4</th>\n",
       "      <td>0.61</td>\n",
       "      <td>0.79</td>\n",
       "      <td>0.65</td>\n",
       "      <td>0:01:06</td>\n",
       "      <td>0:00:02</td>\n",
       "    </tr>\n",
       "    <tr>\n",
       "      <th>5</th>\n",
       "      <td>0.56</td>\n",
       "      <td>0.81</td>\n",
       "      <td>0.62</td>\n",
       "      <td>0:01:06</td>\n",
       "      <td>0:00:02</td>\n",
       "    </tr>\n",
       "    <tr>\n",
       "      <th>6</th>\n",
       "      <td>0.43</td>\n",
       "      <td>0.82</td>\n",
       "      <td>0.56</td>\n",
       "      <td>0:01:06</td>\n",
       "      <td>0:00:02</td>\n",
       "    </tr>\n",
       "    <tr>\n",
       "      <th>7</th>\n",
       "      <td>0.33</td>\n",
       "      <td>1.10</td>\n",
       "      <td>0.61</td>\n",
       "      <td>0:01:06</td>\n",
       "      <td>0:00:02</td>\n",
       "    </tr>\n",
       "    <tr>\n",
       "      <th>8</th>\n",
       "      <td>0.24</td>\n",
       "      <td>1.69</td>\n",
       "      <td>0.58</td>\n",
       "      <td>0:01:06</td>\n",
       "      <td>0:00:02</td>\n",
       "    </tr>\n",
       "    <tr>\n",
       "      <th>9</th>\n",
       "      <td>0.21</td>\n",
       "      <td>2.14</td>\n",
       "      <td>0.58</td>\n",
       "      <td>0:01:06</td>\n",
       "      <td>0:00:02</td>\n",
       "    </tr>\n",
       "    <tr>\n",
       "      <th>10</th>\n",
       "      <td>0.12</td>\n",
       "      <td>2.64</td>\n",
       "      <td>0.56</td>\n",
       "      <td>0:01:06</td>\n",
       "      <td>0:00:02</td>\n",
       "    </tr>\n",
       "    <tr>\n",
       "      <th>11</th>\n",
       "      <td>0.06</td>\n",
       "      <td>2.79</td>\n",
       "      <td>0.57</td>\n",
       "      <td>0:01:06</td>\n",
       "      <td>0:00:02</td>\n",
       "    </tr>\n",
       "    <tr>\n",
       "      <th>12</th>\n",
       "      <td>0.03</td>\n",
       "      <td>2.78</td>\n",
       "      <td>0.61</td>\n",
       "      <td>0:01:06</td>\n",
       "      <td>0:00:02</td>\n",
       "    </tr>\n",
       "    <tr>\n",
       "      <th>13</th>\n",
       "      <td>0.03</td>\n",
       "      <td>2.95</td>\n",
       "      <td>0.57</td>\n",
       "      <td>0:01:06</td>\n",
       "      <td>0:00:02</td>\n",
       "    </tr>\n",
       "    <tr>\n",
       "      <th>14</th>\n",
       "      <td>0.03</td>\n",
       "      <td>2.85</td>\n",
       "      <td>0.60</td>\n",
       "      <td>0:01:06</td>\n",
       "      <td>0:00:02</td>\n",
       "    </tr>\n",
       "    <tr>\n",
       "      <th>15</th>\n",
       "      <td>0.01</td>\n",
       "      <td>2.93</td>\n",
       "      <td>0.58</td>\n",
       "      <td>0:01:06</td>\n",
       "      <td>0:00:02</td>\n",
       "    </tr>\n",
       "  </tbody>\n",
       "</table>\n",
       "</div>"
      ],
      "text/plain": [
       "       Training Loss  Valid. Loss  Valid. Accur. Training Time Validation Time\n",
       "epoch                                                                         \n",
       "1               0.67         0.67           0.65       0:01:06         0:00:02\n",
       "2               0.68         0.64           0.64       0:01:06         0:00:02\n",
       "3               0.66         0.64           0.67       0:01:06         0:00:02\n",
       "4               0.61         0.79           0.65       0:01:06         0:00:02\n",
       "5               0.56         0.81           0.62       0:01:06         0:00:02\n",
       "6               0.43         0.82           0.56       0:01:06         0:00:02\n",
       "7               0.33         1.10           0.61       0:01:06         0:00:02\n",
       "8               0.24         1.69           0.58       0:01:06         0:00:02\n",
       "9               0.21         2.14           0.58       0:01:06         0:00:02\n",
       "10              0.12         2.64           0.56       0:01:06         0:00:02\n",
       "11              0.06         2.79           0.57       0:01:06         0:00:02\n",
       "12              0.03         2.78           0.61       0:01:06         0:00:02\n",
       "13              0.03         2.95           0.57       0:01:06         0:00:02\n",
       "14              0.03         2.85           0.60       0:01:06         0:00:02\n",
       "15              0.01         2.93           0.58       0:01:06         0:00:02"
      ]
     },
     "execution_count": 26,
     "metadata": {
      "tags": []
     },
     "output_type": "execute_result"
    }
   ],
   "source": [
    "# Display Results\n",
    "pd.set_option('precision', 2)\n",
    "df_stats = pd.DataFrame(data=training_stats)\n",
    "df_stats = df_stats.set_index('epoch')\n",
    "df_stats"
   ]
  },
  {
   "cell_type": "code",
   "execution_count": null,
   "metadata": {
    "colab": {
     "base_uri": "https://localhost:8080/",
     "height": 427
    },
    "colab_type": "code",
    "id": "_QQciFO3_5K7",
    "outputId": "4dff6a0d-9d5b-4184-a461-bd9bf928fe75"
   },
   "outputs": [
    {
     "data": {
      "image/png": "[encoded data removed]",
      "text/plain": [
       "<Figure size 864x432 with 1 Axes>"
      ]
     },
     "metadata": {
      "tags": []
     },
     "output_type": "display_data"
    }
   ],
   "source": [
    "# Plot the learning curve.\n",
    "\n",
    "sns.set(style='darkgrid')\n",
    "sns.set(font_scale=1.5)\n",
    "plt.rcParams[\"figure.figsize\"] = (12,6)\n",
    "plt.plot(df_stats['Training Loss'], 'b-o', label=\"Training\")\n",
    "plt.plot(df_stats['Valid. Loss'], 'g-o', label=\"Validation\")\n",
    "plt.title(\"Training & Validation Loss\")\n",
    "plt.xlabel(\"Epoch\")\n",
    "plt.ylabel(\"Loss\")\n",
    "plt.legend()\n",
    "plt.xticks([1, 2, 3, 4, 5, 6, 7, 8, 9,10,11,12,13,14,15])\n",
    "\n",
    "plt.show()"
   ]
  },
  {
   "cell_type": "markdown",
   "metadata": {
    "colab_type": "text",
    "id": "qEChtbKj_5K9"
   },
   "source": [
    "# TEST THE MODEL"
   ]
  },
  {
   "cell_type": "code",
   "execution_count": null,
   "metadata": {
    "colab": {
     "base_uri": "https://localhost:8080/",
     "height": 204
    },
    "colab_type": "code",
    "id": "ISE5rHB7_5K9",
    "outputId": "e48a707f-39f0-401e-aeb0-b785b190a34c"
   },
   "outputs": [
    {
     "data": {
      "text/html": [
       "<div>\n",
       "<style scoped>\n",
       "    .dataframe tbody tr th:only-of-type {\n",
       "        vertical-align: middle;\n",
       "    }\n",
       "\n",
       "    .dataframe tbody tr th {\n",
       "        vertical-align: top;\n",
       "    }\n",
       "\n",
       "    .dataframe thead th {\n",
       "        text-align: right;\n",
       "    }\n",
       "</style>\n",
       "<table border=\"1\" class=\"dataframe\">\n",
       "  <thead>\n",
       "    <tr style=\"text-align: right;\">\n",
       "      <th></th>\n",
       "      <th>text</th>\n",
       "      <th>label</th>\n",
       "    </tr>\n",
       "  </thead>\n",
       "  <tbody>\n",
       "    <tr>\n",
       "      <th>0</th>\n",
       "      <td>SENTENCE\\n\\n[Name of the victim is suppressed....</td>\n",
       "      <td>1</td>\n",
       "    </tr>\n",
       "    <tr>\n",
       "      <th>1</th>\n",
       "      <td>JUDGMENT\\n\\nThis is an appeal against convicti...</td>\n",
       "      <td>1</td>\n",
       "    </tr>\n",
       "    <tr>\n",
       "      <th>2</th>\n",
       "      <td>JUDGMENT\\n\\n1. On 13 May 2008, the Appellant, ...</td>\n",
       "      <td>1</td>\n",
       "    </tr>\n",
       "    <tr>\n",
       "      <th>3</th>\n",
       "      <td>JUDGMENT\\n[1] On the 17th July 2012 in the Nas...</td>\n",
       "      <td>0</td>\n",
       "    </tr>\n",
       "    <tr>\n",
       "      <th>4</th>\n",
       "      <td>SENTENCE\\n\\nBackground \\n\\n1. The accused was ...</td>\n",
       "      <td>1</td>\n",
       "    </tr>\n",
       "  </tbody>\n",
       "</table>\n",
       "</div>"
      ],
      "text/plain": [
       "                                                text  label\n",
       "0  SENTENCE\\n\\n[Name of the victim is suppressed....      1\n",
       "1  JUDGMENT\\n\\nThis is an appeal against convicti...      1\n",
       "2  JUDGMENT\\n\\n1. On 13 May 2008, the Appellant, ...      1\n",
       "3  JUDGMENT\\n[1] On the 17th July 2012 in the Nas...      0\n",
       "4  SENTENCE\\n\\nBackground \\n\\n1. The accused was ...      1"
      ]
     },
     "execution_count": 28,
     "metadata": {
      "tags": []
     },
     "output_type": "execute_result"
    }
   ],
   "source": [
    "# Holdout\n",
    "df = get_data(test_file)\n",
    "df.head()"
   ]
  },
  {
   "cell_type": "code",
   "execution_count": null,
   "metadata": {
    "colab": {},
    "colab_type": "code",
    "id": "KQSTZBeA_5K_"
   },
   "outputs": [],
   "source": [
    "# Get tokenized labels\n",
    "if use_global_mask:\n",
    "    input_ids, attention_masks, labels = tokenize_manual(df)\n",
    "else:\n",
    "    input_ids, attention_masks, labels = tokenize_plus(df)"
   ]
  },
  {
   "cell_type": "code",
   "execution_count": null,
   "metadata": {
    "colab": {},
    "colab_type": "code",
    "id": "3J0sZyKc_5LB"
   },
   "outputs": [],
   "source": [
    "# create dataloader from input tensors, to help with memory usage\n",
    "prediction_data = TensorDataset(input_ids, attention_masks, labels)\n",
    "prediction_sampler = SequentialSampler(prediction_data)\n",
    "prediction_dataloader = DataLoader(prediction_data, sampler=prediction_sampler, batch_size=batch_size)"
   ]
  },
  {
   "cell_type": "code",
   "execution_count": null,
   "metadata": {
    "colab": {
     "base_uri": "https://localhost:8080/",
     "height": 51
    },
    "colab_type": "code",
    "id": "8w24knQ3_5LC",
    "outputId": "3ac3c1ad-3855-42ec-d298-f7e6d56d69c9"
   },
   "outputs": [
    {
     "name": "stdout",
     "output_type": "stream",
     "text": [
      "Predicting labels for 162 test sentences...\n",
      "    DONE.\n"
     ]
    }
   ],
   "source": [
    "# Prediction on test set\n",
    "\n",
    "print('Predicting labels for {:,} test sentences...'.format(len(input_ids)))\n",
    "\n",
    "# Put model in evaluation mode\n",
    "model.eval()\n",
    "\n",
    "# Tracking variables \n",
    "predictions , true_labels = [], []\n",
    "\n",
    "# Predict \n",
    "for batch in prediction_dataloader:\n",
    "  # Add batch to GPU\n",
    "  batch = tuple(t.to(device) for t in batch)\n",
    "  \n",
    "  # Unpack the inputs from our dataloader\n",
    "  b_input_ids, b_input_mask, b_labels = batch\n",
    "  \n",
    "  # Telling the model not to compute or store gradients, saving memory and \n",
    "  # speeding up prediction\n",
    "  with torch.no_grad():\n",
    "      # Forward pass, calculate logit predictions\n",
    "      outputs = model(b_input_ids, token_type_ids=None, \n",
    "                      attention_mask=b_input_mask)\n",
    "\n",
    "  logits = outputs[0]\n",
    "\n",
    "  # Move logits and labels to CPU\n",
    "  logits = logits.detach().cpu().numpy()\n",
    "  label_ids = b_labels.to('cpu').numpy()\n",
    "  \n",
    "  # Store predictions and true labels\n",
    "  predictions.append(logits)\n",
    "  true_labels.append(label_ids)\n",
    "\n",
    "print('    DONE.')"
   ]
  },
  {
   "cell_type": "code",
   "execution_count": null,
   "metadata": {
    "colab": {
     "base_uri": "https://localhost:8080/",
     "height": 34
    },
    "colab_type": "code",
    "id": "CUWhr_fD_5LE",
    "outputId": "2da51848-8a6c-48c8-ad98-77e8654c14a4"
   },
   "outputs": [
    {
     "name": "stdout",
     "output_type": "stream",
     "text": [
      "Positive samples: 97 of 162 (59.88%)\n"
     ]
    }
   ],
   "source": [
    "print('Positive samples: %d of %d (%.2f%%)' % (df.label.sum(), len(df.label), (df.label.sum() / len(df.label) * 100.0)))"
   ]
  },
  {
   "cell_type": "code",
   "execution_count": null,
   "metadata": {
    "colab": {
     "base_uri": "https://localhost:8080/",
     "height": 34
    },
    "colab_type": "code",
    "id": "zhPpsYIe_5LF",
    "outputId": "82df1a40-101a-4812-ec55-147e76526b0b"
   },
   "outputs": [
    {
     "name": "stdout",
     "output_type": "stream",
     "text": [
      "Precision, Recall, F1, Support: (0.6732673267326733, 0.7010309278350515, 0.686868686868687, None)\n"
     ]
    }
   ],
   "source": [
    "# Combine the results across all batches. \n",
    "flat_predictions = np.concatenate(predictions, axis=0)\n",
    "\n",
    "# For each sample, pick the label (0 or 1) with the higher score.\n",
    "flat_predictions = np.argmax(flat_predictions, axis=1).flatten()\n",
    "\n",
    "# Combine the correct labels for each batch into a single list.\n",
    "flat_true_labels = np.concatenate(true_labels, axis=0)\n",
    "\n",
    "scores = precision_recall_fscore_support(flat_true_labels, flat_predictions, average='binary')\n",
    "\n",
    "# Calculate the P,R,F1\n",
    "print('Precision, Recall, F1, Support:', scores)"
   ]
  },
  {
   "cell_type": "code",
   "execution_count": null,
   "metadata": {
    "colab": {
     "base_uri": "https://localhost:8080/",
     "height": 68
    },
    "colab_type": "code",
    "id": "72Whs8s6_5LG",
    "outputId": "a9a51462-b811-4af4-e8da-3ee500ed9931"
   },
   "outputs": [
    {
     "name": "stdout",
     "output_type": "stream",
     "text": [
      "number of good predictions: 100\n",
      "number of bad predictions: 62\n",
      "accuracy 0.6172839506172839\n"
     ]
    }
   ],
   "source": [
    "# get the bad predictions index\n",
    "bad_preds = [idx for idx, elem in enumerate(flat_predictions) if elem != flat_true_labels[idx]] \n",
    "good_preds = [idx for idx, elem in enumerate(flat_predictions) if elem == flat_true_labels[idx]] \n",
    "print(\"number of good predictions:\", len(good_preds))\n",
    "print(\"number of bad predictions:\", len(bad_preds))\n",
    "print(\"accuracy\", len(good_preds)/len(flat_predictions) )"
   ]
  },
  {
   "cell_type": "code",
   "execution_count": null,
   "metadata": {
    "colab": {
     "base_uri": "https://localhost:8080/",
     "height": 102
    },
    "colab_type": "code",
    "id": "SDMlLYe3_5LH",
    "outputId": "53cc3cf4-aca7-4f74-e0b8-f0db280563b4"
   },
   "outputs": [
    {
     "name": "stdout",
     "output_type": "stream",
     "text": [
      "[1 0 0 0 1 1 1 1 1 1 1 0 1 0 0 1 1 1 0 1 0 1 1 0 1 0 0 0 1 0 0 1 1 1 1 1 1\n",
      " 1 1 1 0 1 1 1 1 1 1 1 0 1 0 1 1 1 0 1 0 1 1 1 1 1 1 1 0 0 0 1 1 1 1 1 1 1\n",
      " 0 0 0 0 1 1 0 0 0 0 0 1 0 1 1 0 1 1 1 1 0 1 1 0 1 0 1 1 0 1 1 0 0 1 0 1 1\n",
      " 0 0 0 1 0 0 1 1 1 1 0 1 1 1 1 1 1 1 1 0 0 1 0 0 1 1 1 0 1 0 1 1 1 0 1 0 0\n",
      " 1 0 1 0 1 0 1 0 0 1 0 1 1 1]\n"
     ]
    }
   ],
   "source": [
    "print(flat_predictions)"
   ]
  },
  {
   "cell_type": "code",
   "execution_count": null,
   "metadata": {
    "colab": {},
    "colab_type": "code",
    "id": "Zv3QFUTq_5LJ"
   },
   "outputs": [],
   "source": []
  },
  {
   "cell_type": "code",
   "execution_count": null,
   "metadata": {
    "colab": {
     "base_uri": "https://localhost:8080/",
     "height": 34
    },
    "colab_type": "code",
    "id": "UwxZp1pl_5LK",
    "outputId": "b1c8d600-24f8-4e7f-bc74-829c9fc39be2"
   },
   "outputs": [
    {
     "data": {
      "text/plain": [
       "73"
      ]
     },
     "execution_count": 38,
     "metadata": {
      "tags": []
     },
     "output_type": "execute_result"
    }
   ],
   "source": [
    "\n"
   ]
  },
  {
   "cell_type": "code",
   "execution_count": null,
   "metadata": {
    "colab": {},
    "colab_type": "code",
    "id": "tQoKdeBw_5LL"
   },
   "outputs": [],
   "source": []
  }
 ],
 "metadata": {
  "accelerator": "GPU",
  "colab": {
   "name": "Longfomer22Jul_05",
   "provenance": []
  },
  "environment": {
   "name": "pytorch-gpu.1-4.m50",
   "type": "gcloud",
   "uri": "gcr.io/deeplearning-platform-release/pytorch-gpu.1-4:m50"
  },
  "kernelspec": {
   "display_name": "Python 3",
   "language": "python",
   "name": "python3"
  },
  "language_info": {
   "codemirror_mode": {
    "name": "ipython",
    "version": 3
   },
   "file_extension": ".py",
   "mimetype": "text/x-python",
   "name": "python",
   "nbconvert_exporter": "python",
   "pygments_lexer": "ipython3",
   "version": "3.7.6"
  }
 },
 "nbformat": 4,
 "nbformat_minor": 1
}
