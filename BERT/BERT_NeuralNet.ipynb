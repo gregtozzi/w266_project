{
 "cells": [
  {
   "cell_type": "code",
   "execution_count": 36,
   "metadata": {},
   "outputs": [],
   "source": [
    "import pandas as pd\n",
    "import numpy as np\n",
    "import pickle\n",
    "import keras\n",
    "from keras.models import Sequential\n",
    "from keras.layers import Activation, Dense\n",
    "import ktrain\n",
    "from sklearn.metrics import classification_report\n",
    "from sklearn.model_selection import train_test_split\n",
    "from sklearn.metrics import precision_recall_fscore_support\n",
    "\n",
    "\n",
    "import matplotlib.pyplot as plt"
   ]
  },
  {
   "cell_type": "code",
   "execution_count": 18,
   "metadata": {},
   "outputs": [],
   "source": [
    "fname = 'data/longformer_embeddings_512.pkl'\n",
    "#fname = 'data/baseBert_embeddings_olap_512.pkl'\n",
    "with open(fname, 'rb') as fp:\n",
    "    df = pickle.load(fp)"
   ]
  },
  {
   "cell_type": "code",
   "execution_count": 19,
   "metadata": {},
   "outputs": [
    {
     "data": {
      "text/html": [
       "<div>\n",
       "<style scoped>\n",
       "    .dataframe tbody tr th:only-of-type {\n",
       "        vertical-align: middle;\n",
       "    }\n",
       "\n",
       "    .dataframe tbody tr th {\n",
       "        vertical-align: top;\n",
       "    }\n",
       "\n",
       "    .dataframe thead th {\n",
       "        text-align: right;\n",
       "    }\n",
       "</style>\n",
       "<table border=\"1\" class=\"dataframe\">\n",
       "  <thead>\n",
       "    <tr style=\"text-align: right;\">\n",
       "      <th></th>\n",
       "      <th>docid</th>\n",
       "      <th>text</th>\n",
       "      <th>label</th>\n",
       "      <th>doc_use</th>\n",
       "      <th>input_ids_np_head</th>\n",
       "      <th>input_ids_np_tail</th>\n",
       "      <th>head_embeddings</th>\n",
       "    </tr>\n",
       "  </thead>\n",
       "  <tbody>\n",
       "    <tr>\n",
       "      <th>0</th>\n",
       "      <td>73277</td>\n",
       "      <td>SENTENCE\\n\\n\\t1.\\tYou are charged as follows:\\...</td>\n",
       "      <td>0</td>\n",
       "      <td>train</td>\n",
       "      <td>[0, 208, 5382, 13471, 50140, 50117, 134, 4, 50...</td>\n",
       "      <td>[101, 4, 50117, 1185, 32, 4018, 7, 316, 107, 1...</td>\n",
       "      <td>[-0.03490465, 0.064865395, -0.017987669, -0.03...</td>\n",
       "    </tr>\n",
       "    <tr>\n",
       "      <th>1</th>\n",
       "      <td>79776</td>\n",
       "      <td>SENTENCE\\n\\n\\t1.\\tJOSEFA KOTOBALAVU, you were ...</td>\n",
       "      <td>1</td>\n",
       "      <td>train</td>\n",
       "      <td>[0, 208, 5382, 13471, 50140, 50117, 134, 4, 50...</td>\n",
       "      <td>[101, 40, 28, 37728, 31, 110, 3645, 7, 1338, 1...</td>\n",
       "      <td>[-0.05216731, 0.07149123, 0.006090073, -0.0540...</td>\n",
       "    </tr>\n",
       "    <tr>\n",
       "      <th>2</th>\n",
       "      <td>75870</td>\n",
       "      <td>SENTENCE\\n\\n1. The Director of Public Prosecut...</td>\n",
       "      <td>1</td>\n",
       "      <td>train</td>\n",
       "      <td>[0, 208, 5382, 13471, 50118, 50118, 134, 4, 20...</td>\n",
       "      <td>[101, 34349, 16, 110, 308, 15172, 1354, 4, 501...</td>\n",
       "      <td>[-0.046601087, 0.039078876, -0.012003023, -0.0...</td>\n",
       "    </tr>\n",
       "    <tr>\n",
       "      <th>3</th>\n",
       "      <td>79299</td>\n",
       "      <td>SENTENCE\\n\\n\\t1.\\tMOHOMMED NABI UD- DEAN, you ...</td>\n",
       "      <td>1</td>\n",
       "      <td>train</td>\n",
       "      <td>[0, 208, 5382, 13471, 50140, 50117, 134, 4, 50...</td>\n",
       "      <td>[101, 50117, 246, 4, 50117, 14693, 352, 38, 36...</td>\n",
       "      <td>[-0.07299805, 0.061674025, 0.014428532, -0.022...</td>\n",
       "    </tr>\n",
       "    <tr>\n",
       "      <th>4</th>\n",
       "      <td>80603</td>\n",
       "      <td>JUDGMENT OF THE COURT\\n\\nBackground\\n\\n[1] The...</td>\n",
       "      <td>0</td>\n",
       "      <td>train</td>\n",
       "      <td>[0, 344, 13083, 534, 12613, 3243, 1941, 33260,...</td>\n",
       "      <td>[101, 473, 45, 6999, 5, 32367, 9322, 4, 6211, ...</td>\n",
       "      <td>[-0.07766442, 0.08604509, -0.0026094094, 0.009...</td>\n",
       "    </tr>\n",
       "  </tbody>\n",
       "</table>\n",
       "</div>"
      ],
      "text/plain": [
       "   docid                                               text  label doc_use  \\\n",
       "0  73277  SENTENCE\\n\\n\\t1.\\tYou are charged as follows:\\...      0   train   \n",
       "1  79776  SENTENCE\\n\\n\\t1.\\tJOSEFA KOTOBALAVU, you were ...      1   train   \n",
       "2  75870  SENTENCE\\n\\n1. The Director of Public Prosecut...      1   train   \n",
       "3  79299  SENTENCE\\n\\n\\t1.\\tMOHOMMED NABI UD- DEAN, you ...      1   train   \n",
       "4  80603  JUDGMENT OF THE COURT\\n\\nBackground\\n\\n[1] The...      0   train   \n",
       "\n",
       "                                   input_ids_np_head  \\\n",
       "0  [0, 208, 5382, 13471, 50140, 50117, 134, 4, 50...   \n",
       "1  [0, 208, 5382, 13471, 50140, 50117, 134, 4, 50...   \n",
       "2  [0, 208, 5382, 13471, 50118, 50118, 134, 4, 20...   \n",
       "3  [0, 208, 5382, 13471, 50140, 50117, 134, 4, 50...   \n",
       "4  [0, 344, 13083, 534, 12613, 3243, 1941, 33260,...   \n",
       "\n",
       "                                   input_ids_np_tail  \\\n",
       "0  [101, 4, 50117, 1185, 32, 4018, 7, 316, 107, 1...   \n",
       "1  [101, 40, 28, 37728, 31, 110, 3645, 7, 1338, 1...   \n",
       "2  [101, 34349, 16, 110, 308, 15172, 1354, 4, 501...   \n",
       "3  [101, 50117, 246, 4, 50117, 14693, 352, 38, 36...   \n",
       "4  [101, 473, 45, 6999, 5, 32367, 9322, 4, 6211, ...   \n",
       "\n",
       "                                     head_embeddings  \n",
       "0  [-0.03490465, 0.064865395, -0.017987669, -0.03...  \n",
       "1  [-0.05216731, 0.07149123, 0.006090073, -0.0540...  \n",
       "2  [-0.046601087, 0.039078876, -0.012003023, -0.0...  \n",
       "3  [-0.07299805, 0.061674025, 0.014428532, -0.022...  \n",
       "4  [-0.07766442, 0.08604509, -0.0026094094, 0.009...  "
      ]
     },
     "execution_count": 19,
     "metadata": {},
     "output_type": "execute_result"
    }
   ],
   "source": [
    "df.head()"
   ]
  },
  {
   "cell_type": "code",
   "execution_count": 26,
   "metadata": {},
   "outputs": [],
   "source": [
    "X_train = np.array(df['head_embeddings'][df['doc_use'] == 'train'].to_list())\n",
    "y_train = np.array(df['label'][df['doc_use'] == 'train'].to_list())\n",
    "\n",
    "\n",
    "X_test = np.array(df['head_embeddings'][df['doc_use'] == 'test'].to_list())\n",
    "y_test = np.array(df['label'][df['doc_use'] == 'test'].to_list())"
   ]
  },
  {
   "cell_type": "code",
   "execution_count": 27,
   "metadata": {},
   "outputs": [
    {
     "data": {
      "text/plain": [
       "array([0, 1, 1, 1, 0, 0, 1, 1, 0, 0, 0, 1, 1, 0, 1, 0, 0, 0, 0, 0, 1, 1,\n",
       "       0, 0, 0, 1, 1, 0, 1, 1, 0, 0, 1, 0, 0, 1, 1, 1, 0, 1, 1, 0, 1, 1,\n",
       "       1, 1, 1, 0, 1, 1, 1, 1, 1, 0, 1, 0, 1, 0, 1, 1, 1, 1, 0, 0, 0, 0,\n",
       "       1, 0, 1, 1, 1, 1, 1, 0, 1, 1, 0, 1, 1, 0, 0, 0, 0, 1, 0, 1, 0, 1,\n",
       "       0, 1, 1, 1, 1, 0, 1, 1, 0, 0, 0, 1, 1, 0, 0, 1, 1, 0, 1, 0, 1, 0,\n",
       "       1, 0, 1, 1, 1, 0, 1, 1, 0, 0, 1, 1, 0, 1, 1, 0, 1, 1, 1, 1, 0, 0,\n",
       "       1, 1, 1, 1, 0, 1, 0, 1, 0, 1, 1, 1, 1, 0, 0, 1, 1, 0, 1, 1, 1, 0,\n",
       "       1, 0, 1, 0, 0, 1, 0, 0, 0, 1, 1, 1, 1, 0, 0, 1, 1, 1, 1, 1, 0, 1,\n",
       "       0, 1, 1, 0, 0, 1, 0, 0, 1, 0, 0, 1, 1, 0, 0, 0, 1, 1, 0, 1, 1, 1,\n",
       "       1, 0, 0, 0, 1, 1, 0, 0, 1, 1, 1, 0, 0, 1, 1, 0, 1, 1, 1, 0, 0, 1,\n",
       "       1, 0, 1, 1, 0, 1, 1, 1, 0, 1, 1, 1, 0, 0, 1, 0, 1, 0, 1, 1, 1, 0,\n",
       "       1, 1, 1, 1, 0, 1, 1, 0, 1, 0, 1, 0, 1, 0, 0, 1, 0, 1, 0, 1, 0, 1,\n",
       "       1, 1, 1, 1, 0, 0, 0, 1, 1, 0, 1, 0, 1, 1, 1, 0, 1, 0, 1, 1, 1, 1,\n",
       "       1, 1, 1, 1, 0, 1, 0, 0, 1, 0, 1, 0, 0, 0, 1, 0, 0, 0, 0, 0, 0, 1,\n",
       "       1, 1, 0, 1, 1, 1, 1, 0, 1, 1, 1, 1, 1, 1, 0, 0, 0, 1, 1, 0, 1, 1,\n",
       "       0, 1, 0, 0, 1, 1, 0, 1, 1, 1, 0, 1, 0, 0, 1, 0, 0, 0, 0, 0, 0, 1,\n",
       "       0, 1, 0, 0, 0, 1, 1, 0, 1, 1, 1, 0, 1, 0, 1, 0, 0, 0, 0, 0, 1, 0,\n",
       "       1, 0, 1, 0, 0, 1, 0, 0, 1, 1, 1, 0, 0, 1, 1, 0, 0, 1, 1, 0, 1, 1,\n",
       "       0, 1, 1, 0, 0, 1, 0, 1, 1, 0, 0, 1, 1, 0, 1, 0, 1, 0, 1, 0, 0, 0,\n",
       "       1, 1, 0, 0, 1, 0, 1, 1, 1, 0, 1, 0, 1, 0, 1, 0, 0, 0, 1, 0, 0, 1,\n",
       "       0, 0, 0, 0, 1, 0, 0, 1, 0, 0, 1, 1, 0, 1, 0, 1, 1, 0, 1, 1, 1, 0,\n",
       "       1, 0, 1, 1, 1, 0, 1, 1, 0, 1, 0, 1, 1, 0, 0, 1, 1, 1, 0, 0, 0, 0,\n",
       "       0, 1, 1, 0, 1, 0, 1, 1, 0, 1, 0, 0, 1, 1, 1, 1, 0, 0, 1, 0, 0, 1,\n",
       "       1, 1, 1, 1, 1, 1, 0, 0, 0, 1, 1, 0, 1, 1, 1, 1, 1, 1, 1, 0, 0, 1,\n",
       "       0, 1, 0, 1, 1, 1, 1, 0, 1, 1, 0, 0, 1, 0, 1, 0, 0, 1, 1, 1, 0, 0,\n",
       "       1, 1, 1, 1, 1, 1, 1, 1, 0, 1, 1, 0, 0, 0, 0, 0, 1, 1, 1, 0, 1, 1,\n",
       "       0, 1, 1, 1, 1, 0, 1, 0, 1, 1, 1, 1, 1, 0, 1, 1, 1, 1, 1, 1, 0, 1,\n",
       "       1, 1, 1, 0, 1, 0, 1, 0, 1, 1, 1, 0, 0, 1, 0, 1, 1, 0, 1, 1, 1, 1,\n",
       "       1, 0, 1, 0, 1, 1, 1, 1, 1, 0, 0, 0, 1, 0, 1, 1, 0, 0, 0, 1, 1, 1,\n",
       "       1, 0, 1, 1, 1, 0, 0, 0, 0])"
      ]
     },
     "execution_count": 27,
     "metadata": {},
     "output_type": "execute_result"
    }
   ],
   "source": [
    "y_train"
   ]
  },
  {
   "cell_type": "code",
   "execution_count": 28,
   "metadata": {},
   "outputs": [
    {
     "data": {
      "text/plain": [
       "(647, 768)"
      ]
     },
     "execution_count": 28,
     "metadata": {},
     "output_type": "execute_result"
    }
   ],
   "source": [
    "X_train.shape"
   ]
  },
  {
   "cell_type": "code",
   "execution_count": 115,
   "metadata": {},
   "outputs": [],
   "source": [
    "model = Sequential()\n",
    "#model.add(Embedding(MAX_NB_WORDS, EMBEDDING_DIM, input_length=X.shape[1]))\n",
    "\n",
    "\n",
    "\n",
    "#model.add(SpatialDropout1D(0.2))\n",
    "#model.add(LSTM(100, dropout=0.2, recurrent_dropout=0.2))\n",
    "#model.add(Dense(1000, input_dim=768, activation='tanh'))\n",
    "model.add(Dense(768/2, input_dim=768, activation='relu'))\n",
    "#model.add(Dense(60, input_dim=768/2, activation='relu'))\n",
    "model.add(Dense(1, activation='sigmoid'))\n",
    "model.compile(loss='binary_crossentropy', optimizer='adam', metrics=['accuracy'])"
   ]
  },
  {
   "cell_type": "code",
   "execution_count": 116,
   "metadata": {
    "scrolled": true
   },
   "outputs": [
    {
     "name": "stdout",
     "output_type": "stream",
     "text": [
      "Epoch 1/6\n",
      "73/73 [==============================] - 0s 3ms/step - loss: 0.6738 - accuracy: 0.5859 - val_loss: 0.6160 - val_accuracy: 0.7077\n",
      "Epoch 2/6\n",
      "73/73 [==============================] - 0s 2ms/step - loss: 0.6475 - accuracy: 0.6529 - val_loss: 0.6155 - val_accuracy: 0.7077\n",
      "Epoch 3/6\n",
      "73/73 [==============================] - 0s 2ms/step - loss: 0.6527 - accuracy: 0.6168 - val_loss: 0.6544 - val_accuracy: 0.5538\n",
      "Epoch 4/6\n",
      "73/73 [==============================] - 0s 2ms/step - loss: 0.6315 - accuracy: 0.6271 - val_loss: 0.6136 - val_accuracy: 0.7231\n",
      "Epoch 5/6\n",
      "73/73 [==============================] - 0s 2ms/step - loss: 0.6219 - accuracy: 0.6581 - val_loss: 0.7430 - val_accuracy: 0.4615\n",
      "Epoch 6/6\n",
      "73/73 [==============================] - 0s 2ms/step - loss: 0.6295 - accuracy: 0.6426 - val_loss: 0.6126 - val_accuracy: 0.7231\n"
     ]
    }
   ],
   "source": [
    "epochs = 6\n",
    "batch_size = 8\n",
    "\n",
    "history = model.fit(X_train, y_train, \n",
    "                    epochs=epochs, \n",
    "                    batch_size=batch_size,\n",
    "                    validation_split=0.1)"
   ]
  },
  {
   "cell_type": "code",
   "execution_count": 117,
   "metadata": {},
   "outputs": [],
   "source": [
    "predictions = model.predict_classes(X_test)"
   ]
  },
  {
   "cell_type": "code",
   "execution_count": 118,
   "metadata": {},
   "outputs": [
    {
     "data": {
      "text/plain": [
       "0.5536503581771072"
      ]
     },
     "execution_count": 118,
     "metadata": {},
     "output_type": "execute_result"
    }
   ],
   "source": [
    "np.mean(predictions == y_test)"
   ]
  },
  {
   "cell_type": "code",
   "execution_count": 119,
   "metadata": {},
   "outputs": [],
   "source": [
    "#for i in range(len(X_test)):\n",
    "#    print(\"predict = \", predictions[i], \"actaul = \", y_test[i])"
   ]
  },
  {
   "cell_type": "code",
   "execution_count": 120,
   "metadata": {},
   "outputs": [
    {
     "data": {
      "text/plain": [
       "(0.672, 0.865979381443299, 0.7567567567567568, None)"
      ]
     },
     "execution_count": 120,
     "metadata": {},
     "output_type": "execute_result"
    }
   ],
   "source": [
    "precision_recall_fscore_support(y_test, predictions, average='binary')"
   ]
  },
  {
   "cell_type": "code",
   "execution_count": 121,
   "metadata": {},
   "outputs": [
    {
     "name": "stdout",
     "output_type": "stream",
     "text": [
      "number of good predictions: 108\n",
      "number of bad predictions: 54\n",
      "accuracy 0.6666666666666666\n"
     ]
    }
   ],
   "source": [
    "# get the bad predictions index\n",
    "bad_preds = [idx for idx, elem in enumerate(predictions) if elem != y_test[idx]] \n",
    "good_preds = [idx for idx, elem in enumerate(predictions) if elem == y_test[idx]] \n",
    "print(\"number of good predictions:\", len(good_preds))\n",
    "print(\"number of bad predictions:\", len(bad_preds))\n",
    "print(\"accuracy\", len(good_preds)/len(predictions) )"
   ]
  },
  {
   "cell_type": "code",
   "execution_count": 72,
   "metadata": {},
   "outputs": [],
   "source": [
    "df_good=df.iloc[good_preds]\n",
    "df_bad = df.iloc[bad_preds]"
   ]
  },
  {
   "cell_type": "code",
   "execution_count": null,
   "metadata": {},
   "outputs": [],
   "source": []
  }
 ],
 "metadata": {
  "kernelspec": {
   "display_name": "w266",
   "language": "python",
   "name": "w266"
  },
  "language_info": {
   "codemirror_mode": {
    "name": "ipython",
    "version": 3
   },
   "file_extension": ".py",
   "mimetype": "text/x-python",
   "name": "python",
   "nbconvert_exporter": "python",
   "pygments_lexer": "ipython3",
   "version": "3.7.6"
  }
 },
 "nbformat": 4,
 "nbformat_minor": 4
}
