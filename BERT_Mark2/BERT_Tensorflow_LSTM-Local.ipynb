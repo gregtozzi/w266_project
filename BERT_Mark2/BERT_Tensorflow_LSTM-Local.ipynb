{
 "cells": [
  {
   "cell_type": "code",
   "execution_count": 11,
   "metadata": {
    "colab": {
     "base_uri": "https://localhost:8080/",
     "height": 34
    },
    "colab_type": "code",
    "id": "2SPqLrOFY0fr",
    "outputId": "d504475d-e853-42d9-df8e-6525d0a4159e"
   },
   "outputs": [],
   "source": [
    "#Imports\n",
    "\n",
    "import keras\n",
    "from keras import Sequential\n",
    "from keras.utils import Sequence\n",
    "from keras.layers import LSTM, Dense, Masking\n",
    "from keras.utils import np_utils\n",
    "from keras import optimizers\n",
    "from keras.models import Sequential, Model\n",
    "from keras.layers import Embedding, Dense, Input, concatenate, Layer, Lambda, Dropout, Activation\n",
    "from keras.callbacks import ModelCheckpoint, EarlyStopping, Callback, TensorBoard\n",
    "from keras import layers\n",
    "from keras.layers import Input\n",
    "\n",
    "from sklearn.metrics import precision_recall_fscore_support, classification_report\n",
    "from keras.wrappers.scikit_learn import KerasClassifier\n",
    "from sklearn.model_selection import GridSearchCV\n",
    "\n",
    "# Graphing\n",
    "import matplotlib.pyplot as plt\n",
    "%matplotlib inline\n",
    "import seaborn as sns "
   ]
  },
  {
   "cell_type": "code",
   "execution_count": 6,
   "metadata": {
    "colab": {},
    "colab_type": "code",
    "id": "ziAr6sTSZBSR"
   },
   "outputs": [],
   "source": [
    "df_test = joblib.load('lstm_test.sav')\n",
    "df_train = joblib.load('lstm_train.sav')\n",
    "df_val = joblib.load('lstm_val.sav')"
   ]
  },
  {
   "cell_type": "code",
   "execution_count": 7,
   "metadata": {
    "colab": {},
    "colab_type": "code",
    "id": "xnXZ1JmU2kLS"
   },
   "outputs": [],
   "source": [
    "df_lstm_train = df_train[['features','label']].copy()\n",
    "df_lstm_test = df_test[['features','label']].copy()\n",
    "df_lstm_val = df_val[['features','label']].copy()"
   ]
  },
  {
   "cell_type": "code",
   "execution_count": 8,
   "metadata": {
    "colab": {
     "base_uri": "https://localhost:8080/",
     "height": 34
    },
    "colab_type": "code",
    "id": "xTc-WvHiab3S",
    "outputId": "e722b98a-0cd3-4546-8295-4a9ed4a5a3a5"
   },
   "outputs": [
    {
     "data": {
      "text/plain": [
       "((647, 2), (81, 2), (81, 2))"
      ]
     },
     "execution_count": 8,
     "metadata": {},
     "output_type": "execute_result"
    }
   ],
   "source": [
    "#check shapes of our new inputs\n",
    "df_lstm_train.shape, df_lstm_test.shape, df_lstm_val.shape"
   ]
  },
  {
   "cell_type": "markdown",
   "metadata": {
    "colab_type": "text",
    "id": "rZzkkZeYbaJ1"
   },
   "source": [
    "# LSTM Model on outputs\n"
   ]
  },
  {
   "cell_type": "code",
   "execution_count": 9,
   "metadata": {
    "colab": {
     "base_uri": "https://localhost:8080/",
     "height": 34
    },
    "colab_type": "code",
    "id": "mbjYJG4c33gi",
    "outputId": "4138b6e7-4024-4afc-b981-bd955e603226"
   },
   "outputs": [
    {
     "data": {
      "text/plain": [
       "[0, 1]"
      ]
     },
     "execution_count": 9,
     "metadata": {},
     "output_type": "execute_result"
    }
   ],
   "source": [
    "label_list = [x for x in np.unique(df_lstm_train['label'])]\n",
    "label_list"
   ]
  },
  {
   "cell_type": "code",
   "execution_count": 92,
   "metadata": {
    "colab": {
     "base_uri": "https://localhost:8080/",
     "height": 323
    },
    "colab_type": "code",
    "id": "HKIZrTaPbdIs",
    "outputId": "e3b44c32-559a-4708-be5b-d0fe46aeb22f"
   },
   "outputs": [
    {
     "name": "stdout",
     "output_type": "stream",
     "text": [
      "Model: \"model_5\"\n",
      "_________________________________________________________________\n",
      "Layer (type)                 Output Shape              Param #   \n",
      "=================================================================\n",
      "text (InputLayer)            [(None, None, 768)]       0         \n",
      "_________________________________________________________________\n",
      "masking_5 (Masking)          (None, None, 768)         0         \n",
      "_________________________________________________________________\n",
      "lstm_5 (LSTM)                (None, 100)               347600    \n",
      "_________________________________________________________________\n",
      "dense_10 (Dense)             (None, 30)                3030      \n",
      "_________________________________________________________________\n",
      "dense_11 (Dense)             (None, 2)                 62        \n",
      "=================================================================\n",
      "Total params: 350,692\n",
      "Trainable params: 350,692\n",
      "Non-trainable params: 0\n",
      "_________________________________________________________________\n"
     ]
    }
   ],
   "source": [
    "text_input = Input(shape=(None,768,), dtype='float32', name='text')\n",
    "\n",
    "l_mask = layers.Masking(mask_value=-99.)(text_input)\n",
    "# Which we encoded in a single vector via a LSTM\n",
    "encoded_text = layers.LSTM(100,)(l_mask)\n",
    "out_dense = layers.Dense(30, activation='relu')(encoded_text)\n",
    "out = layers.Dense(len(label_list), activation='softmax')(out_dense)\n",
    "model = Model(text_input, out)\n",
    "\n",
    "\n",
    "opt = keras.optimizers.Adam(learning_rate=1e-5)\n",
    "\n",
    "model.compile(optimizer=opt,\n",
    "              loss='sparse_categorical_crossentropy',\n",
    "              metrics=['acc'])\n",
    "model.summary()"
   ]
  },
  {
   "cell_type": "code",
   "execution_count": null,
   "metadata": {},
   "outputs": [],
   "source": []
  },
  {
   "cell_type": "markdown",
   "metadata": {
    "colab_type": "text",
    "id": "3ZNQyyf4ImXp"
   },
   "source": [
    "Thanks to Armand Olivares for his post which helped on teh generator function and mask\n",
    "https://medium.com/@armandj.olivares/using-bert-for-classifying-documents-with-long-texts-5c3e7b04573d\n",
    "\n",
    "Because chunk lengths can be different, we pad the shorter chunks with a special value, -99, which is masked and therfefore skipped for the network"
   ]
  },
  {
   "cell_type": "code",
   "execution_count": 93,
   "metadata": {
    "colab": {},
    "colab_type": "code",
    "id": "wU23D0zBEaDn"
   },
   "outputs": [],
   "source": [
    "\n",
    "\n",
    "#The generator functions (get the max length 3 batches at a time)\n",
    "num_sequences = len(df_train['features'].to_list())\n",
    "batch_size = 1\n",
    "batches_per_epoch =  647\n",
    "assert batch_size * batches_per_epoch == num_sequences\n",
    "num_features= 768\n",
    "def train_generator(df):\n",
    "    x_list= df['features'].to_list()\n",
    "    y_list =  df.label.to_list()\n",
    "    # Generate batches\n",
    "    while True:\n",
    "        for b in range(batches_per_epoch):\n",
    "            longest_index = (b + 1) * batch_size - 1\n",
    "            timesteps = len(max(df['features'].to_list()[:(b + 1) * batch_size][-batch_size:], key=len))\n",
    "            x_train = np.full((batch_size, timesteps, num_features), -99.)\n",
    "            y_train = np.zeros((batch_size,  1))\n",
    "            for i in range(batch_size):\n",
    "                li = b * batch_size + i\n",
    "                x_train[i, 0:len(x_list[li]), :] = x_list[li]\n",
    "                y_train[i] = y_list[li]\n",
    "            yield x_train, y_train"
   ]
  },
  {
   "cell_type": "code",
   "execution_count": 94,
   "metadata": {
    "colab": {},
    "colab_type": "code",
    "id": "skuzDmzAFRGy"
   },
   "outputs": [],
   "source": [
    "num_sequences_val = len(df_val['features'].to_list())\n",
    "batch_size_val = 1\n",
    "batches_per_epoch_val = 81\n",
    "assert batch_size_val * batches_per_epoch_val == num_sequences_val\n",
    "num_features= 768\n",
    "def val_generator(df):\n",
    "    x_list= df['features'].to_list()\n",
    "    y_list =  df.label.to_list()\n",
    "    # Generate batches\n",
    "    while True:\n",
    "        for b in range(batches_per_epoch_val):\n",
    "            longest_index = (b + 1) * batch_size_val - 1\n",
    "            timesteps = len(max(df['features'].to_list()[:(b + 1) * batch_size_val][-31:], key=len))\n",
    "            # print(len(df_train['emb'].to_list()[:b+batch_size][-7:]))\n",
    "            x_train = np.full((batch_size_val, timesteps, num_features), -99.)\n",
    "            y_train = np.zeros((batch_size_val,  1))\n",
    "            for i in range(batch_size_val):\n",
    "                li = b * batch_size_val + i\n",
    "                # print(\"li\", li)\n",
    "                # print(x_train[i, 0:len(x_list[li]), :].shape, len(x_list[li]))\n",
    "                x_train[i, 0:len(x_list[li]), :] = x_list[li]\n",
    "                y_train[i] = y_list[li]\n",
    "            yield x_train, y_train"
   ]
  },
  {
   "cell_type": "code",
   "execution_count": null,
   "metadata": {
    "colab": {},
    "colab_type": "code",
    "id": "DPxXek1cEmiL"
   },
   "outputs": [],
   "source": []
  },
  {
   "cell_type": "code",
   "execution_count": 95,
   "metadata": {
    "colab": {},
    "colab_type": "code",
    "id": "v9-g-fsl5ibF"
   },
   "outputs": [],
   "source": [
    "from keras.callbacks import ReduceLROnPlateau\n",
    "call_reduce = ReduceLROnPlateau(monitor='val_acc', factor=0.95, patience=3, verbose=2,\n",
    "                                mode='auto', min_delta=0.01, cooldown=0, min_lr=0)\n",
    "\n",
    "es = EarlyStopping(monitor='val_loss', mode='min', verbose=1, patience=3)"
   ]
  },
  {
   "cell_type": "code",
   "execution_count": 102,
   "metadata": {
    "colab": {
     "base_uri": "https://localhost:8080/",
     "height": 462
    },
    "colab_type": "code",
    "id": "R9O2REszbea9",
    "outputId": "1c3b4ba5-bba6-4d13-be86-6091794352a2"
   },
   "outputs": [
    {
     "name": "stdout",
     "output_type": "stream",
     "text": [
      "Epoch 1/10\n",
      "647/647 [==============================] - 5s 7ms/step - loss: 0.6191 - acc: 0.2612 - val_loss: 0.7565 - val_acc: 0.5926\n",
      "Epoch 2/10\n",
      "647/647 [==============================] - 5s 7ms/step - loss: 0.6151 - acc: 0.2628 - val_loss: 0.7597 - val_acc: 0.5926\n",
      "Epoch 3/10\n",
      "647/647 [==============================] - 5s 7ms/step - loss: 0.6118 - acc: 0.2628 - val_loss: 0.7602 - val_acc: 0.5926\n",
      "Epoch 4/10\n",
      "647/647 [==============================] - 5s 7ms/step - loss: 0.6078 - acc: 0.2581 - val_loss: 0.7638 - val_acc: 0.5926\n",
      "Epoch 5/10\n",
      "647/647 [==============================] - 5s 7ms/step - loss: 0.6041 - acc: 0.2597 - val_loss: 0.7663 - val_acc: 0.5926\n",
      "Epoch 6/10\n",
      "647/647 [==============================] - 5s 7ms/step - loss: 0.6004 - acc: 0.2612 - val_loss: 0.7698 - val_acc: 0.5926\n",
      "Epoch 7/10\n",
      "647/647 [==============================] - 5s 7ms/step - loss: 0.5965 - acc: 0.2597 - val_loss: 0.7725 - val_acc: 0.5802\n",
      "Epoch 8/10\n",
      "647/647 [==============================] - 5s 7ms/step - loss: 0.5927 - acc: 0.2643 - val_loss: 0.7759 - val_acc: 0.5679\n",
      "Epoch 9/10\n",
      "647/647 [==============================] - 5s 7ms/step - loss: 0.5886 - acc: 0.2674 - val_loss: 0.7804 - val_acc: 0.5679\n",
      "Epoch 10/10\n",
      "647/647 [==============================] - 5s 7ms/step - loss: 0.5844 - acc: 0.2705 - val_loss: 0.7838 - val_acc: 0.5679\n"
     ]
    }
   ],
   "source": [
    "history = model.fit_generator(train_generator(df_lstm_train)\n",
    "                    ,steps_per_epoch=len(df_lstm_train)\n",
    "                    ,epochs=10\n",
    "                    ,validation_data=val_generator(df_lstm_val)\n",
    "                    ,validation_steps=len(df_lstm_val) \n",
    "                    #,callbacks =[call_reduce, es] \n",
    "                    )"
   ]
  },
  {
   "cell_type": "code",
   "execution_count": null,
   "metadata": {
    "colab": {},
    "colab_type": "code",
    "id": "53yUe_3MGfob"
   },
   "outputs": [],
   "source": []
  },
  {
   "cell_type": "markdown",
   "metadata": {
    "colab_type": "text",
    "id": "MJtDrBx1Gj8C"
   },
   "source": [
    "# LSTM Model: Evaluation"
   ]
  },
  {
   "cell_type": "code",
   "execution_count": 103,
   "metadata": {
    "colab": {
     "base_uri": "https://localhost:8080/",
     "height": 34
    },
    "colab_type": "code",
    "id": "8uhzOmoIGgAt",
    "outputId": "518a2869-eace-46cd-9de3-f0bf450b66cd"
   },
   "outputs": [
    {
     "data": {
      "text/plain": [
       "[0.6179526448249817, 0.6296296119689941]"
      ]
     },
     "execution_count": 103,
     "metadata": {},
     "output_type": "execute_result"
    }
   ],
   "source": [
    "num_sequences_val = len(df_test['features'].to_list())\n",
    "batch_size_val = 1\n",
    "batches_per_epoch_val = 81\n",
    "assert batch_size_val * batches_per_epoch_val == num_sequences_val\n",
    "num_features= 768\n",
    "model.evaluate_generator(val_generator(df_test), steps= batches_per_epoch_val)"
   ]
  },
  {
   "cell_type": "code",
   "execution_count": 104,
   "metadata": {
    "colab": {},
    "colab_type": "code",
    "id": "Z_svyGVwGuEV"
   },
   "outputs": [],
   "source": [
    "y_log = model.predict_generator(val_generator(df_test), steps= batches_per_epoch_val)"
   ]
  },
  {
   "cell_type": "code",
   "execution_count": 105,
   "metadata": {
    "colab": {},
    "colab_type": "code",
    "id": "oOi-Od1IGx4b"
   },
   "outputs": [],
   "source": [
    "y_pred = np.argmax(y_log, axis=1)"
   ]
  },
  {
   "cell_type": "code",
   "execution_count": 106,
   "metadata": {
    "colab": {
     "base_uri": "https://localhost:8080/",
     "height": 187
    },
    "colab_type": "code",
    "id": "R0lRNC3rG0ta",
    "outputId": "375e45e9-2a0f-4bd4-ab5f-ff23fa6c5897"
   },
   "outputs": [
    {
     "name": "stdout",
     "output_type": "stream",
     "text": [
      "LSTM split chunks\n",
      "              precision    recall  f1-score   support\n",
      "\n",
      "           0       0.63      0.86      0.73        37\n",
      "           1       0.83      0.57      0.68        44\n",
      "\n",
      "    accuracy                           0.70        81\n",
      "   macro avg       0.73      0.72      0.70        81\n",
      "weighted avg       0.74      0.70      0.70        81\n",
      "\n"
     ]
    }
   ],
   "source": [
    "# Show classification report\n",
    "from sklearn.metrics import precision_recall_fscore_support, classification_report\n",
    "print(\"LSTM split chunks\")\n",
    "print(classification_report(df_test['label'], y_pred))"
   ]
  },
  {
   "cell_type": "code",
   "execution_count": 107,
   "metadata": {},
   "outputs": [
    {
     "data": {
      "image/png": "[encoded data removed]",
      "text/plain": [
       "<Figure size 864x432 with 1 Axes>"
      ]
     },
     "metadata": {},
     "output_type": "display_data"
    }
   ],
   "source": [
    "sns.set(style='darkgrid')\n",
    "sns.set(font_scale=1.5)\n",
    "plt.rcParams[\"figure.figsize\"] = (12,6)\n",
    "plt.plot(history.history['loss'], 'b-o', label=\"Training\")\n",
    "plt.plot(history.history['val_loss'], 'g-o', label=\"Validation\")\n",
    "plt.title(\"Training & Validation Loss\")\n",
    "plt.xlabel(\"Epoch\")\n",
    "plt.ylabel(\"Loss\")\n",
    "plt.legend()\n",
    "plt.xticks([1, 2, 3, 4, 5, 6, 7, 8, 9,10])\n",
    "\n",
    "plt.show()"
   ]
  },
  {
   "cell_type": "code",
   "execution_count": 108,
   "metadata": {},
   "outputs": [
    {
     "data": {
      "image/png": "[encoded data removed]",
      "text/plain": [
       "<Figure size 720x432 with 1 Axes>"
      ]
     },
     "metadata": {},
     "output_type": "display_data"
    }
   ],
   "source": [
    "sns.set(style='darkgrid')\n",
    "sns.set(font_scale=1.5)\n",
    "plt.rcParams[\"figure.figsize\"] = (10,6)\n",
    "plt.plot(history.history['acc'], 'r-o', label=\"Train Accuracy\")\n",
    "plt.plot(history.history['val_acc'], 'y-o', label=\"Val Accuracy\")\n",
    "plt.title(\"Accuracy\")\n",
    "plt.xlabel(\"Epoch\")\n",
    "plt.ylabel(\"Loss\")\n",
    "plt.legend()\n",
    "plt.xticks([1, 2, 3, 4, 5, 6, 7, 8, 9,10])\n",
    "\n",
    "plt.show()"
   ]
  },
  {
   "cell_type": "code",
   "execution_count": null,
   "metadata": {},
   "outputs": [],
   "source": []
  },
  {
   "cell_type": "code",
   "execution_count": null,
   "metadata": {},
   "outputs": [],
   "source": []
  }
 ],
 "metadata": {
  "accelerator": "GPU",
  "colab": {
   "collapsed_sections": [],
   "name": "Bert_multi_chunk_TF2.ipynb",
   "provenance": []
  },
  "kernelspec": {
   "display_name": "w266",
   "language": "python",
   "name": "w266"
  },
  "language_info": {
   "codemirror_mode": {
    "name": "ipython",
    "version": 3
   },
   "file_extension": ".py",
   "mimetype": "text/x-python",
   "name": "python",
   "nbconvert_exporter": "python",
   "pygments_lexer": "ipython3",
   "version": "3.7.6"
  }
 },
 "nbformat": 4,
 "nbformat_minor": 1
}
