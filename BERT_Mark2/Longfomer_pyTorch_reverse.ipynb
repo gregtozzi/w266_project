{
 "cells": [
  {
   "cell_type": "markdown",
   "metadata": {
    "colab_type": "text",
    "id": "DOAuU5yg_JFJ"
   },
   "source": [
    "# Longformer model using last 512 tokens of text\n",
    "\n"
   ]
  },
  {
   "cell_type": "code",
   "execution_count": null,
   "metadata": {
    "colab": {
     "base_uri": "https://localhost:8080/",
     "height": 615
    },
    "colab_type": "code",
    "id": "uZzLMaRbAXDK",
    "outputId": "2761c821-e676-43bf-bc76-5c51f7451d81"
   },
   "outputs": [],
   "source": [
    "!pip install transformers"
   ]
  },
  {
   "cell_type": "code",
   "execution_count": null,
   "metadata": {
    "colab": {},
    "colab_type": "code",
    "id": "BR1HWv08QD4Q"
   },
   "outputs": [],
   "source": [
    "#!pip install torch-lr-finder"
   ]
  },
  {
   "cell_type": "code",
   "execution_count": null,
   "metadata": {
    "colab": {
     "base_uri": "https://localhost:8080/",
     "height": 71
    },
    "colab_type": "code",
    "id": "hBCF_21D_5KE",
    "outputId": "862436d7-16d7-4e20-a09d-e8137d5cd11e"
   },
   "outputs": [
    {
     "name": "stderr",
     "output_type": "stream",
     "text": [
      "/usr/local/lib/python3.6/dist-packages/statsmodels/tools/_testing.py:19: FutureWarning: pandas.util.testing is deprecated. Use the functions in the public API at pandas.testing instead.\n",
      "  import pandas.util.testing as tm\n"
     ]
    }
   ],
   "source": [
    "#!pip install pytorch-model-summary\n",
    "\n",
    "import numpy as np\n",
    "import pandas as pd\n",
    "import warnings\n",
    "import time\n",
    "import datetime\n",
    "import re\n",
    "import random\n",
    "\n",
    "from sklearn.metrics import precision_recall_fscore_support\n",
    "\n",
    "# Graphing\n",
    "import matplotlib.pyplot as plt\n",
    "%matplotlib inline\n",
    "import seaborn as sns \n",
    "\n",
    "# PyTorch Imports\n",
    "import torch # a tensor library\n",
    "from torch.utils.data import TensorDataset, random_split\n",
    "from torch.utils.data import DataLoader, RandomSampler, SequentialSampler\n",
    "\n",
    "#Huggingface Transformers\n",
    "import transformers\n",
    "from transformers import get_linear_schedule_with_warmup\n",
    "\n",
    "from transformers import LongformerModel, LongformerTokenizer, LongformerConfig\n",
    "from transformers import LongformerForSequenceClassification, AdamW"
   ]
  },
  {
   "cell_type": "code",
   "execution_count": null,
   "metadata": {
    "colab": {},
    "colab_type": "code",
    "id": "I0mwc0VTAOgD"
   },
   "outputs": [],
   "source": []
  },
  {
   "cell_type": "markdown",
   "metadata": {
    "colab_type": "text",
    "id": "gAePwUbO_5KJ"
   },
   "source": [
    "## Model Set Up\n",
    "Set up the model and the configuration we need\n",
    "\n",
    "- max_len - how many tokens will be used from the document.\n",
    "- batch_size - reduce if memory issues. paper reccomends 16-32\n",
    "- num epochs\n",
    "\n",
    "- tokenizer - this should be a pretrined tokenizer, e.g. distilBert. \n",
    "- model - make sure it uses the same tokenizer for generating the weights\n",
    "\n",
    "#### input files\n",
    "- train.csv: heading removed, dates and URL replcaed, un-cased, sentence breaks and punctuation included  \n",
    "- train_lcase.csv: heading removed, dates and URL replcaed, lower cased, sentence breaks and punctuation removed\n",
    "  "
   ]
  },
  {
   "cell_type": "code",
   "execution_count": null,
   "metadata": {
    "colab": {
     "base_uri": "https://localhost:8080/",
     "height": 318,
     "referenced_widgets": [
      "1308cceaa050485b8c97b6b427955c7a",
      "a3a356dfde81440c9d40e6d59b3748c3",
      "4bee57c4ec4a4566a1ae11d82030e64d",
      "0824970a10634b26961e3fbca61caf75",
      "c953994be49c40b28113a694064c4dd6",
      "e754a18730c044f2ab8a668952acddb5",
      "d72b80797e2d4954b27b5be9a6b20f1f",
      "5c1b0e36b691423c903201e2aff47b93",
      "0e8c1bb4bc944b94a26d474e7802743f",
      "c23119b1869f4ceb83af75beadf0701a",
      "a48602ba5d7f42858c42410cbd854d63",
      "a8a0d212d5a34314b450ba7fca9c4241",
      "93a78d934343477b83d4879a9f8b216a",
      "1e1825fd154d47abae7708c07bb77f00",
      "180042970bc846a691e232e13267519c",
      "103de39330fa4f649bf167018b26290a",
      "aa630fa3a71c44978aef190bee53f8b7",
      "09830c69fd914e3293c2c4d1b00494de",
      "661765ecdf4c4bbe973a5c568e37a84d",
      "4e480ccaec1347f18f16c346411b67ef",
      "aff79ce6a6044e8e9f65af6e5e6b54d5",
      "0d7e9884fc80444d99ee4df11490ac53",
      "6b141885dd7246919a96d0f5eb440a3c",
      "9cd88fb901e440c6b04680351966192b",
      "36fba1779978417396a85f6a6dea8887",
      "e51a0e598de44367af35e1eded66c1b5",
      "ca32b77a603042ada22d8d7b817c5718",
      "a912b391f1734346a347a873a21275d4",
      "248d41a9c788428b964e49f88e926cb7",
      "96a77d8abfb6419d83645beb02a3d160",
      "cbb42a523887483f9e9760056fd2f261",
      "44490d7186b047c7adfc27297c02261f"
     ]
    },
    "colab_type": "code",
    "id": "aFp1pXBE_5KK",
    "outputId": "48a14f29-5a42-4fb0-e438-58515d8a9e6a"
   },
   "outputs": [
    {
     "data": {
      "application/vnd.jupyter.widget-view+json": {
       "model_id": "1308cceaa050485b8c97b6b427955c7a",
       "version_major": 2,
       "version_minor": 0
      },
      "text/plain": [
       "HBox(children=(FloatProgress(value=0.0, description='Downloading', max=725.0, style=ProgressStyle(description_…"
      ]
     },
     "metadata": {
      "tags": []
     },
     "output_type": "display_data"
    },
    {
     "name": "stdout",
     "output_type": "stream",
     "text": [
      "\n"
     ]
    },
    {
     "data": {
      "application/vnd.jupyter.widget-view+json": {
       "model_id": "0e8c1bb4bc944b94a26d474e7802743f",
       "version_major": 2,
       "version_minor": 0
      },
      "text/plain": [
       "HBox(children=(FloatProgress(value=0.0, description='Downloading', max=898823.0, style=ProgressStyle(descripti…"
      ]
     },
     "metadata": {
      "tags": []
     },
     "output_type": "display_data"
    },
    {
     "name": "stdout",
     "output_type": "stream",
     "text": [
      "\n"
     ]
    },
    {
     "data": {
      "application/vnd.jupyter.widget-view+json": {
       "model_id": "aa630fa3a71c44978aef190bee53f8b7",
       "version_major": 2,
       "version_minor": 0
      },
      "text/plain": [
       "HBox(children=(FloatProgress(value=0.0, description='Downloading', max=456318.0, style=ProgressStyle(descripti…"
      ]
     },
     "metadata": {
      "tags": []
     },
     "output_type": "display_data"
    },
    {
     "name": "stdout",
     "output_type": "stream",
     "text": [
      "\n"
     ]
    },
    {
     "data": {
      "application/vnd.jupyter.widget-view+json": {
       "model_id": "36fba1779978417396a85f6a6dea8887",
       "version_major": 2,
       "version_minor": 0
      },
      "text/plain": [
       "HBox(children=(FloatProgress(value=0.0, description='Downloading', max=597257159.0, style=ProgressStyle(descri…"
      ]
     },
     "metadata": {
      "tags": []
     },
     "output_type": "display_data"
    },
    {
     "name": "stdout",
     "output_type": "stream",
     "text": [
      "\n"
     ]
    },
    {
     "name": "stderr",
     "output_type": "stream",
     "text": [
      "Some weights of the model checkpoint at allenai/longformer-base-4096 were not used when initializing LongformerForSequenceClassification: ['lm_head.bias', 'lm_head.dense.weight', 'lm_head.dense.bias', 'lm_head.layer_norm.weight', 'lm_head.layer_norm.bias', 'lm_head.decoder.weight']\n",
      "- This IS expected if you are initializing LongformerForSequenceClassification from the checkpoint of a model trained on another task or with another architecture (e.g. initializing a BertForSequenceClassification model from a BertForPretraining model).\n",
      "- This IS NOT expected if you are initializing LongformerForSequenceClassification from the checkpoint of a model that you expect to be exactly identical (initializing a BertForSequenceClassification model from a BertForSequenceClassification model).\n",
      "Some weights of LongformerForSequenceClassification were not initialized from the model checkpoint at allenai/longformer-base-4096 and are newly initialized: ['classifier.dense.weight', 'classifier.dense.bias', 'classifier.out_proj.weight', 'classifier.out_proj.bias']\n",
      "You should probably TRAIN this model on a down-stream task to be able to use it for predictions and inference.\n"
     ]
    }
   ],
   "source": [
    "train_file = \"train.csv\"\n",
    "test_file = \"test.csv\"\n",
    "\n",
    "\n",
    "max_len = 512\n",
    "batch_size = 8\n",
    "num_epochs = 5\n",
    "lr = 3e-5\n",
    "use_global_mask = False\n",
    "\n",
    "config = LongformerConfig.from_pretrained('allenai/longformer-base-4096',\n",
    "    #attention_mode = 'sliding_chunks',\n",
    "    num_labels=2,\n",
    "    dropout = 0.2,\n",
    "    attention_dropout = 0.2,\n",
    "    output_attentions = False,\n",
    "    output_hidden_states = False\n",
    "    )\n",
    "\n",
    "\n",
    "tokenizer = LongformerTokenizer.from_pretrained('allenai/longformer-base-4096')\n",
    "model = LongformerForSequenceClassification.from_pretrained('allenai/longformer-base-4096', config = config)\n",
    "                                                       "
   ]
  },
  {
   "cell_type": "markdown",
   "metadata": {
    "colab_type": "text",
    "id": "B9nGgXJ__5KP"
   },
   "source": [
    "## Helper Functions"
   ]
  },
  {
   "cell_type": "code",
   "execution_count": null,
   "metadata": {
    "colab": {},
    "colab_type": "code",
    "id": "OLXtZpdM_5KQ"
   },
   "outputs": [],
   "source": [
    "# Function to get data\n",
    "def get_data(fname):\n",
    "    df = pd.read_csv(fname)\n",
    "    df = df[['cleaned_contents', 'Discrimination_Label']]\n",
    "    df = df.rename(columns = {'cleaned_contents':'text', 'Discrimination_Label':'label'})\n",
    "    df.reset_index(inplace=True, drop=True)\n",
    "    return df"
   ]
  },
  {
   "cell_type": "code",
   "execution_count": null,
   "metadata": {
    "colab": {},
    "colab_type": "code",
    "id": "LBui4eey_5KT"
   },
   "outputs": [],
   "source": [
    "# Function to calculate the accuracy of our predictions vs labels\n",
    "def flat_accuracy(preds, labels):\n",
    "    pred_flat = np.argmax(preds, axis=1).flatten()\n",
    "    labels_flat = labels.flatten()\n",
    "    return np.sum(pred_flat == labels_flat) / len(labels_flat)"
   ]
  },
  {
   "cell_type": "code",
   "execution_count": null,
   "metadata": {
    "colab": {},
    "colab_type": "code",
    "id": "OVqvnRhN_5KW"
   },
   "outputs": [],
   "source": [
    "# Function to format elapsed time \n",
    "def format_time(elapsed):\n",
    "    elapsed_rounded = int(round((elapsed)))\n",
    "    return str(datetime.timedelta(seconds=elapsed_rounded))"
   ]
  },
  {
   "cell_type": "code",
   "execution_count": null,
   "metadata": {
    "colab": {},
    "colab_type": "code",
    "id": "Y-zpq1n3_5KZ"
   },
   "outputs": [],
   "source": [
    "# Function to tokenize data and return tensors for input ids, attention mask and labels\n",
    "def tokenize_plus(df, reverse=False):\n",
    "\n",
    "    if reverse:\n",
    "      sentences = df['txet'].values\n",
    "    else:\n",
    "      sentences = df['text'].values\n",
    "\n",
    "\n",
    "    labels = df['label'].values\n",
    "\n",
    "    input_ids = []\n",
    "    attention_masks = []\n",
    "\n",
    "    for sent in sentences:\n",
    "        encoded_dict = tokenizer.encode_plus(\n",
    "                            sent,                     \n",
    "                            add_special_tokens = True, \n",
    "                            max_length = max_len,    \n",
    "                            truncation = True,\n",
    "                            pad_to_max_length = True,\n",
    "                            return_attention_mask = True, \n",
    "                            return_tensors = 'pt'    \n",
    "                       )\n",
    "\n",
    "        input_ids.append(encoded_dict['input_ids'])\n",
    "        attention_masks.append(encoded_dict['attention_mask'])\n",
    "\n",
    "    # Convert the lists into tensors.\n",
    "    input_ids = torch.cat(input_ids, dim=0)\n",
    "    attention_masks = torch.cat(attention_masks, dim=0)\n",
    "    labels = torch.tensor(labels)\n",
    "\n",
    "    return input_ids, attention_masks, labels"
   ]
  },
  {
   "cell_type": "code",
   "execution_count": null,
   "metadata": {
    "colab": {},
    "colab_type": "code",
    "id": "9ctO-6QAKmWY"
   },
   "outputs": [],
   "source": [
    "# Function to reverse a string\n",
    "def rev_sentence(sentence): \n",
    "  \n",
    "    # first split the string into words \n",
    "    words = sentence.split(' ')  \n",
    "  \n",
    "    # then reverse the split string list and join using space \n",
    "    reverse_sentence = ' '.join(reversed(words))  \n",
    "  \n",
    "    # finally return the joined string \n",
    "    return reverse_sentence   "
   ]
  },
  {
   "cell_type": "code",
   "execution_count": null,
   "metadata": {
    "colab": {},
    "colab_type": "code",
    "id": "IrOy4nHJKtdc"
   },
   "outputs": [],
   "source": []
  },
  {
   "cell_type": "code",
   "execution_count": null,
   "metadata": {
    "colab": {},
    "colab_type": "code",
    "id": "HwNtznH-KtnR"
   },
   "outputs": [],
   "source": []
  },
  {
   "cell_type": "markdown",
   "metadata": {
    "colab_type": "text",
    "id": "YgBt-yJg_5Kh"
   },
   "source": [
    "# Fine Tuning and training"
   ]
  },
  {
   "cell_type": "code",
   "execution_count": null,
   "metadata": {
    "colab": {
     "base_uri": "https://localhost:8080/",
     "height": 204
    },
    "colab_type": "code",
    "id": "nC7d03GT_5Kh",
    "outputId": "3d476b86-5a2d-423b-9316-1ceda89fc18d"
   },
   "outputs": [
    {
     "data": {
      "text/html": [
       "<div>\n",
       "<style scoped>\n",
       "    .dataframe tbody tr th:only-of-type {\n",
       "        vertical-align: middle;\n",
       "    }\n",
       "\n",
       "    .dataframe tbody tr th {\n",
       "        vertical-align: top;\n",
       "    }\n",
       "\n",
       "    .dataframe thead th {\n",
       "        text-align: right;\n",
       "    }\n",
       "</style>\n",
       "<table border=\"1\" class=\"dataframe\">\n",
       "  <thead>\n",
       "    <tr style=\"text-align: right;\">\n",
       "      <th></th>\n",
       "      <th>text</th>\n",
       "      <th>label</th>\n",
       "    </tr>\n",
       "  </thead>\n",
       "  <tbody>\n",
       "    <tr>\n",
       "      <th>0</th>\n",
       "      <td>SENTENCE\\n\\n\\t1.\\tYou are charged as follows:\\...</td>\n",
       "      <td>0</td>\n",
       "    </tr>\n",
       "    <tr>\n",
       "      <th>1</th>\n",
       "      <td>SENTENCE\\n\\n\\t1.\\tJOSEFA KOTOBALAVU, you were ...</td>\n",
       "      <td>1</td>\n",
       "    </tr>\n",
       "    <tr>\n",
       "      <th>2</th>\n",
       "      <td>SENTENCE\\n\\n1. The Director of Public Prosecut...</td>\n",
       "      <td>1</td>\n",
       "    </tr>\n",
       "    <tr>\n",
       "      <th>3</th>\n",
       "      <td>SENTENCE\\n\\n\\t1.\\tMOHOMMED NABI UD- DEAN, you ...</td>\n",
       "      <td>1</td>\n",
       "    </tr>\n",
       "    <tr>\n",
       "      <th>4</th>\n",
       "      <td>JUDGMENT OF THE COURT\\n\\nBackground\\n\\n[1] The...</td>\n",
       "      <td>0</td>\n",
       "    </tr>\n",
       "  </tbody>\n",
       "</table>\n",
       "</div>"
      ],
      "text/plain": [
       "                                                text  label\n",
       "0  SENTENCE\\n\\n\\t1.\\tYou are charged as follows:\\...      0\n",
       "1  SENTENCE\\n\\n\\t1.\\tJOSEFA KOTOBALAVU, you were ...      1\n",
       "2  SENTENCE\\n\\n1. The Director of Public Prosecut...      1\n",
       "3  SENTENCE\\n\\n\\t1.\\tMOHOMMED NABI UD- DEAN, you ...      1\n",
       "4  JUDGMENT OF THE COURT\\n\\nBackground\\n\\n[1] The...      0"
      ]
     },
     "execution_count": 10,
     "metadata": {
      "tags": []
     },
     "output_type": "execute_result"
    }
   ],
   "source": [
    "df = get_data(train_file)\n",
    "df.head()"
   ]
  },
  {
   "cell_type": "code",
   "execution_count": null,
   "metadata": {
    "colab": {},
    "colab_type": "code",
    "id": "kS5KEerDK2Nd"
   },
   "outputs": [],
   "source": [
    "df['txet'] =df['text'].apply(lambda x: rev_sentence(x))"
   ]
  },
  {
   "cell_type": "code",
   "execution_count": null,
   "metadata": {
    "colab": {},
    "colab_type": "code",
    "id": "3c4OBr3fK4DU"
   },
   "outputs": [],
   "source": []
  },
  {
   "cell_type": "markdown",
   "metadata": {
    "colab_type": "text",
    "id": "Erc7Di6gK_ay"
   },
   "source": []
  },
  {
   "cell_type": "code",
   "execution_count": null,
   "metadata": {
    "colab": {},
    "colab_type": "code",
    "id": "vDRz5hvKK4NL"
   },
   "outputs": [],
   "source": []
  },
  {
   "cell_type": "code",
   "execution_count": null,
   "metadata": {
    "colab": {},
    "colab_type": "code",
    "id": "LvrITmM4_5Kl"
   },
   "outputs": [],
   "source": [
    "# Get tokenized labels\n",
    "input_ids, attention_masks, labels = tokenize_plus(df, reverse=True)"
   ]
  },
  {
   "cell_type": "code",
   "execution_count": null,
   "metadata": {
    "colab": {},
    "colab_type": "code",
    "id": "VO9kOydmBM-L"
   },
   "outputs": [],
   "source": [
    "input_ids_np =  input_ids.numpy()\n",
    "#input_ids_np"
   ]
  },
  {
   "cell_type": "code",
   "execution_count": null,
   "metadata": {
    "colab": {
     "base_uri": "https://localhost:8080/",
     "height": 204
    },
    "colab_type": "code",
    "id": "Gvs6R3xzEMGm",
    "outputId": "b1dbbf52-ed39-4baf-baac-d6b42f86bc13"
   },
   "outputs": [
    {
     "data": {
      "text/html": [
       "<div>\n",
       "<style scoped>\n",
       "    .dataframe tbody tr th:only-of-type {\n",
       "        vertical-align: middle;\n",
       "    }\n",
       "\n",
       "    .dataframe tbody tr th {\n",
       "        vertical-align: top;\n",
       "    }\n",
       "\n",
       "    .dataframe thead th {\n",
       "        text-align: right;\n",
       "    }\n",
       "</style>\n",
       "<table border=\"1\" class=\"dataframe\">\n",
       "  <thead>\n",
       "    <tr style=\"text-align: right;\">\n",
       "      <th></th>\n",
       "      <th>text</th>\n",
       "      <th>label</th>\n",
       "      <th>txet</th>\n",
       "    </tr>\n",
       "  </thead>\n",
       "  <tbody>\n",
       "    <tr>\n",
       "      <th>2</th>\n",
       "      <td>SENTENCE\\n\\n1. The Director of Public Prosecut...</td>\n",
       "      <td>1</td>\n",
       "      <td>&lt;URL&gt;\\n\\n\\n\\n\\n Feedback\\nURL: | Policy Privac...</td>\n",
       "    </tr>\n",
       "    <tr>\n",
       "      <th>54</th>\n",
       "      <td>JUDGMENT\\n  \\n•  The appellant was charged wit...</td>\n",
       "      <td>1</td>\n",
       "      <td>\\n\\n    \\n &lt;URL&gt;\\n URL: Feedback\\n | Policy Pr...</td>\n",
       "    </tr>\n",
       "    <tr>\n",
       "      <th>77</th>\n",
       "      <td>SENTENCE\\n\\nRavneel Ravikash Lal you have been...</td>\n",
       "      <td>1</td>\n",
       "      <td>&lt;URL&gt;\\n\\n\\n\\n\\n Feedback\\nURL: | Policy Privac...</td>\n",
       "    </tr>\n",
       "    <tr>\n",
       "      <th>85</th>\n",
       "      <td>JUDGMENT\\n\\nBackground\\n\\nThe appellant pleade...</td>\n",
       "      <td>1</td>\n",
       "      <td>&lt;URL&gt;\\n\\n\\n\\n\\n Feedback\\nURL: | Policy Privac...</td>\n",
       "    </tr>\n",
       "    <tr>\n",
       "      <th>97</th>\n",
       "      <td>JUDGMENT\\n[DOMESTIC VIOLENCE]\\n\\n1. On the 9th...</td>\n",
       "      <td>0</td>\n",
       "      <td>&lt;URL&gt;\\n\\n\\n\\n\\n Feedback\\nURL: | Policy Privac...</td>\n",
       "    </tr>\n",
       "  </tbody>\n",
       "</table>\n",
       "</div>"
      ],
      "text/plain": [
       "                                                 text  ...                                               txet\n",
       "2   SENTENCE\\n\\n1. The Director of Public Prosecut...  ...  <URL>\\n\\n\\n\\n\\n Feedback\\nURL: | Policy Privac...\n",
       "54  JUDGMENT\\n  \\n•  The appellant was charged wit...  ...  \\n\\n    \\n <URL>\\n URL: Feedback\\n | Policy Pr...\n",
       "77  SENTENCE\\n\\nRavneel Ravikash Lal you have been...  ...  <URL>\\n\\n\\n\\n\\n Feedback\\nURL: | Policy Privac...\n",
       "85  JUDGMENT\\n\\nBackground\\n\\nThe appellant pleade...  ...  <URL>\\n\\n\\n\\n\\n Feedback\\nURL: | Policy Privac...\n",
       "97  JUDGMENT\\n[DOMESTIC VIOLENCE]\\n\\n1. On the 9th...  ...  <URL>\\n\\n\\n\\n\\n Feedback\\nURL: | Policy Privac...\n",
       "\n",
       "[5 rows x 3 columns]"
      ]
     },
     "execution_count": 14,
     "metadata": {
      "tags": []
     },
     "output_type": "execute_result"
    }
   ],
   "source": [
    "df[df[\"text\"].str.find('breadwinner')>0].head()"
   ]
  },
  {
   "cell_type": "code",
   "execution_count": null,
   "metadata": {
    "colab": {
     "base_uri": "https://localhost:8080/",
     "height": 34
    },
    "colab_type": "code",
    "id": "xaeb3xKOHBm-",
    "outputId": "c721b6cb-46e7-4fbb-b613-6b3c725442bf"
   },
   "outputs": [
    {
     "data": {
      "text/plain": [
       "512"
      ]
     },
     "execution_count": 15,
     "metadata": {
      "tags": []
     },
     "output_type": "execute_result"
    }
   ],
   "source": [
    "len(tokenizer.convert_ids_to_tokens(input_ids_np[2]))"
   ]
  },
  {
   "cell_type": "code",
   "execution_count": null,
   "metadata": {
    "colab": {},
    "colab_type": "code",
    "id": "XgYJ2rgjFqrH"
   },
   "outputs": [],
   "source": [
    "#np.set_printoptions(threshold=np.inf)\n",
    "#print(input_ids_np[2])\n",
    "\n",
    "\n"
   ]
  },
  {
   "cell_type": "code",
   "execution_count": null,
   "metadata": {
    "colab": {},
    "colab_type": "code",
    "id": "xfvPEEbeBNHI"
   },
   "outputs": [],
   "source": [
    "global_attention_mask = np.where(input_ids != 0, 0, 0)"
   ]
  },
  {
   "cell_type": "code",
   "execution_count": null,
   "metadata": {
    "colab": {},
    "colab_type": "code",
    "id": "P5C3cDQXBNYe"
   },
   "outputs": [],
   "source": []
  },
  {
   "cell_type": "code",
   "execution_count": null,
   "metadata": {
    "colab": {},
    "colab_type": "code",
    "id": "rlGQpSGQBNP_"
   },
   "outputs": [],
   "source": []
  },
  {
   "cell_type": "code",
   "execution_count": null,
   "metadata": {
    "colab": {
     "base_uri": "https://localhost:8080/",
     "height": 37
    },
    "colab_type": "code",
    "id": "624PVM1aCIVA",
    "outputId": "61af3205-c159-433e-a5eb-db7333f53c49"
   },
   "outputs": [
    {
     "data": {
      "application/vnd.google.colaboratory.intrinsic+json": {
       "type": "string"
      },
      "text/plain": [
       "'Tesla K80'"
      ]
     },
     "execution_count": 18,
     "metadata": {
      "tags": []
     },
     "output_type": "execute_result"
    }
   ],
   "source": [
    "# What GPU are we using?\n",
    "torch.cuda.get_device_name(0)"
   ]
  },
  {
   "cell_type": "code",
   "execution_count": null,
   "metadata": {
    "colab": {
     "base_uri": "https://localhost:8080/",
     "height": 174
    },
    "colab_type": "code",
    "id": "AxcJmedpI3L2",
    "outputId": "01a4a8fe-9f71-429c-e2de-4c635ec210bc"
   },
   "outputs": [
    {
     "data": {
      "application/vnd.google.colaboratory.intrinsic+json": {
       "type": "string"
      },
      "text/plain": [
       "'<URL>\\n\\n\\n\\n\\n Feedback\\nURL: | Policy Privacy | Disclaimers | Policy Copyright Accused\\n\\n\\nPacLII: for Commission Aid Legal the of Office State\\n- for Prosecutions Public of Director the of Office - Thurairaja\\nJUDGE\\n\\nSolicitors: \\n\\nS. imprisonment. years 16 is sentence Your concurrently. run to sentences both your order I guilty, pleaded have you Since appeal.\\n\\n33. to days 30 you.\\n\\n32. to punishment deterrent a impose I mind, in children other your \\n\\nHaving mercy. no shown and condemned be should daughter, own his against crime of sort this commits father a of position a as such authority, in person a When Exploitation. and Abuse Sexual from children protect to endevours all making is world entire the and Government that mindful am I years.\\n\\n31. 16 is sentence your Now years. 4 reduce I circumstances, mitigating above all 2010.\\n\\nConsidering March since remand in were You Police.\\n\\ne) the with co-operated You remorseful.\\n\\nd) are You family.\\n\\nc) your of breadwinner the are You offender.\\n\\nb) 1st are You follows:\\n\\na) as circumstances mitigating your consider I Now years.\\n\\n30. 20 is sentence your Now years. 7 add I factors, aggravating above all Considering daughter.\\n\\n29. your to addicted are you much how shows which her, to reason some saying for out wife your sending kitchen the at sex had you occasion last the On daughter.\\n\\ng) a and father a between bond the betrayed You year.\\n\\nf) a of period the during occasions 15 than more for daughter your with intercourse sexual had You slave.\\n\\ne) sex your be to her made You age.\\n\\nd) young very at active sexually be to her made You daughter.\\n\\nc) elder own your is Victim birthday.\\n\\nb) 13th her after day one just was she her, on assault indecent 1st the committed you when age teen her entered just was victim The factors.\\n\\na) aggravating consider I Now \\n\\n28. imprisonment. years 13 at sentencing your commence I case, the of facts the Considering imprisonment. years 16 to years 10 between be can offences the to tariff the cases above all Considering Court.\\n\\n27. the by interference warrants that lenient manifestly so not is it but years 11 than more of sentence a merited case facts The society. human civilised of but relationship daughter father a of only not rules the all broke and her, violated trauma, mental unimaginable but pain physical only not her causing desires lustful his of target a her made father protection, and love her giving of instead years, 3 over occasions 2 on daughter old year 9 then of rape rape, of two and assault indecent of count one on J; Shameem per 2007 May 24 Sentence 3/05B HAC [2007] Lal Prabhu –v- State In imprisonment.\\n\\n26. years 16 to sentenced was considerations all after accused the and sentencing for up transferred was matter The daughter. his raped and assaulted indecently accused the where case this of circumstances and facts same exact the has Talenasila Simione v State of case the In years.\\n\\n25. 11 to sentenced was accused the Cakau v State In years. 11 to rape of sentence the confirmed had FCA the where 2006) March (24 AAU0001.2005S 26; FJCA (2006) State The v Drotini of case the also and children of rape the for point starting the down laid J Shameem where cases the highlighted J Fernando April) (24 HAC010.2010 141; FJHC Cakau v State of case the cases.\\n\\nIn following in discussed was rape of offence the to Tariff term.\\n\\n24. life to up imprisonment life on punishment the that states Decree Crimes the and Code Penal in sections the under rape, of counts 15 have you rape, of charges consider I Now imprisonment.\\n\\n23. years 3 is sentence your Now years. 3 reduce I charges, rape in elaborated be will which circumstances mitigating your Considering years.\\n\\n22. 6 is sentence your Now imprisonment. years 3 increase I charges, rape under details in discuss I which factors aggravating For \\n\\n21. imprisonment. years 3 at sentencing your commence I circumstances, all Considering imprisonment. years 4 to month 12 from range assault indecent for tariff the judgments of line above the Considering girl.\\n\\n20. old year 8 an assaulted indecently who appellant old year 42 a for sentence month 9 a upheld J Fatiaki 1996, of 0006 App. Crim. Radovu Saviriano –v- DPP In child. old year 22 a assaulted indecently who old year 18 an for imprisonment months 18 of sentence a upheld J Townsley 29/98, No. App. Crim. State –v- Lal Abhinesh Robin In other. each to concurrent were sentences The assault. indecent of counts several for imprisonment years two to sentenced was appellant the 53/93, No. App. Crim. State The –v- Naisoroi Mosese In imposed.\\n\\n19. terms other the to concurrent served be to years ten to increased was quashed) been having count other the on conviction (the rape of count one for sentence The lenient. manifestly not were counts, assault indecent the of each on imprisonment years four of sentences concurrent that held Appeal of Court The vagina. the into fingers of inserting the and breasts of fondling of was assault disclosed facts The sentence. against cross-appealed State The concurrently. served be to were sentences The assault. indecent of counts the on imprisonment years 4 and rape, of counts the for imprisonment years 7 to him sentenced had judge trial The assault. indecent of counts four and rape of counts two on guilty found been had appellant the AAU0060.1999, No. App. Crim. State –v- Mutch Mark In penis.\\n\\n18. his suck and appellant the masturbate to victim the upon prevailing and vagina, and breasts of fondling of consisted assault the and months, 12 of period a covered assaults the counts, 3 only were there Although step-daughter. his was victim The assault. indecent of counts three on years 2 to reduced was imprisonment years 3 of sentence appellants the Kadavu) in J Prakash by to referred (also 157, R(s) App. Cr. 10 (1988) Renouf –v- R In months. 9 to imprisonment years 22 from reduced was sentence His area. vaginal the fingering of case this in assault the to similar was assault the of nature The old. years four were who daughter twin his on indecent of counts two to guilty pleaded appellant the 357, R(s) App. Cr. 5 (1987) Helliwell –v- R In imprisonment. year\\'s two around of result, dissimilar not a produced authorities English of review A imprisonment. years 2 to 1 about of sentences pass to was trend general the 1998L), of HAA0038 App. Crim. State –v- Khelawan (Ram imposed been had imprisonment months 1 as low as sentences while that observed J Prakash assault, indecent of cases comparable of review a On daughter. and father between reconciliation was there but assault, indecent the of nature the specify not does judgment The daughter. old years 17 his assaulting indecently of count one of convicted was appellant the case that In assault. indecent for sentences local reviewed J Prakash 2000L, of HAA0049 No. App. Crim. State The -v- Kadavu Veretariki Ratu \"In follows:\\n\\n17. as assault indecent of principles sentencing general the clarified that cases certain highlighted She imprisonment. years 4 to months 12 between as tariffs the out laid J Shameem where case a is 2002) August (23 HAA0068J.2002S 168; FJHC [2002] State the v Rokota of case the assault indecent of offence the offence.\\n\\nFor this to tariff the consider I Now imprisonment.\\n\\n16. years 5 to up punishment a is 154 Section Code Penal the per As consent.\\n\\n15. giving of incapable is years 13 of age the under child a section, this For consent.\\n\\n(3) person\\'s other the without penis person\\'s the with extent any to person other the of mouth the penetrates person the or\\n\\n(c) consent; person\\'s other the without penis a not is that body person\\'s the of part a or thing a with extent any to person the of anus or vagina vulva, the penetrates person the \\n\\n(b) or consent; person\\'s other the without person other the of or with knowledge carnal has person the if-\\n\\n(a) person another rapes person A life.\\n\\n(2) for Imprisonment – offence.\\nPenalty indictable an commits person another rapes who person Any female.\\n\\n207.-(1) or male a for provided whether vulva, constructed surgically a includes female.\\n\\n\"vulva\" or male a for provided whether vagina, constructed surgically a includes female.\\n\\n\"vagina\" or male a for provided whether penis, constructed surgically a includes genitalia.\\n\\n\"penis\" construct surgically includes \\n\\n\"genitalia\" – terms The sodomy.\\n\\n(6) includes knowledge\" \"Carnal extent.\\n\\n(5) any to penetration on complete is it, of element that regards as far so offence, the offence, an defining in used is knowledge\" \"carnal If only.\\n\\n(4) purpose enforcement law or hygienic medical, proper a for penetrate include not does \"penetrate\" term The partner.\\n\\n(3) sexual person\\'s the was person accused the that person accused the by induced belief mistake a by or\\n\\n(f) act; the of purpose or nature the about representations fraudulent and false by or\\n\\n(e) authority; of exercise by or\\n\\n(d) harm; bodily of fear by or\\n\\n(c) harm; intimidation or threat by or\\n\\n(b) force; by obtained:\\n\\n(a) is it if given voluntarily and freely not is act an to consent person\\'s a (1), sub-section limiting Without consent.\\n\\n(2) constitute alone not shall person another of act an to person a by resistance physical without submission the and consent, the give to capacity mental necessary the with person a by given voluntarily and freely consent means \"consent\" term The Decree\\n\\n206.-(1) Crimes the of 207 and 206 Section punishment.\\n\\nc) corporal without or with life, for imprisonment to liable is rape of offence the commits who person rape.\\n\\nAny termed felony the of guilty is husband, her personating by woman, married a of case the in or act, the of nature the to as representations false of means by or harm, bodily of fear by or kind, any of intimidation or threat of means by or force by obtained is consent the if consent her with or consent, her without girl, or woman a of knowledge carnal unlawful has who person Code\\n\\nAny Penal the of 150 and 149 Section punishment.\\n\\nb) corporal without or with years, five for imprisonment to liable is and felony, a of guilty is girl or woman any assaults indecently and unlawfully who person Code\\n\\nAny Penal the of (1) 154 Section Law.\\n\\na) relevant the consider I Now Counsel.\\n\\n14. State the by sentencing on submission the and Counsel your of submissions the considered I sentence. your mitigate to submission file to time moved Counsel Your son.\\n\\n13. a and victim the including daughters 4 have you submitted You charged.\\n\\n12. as counts, 16 all for you convicted and guilty you found I unequivocal, be guilty of plea your with satisfying On sheet. information the in charges all to guilty pleaded and Counsel your with appeared you 25th the On plea.\\n\\n11. your reconsider to date a for moved Aid Legal from Counsel your 2010 August 24th the On instant.\\n\\n10. 24th and 17th to postponed is matter the therefore information, the in charges amend to moved prosecution the But charges. all to guilty pleaded have you 2010, August 16 on Judge brother my before Court, High the at up taken was matter the When follows.\"\\n\\n9. as are factors mitigating my and will free own my in me against laid were that charges all to guilty pleading is Tamanitoakula Asaeli I respect, due all follows:\\n\\n\"With as submitted have you then mitigation, your for submission of grounds 8 filed have you meantime the In Court.\\n\\n8. High the to case the transferred and Decree Procedure Criminal the of 190 Section under acting Magistrate Learned the 02/08/10, to adjourned and 23/07/10 the on mentioned was matter This date.\\n\\n7. next the to adjourned and Commission Aid Legal from assistance have to you instructed Magistrate learned The charges. all to guilty pleaded and representation, Legal have to Right the off waived you Magistrate Learned the before mentioned was matter the when 12/07/2010 the On reasons.\\n\\n6. various for 29/06/10 and 28/06/10 25/06/10, 11/06/10, 08/06/10, 25/05/10, on mentioned was case the then Since amended.\\n\\n5. was charge The matter. the hear to Magistrate Learned to back transferred was case the 14/05/2010 the On \\n\\n4. Court. High the to transferred was case the and counsel retained a have you 2010 March 30th the On you.\\n\\n3. to representation legal of availability non to due deferred was plea 2010, March 19th on Magistrate Learned the before up came originally matter this When consent.\\n\\n2. her without Cagimaiwai Lanieta namely girl a of knowledge carnal unlawful had Division, Northern the in Bua, Nasorowaqa, at 2010, March of day 13th the on Tamanitoakula, (b)\\n\\nAsaeli Offence of 2009.\\n\\nParticulars of 44 No. Decree Crimes the of 207 and 206 Section to Contrary (a)\\n\\nRAPE: Offence of COUNT\\n\\nStatement consent.\\n\\nSIXTEENTH her without Cagimaiwai Lanieta namely girl a of knowledge carnal unlawful had Division, Northern the in Bua, Nasorowaqa, at 2010, February of day 28th the to 2010 February of day 1st the on Tamanitoakula, (b)\\n\\nAsaeli Offence of 2009.\\n\\nParticulars of 44 No. Decree Crimes the of 207 and 206 Section to Contrary (a)\\n\\nRAPE: Offence of COUNT\\n\\nStatement consent.\\n\\nFIFTEENTH her without Cagimaiwai Lanieta namely girl a of knowledge carnal unlawful had Division, Northern the in Bua, Nasorowaqa, at 2010, January of day 31st the to 2010 January of day 1st the on Tamanitoakula, (b)\\n\\nAsaeli Offence of 17.\\n\\nParticulars Cap Code Penal the of 150 and 149 Section to Contrary (a)\\n\\nRAPE: Offence of COUNT\\n\\nStatement consent.\\n\\nFOURTEENTH her without Cagimaiwai Lanieta namely girl a of knowledge carnal unlawful had Division, Northern the in Bua, Nasorowaqa, at 2009, November of day 30th the to 2009 November of day 1st the on Tamanitoakula, (b)\\n\\nAsaeli Offence of 17.\\n\\nParticulars Cap Code Penal the of 150 and 149 Section to Contrary (a)\\n\\nRAPE: Offence of COUNT\\n\\nStatement consent.\\n\\nTHIRTEENTH her without Cagimaiwai Lanieta namely girl a of knowledge carnal unlawful had Division, Northern the in Bua, Nasorowaqa, at 2009, September of day 30th the to 2009 September of day 1st the on Tamanitoakula, (b)\\n\\nAsaeli Offence of 17.\\n\\nParticulars Cap Code Penal the of 150 and 149 Section to Contrary (a)\\n\\nRAPE: Offence of COUNT\\n\\nStatement consent.\\n\\nTWELFTH her without Cagimaiwai Lanieta namely girl a of knowledge carnal unlawful had Division, Northern the in Bua, Nasorowaqa, at 2009, August of day 31st the to 2009 August of day 1st the on Tamanitoakula, (b)\\n\\nAsaeli Offence of 17.\\n\\nParticulars Cap Code Penal the of 150 and 149 Section to Contrary (a)\\n\\nRAPE: Offence of COUNT\\n\\nStatement consent.\\n\\nELEVENTH her without Cagimaiwai Lanieta namely girl a of knowledge carnal unlawful had Division, Northern the in Bua, Nasorowaqa, at 2009, April of day 30th the to 2009 April of day 1st the on Tamanitoakula, (b)\\n\\nAsaeli Offence of 17.\\n\\nParticulars Cap Code Penal the of 150 and 149 Section to Contrary (a)\\n\\nRAPE: Offence of COUNT\\n\\nStatement consent.\\n\\nTENTH her without Cagimaiwai Lanieta namely girl a of knowledge carnal unlawful had Division, Northern the in Bua, Nasorowaqa, at 2009, February of day 3rd the on Tamanitoakula, (b)\\n\\nAsaeli Offence of 17.\\n\\nParticulars Cap Code Penal the of 150 and 149 Section to Contrary (a)\\n\\nRAPE: Offence of COUNT\\n\\nStatement consent.\\n\\nNINETH her without Cagimaiwai Lanieta namely girl a of knowledge carnal unlawful had Division, Northern the in Bua, Nasorowaqa, at 2009, February of day 2nd the on Tamanitoakula, (b)\\n\\nAsaeli Offence of 17.\\n\\nParticulars Cap Code Penal the of 150 and 149 Section to Contrary (a)\\n\\nRAPE: Offence of COUNT\\n\\nStatement consent.\\n\\nEIGHTH her without Cagimaiwai Lanieta namely girl a of knowledge carnal unlawful had Division, Northern the in Bua, Nasorowaqa, at 2009, January of day 27th the on Tamanitoakula, (b)\\n\\nAsaeli Offence of 17.\\n\\nParticulars Cap Code Penal the of 150 and 149 Section to Contrary (a)\\n\\nRAPE: Offence of COUNT\\n\\nStatement consent.\\n\\nSEVENTH her without Cagimaiwai Lanieta namely girl a of knowledge carnal unlawful had Division, Northern the in Bua, Nasorowaqa, at 2009, January of day 25th the on Tamanitoakula, (b)\\n\\nAsaeli Offence of 17.\\n\\nParticulars Cap Code Penal the of 150 and 149 Section to Contrary (a)\\n\\nRAPE: Offence of COUNT\\n\\nStatement consent.\\n\\nSIXTH her without Cagimaiwai Lanieta namely girl a of knowledge carnal unlawful had Division, Northern the in Bua, Nasorowaqa, at 2009, January of day 24th the on Tamanitoakula, (b)\\n\\nAsaeli Offence of 17.\\n\\nParticulars Cap Code Penal the of 150 and 149 Section to Contrary (a)\\n\\nRAPE: Offence of COUNT\\n\\nStatement consent.\\n\\nFIFTH her without Cagimaiwai Lanieta namely girl a of knowledge carnal unlawful had Division, Northern the in Bua, Nasorowaqa, at 2009, January of day 21st the on Tamanitoakula, (b)\\n\\nAsaeli Offence of 17.\\n\\nParticulars Cap Code Penal the of 150 and 149 Section to Contrary (a)\\n\\nRAPE: Offence of COUNT\\n\\nStatement consent.\\n\\nFOURTH her without Cagimaiwai Lanieta namely girl a of knowledge carnal unlawful had Division, Northern the in Bua, Nasorowaqa, at 2009, January of day 20th the on Tamanitoakula, (b)\\n\\nAsaeli Offence of 17.\\n\\nParticulars Cap Code Penal the of 150 and 149 Section to Contrary (a)\\n\\nRAPE: Offence of COUNT\\n\\nStatement consent.\\n\\nTHIRD her without Cagimaiwai Lanieta namely girl a of knowledge carnal unlawful had Division, Northern the in Bua, Nasorowaqa, at 2009, January of day 17th the on Tamanitoakula, (b)\\n\\nAsaeli Offence of 17.\\n\\nParticulars Cap Code Penal the of 150 and 149 Section to Contrary (a)\\n\\nRAPE: Offence of COUNT\\n\\nStatement Cagimaiwai.\\n\\nSECOND Lanieta assaulted indecently and unlawfully Division, Northern the in Bua, Nasorowaqa, at 2009, January of day 16th the on Tamanitoakula, (b)\\n\\nAsaeli Offence of 17.\\n\\nParticulars Cap Code Penal the of (1) 154 Section to Contrary ASSAULT: (a)\\n\\nINDECENT Offence of COUNT\\n\\nStatement follows.\\n\\nFIRST as you against charge a preferred has Prosecution Public of Director The SENTENCE\\n\\n1.'"
      ]
     },
     "execution_count": 19,
     "metadata": {
      "tags": []
     },
     "output_type": "execute_result"
    }
   ],
   "source": [
    "df['txet'][2]"
   ]
  },
  {
   "cell_type": "code",
   "execution_count": null,
   "metadata": {
    "colab": {
     "base_uri": "https://localhost:8080/",
     "height": 54
    },
    "colab_type": "code",
    "id": "uzfxBgOVCP9c",
    "outputId": "41d31abe-3f8e-47cc-beeb-f39c1c575632"
   },
   "outputs": [
    {
     "name": "stdout",
     "output_type": "stream",
     "text": [
      "Tokenized:  ['<', 'URL', '>', 'ĊĊ', 'ĊĊ', 'Ċ', 'ĠFeedback', 'Ċ', 'URL', ':', 'Ġ|', 'ĠPolicy', 'ĠPrivacy', 'Ġ|', 'ĠDis', 'claim', 'ers', 'Ġ|', 'ĠPolicy', 'ĠCopyright', 'ĠAcc', 'used', 'ĊĊ', 'Ċ', 'Pac', 'L', 'II', ':', 'Ġfor', 'ĠCommission', 'ĠAid', 'ĠLegal', 'Ġthe', 'Ġof', 'ĠOffice', 'ĠState', 'Ċ', '-', 'Ġfor', 'ĠPro', 'sec', 'utions', 'ĠPublic', 'Ġof', 'ĠDirector', 'Ġthe', 'Ġof', 'ĠOffice', 'Ġ-', 'ĠThur', 'air', 'aja', 'Ċ', 'J', 'UD', 'GE', 'Ċ', 'Ċ', 'Sol', 'icit', 'ors', ':', 'Ġ', 'Ċ', 'Ċ', 'S', '.', 'Ġimprisonment', '.', 'Ġyears', 'Ġ16', 'Ġis', 'Ġsentence', 'ĠYour', 'Ġconcurrently', '.', 'Ġrun', 'Ġto', 'Ġsentences', 'Ġboth', 'Ġyour', 'Ġorder', 'ĠI', 'Ġguilty', ',', 'Ġpleaded', 'Ġhave', 'Ġyou', 'ĠSince', 'Ġappeal', '.', 'Ċ', 'Ċ', '33', '.', 'Ġto', 'Ġdays', 'Ġ30', 'Ġyou', '.', 'Ċ', 'Ċ', '32', '.', 'Ġto', 'Ġpunishment', 'Ġdeterrent', 'Ġa', 'Ġimpose', 'ĠI', 'Ġmind', ',', 'Ġin', 'Ġchildren', 'Ġother', 'Ġyour', 'Ġ', 'Ċ', 'Ċ', 'Having', 'Ġmercy', '.', 'Ġno', 'Ġshown', 'Ġand', 'Ġcondemned', 'Ġbe', 'Ġshould', 'Ġdaughter', ',', 'Ġown', 'Ġhis', 'Ġagainst', 'Ġcrime', 'Ġof', 'Ġsort', 'Ġthis', 'Ġcommits', 'Ġfather', 'Ġa', 'Ġof', 'Ġposition', 'Ġa', 'Ġas', 'Ġsuch', 'Ġauthority', ',', 'Ġin', 'Ġperson', 'Ġa', 'ĠWhen', 'ĠExpl', 'o', 'itation', '.', 'Ġand', 'ĠAbuse', 'ĠSexual', 'Ġfrom', 'Ġchildren', 'Ġprotect', 'Ġto', 'Ġend', 'ev', 'ours', 'Ġall', 'Ġmaking', 'Ġis', 'Ġworld', 'Ġentire', 'Ġthe', 'Ġand', 'ĠGovernment', 'Ġthat', 'Ġmindful', 'Ġam', 'ĠI', 'Ġyears', '.', 'Ċ', 'Ċ', '31', '.', 'Ġ16', 'Ġis', 'Ġsentence', 'Ġyour', 'ĠNow', 'Ġyears', '.', 'Ġ4', 'Ġreduce', 'ĠI', 'Ġcircumstances', ',', 'Ġmitigating', 'Ġabove', 'Ġall', 'Ġ2010', '.', 'Ċ', 'Ċ', 'Considering', 'ĠMarch', 'Ġsince', 'Ġrem', 'and', 'Ġin', 'Ġwere', 'ĠYou', 'ĠPolice', '.', 'Ċ', 'Ċ', 'e', ')', 'Ġthe', 'Ġwith', 'Ġco', '-', 'operated', 'ĠYou', 'Ġremorse', 'ful', '.', 'Ċ', 'Ċ', 'd', ')', 'Ġare', 'ĠYou', 'Ġfamily', '.', 'Ċ', 'Ċ', 'c', ')', 'Ġyour', 'Ġof', 'Ġbread', 'winner', 'Ġthe', 'Ġare', 'ĠYou', 'Ġoffender', '.', 'Ċ', 'Ċ', 'b', ')', 'Ġ1', 'st', 'Ġare', 'ĠYou', 'Ġfollows', ':', 'Ċ', 'Ċ', 'a', ')', 'Ġas', 'Ġcircumstances', 'Ġmitigating', 'Ġyour', 'Ġconsider', 'ĠI', 'ĠNow', 'Ġyears', '.', 'Ċ', 'Ċ', '30', '.', 'Ġ20', 'Ġis', 'Ġsentence', 'Ġyour', 'ĠNow', 'Ġyears', '.', 'Ġ7', 'Ġadd', 'ĠI', 'Ġfactors', ',', 'Ġaggrav', 'ating', 'Ġabove', 'Ġall', 'ĠConsidering', 'Ġdaughter', '.', 'Ċ', 'Ċ', '29', '.', 'Ġyour', 'Ġto', 'Ġaddicted', 'Ġare', 'Ġyou', 'Ġmuch', 'Ġhow', 'Ġshows', 'Ġwhich', 'Ġher', ',', 'Ġto', 'Ġreason', 'Ġsome', 'Ġsaying', 'Ġfor', 'Ġout', 'Ġwife', 'Ġyour', 'Ġsending', 'Ġkitchen', 'Ġthe', 'Ġat', 'Ġsex', 'Ġhad', 'Ġyou', 'Ġoccasion', 'Ġlast', 'Ġthe', 'ĠOn', 'Ġdaughter', '.', 'Ċ', 'Ċ', 'g', ')', 'Ġa', 'Ġand', 'Ġfather', 'Ġa', 'Ġbetween', 'Ġbond', 'Ġthe', 'Ġbetrayed', 'ĠYou', 'Ġyear', '.', 'Ċ', 'Ċ', 'f', ')', 'Ġa', 'Ġof', 'Ġperiod', 'Ġthe', 'Ġduring', 'Ġoccasions', 'Ġ15', 'Ġthan', 'Ġmore', 'Ġfor', 'Ġdaughter', 'Ġyour', 'Ġwith', 'Ġintercourse', 'Ġsexual', 'Ġhad', 'ĠYou', 'Ġslave', '.', 'Ċ', 'Ċ', 'e', ')', 'Ġsex', 'Ġyour', 'Ġbe', 'Ġto', 'Ġher', 'Ġmade', 'ĠYou', 'Ġage', '.', 'Ċ', 'Ċ', 'd', ')', 'Ġyoung', 'Ġvery', 'Ġat', 'Ġactive', 'Ġsexually', 'Ġbe', 'Ġto', 'Ġher', 'Ġmade', 'ĠYou', 'Ġdaughter', '.', 'Ċ', 'Ċ', 'c', ')', 'Ġelder', 'Ġown', 'Ġyour', 'Ġis', 'ĠVictim', 'Ġbirthday', '.', 'Ċ', 'Ċ', 'b', ')', 'Ġ13', 'th', 'Ġher', 'Ġafter', 'Ġday', 'Ġone', 'Ġjust', 'Ġwas', 'Ġshe', 'Ġher', ',', 'Ġon', 'Ġassault', 'Ġindecent', 'Ġ1', 'st', 'Ġthe', 'Ġcommitted', 'Ġyou', 'Ġwhen', 'Ġage', 'Ġteen', 'Ġher', 'Ġentered', 'Ġjust', 'Ġwas', 'Ġvictim', 'ĠThe', 'Ġfactors', '.', 'Ċ', 'Ċ', 'a', ')', 'Ġaggrav', 'ating', 'Ġconsider', 'ĠI', 'ĠNow', 'Ġ', 'Ċ', 'Ċ', '28', '.', 'Ġimprisonment', '.', 'Ġyears', 'Ġ13', 'Ġat', 'Ġsentencing', 'Ġyour', 'Ġcommence', 'ĠI', 'Ġcase', ',', 'Ġthe', 'Ġof', 'Ġfacts', 'Ġthe', 'ĠConsidering', 'Ġimprisonment', '.', 'Ġyears', 'Ġ16', 'Ġto', 'Ġyears', 'Ġ10', 'Ġbetween', 'Ġbe', 'Ġcan', 'Ġoffences', 'Ġthe', 'Ġto', 'Ġtariff', 'Ġthe', 'Ġcases', 'Ġabove', 'Ġall', 'ĠConsidering', 'ĠCourt', '.', 'Ċ', 'Ċ', '27', '.', 'Ġthe', 'Ġby', 'Ġinterference', 'Ġwarrants', 'Ġthat', 'Ġlen', 'ient', 'Ġmanifest', 'ly', 'Ġso', 'Ġnot', 'Ġis', 'Ġit', 'Ġbut', 'Ġyears', 'Ġ11', 'Ġthan', 'Ġmore', 'Ġof', 'Ġsentence', 'Ġa', 'Ġmer', 'ited', 'Ġcase', 'Ġfacts', 'ĠThe', 'Ġsociety', '.', 'Ġhuman', 'Ġcivil', 'ised', 'Ġof', 'Ġbut', 'Ġrelationship', 'Ġdaughter', 'Ġfather', 'Ġa', 'Ġof', 'Ġonly', 'Ġnot', 'Ġrules', 'Ġthe', 'Ġall', 'Ġbroke', 'Ġand', 'Ġher', ',', 'Ġviolated', 'Ġtrauma', ',', 'Ġmental', 'Ġunimaginable', 'Ġbut', 'Ġpain', 'Ġphysical', 'Ġonly', 'Ġnot', 'Ġher', 'Ġcausing', 'Ġdesires', 'Ġlust', 'ful', 'Ġhis', 'Ġof', 'Ġtarget', 'Ġa', 'Ġher', 'Ġmade', 'Ġfather', 'Ġprotection', ',', 'Ġand', 'Ġlove', 'Ġher', 'Ġgiving', 'Ġof', 'Ġinstead', 'Ġyears', ',', 'Ġ3', 'Ġover', 'Ġoccasions', 'Ġ2', 'Ġon', 'Ġdaughter', 'Ġold', 'Ġyear', 'Ġ9', 'Ġthen', 'Ġof', 'Ġrape', 'Ġrape', ',', 'Ġof', 'Ġtwo', 'Ġand', 'Ġassault', 'Ġindecent', 'Ġof', 'Ġcount', 'Ġone', 'Ġon', 'ĠJ', ';', 'ĠShame', 'em', 'Ġper', 'Ġ2007', 'ĠMay', 'Ġ24', 'ĠSent', 'ence', 'Ġ3', '/', '05', 'B', 'ĠH', 'AC', 'Ġ[', '2007', ']', 'ĠLal', 'ĠPr', 'ab', 'hu', 'ĠâĢĵ', 'v', '-', 'ĠState', 'ĠIn', 'Ġimprisonment', '.', 'Ċ', 'Ċ', '26', '.', 'Ġyears', 'Ġ16', 'Ġto', 'Ġsentenced', 'Ġwas', 'Ġconsiderations', 'Ġall', 'Ġafter', 'Ġaccused', 'Ġthe', 'Ġand', 'Ġsentencing', 'Ġfor', 'Ġup', 'Ġtransferred', 'Ġwas', 'Ġmatter', 'ĠThe', 'Ġdaughter', '.', 'Ġhis', 'Ġraped', 'Ġand', 'Ġassaulted', 'Ġindec', 'ently', 'Ġaccused', 'Ġthe', 'Ġwhere', 'Ġcase', 'Ġthis', 'Ġof', 'Ġcircumstances', 'Ġand', 'Ġfacts', 'Ġsame', 'Ġexact', 'Ġthe', 'Ġhas', 'ĠTal', 'en', 'as', 'ila', 'ĠSim', 'ione', 'Ġv', 'ĠState', 'Ġof', 'Ġcase', 'Ġthe', 'ĠIn', 'Ġyears', '.', 'Ċ', 'Ċ', '25', '.', 'Ġ11', 'Ġto', 'Ġsentenced', 'Ġwas', 'Ġaccused', 'Ġthe', 'ĠC', 'ak', 'au', 'Ġv', 'ĠState', 'ĠIn', 'Ġyears', '.', 'Ġ11', 'Ġto', 'Ġrape', 'Ġof', 'Ġsentence', 'Ġthe', 'Ġconfirmed', 'Ġhad', 'ĠF', 'CA', 'Ġthe', 'Ġwhere', 'Ġ2006', ')', 'ĠMarch', 'Ġ(', '24', 'ĠAA', 'U', '0001', '.', '2005', 'S', 'Ġ26', ';', 'ĠF', 'J', 'CA', 'Ġ(', '2006', ')', 'ĠState', 'ĠThe', 'Ġv', 'ĠD', 'rot', 'ini', 'Ġof', 'Ġcase', 'Ġthe', 'Ġalso', 'Ġand', 'Ġchildren', 'Ġof', 'Ġrape', 'Ġthe', 'Ġfor', 'Ġpoint', 'Ġstarting', 'Ġthe', 'Ġdown', 'Ġlaid', 'ĠJ', 'ĠShame', 'em', 'Ġwhere', 'Ġcases', 'Ġthe', 'Ġhighlighted', 'ĠJ', 'ĠFernando', 'ĠApril', ')', 'Ġ(', '24', 'ĠH', 'AC', '010', '.', '2010', 'Ġ141', ';', 'ĠF', 'J', 'HC', 'ĠC', 'ak', 'au', 'Ġv', 'ĠState', 'Ġof', 'Ġcase', 'Ġthe', 'Ġcases', '.', 'Ċ', 'Ċ', 'In', 'Ġfollowing', 'Ġin', 'Ġdiscussed', 'Ġwas', 'Ġrape', 'Ġof', 'Ġoffence', 'Ġthe', 'Ġto', 'ĠTar', 'iff', 'Ġterm', '.', 'Ċ', 'Ċ', '24', '.', 'Ġlife', 'Ġto', 'Ġup', 'Ġimprisonment', 'Ġlife', 'Ġon', 'Ġpunishment', 'Ġthe', 'Ġthat', 'Ġstates', 'ĠDec', 'ree', 'ĠCrimes', 'Ġthe', 'Ġand', 'ĠCode', 'ĠPenal', 'Ġin', 'Ġsections', 'Ġthe', 'Ġunder', 'Ġrape', ',', 'Ġof', 'Ġcounts', 'Ġ15', 'Ġhave', 'Ġyou', 'Ġrape', ',', 'Ġof', 'Ġcharges', 'Ġconsider', 'ĠI', 'ĠNow', 'Ġimprisonment', '.', 'Ċ', 'Ċ', '23', '.', 'Ġyears', 'Ġ3', 'Ġis', 'Ġsentence', 'Ġyour', 'ĠNow', 'Ġyears', '.', 'Ġ3', 'Ġreduce', 'ĠI', 'Ġcharges', ',', 'Ġrape', 'Ġin', 'Ġelaborated', 'Ġbe', 'Ġwill', 'Ġwhich', 'Ġcircumstances', 'Ġmitigating', 'Ġyour', 'ĠConsidering', 'Ġyears', '.', 'Ċ', 'Ċ', '22', '.', 'Ġ6', 'Ġis', 'Ġsentence', 'Ġyour', 'ĠNow', 'Ġimprisonment', '.', 'Ġyears', 'Ġ3', 'Ġincrease', 'ĠI', 'Ġcharges', ',', 'Ġrape', 'Ġunder', 'Ġdetails', 'Ġin', 'Ġdiscuss', 'ĠI', 'Ġwhich', 'Ġfactors', 'Ġaggrav', 'ating', 'ĠFor', 'Ġ', 'Ċ', 'Ċ', '21', '.', 'Ġimprisonment', '.', 'Ġyears', 'Ġ3', 'Ġat', 'Ġsentencing', 'Ġyour', 'Ġcommence', 'ĠI', 'Ġcircumstances', ',', 'Ġall', 'ĠConsidering', 'Ġimprisonment', '.', 'Ġyears', 'Ġ4', 'Ġto', 'Ġmonth', 'Ġ12', 'Ġfrom', 'Ġrange', 'Ġassault', 'Ġindecent', 'Ġfor', 'Ġtariff', 'Ġthe', 'Ġjudgments', 'Ġof', 'Ġline', 'Ġabove', 'Ġthe', 'ĠConsidering', 'Ġgirl', '.', 'Ċ', 'Ċ', '20', '.', 'Ġold', 'Ġyear', 'Ġ8', 'Ġan', 'Ġassaulted', 'Ġindec', 'ently', 'Ġwho', 'Ġappellant', 'Ġold', 'Ġyear', 'Ġ42', 'Ġa', 'Ġfor', 'Ġsentence', 'Ġmonth', 'Ġ9', 'Ġa', 'Ġupheld', 'ĠJ', 'ĠF', 'ati', 'aki', 'Ġ1996', ',', 'Ġof', 'Ġ000', '6', 'ĠApp', '.', 'ĠCrim', '.', 'ĠRad', 'ov', 'u', 'ĠSav', 'ir', 'iano', 'ĠâĢĵ', 'v', '-', 'ĠD', 'PP', 'ĠIn', 'Ġchild', '.', 'Ġold', 'Ġyear', 'Ġ22', 'Ġa', 'Ġassaulted', 'Ġindec', 'ently', 'Ġwho', 'Ġold', 'Ġyear', 'Ġ18', 'Ġan', 'Ġfor', 'Ġimprisonment', 'Ġmonths', 'Ġ18', 'Ġof', 'Ġsentence', 'Ġa', 'Ġupheld', 'ĠJ', 'ĠTowns', 'ley', 'Ġ29', '/', '98', ',', 'ĠNo', '.', 'ĠApp', '.', 'ĠCrim', '.', 'ĠState', 'ĠâĢĵ', 'v', '-', 'ĠLal', 'ĠAb', 'h', 'ines', 'h', 'ĠRobin', 'ĠIn', 'Ġother', '.', 'Ġeach', 'Ġto', 'Ġconcurrent', 'Ġwere', 'Ġsentences', 'ĠThe', 'Ġassault', '.', 'Ġindecent', 'Ġof', 'Ġcounts', 'Ġseveral', 'Ġfor', 'Ġimprisonment', 'Ġyears', 'Ġtwo', 'Ġto', 'Ġsentenced', 'Ġwas', 'Ġappellant', 'Ġthe', 'Ġ53', '/', '93', ',', 'ĠNo', '.', 'ĠApp', '.', 'ĠCrim', '.', 'ĠState', 'ĠThe', 'ĠâĢĵ', 'v', '-', 'ĠNa', 'is', 'oro', 'i', 'ĠMos', 'ese', 'ĠIn', 'Ġimposed', '.', 'Ċ', 'Ċ', '19', '.', 'Ġterms', 'Ġother', 'Ġthe', 'Ġto', 'Ġconcurrent', 'Ġserved', 'Ġbe', 'Ġto', 'Ġyears', 'Ġten', 'Ġto', 'Ġincreased', 'Ġwas', 'Ġqu', 'ashed', ')', 'Ġbeen', 'Ġhaving', 'Ġcount', 'Ġother', 'Ġthe', 'Ġon', 'Ġconviction', 'Ġ(', 'the', 'Ġrape', 'Ġof', 'Ġcount', 'Ġone', 'Ġfor', 'Ġsentence', 'ĠThe', 'Ġlen', 'ient', '.', 'Ġmanifest', 'ly', 'Ġnot', 'Ġwere', 'Ġcounts', ',', 'Ġassault', 'Ġindecent', 'Ġthe', 'Ġof', 'Ġeach', 'Ġon', 'Ġimprisonment', 'Ġyears', 'Ġfour', 'Ġof', 'Ġsentences', 'Ġconcurrent', 'Ġthat', 'Ġheld', 'ĠAppeal', 'Ġof', 'ĠCourt', 'ĠThe', 'Ġvagina', '.', 'Ġthe', 'Ġinto', 'Ġfingers', 'Ġof', 'Ġinserting', 'Ġthe', 'Ġand', 'Ġbreasts', 'Ġof', 'Ġfond', 'ling', 'Ġof', 'Ġwas', 'Ġassault', 'Ġdisclosed', 'Ġfacts', 'ĠThe', 'Ġsentence', '.', 'Ġagainst', 'Ġcross', '-', 'app', 'eal', 'ed', 'ĠState', 'ĠThe', 'Ġconcurrently', '.', 'Ġserved', 'Ġbe', 'Ġto', 'Ġwere', 'Ġsentences', 'ĠThe', 'Ġassault', '.', 'Ġindecent', 'Ġof', 'Ġcounts', 'Ġthe', 'Ġon', 'Ġimprisonment', 'Ġyears', 'Ġ4', 'Ġand', 'Ġrape', ',', 'Ġof', 'Ġcounts', 'Ġthe', 'Ġfor', 'Ġimprisonment', 'Ġyears', 'Ġ7', 'Ġto', 'Ġhim', 'Ġsentenced', 'Ġhad', 'Ġjudge', 'Ġtrial', 'ĠThe', 'Ġassault', '.', 'Ġindecent', 'Ġof', 'Ġcounts', 'Ġfour', 'Ġand', 'Ġrape', 'Ġof', 'Ġcounts', 'Ġtwo', 'Ġon', 'Ġguilty', 'Ġfound', 'Ġbeen', 'Ġhad', 'Ġappellant', 'Ġthe', 'ĠAA', 'U', '00', '60', '.', '1999', ',', 'ĠNo', '.', 'ĠApp', '.', 'ĠCrim', '.', 'ĠState', 'ĠâĢĵ', 'v', '-', 'ĠM', 'utch', 'ĠMark', 'ĠIn', 'Ġpenis', '.', 'Ċ', 'Ċ', '18', '.', 'Ġhis', 'Ġsuck', 'Ġand', 'Ġappellant', 'Ġthe', 'Ġmasturb', 'ate', 'Ġto', 'Ġvictim', 'Ġthe', 'Ġupon', 'Ġprevailing', 'Ġand', 'Ġvagina', ',', 'Ġand', 'Ġbreasts', 'Ġof', 'Ġfond', 'ling', 'Ġof', 'Ġconsisted', 'Ġassault', 'Ġthe', 'Ġand', 'Ġmonths', ',', 'Ġ12', 'Ġof', 'Ġperiod', 'Ġa', 'Ġcovered', 'Ġassaults', 'Ġthe', 'Ġcounts', ',', 'Ġ3', 'Ġonly', 'Ġwere', 'Ġthere', 'ĠAlthough', 'Ġstep', '-', 'daughter', '.', 'Ġhis', 'Ġwas', 'Ġvictim', 'ĠThe', 'Ġassault', '.', 'Ġindecent', 'Ġof', 'Ġcounts', 'Ġthree', 'Ġon', 'Ġyears', 'Ġ2', 'Ġto', 'Ġreduced', 'Ġwas', 'Ġimprisonment', 'Ġyears', 'Ġ3', 'Ġof', 'Ġsentence', 'Ġappell', 'ants', 'Ġthe', 'ĠKad', 'av', 'u', ')', 'Ġin', 'ĠJ', 'ĠP', 'rak', 'ash', 'Ġby', 'Ġto', 'Ġreferred', 'Ġ(', 'also', 'Ġ157', ',', 'ĠR', '(', 's', ')', 'ĠApp', '.', 'ĠCr', '.', 'Ġ10', 'Ġ(', '1988', ')', 'ĠRen', 'ouf', 'ĠâĢĵ', 'v', '-', 'ĠR', 'ĠIn', 'Ġmonths', '.', 'Ġ9', 'Ġto', 'Ġimprisonment', 'Ġyears', 'Ġ22', 'Ġfrom', 'Ġreduced', 'Ġwas', 'Ġsentence', 'ĠHis', 'Ġarea', '.', 'Ġvaginal', 'Ġthe', 'Ġfing', 'ering', 'Ġof', 'Ġcase', 'Ġthis', 'Ġin', 'Ġassault', 'Ġthe', 'Ġto', 'Ġsimilar', 'Ġwas', 'Ġassault', 'Ġthe', 'Ġof', 'Ġnature', 'ĠThe', 'Ġold', '.', 'Ġyears', 'Ġfour', 'Ġwere', 'Ġwho', 'Ġdaughter', 'Ġtwin', 'Ġhis', 'Ġon', 'Ġindecent', 'Ġof', 'Ġcounts', 'Ġtwo', 'Ġto', 'Ġguilty', 'Ġpleaded', 'Ġappellant', 'Ġthe', 'Ġ357', ',', 'ĠR', '(', 's', ')', 'ĠApp', '.', 'ĠCr', '.', 'Ġ5', 'Ġ(', '1987', ')', 'ĠHell', 'i', 'well', 'ĠâĢĵ', 'v', '-', 'ĠR', 'ĠIn', 'Ġimprisonment', '.', 'Ġyear', \"'s\", 'Ġtwo', 'Ġaround', 'Ġof', 'Ġresult', ',', 'Ġdiss', 'imilar', 'Ġnot', 'Ġa', 'Ġproduced', 'Ġauthorities', 'ĠEnglish', 'Ġof', 'Ġreview', 'ĠA', 'Ġimprisonment', '.', 'Ġyears', 'Ġ2', 'Ġto', 'Ġ1', 'Ġabout', 'Ġof', 'Ġsentences', 'Ġpass', 'Ġto', 'Ġwas', 'Ġtrend', 'Ġgeneral', 'Ġthe', 'Ġ1998', 'L', '),', 'Ġof', 'ĠH', 'AA', '00', '38', 'ĠApp', '.', 'ĠCrim', '.', 'ĠState', 'ĠâĢĵ', 'v', '-', 'ĠK', 'hel', 'awan', 'Ġ(', 'Ram', 'Ġimposed', 'Ġbeen', 'Ġhad', 'Ġimprisonment', 'Ġmonths', 'Ġ1', 'Ġas', 'Ġlow', 'Ġas', 'Ġsentences', 'Ġwhile', 'Ġthat', 'Ġobserved', 'ĠJ', 'ĠP', 'rak', 'ash', 'Ġassault', ',', 'Ġindecent', 'Ġof', 'Ġcases', 'Ġcomparable', 'Ġof', 'Ġreview', 'Ġa', 'ĠOn', 'Ġdaughter', '.', 'Ġand', 'Ġfather', 'Ġbetween', 'Ġreconciliation', 'Ġwas', 'Ġthere', 'Ġbut', 'Ġassault', ',', 'Ġindecent', 'Ġthe', 'Ġof', 'Ġnature', 'Ġthe', 'Ġspecify', 'Ġnot', 'Ġdoes', 'Ġjudgment', 'ĠThe', 'Ġdaughter', '.', 'Ġold', 'Ġyears', 'Ġ17', 'Ġhis', 'Ġassaulting', 'Ġindec', 'ently', 'Ġof', 'Ġcount', 'Ġone', 'Ġof', 'Ġconvicted', 'Ġwas', 'Ġappellant', 'Ġthe', 'Ġcase', 'Ġthat', 'ĠIn', 'Ġassault', '.', 'Ġindecent', 'Ġfor', 'Ġsentences', 'Ġlocal', 'Ġreviewed', 'ĠJ', 'ĠP', 'rak', 'ash', 'Ġ2000', 'L', ',', 'Ġof', 'ĠH', 'AA', '00', '49', 'ĠNo', '.', 'ĠApp', '.', 'ĠCrim', '.', 'ĠState', 'ĠThe', 'Ġ-', 'v', '-', 'ĠKad', 'av', 'u', 'ĠV', 'ere', 'tar', 'iki', 'ĠRat', 'u', 'Ġ\"', 'In', 'Ġfollows', ':', 'Ċ', 'Ċ', '17', '.', 'Ġas', 'Ġassault', 'Ġindecent', 'Ġof', 'Ġprinciples', 'Ġsentencing', 'Ġgeneral', 'Ġthe', 'Ġclarified', 'Ġthat', 'Ġcases', 'Ġcertain', 'Ġhighlighted', 'ĠShe', 'Ġimprisonment', '.', 'Ġyears', 'Ġ4', 'Ġto', 'Ġmonths', 'Ġ12', 'Ġbetween', 'Ġas', 'Ġtariffs', 'Ġthe', 'Ġout', 'Ġlaid', 'ĠJ', 'ĠShame', 'em', 'Ġwhere', 'Ġcase', 'Ġa', 'Ġis', 'Ġ2002', ')', 'ĠAugust', 'Ġ(', '23', 'ĠH', 'AA', '00', '68', 'J', '.', '2002', 'S', 'Ġ168', ';', 'ĠF', 'J', 'HC', 'Ġ[', '2002', ']', 'ĠState', 'Ġthe', 'Ġv', 'ĠR', 'ok', 'ota', 'Ġof', 'Ġcase', 'Ġthe', 'Ġassault', 'Ġindecent', 'Ġof', 'Ġoffence', 'Ġthe', 'Ġoffence', '.', 'Ċ', 'Ċ', 'For', 'Ġthis', 'Ġto', 'Ġtariff', 'Ġthe', 'Ġconsider', 'ĠI', 'ĠNow', 'Ġimprisonment', '.', 'Ċ', 'Ċ', '16', '.', 'Ġyears', 'Ġ5', 'Ġto', 'Ġup', 'Ġpunishment', 'Ġa', 'Ġis', 'Ġ154', 'ĠSection', 'ĠCode', 'ĠPenal', 'Ġthe', 'Ġper', 'ĠAs', 'Ġconsent', '.', 'Ċ', 'Ċ', '15', '.', 'Ġgiving', 'Ġof', 'Ġincapable', 'Ġis', 'Ġyears', 'Ġ13', 'Ġof', 'Ġage', 'Ġthe', 'Ġunder', 'Ġchild', 'Ġa', 'Ġsection', ',', 'Ġthis', 'ĠFor', 'Ġconsent', '.', 'Ċ', 'Ċ', '(', '3', ')', 'Ġperson', \"'s\", 'Ġother', 'Ġthe', 'Ġwithout', 'Ġpenis', 'Ġperson', \"'s\", 'Ġthe', 'Ġwith', 'Ġextent', 'Ġany', 'Ġto', 'Ġperson', 'Ġother', 'Ġthe', 'Ġof', 'Ġmouth', 'Ġthe', 'Ġpenet', 'rates', 'Ġperson', 'Ġthe', 'Ġor', 'Ċ', 'Ċ', '(', 'c', ')', 'Ġconsent', ';', 'Ġperson', \"'s\", 'Ġother', 'Ġthe', 'Ġwithout', 'Ġpenis', 'Ġa', 'Ġnot', 'Ġis', 'Ġthat', 'Ġbody', 'Ġperson', \"'s\", 'Ġthe', 'Ġof', 'Ġpart', 'Ġa', 'Ġor', 'Ġthing', 'Ġa', 'Ġwith', 'Ġextent', 'Ġany', 'Ġto', 'Ġperson', 'Ġthe', 'Ġof', 'Ġanus', 'Ġor', 'Ġvagina', 'Ġvul', 'va', ',', 'Ġthe', 'Ġpenet', 'rates', 'Ġperson', 'Ġthe', 'Ġ', 'Ċ', 'Ċ', '(', 'b', ')', 'Ġor', 'Ġconsent', ';', 'Ġperson', \"'s\", 'Ġother', 'Ġthe', 'Ġwithout', 'Ġperson', 'Ġother', 'Ġthe', 'Ġof', 'Ġor', 'Ġwith', 'Ġknowledge', 'Ġcarn', 'al', 'Ġhas', 'Ġperson', 'Ġthe', 'Ġif', '-', 'Ċ', 'Ċ', '(', 'a', ')', 'Ġperson', 'Ġanother', 'Ġrapes', 'Ġperson', 'ĠA', 'Ġlife', '.', 'Ċ', 'Ċ', '(', '2', ')', 'Ġfor', 'ĠIm', 'prison', 'ment', 'ĠâĢĵ', 'Ġoffence', '.', 'Ċ', 'Pen', 'alty', 'Ġindict', 'able', 'Ġan', 'Ġcommits', 'Ġperson', 'Ġanother', 'Ġrapes', 'Ġwho', 'Ġperson', 'ĠAny', 'Ġfemale', '.', 'Ċ', 'Ċ', '207', '.-', '(', '1', ')', 'Ġor', 'Ġmale', 'Ġa', 'Ġfor', 'Ġprovided', 'Ġwhether', 'Ġvul', 'va', ',', 'Ġconstructed', 'Ġsurg', 'ically', 'Ġa', 'Ġincludes', 'Ġfemale', '.', 'Ċ', 'Ċ', '\"', 'v', 'ul', 'va', '\"', 'Ġor', 'Ġmale', 'Ġa', 'Ġfor', 'Ġprovided', 'Ġwhether', 'Ġvagina', ',', 'Ġconstructed', 'Ġsurg', 'ically', 'Ġa', 'Ġincludes', 'Ġfemale', '.', 'Ċ', 'Ċ', '\"', 'vag', 'ina', '\"', 'Ġor', 'Ġmale', 'Ġa', 'Ġfor', 'Ġprovided', 'Ġwhether', 'Ġpenis', ',', 'Ġconstructed', 'Ġsurg', 'ically', 'Ġa', 'Ġincludes', 'Ġgenital', 'ia', '.', 'Ċ', 'Ċ', '\"', 'pen', 'is', '\"', 'Ġconstruct', 'Ġsurg', 'ically', 'Ġincludes', 'Ġ', 'Ċ', 'Ċ', '\"', 'gen', 'ital', 'ia', '\"', 'ĠâĢĵ', 'Ġterms', 'ĠThe', 'Ġsod', 'omy', '.', 'Ċ', 'Ċ', '(', '6', ')', 'Ġincludes', 'Ġknowledge', '\"', 'Ġ\"', 'C', 'arn', 'al', 'Ġextent', '.', 'Ċ', 'Ċ', '(', '5', ')', 'Ġany', 'Ġto', 'Ġpenetration', 'Ġon', 'Ġcomplete', 'Ġis', 'Ġit', ',', 'Ġof', 'Ġelement', 'Ġthat', 'Ġregards', 'Ġas', 'Ġfar', 'Ġso', 'Ġoffence', ',', 'Ġthe', 'Ġoffence', ',', 'Ġan', 'Ġdefining', 'Ġin', 'Ġused', 'Ġis', 'Ġknowledge', '\"', 'Ġ\"', 'c', 'arn', 'al', 'ĠIf', 'Ġonly', '.', 'Ċ', 'Ċ', '(', '4', ')', 'Ġpurpose', 'Ġenforcement', 'Ġlaw', 'Ġor', 'Ġhy', 'g', 'ien', 'ic', 'Ġmedical', ',', 'Ġproper', 'Ġa', 'Ġfor', 'Ġpenetrate', 'Ġinclude', 'Ġnot', 'Ġdoes', 'Ġ\"', 'pen', 'et', 'rate', '\"', 'Ġterm', 'ĠThe', 'Ġpartner', '.', 'Ċ', 'Ċ', '(', '3', ')', 'Ġsexual', 'Ġperson', \"'s\", 'Ġthe', 'Ġwas', 'Ġperson', 'Ġaccused', 'Ġthe', 'Ġthat', 'Ġperson', 'Ġaccused', 'Ġthe', 'Ġby', 'Ġinduced', 'Ġbelief', 'Ġmistake', 'Ġa', 'Ġby', 'Ġor', 'Ċ', 'Ċ', '(', 'f', ')', 'Ġact', ';', 'Ġthe', 'Ġof', 'Ġpurpose', 'Ġor', 'Ġnature', 'Ġthe', 'Ġabout', 'Ġrepresentations', 'Ġfraudulent', 'Ġand', 'Ġfalse', 'Ġby', 'Ġor', 'Ċ', 'Ċ', '(', 'e', ')', 'Ġauthority', ';', 'Ġof', 'Ġexercise', 'Ġby', 'Ġor', 'Ċ', 'Ċ', '(', 'd', ')', 'Ġharm', ';', 'Ġbodily', 'Ġof', 'Ġfear', 'Ġby', 'Ġor', 'Ċ', 'Ċ', '(', 'c', ')', 'Ġharm', ';', 'Ġintimidation', 'Ġor', 'Ġthreat', 'Ġby', 'Ġor', 'Ċ', 'Ċ', '(', 'b', ')', 'Ġforce', ';', 'Ġby', 'Ġobtained', ':', 'Ċ', 'Ċ', '(', 'a', ')', 'Ġis', 'Ġit', 'Ġif', 'Ġgiven', 'Ġvoluntarily', 'Ġand', 'Ġfreely', 'Ġnot', 'Ġis', 'Ġact', 'Ġan', 'Ġto', 'Ġconsent', 'Ġperson', \"'s\", 'Ġa', 'Ġ(', '1', '),', 'Ġsub', '-', 'section', 'Ġlimiting', 'ĠWithout', 'Ġconsent', '.', 'Ċ', 'Ċ', '(', '2', ')', 'Ġconstitute', 'Ġalone', 'Ġnot', 'Ġshall', 'Ġperson', 'Ġanother', 'Ġof', 'Ġact', 'Ġan', 'Ġto', 'Ġperson', 'Ġa', 'Ġby', 'Ġresistance', 'Ġphysical', 'Ġwithout', 'Ġsubmission', 'Ġthe', 'Ġand', 'Ġconsent', ',', 'Ġthe', 'Ġgive', 'Ġto', 'Ġcapacity', 'Ġmental', 'Ġnecessary', 'Ġthe', 'Ġwith', 'Ġperson', 'Ġa', 'Ġby', 'Ġgiven', 'Ġvoluntarily', 'Ġand', 'Ġfreely', 'Ġconsent', 'Ġmeans', 'Ġ\"', 'cons', 'ent', '\"', 'Ġterm', 'ĠThe', 'ĠDec', 'ree', 'Ċ', 'Ċ', '206', '.-', '(', '1', ')', 'ĠCrimes', 'Ġthe', 'Ġof', 'Ġ207', 'Ġand', 'Ġ206', 'ĠSection', 'Ġpunishment', '.', 'Ċ', 'Ċ', 'c', ')', 'Ġcorpor', 'al', 'Ġwithout', 'Ġor', 'Ġwith', 'Ġlife', ',', 'Ġfor', 'Ġimprisonment', 'Ġto', 'Ġliable', 'Ġis', 'Ġrape', 'Ġof', 'Ġoffence', 'Ġthe', 'Ġcommits', 'Ġwho', 'Ġperson', 'Ġrape', '.', 'Ċ', 'Ċ', 'Any', 'Ġtermed', 'Ġfelony', 'Ġthe', 'Ġof', 'Ġguilty', 'Ġis', 'Ġhusband', ',', 'Ġher', 'Ġperson', 'ating', 'Ġby', 'Ġwoman', ',', 'Ġmarried', 'Ġa', 'Ġof', 'Ġcase', 'Ġthe', 'Ġin', 'Ġor', 'Ġact', ',', 'Ġthe', 'Ġof', 'Ġnature', 'Ġthe', 'Ġto', 'Ġas', 'Ġrepresentations', 'Ġfalse', 'Ġof', 'Ġmeans', 'Ġby', 'Ġor', 'Ġharm', ',', 'Ġbodily', 'Ġof', 'Ġfear', 'Ġby', 'Ġor', 'Ġkind', ',', 'Ġany', 'Ġof', 'Ġintimidation', 'Ġor', 'Ġthreat', 'Ġof', 'Ġmeans', 'Ġby', 'Ġor', 'Ġforce', 'Ġby', 'Ġobtained', 'Ġis', 'Ġconsent', 'Ġthe', 'Ġif', 'Ġconsent', 'Ġher', 'Ġwith', 'Ġor', 'Ġconsent', ',', 'Ġher', 'Ġwithout', 'Ġgirl', ',', 'Ġor', 'Ġwoman', 'Ġa', 'Ġof', 'Ġknowledge', 'Ġcarn', 'al', 'Ġunlawful', 'Ġhas', 'Ġwho', 'Ġperson', 'ĠCode', 'Ċ', 'Ċ', 'Any', 'ĠPenal', 'Ġthe', 'Ġof', 'Ġ150', 'Ġand', 'Ġ149', 'ĠSection', 'Ġpunishment', '.', 'Ċ', 'Ċ', 'b', ')', 'Ġcorpor', 'al', 'Ġwithout', 'Ġor', 'Ġwith', 'Ġyears', ',', 'Ġfive', 'Ġfor', 'Ġimprisonment', 'Ġto', 'Ġliable', 'Ġis', 'Ġand', 'Ġfelony', ',', 'Ġa', 'Ġof', 'Ġguilty', 'Ġis', 'Ġgirl', 'Ġor', 'Ġwoman', 'Ġany', 'Ġassaults', 'Ġindec', 'ently', 'Ġand', 'Ġunlawfully', 'Ġwho', 'Ġperson', 'ĠCode', 'Ċ', 'Ċ', 'Any', 'ĠPenal', 'Ġthe', 'Ġof', 'Ġ(', '1', ')', 'Ġ154', 'ĠSection', 'ĠLaw', '.', 'Ċ', 'Ċ', 'a', ')', 'Ġrelevant', 'Ġthe', 'Ġconsider', 'ĠI', 'ĠNow', 'ĠCounsel', '.', 'Ċ', 'Ċ', '14', '.', 'ĠState', 'Ġthe', 'Ġby', 'Ġsentencing', 'Ġon', 'Ġsubmission', 'Ġthe', 'Ġand', 'ĠCounsel', 'Ġyour', 'Ġof', 'Ġsubmissions', 'Ġthe', 'Ġconsidered', 'ĠI', 'Ġsentence', '.', 'Ġyour', 'Ġmitigate', 'Ġto', 'Ġsubmission', 'Ġfile', 'Ġto', 'Ġtime', 'Ġmoved', 'ĠCounsel', 'ĠYour', 'Ġson', '.', 'Ċ', 'Ċ', '13', '.', 'Ġa', 'Ġand', 'Ġvictim', 'Ġthe', 'Ġincluding', 'Ġdaughters', 'Ġ4', 'Ġhave', 'Ġyou', 'Ġsubmitted', 'ĠYou', 'Ġcharged', '.', 'Ċ', 'Ċ', '12', '.', 'Ġas', 'Ġcounts', ',', 'Ġ16', 'Ġall', 'Ġfor', 'Ġyou', 'Ġconvicted', 'Ġand', 'Ġguilty', 'Ġyou', 'Ġfound', 'ĠI', 'Ġunequiv', 'ocal', ',', 'Ġbe', 'Ġguilty', 'Ġof', 'Ġplea', 'Ġyour', 'Ġwith', 'Ġsatisfying', 'ĠOn', 'Ġsheet', '.', 'Ġinformation', 'Ġthe', 'Ġin', 'Ġcharges', 'Ġall', 'Ġto', 'Ġguilty', 'Ġpleaded', 'Ġand', 'ĠCounsel', 'Ġyour', 'Ġwith', 'Ġappeared', 'Ġyou', 'Ġ25', 'th', 'Ġthe', 'ĠOn', 'Ġplea', '.', 'Ċ', 'Ċ', '11', '.', 'Ġyour', 'Ġreconsider', 'Ġto', 'Ġdate', 'Ġa', 'Ġfor', 'Ġmoved', 'ĠAid', 'ĠLegal', 'Ġfrom', 'ĠCounsel', 'Ġyour', 'Ġ2010', 'ĠAugust', 'Ġ24', 'th', 'Ġthe', 'ĠOn', 'Ġinstant', '.', 'Ċ', 'Ċ', '10', '.', 'Ġ24', 'th', 'Ġand', 'Ġ17', 'th', 'Ġto', 'Ġpostponed', 'Ġis', 'Ġmatter', 'Ġthe', 'Ġtherefore', 'Ġinformation', ',', 'Ġthe', 'Ġin', 'Ġcharges', 'Ġamend', 'Ġto', 'Ġmoved', 'Ġprosecution', 'Ġthe', 'ĠBut', 'Ġcharges', '.', 'Ġall', 'Ġto', 'Ġguilty', 'Ġpleaded', 'Ġhave', 'Ġyou', 'Ġ2010', ',', 'ĠAugust', 'Ġ16', 'Ġon', 'ĠJudge', 'Ġbrother', 'Ġmy', 'Ġbefore', 'ĠCourt', ',', 'ĠHigh', 'Ġthe', 'Ġat', 'Ġup', 'Ġtaken', 'Ġwas', 'Ġmatter', 'Ġthe', 'ĠWhen', 'Ġfollows', '.\"', 'Ċ', 'Ċ', '9', '.', 'Ġas', 'Ġare', 'Ġfactors', 'Ġmitigating', 'Ġmy', 'Ġand', 'Ġwill', 'Ġfree', 'Ġown', 'Ġmy', 'Ġin', 'Ġme', 'Ġagainst', 'Ġlaid', 'Ġwere', 'Ġthat', 'Ġcharges', 'Ġall', 'Ġto', 'Ġguilty', 'Ġpleading', 'Ġis', 'ĠT', 'aman', 'ito', 'ak', 'ula', 'ĠAs', 'ael', 'i', 'ĠI', 'Ġrespect', ',', 'Ġdue', 'Ġall', 'Ġfollows', ':', 'Ċ', 'Ċ', '\"', 'With', 'Ġas', 'Ġsubmitted', 'Ġhave', 'Ġyou', 'Ġthen', 'Ġmitigation', ',', 'Ġyour', 'Ġfor', 'Ġsubmission', 'Ġof', 'Ġgrounds', 'Ġ8', 'Ġfiled', 'Ġhave', 'Ġyou', 'Ġmeantime', 'Ġthe', 'ĠIn', 'ĠCourt', '.', 'Ċ', 'Ċ', '8', '.', 'ĠHigh', 'Ġthe', 'Ġto', 'Ġcase', 'Ġthe', 'Ġtransferred', 'Ġand', 'ĠDec', 'ree', 'ĠProcedure', 'ĠCriminal', 'Ġthe', 'Ġof', 'Ġ190', 'ĠSection', 'Ġunder', 'Ġacting', 'ĠMag', 'istrate', 'ĠLearned', 'Ġthe', 'Ġ02', '/', '08', '/', '10', ',', 'Ġto', 'Ġadjourn', 'ed', 'Ġand', 'Ġ23', '/', '07', '/', '10', 'Ġthe', 'Ġon', 'Ġmentioned', 'Ġwas', 'Ġmatter', 'ĠThis', 'Ġdate', '.', 'Ċ', 'Ċ', '7', '.', 'Ġnext', 'Ġthe', 'Ġto', 'Ġadjourn', 'ed', 'Ġand', 'ĠCommission', 'ĠAid', 'ĠLegal', 'Ġfrom', 'Ġassistance', 'Ġhave', 'Ġto', 'Ġyou', 'Ġinstructed', 'ĠMag', 'istrate', 'Ġlearned', 'ĠThe', 'Ġcharges', '.', 'Ġall', 'Ġto', 'Ġguilty', 'Ġpleaded', 'Ġand', 'Ġrepresentation', ',', 'ĠLegal', 'Ġhave', 'Ġto', 'ĠRight', 'Ġthe', 'Ġoff', 'Ġwaived', 'Ġyou', 'ĠMag', 'istrate', 'ĠLearned', 'Ġthe', 'Ġbefore', 'Ġmentioned', 'Ġwas', 'Ġmatter', 'Ġthe', 'Ġwhen', 'Ġ12', '/', '07', '/', '2010', 'Ġthe', 'ĠOn', 'Ġreasons', '.', 'Ċ', 'Ċ', '6', '.', 'Ġvarious', 'Ġfor', 'Ġ29', '/', '06', '/', '10', 'Ġand', 'Ġ28', '/', '06', '/', '10', 'Ġ25', '/', '06', '/', '10', ',', 'Ġ11', '/', '06', '/', '10', ',', 'Ġ08', '/', '06', '/', '10', ',', 'Ġ25', '/', '05', '/', '10', ',', 'Ġon', 'Ġmentioned', 'Ġwas', 'Ġcase', 'Ġthe', 'Ġthen', 'ĠSince', 'Ġamended', '.', 'Ċ', 'Ċ', '5', '.', 'Ġwas', 'Ġcharge', 'ĠThe', 'Ġmatter', '.', 'Ġthe', 'Ġhear', 'Ġto', 'ĠMag', 'istrate', 'ĠLearned', 'Ġto', 'Ġback', 'Ġtransferred', 'Ġwas', 'Ġcase', 'Ġthe', 'Ġ14', '/', '05', '/', '2010', 'Ġthe', 'ĠOn', 'Ġ', 'Ċ', 'Ċ', '4', '.', 'ĠCourt', '.', 'ĠHigh', 'Ġthe', 'Ġto', 'Ġtransferred', 'Ġwas', 'Ġcase', 'Ġthe', 'Ġand', 'Ġcounsel', 'Ġretained', 'Ġa', 'Ġhave', 'Ġyou', 'Ġ2010', 'ĠMarch', 'Ġ30', 'th', 'Ġthe', 'ĠOn', 'Ġyou', '.', 'Ċ', 'Ċ', '3', '.', 'Ġto', 'Ġrepresentation', 'Ġlegal', 'Ġof', 'Ġavailability', 'Ġnon', 'Ġto', 'Ġdue', 'Ġdeferred', 'Ġwas', 'Ġplea', 'Ġ2010', ',', 'ĠMarch', 'Ġ19', 'th', 'Ġon', 'ĠMag', 'istrate', 'ĠLearned', 'Ġthe', 'Ġbefore', 'Ġup', 'Ġcame', 'Ġoriginally', 'Ġmatter', 'Ġthis', 'ĠWhen', 'Ġconsent', '.', 'Ċ', 'Ċ', '2', '.', 'Ġher', 'Ġwithout', 'ĠC', 'ag', 'im', 'ai', 'w', 'ai', 'ĠLan', 'iet', 'a', 'Ġnamely', 'Ġgirl', 'Ġa', 'Ġof', 'Ġknowledge', 'Ġcarn', 'al', 'Ġunlawful', 'Ġhad', 'ĠDivision', ',', 'ĠNorthern', 'Ġthe', 'Ġin', 'ĠB', 'ua', ',', 'ĠNas', 'or', 'owa', 'qa', ',', 'Ġat', 'Ġ2010', ',', 'ĠMarch', 'Ġof', 'Ġday', 'Ġ13', 'th', 'Ġthe', 'Ġon', 'ĠT', 'aman', 'ito', 'ak', 'ula', ',', 'Ġ(', 'b', ')', 'Ċ', 'Ċ', 'As', 'ael', 'i', 'ĠOff', 'ence', 'Ġof', 'Ġ2009', '.', 'Ċ', 'Ċ', 'Part', 'icular', 's', 'Ġof', 'Ġ44', 'ĠNo', '.', 'ĠDec', 'ree', 'ĠCrimes', 'Ġthe', 'Ġof', 'Ġ207', 'Ġand', 'Ġ206', 'ĠSection', 'Ġto', 'ĠContrary', 'Ġ(', 'a', ')', 'Ċ', 'Ċ', 'R', 'APE', ':', 'ĠOff', 'ence', 'Ġof', 'ĠC', 'OUNT', 'Ċ', 'Ċ', 'Statement', 'Ġconsent', '.', 'Ċ', 'Ċ', 'S', 'IX', 'TE', 'ENT', 'H', 'Ġher', 'Ġwithout', 'ĠC', 'ag', 'im', 'ai', 'w', 'ai', 'ĠLan', 'iet', 'a', 'Ġnamely', 'Ġgirl', 'Ġa', 'Ġof', 'Ġknowledge', 'Ġcarn', 'al', 'Ġunlawful', 'Ġhad', 'ĠDivision', ',', 'ĠNorthern', 'Ġthe', 'Ġin', 'ĠB', 'ua', ',', 'ĠNas', 'or', 'owa', 'qa', ',', 'Ġat', 'Ġ2010', ',', 'ĠFebruary', 'Ġof', 'Ġday', 'Ġ28', 'th', 'Ġthe', 'Ġto', 'Ġ2010', 'ĠFebruary', 'Ġof', 'Ġday', 'Ġ1', 'st', 'Ġthe', 'Ġon', 'ĠT', 'aman', 'ito', 'ak', 'ula', ',', 'Ġ(', 'b', ')', 'Ċ', 'Ċ', 'As', 'ael', 'i', 'ĠOff', 'ence', 'Ġof', 'Ġ2009', '.', 'Ċ', 'Ċ', 'Part', 'icular', 's', 'Ġof', 'Ġ44', 'ĠNo', '.', 'ĠDec', 'ree', 'ĠCrimes', 'Ġthe', 'Ġof', 'Ġ207', 'Ġand', 'Ġ206', 'ĠSection', 'Ġto', 'ĠContrary', 'Ġ(', 'a', ')', 'Ċ', 'Ċ', 'R', 'APE', ':', 'ĠOff', 'ence', 'Ġof', 'ĠC', 'OUNT', 'Ċ', 'Ċ', 'Statement', 'Ġconsent', '.', 'Ċ', 'Ċ', 'F', 'IF', 'TE', 'ENT', 'H', 'Ġher', 'Ġwithout', 'ĠC', 'ag', 'im', 'ai', 'w', 'ai', 'ĠLan', 'iet', 'a', 'Ġnamely', 'Ġgirl', 'Ġa', 'Ġof', 'Ġknowledge', 'Ġcarn', 'al', 'Ġunlawful', 'Ġhad', 'ĠDivision', ',', 'ĠNorthern', 'Ġthe', 'Ġin', 'ĠB', 'ua', ',', 'ĠNas', 'or', 'owa', 'qa', ',', 'Ġat', 'Ġ2010', ',', 'ĠJanuary', 'Ġof', 'Ġday', 'Ġ31', 'st', 'Ġthe', 'Ġto', 'Ġ2010', 'ĠJanuary', 'Ġof', 'Ġday', 'Ġ1', 'st', 'Ġthe', 'Ġon', 'ĠT', 'aman', 'ito', 'ak', 'ula', ',', 'Ġ(', 'b', ')', 'Ċ', 'Ċ', 'As', 'ael', 'i', 'ĠOff', 'ence', 'Ġof', 'Ġ17', '.', 'Ċ', 'Ċ', 'Part', 'icular', 's', 'ĠCap', 'ĠCode', 'ĠPenal', 'Ġthe', 'Ġof', 'Ġ150', 'Ġand', 'Ġ149', 'ĠSection', 'Ġto', 'ĠContrary', 'Ġ(', 'a', ')', 'Ċ', 'Ċ', 'R', 'APE', ':', 'ĠOff', 'ence', 'Ġof', 'ĠC', 'OUNT', 'Ċ', 'Ċ', 'Statement', 'Ġconsent', '.', 'Ċ', 'Ċ', 'F', 'OUR', 'TE', 'ENT', 'H', 'Ġher', 'Ġwithout', 'ĠC', 'ag', 'im', 'ai', 'w', 'ai', 'ĠLan', 'iet', 'a', 'Ġnamely', 'Ġgirl', 'Ġa', 'Ġof', 'Ġknowledge', 'Ġcarn', 'al', 'Ġunlawful', 'Ġhad', 'ĠDivision', ',', 'ĠNorthern', 'Ġthe', 'Ġin', 'ĠB', 'ua', ',', 'ĠNas', 'or', 'owa', 'qa', ',', 'Ġat', 'Ġ2009', ',', 'ĠNovember', 'Ġof', 'Ġday', 'Ġ30', 'th', 'Ġthe', 'Ġto', 'Ġ2009', 'ĠNovember', 'Ġof', 'Ġday', 'Ġ1', 'st', 'Ġthe', 'Ġon', 'ĠT', 'aman', 'ito', 'ak', 'ula', ',', 'Ġ(', 'b', ')', 'Ċ', 'Ċ', 'As', 'ael', 'i', 'ĠOff', 'ence', 'Ġof', 'Ġ17', '.', 'Ċ', 'Ċ', 'Part', 'icular', 's', 'ĠCap', 'ĠCode', 'ĠPenal', 'Ġthe', 'Ġof', 'Ġ150', 'Ġand', 'Ġ149', 'ĠSection', 'Ġto', 'ĠContrary', 'Ġ(', 'a', ')', 'Ċ', 'Ċ', 'R', 'APE', ':', 'ĠOff', 'ence', 'Ġof', 'ĠC', 'OUNT', 'Ċ', 'Ċ', 'Statement', 'Ġconsent', '.', 'Ċ', 'Ċ', 'TH', 'IR', 'TE', 'ENT', 'H', 'Ġher', 'Ġwithout', 'ĠC', 'ag', 'im', 'ai', 'w', 'ai', 'ĠLan', 'iet', 'a', 'Ġnamely', 'Ġgirl', 'Ġa', 'Ġof', 'Ġknowledge', 'Ġcarn', 'al', 'Ġunlawful', 'Ġhad', 'ĠDivision', ',', 'ĠNorthern', 'Ġthe', 'Ġin', 'ĠB', 'ua', ',', 'ĠNas', 'or', 'owa', 'qa', ',', 'Ġat', 'Ġ2009', ',', 'ĠSeptember', 'Ġof', 'Ġday', 'Ġ30', 'th', 'Ġthe', 'Ġto', 'Ġ2009', 'ĠSeptember', 'Ġof', 'Ġday', 'Ġ1', 'st', 'Ġthe', 'Ġon', 'ĠT', 'aman', 'ito', 'ak', 'ula', ',', 'Ġ(', 'b', ')', 'Ċ', 'Ċ', 'As', 'ael', 'i', 'ĠOff', 'ence', 'Ġof', 'Ġ17', '.', 'Ċ', 'Ċ', 'Part', 'icular', 's', 'ĠCap', 'ĠCode', 'ĠPenal', 'Ġthe', 'Ġof', 'Ġ150', 'Ġand', 'Ġ149', 'ĠSection', 'Ġto', 'ĠContrary', 'Ġ(', 'a', ')', 'Ċ', 'Ċ', 'R', 'APE', ':', 'ĠOff', 'ence', 'Ġof', 'ĠC', 'OUNT', 'Ċ', 'Ċ', 'Statement', 'Ġconsent', '.', 'Ċ', 'Ċ', 'TW', 'ELF', 'TH', 'Ġher', 'Ġwithout', 'ĠC', 'ag', 'im', 'ai', 'w', 'ai', 'ĠLan', 'iet', 'a', 'Ġnamely', 'Ġgirl', 'Ġa', 'Ġof', 'Ġknowledge', 'Ġcarn', 'al', 'Ġunlawful', 'Ġhad', 'ĠDivision', ',', 'ĠNorthern', 'Ġthe', 'Ġin', 'ĠB', 'ua', ',', 'ĠNas', 'or', 'owa', 'qa', ',', 'Ġat', 'Ġ2009', ',', 'ĠAugust', 'Ġof', 'Ġday', 'Ġ31', 'st', 'Ġthe', 'Ġto', 'Ġ2009', 'ĠAugust', 'Ġof', 'Ġday', 'Ġ1', 'st', 'Ġthe', 'Ġon', 'ĠT', 'aman', 'ito', 'ak', 'ula', ',', 'Ġ(', 'b', ')', 'Ċ', 'Ċ', 'As', 'ael', 'i', 'ĠOff', 'ence', 'Ġof', 'Ġ17', '.', 'Ċ', 'Ċ', 'Part', 'icular', 's', 'ĠCap', 'ĠCode', 'ĠPenal', 'Ġthe', 'Ġof', 'Ġ150', 'Ġand', 'Ġ149', 'ĠSection', 'Ġto', 'ĠContrary', 'Ġ(', 'a', ')', 'Ċ', 'Ċ', 'R', 'APE', ':', 'ĠOff', 'ence', 'Ġof', 'ĠC', 'OUNT', 'Ċ', 'Ċ', 'Statement', 'Ġconsent', '.', 'Ċ', 'Ċ', 'E', 'LE', 'V', 'ENT', 'H', 'Ġher', 'Ġwithout', 'ĠC', 'ag', 'im', 'ai', 'w', 'ai', 'ĠLan', 'iet', 'a', 'Ġnamely', 'Ġgirl', 'Ġa', 'Ġof', 'Ġknowledge', 'Ġcarn', 'al', 'Ġunlawful', 'Ġhad', 'ĠDivision', ',', 'ĠNorthern', 'Ġthe', 'Ġin', 'ĠB', 'ua', ',', 'ĠNas', 'or', 'owa', 'qa', ',', 'Ġat', 'Ġ2009', ',', 'ĠApril', 'Ġof', 'Ġday', 'Ġ30', 'th', 'Ġthe', 'Ġto', 'Ġ2009', 'ĠApril', 'Ġof', 'Ġday', 'Ġ1', 'st', 'Ġthe', 'Ġon', 'ĠT', 'aman', 'ito', 'ak', 'ula', ',', 'Ġ(', 'b', ')', 'Ċ', 'Ċ', 'As', 'ael', 'i', 'ĠOff', 'ence', 'Ġof', 'Ġ17', '.', 'Ċ', 'Ċ', 'Part', 'icular', 's', 'ĠCap', 'ĠCode', 'ĠPenal', 'Ġthe', 'Ġof', 'Ġ150', 'Ġand', 'Ġ149', 'ĠSection', 'Ġto', 'ĠContrary', 'Ġ(', 'a', ')', 'Ċ', 'Ċ', 'R', 'APE', ':', 'ĠOff', 'ence', 'Ġof', 'ĠC', 'OUNT', 'Ċ', 'Ċ', 'Statement', 'Ġconsent', '.', 'Ċ', 'Ċ', 'T', 'ENT', 'H', 'Ġher', 'Ġwithout', 'ĠC', 'ag', 'im', 'ai', 'w', 'ai', 'ĠLan', 'iet', 'a', 'Ġnamely', 'Ġgirl', 'Ġa', 'Ġof', 'Ġknowledge', 'Ġcarn', 'al', 'Ġunlawful', 'Ġhad', 'ĠDivision', ',', 'ĠNorthern', 'Ġthe', 'Ġin', 'ĠB', 'ua', ',', 'ĠNas', 'or', 'owa', 'qa', ',', 'Ġat', 'Ġ2009', ',', 'ĠFebruary', 'Ġof', 'Ġday', 'Ġ3', 'rd', 'Ġthe', 'Ġon', 'ĠT', 'aman', 'ito', 'ak', 'ula', ',', 'Ġ(', 'b', ')', 'Ċ', 'Ċ', 'As', 'ael', 'i', 'ĠOff', 'ence', 'Ġof', 'Ġ17', '.', 'Ċ', 'Ċ', 'Part', 'icular', 's', 'ĠCap', 'ĠCode', 'ĠPenal', 'Ġthe', 'Ġof', 'Ġ150', 'Ġand', 'Ġ149', 'ĠSection', 'Ġto', 'ĠContrary', 'Ġ(', 'a', ')', 'Ċ', 'Ċ', 'R', 'APE', ':', 'ĠOff', 'ence', 'Ġof', 'ĠC', 'OUNT', 'Ċ', 'Ċ', 'Statement', 'Ġconsent', '.', 'Ċ', 'Ċ', 'N', 'IN', 'ETH', 'Ġher', 'Ġwithout', 'ĠC', 'ag', 'im', 'ai', 'w', 'ai', 'ĠLan', 'iet', 'a', 'Ġnamely', 'Ġgirl', 'Ġa', 'Ġof', 'Ġknowledge', 'Ġcarn', 'al', 'Ġunlawful', 'Ġhad', 'ĠDivision', ',', 'ĠNorthern', 'Ġthe', 'Ġin', 'ĠB', 'ua', ',', 'ĠNas', 'or', 'owa', 'qa', ',', 'Ġat', 'Ġ2009', ',', 'ĠFebruary', 'Ġof', 'Ġday', 'Ġ2', 'nd', 'Ġthe', 'Ġon', 'ĠT', 'aman', 'ito', 'ak', 'ula', ',', 'Ġ(', 'b', ')', 'Ċ', 'Ċ', 'As', 'ael', 'i', 'ĠOff', 'ence', 'Ġof', 'Ġ17', '.', 'Ċ', 'Ċ', 'Part', 'icular', 's', 'ĠCap', 'ĠCode', 'ĠPenal', 'Ġthe', 'Ġof', 'Ġ150', 'Ġand', 'Ġ149', 'ĠSection', 'Ġto', 'ĠContrary', 'Ġ(', 'a', ')', 'Ċ', 'Ċ', 'R', 'APE', ':', 'ĠOff', 'ence', 'Ġof', 'ĠC', 'OUNT', 'Ċ', 'Ċ', 'Statement', 'Ġconsent', '.', 'Ċ', 'Ċ', 'E', 'IGH', 'TH', 'Ġher', 'Ġwithout', 'ĠC', 'ag', 'im', 'ai', 'w', 'ai', 'ĠLan', 'iet', 'a', 'Ġnamely', 'Ġgirl', 'Ġa', 'Ġof', 'Ġknowledge', 'Ġcarn', 'al', 'Ġunlawful', 'Ġhad', 'ĠDivision', ',', 'ĠNorthern', 'Ġthe', 'Ġin', 'ĠB', 'ua', ',', 'ĠNas', 'or', 'owa', 'qa', ',', 'Ġat', 'Ġ2009', ',', 'ĠJanuary', 'Ġof', 'Ġday', 'Ġ27', 'th', 'Ġthe', 'Ġon', 'ĠT', 'aman', 'ito', 'ak', 'ula', ',', 'Ġ(', 'b', ')', 'Ċ', 'Ċ', 'As', 'ael', 'i', 'ĠOff', 'ence', 'Ġof', 'Ġ17', '.', 'Ċ', 'Ċ', 'Part', 'icular', 's', 'ĠCap', 'ĠCode', 'ĠPenal', 'Ġthe', 'Ġof', 'Ġ150', 'Ġand', 'Ġ149', 'ĠSection', 'Ġto', 'ĠContrary', 'Ġ(', 'a', ')', 'Ċ', 'Ċ', 'R', 'APE', ':', 'ĠOff', 'ence', 'Ġof', 'ĠC', 'OUNT', 'Ċ', 'Ċ', 'Statement', 'Ġconsent', '.', 'Ċ', 'Ċ', 'SE', 'V', 'ENT', 'H', 'Ġher', 'Ġwithout', 'ĠC', 'ag', 'im', 'ai', 'w', 'ai', 'ĠLan', 'iet', 'a', 'Ġnamely', 'Ġgirl', 'Ġa', 'Ġof', 'Ġknowledge', 'Ġcarn', 'al', 'Ġunlawful', 'Ġhad', 'ĠDivision', ',', 'ĠNorthern', 'Ġthe', 'Ġin', 'ĠB', 'ua', ',', 'ĠNas', 'or', 'owa', 'qa', ',', 'Ġat', 'Ġ2009', ',', 'ĠJanuary', 'Ġof', 'Ġday', 'Ġ25', 'th', 'Ġthe', 'Ġon', 'ĠT', 'aman', 'ito', 'ak', 'ula', ',', 'Ġ(', 'b', ')', 'Ċ', 'Ċ', 'As', 'ael', 'i', 'ĠOff', 'ence', 'Ġof', 'Ġ17', '.', 'Ċ', 'Ċ', 'Part', 'icular', 's', 'ĠCap', 'ĠCode', 'ĠPenal', 'Ġthe', 'Ġof', 'Ġ150', 'Ġand', 'Ġ149', 'ĠSection', 'Ġto', 'ĠContrary', 'Ġ(', 'a', ')', 'Ċ', 'Ċ', 'R', 'APE', ':', 'ĠOff', 'ence', 'Ġof', 'ĠC', 'OUNT', 'Ċ', 'Ċ', 'Statement', 'Ġconsent', '.', 'Ċ', 'Ċ', 'S', 'IX', 'TH', 'Ġher', 'Ġwithout', 'ĠC', 'ag', 'im', 'ai', 'w', 'ai', 'ĠLan', 'iet', 'a', 'Ġnamely', 'Ġgirl', 'Ġa', 'Ġof', 'Ġknowledge', 'Ġcarn', 'al', 'Ġunlawful', 'Ġhad', 'ĠDivision', ',', 'ĠNorthern', 'Ġthe', 'Ġin', 'ĠB', 'ua', ',', 'ĠNas', 'or', 'owa', 'qa', ',', 'Ġat', 'Ġ2009', ',', 'ĠJanuary', 'Ġof', 'Ġday', 'Ġ24', 'th', 'Ġthe', 'Ġon', 'ĠT', 'aman', 'ito', 'ak', 'ula', ',', 'Ġ(', 'b', ')', 'Ċ', 'Ċ', 'As', 'ael', 'i', 'ĠOff', 'ence', 'Ġof', 'Ġ17', '.', 'Ċ', 'Ċ', 'Part', 'icular', 's', 'ĠCap', 'ĠCode', 'ĠPenal', 'Ġthe', 'Ġof', 'Ġ150', 'Ġand', 'Ġ149', 'ĠSection', 'Ġto', 'ĠContrary', 'Ġ(', 'a', ')', 'Ċ', 'Ċ', 'R', 'APE', ':', 'ĠOff', 'ence', 'Ġof', 'ĠC', 'OUNT', 'Ċ', 'Ċ', 'Statement', 'Ġconsent', '.', 'Ċ', 'Ċ', 'F', 'IF', 'TH', 'Ġher', 'Ġwithout', 'ĠC', 'ag', 'im', 'ai', 'w', 'ai', 'ĠLan', 'iet', 'a', 'Ġnamely', 'Ġgirl', 'Ġa', 'Ġof', 'Ġknowledge', 'Ġcarn', 'al', 'Ġunlawful', 'Ġhad', 'ĠDivision', ',', 'ĠNorthern', 'Ġthe', 'Ġin', 'ĠB', 'ua', ',', 'ĠNas', 'or', 'owa', 'qa', ',', 'Ġat', 'Ġ2009', ',', 'ĠJanuary', 'Ġof', 'Ġday', 'Ġ21', 'st', 'Ġthe', 'Ġon', 'ĠT', 'aman', 'ito', 'ak', 'ula', ',', 'Ġ(', 'b', ')', 'Ċ', 'Ċ', 'As', 'ael', 'i', 'ĠOff', 'ence', 'Ġof', 'Ġ17', '.', 'Ċ', 'Ċ', 'Part', 'icular', 's', 'ĠCap', 'ĠCode', 'ĠPenal', 'Ġthe', 'Ġof', 'Ġ150', 'Ġand', 'Ġ149', 'ĠSection', 'Ġto', 'ĠContrary', 'Ġ(', 'a', ')', 'Ċ', 'Ċ', 'R', 'APE', ':', 'ĠOff', 'ence', 'Ġof', 'ĠC', 'OUNT', 'Ċ', 'Ċ', 'Statement', 'Ġconsent', '.', 'Ċ', 'Ċ', 'F', 'OUR', 'TH', 'Ġher', 'Ġwithout', 'ĠC', 'ag', 'im', 'ai', 'w', 'ai', 'ĠLan', 'iet', 'a', 'Ġnamely', 'Ġgirl', 'Ġa', 'Ġof', 'Ġknowledge', 'Ġcarn', 'al', 'Ġunlawful', 'Ġhad', 'ĠDivision', ',', 'ĠNorthern', 'Ġthe', 'Ġin', 'ĠB', 'ua', ',', 'ĠNas', 'or', 'owa', 'qa', ',', 'Ġat', 'Ġ2009', ',', 'ĠJanuary', 'Ġof', 'Ġday', 'Ġ20', 'th', 'Ġthe', 'Ġon', 'ĠT', 'aman', 'ito', 'ak', 'ula', ',', 'Ġ(', 'b', ')', 'Ċ', 'Ċ', 'As', 'ael', 'i', 'ĠOff', 'ence', 'Ġof', 'Ġ17', '.', 'Ċ', 'Ċ', 'Part', 'icular', 's', 'ĠCap', 'ĠCode', 'ĠPenal', 'Ġthe', 'Ġof', 'Ġ150', 'Ġand', 'Ġ149', 'ĠSection', 'Ġto', 'ĠContrary', 'Ġ(', 'a', ')', 'Ċ', 'Ċ', 'R', 'APE', ':', 'ĠOff', 'ence', 'Ġof', 'ĠC', 'OUNT', 'Ċ', 'Ċ', 'Statement', 'Ġconsent', '.', 'Ċ', 'Ċ', 'TH', 'IRD', 'Ġher', 'Ġwithout', 'ĠC', 'ag', 'im', 'ai', 'w', 'ai', 'ĠLan', 'iet', 'a', 'Ġnamely', 'Ġgirl', 'Ġa', 'Ġof', 'Ġknowledge', 'Ġcarn', 'al', 'Ġunlawful', 'Ġhad', 'ĠDivision', ',', 'ĠNorthern', 'Ġthe', 'Ġin', 'ĠB', 'ua', ',', 'ĠNas', 'or', 'owa', 'qa', ',', 'Ġat', 'Ġ2009', ',', 'ĠJanuary', 'Ġof', 'Ġday', 'Ġ17', 'th', 'Ġthe', 'Ġon', 'ĠT', 'aman', 'ito', 'ak', 'ula', ',', 'Ġ(', 'b', ')', 'Ċ', 'Ċ', 'As', 'ael', 'i', 'ĠOff', 'ence', 'Ġof', 'Ġ17', '.', 'Ċ', 'Ċ', 'Part', 'icular', 's', 'ĠCap', 'ĠCode', 'ĠPenal', 'Ġthe', 'Ġof', 'Ġ150', 'Ġand', 'Ġ149', 'ĠSection', 'Ġto', 'ĠContrary', 'Ġ(', 'a', ')', 'Ċ', 'Ċ', 'R', 'APE', ':', 'ĠOff', 'ence', 'Ġof', 'ĠC', 'OUNT', 'Ċ', 'Ċ', 'Statement', 'ĠC', 'ag', 'im', 'ai', 'w', 'ai', '.', 'Ċ', 'Ċ', 'SEC', 'OND', 'ĠLan', 'iet', 'a', 'Ġassaulted', 'Ġindec', 'ently', 'Ġand', 'Ġunlawfully', 'ĠDivision', ',', 'ĠNorthern', 'Ġthe', 'Ġin', 'ĠB', 'ua', ',', 'ĠNas', 'or', 'owa', 'qa', ',', 'Ġat', 'Ġ2009', ',', 'ĠJanuary', 'Ġof', 'Ġday', 'Ġ16', 'th', 'Ġthe', 'Ġon', 'ĠT', 'aman', 'ito', 'ak', 'ula', ',', 'Ġ(', 'b', ')', 'Ċ', 'Ċ', 'As', 'ael', 'i', 'ĠOff', 'ence', 'Ġof', 'Ġ17', '.', 'Ċ', 'Ċ', 'Part', 'icular', 's', 'ĠCap', 'ĠCode', 'ĠPenal', 'Ġthe', 'Ġof', 'Ġ(', '1', ')', 'Ġ154', 'ĠSection', 'Ġto', 'ĠContrary', 'ĠAS', 'SA', 'ULT', ':', 'Ġ(', 'a', ')', 'Ċ', 'Ċ', 'IND', 'EC', 'ENT', 'ĠOff', 'ence', 'Ġof', 'ĠC', 'OUNT', 'Ċ', 'Ċ', 'Statement', 'Ġfollows', '.', 'Ċ', 'Ċ', 'FIR', 'ST', 'Ġas', 'Ġyou', 'Ġagainst', 'Ġcharge', 'Ġa', 'Ġpreferred', 'Ġhas', 'ĠPro', 'secution', 'ĠPublic', 'Ġof', 'ĠDirector', 'ĠThe', 'ĠS', 'ENT', 'ENCE', 'Ċ', 'Ċ', '1', '.']\n"
     ]
    }
   ],
   "source": [
    "# Print the original sentence.\n",
    "#print(' Original: ', df['text'][0])\n",
    "\n",
    "# Print the sentence split into tokens.\n",
    "print('Tokenized: ', tokenizer.tokenize(df['txet'][2]))\n",
    "\n",
    "# Print the sentence mapped to token ids.\n",
    "#print('Token IDs: ', tokenizer.convert_tokens_to_ids(tokenizer.tokenize(sentences[0])))"
   ]
  },
  {
   "cell_type": "code",
   "execution_count": null,
   "metadata": {
    "colab": {
     "base_uri": "https://localhost:8080/",
     "height": 34
    },
    "colab_type": "code",
    "id": "6gLeESpVMqX5",
    "outputId": "4f3a9fb2-1dd9-46dd-9f9e-c7bf260e2fe7"
   },
   "outputs": [
    {
     "data": {
      "text/plain": [
       "[8084, 20547]"
      ]
     },
     "execution_count": 21,
     "metadata": {
      "tags": []
     },
     "output_type": "execute_result"
    }
   ],
   "source": [
    "# get the ids for bread winner in case we want to add global attention\n",
    "tokenizer.convert_tokens_to_ids(['Ġbread', 'winner'])"
   ]
  },
  {
   "cell_type": "code",
   "execution_count": null,
   "metadata": {
    "colab": {
     "base_uri": "https://localhost:8080/",
     "height": 282
    },
    "colab_type": "code",
    "id": "Kb0EqWUrM5eJ",
    "outputId": "df243e02-62ba-4c63-beed-f593a6169a1b"
   },
   "outputs": [
    {
     "data": {
      "text/plain": [
       "<matplotlib.axes._subplots.AxesSubplot at 0x7f585c50bac8>"
      ]
     },
     "execution_count": 22,
     "metadata": {
      "tags": []
     },
     "output_type": "execute_result"
    },
    {
     "data": {
      "image/png": "[encoded data removed]",
      "text/plain": [
       "<Figure size 432x288 with 1 Axes>"
      ]
     },
     "metadata": {
      "needs_background": "light",
      "tags": []
     },
     "output_type": "display_data"
    }
   ],
   "source": [
    "df['text'].apply(lambda x: len(x.split()) if len(x.split())<4000 else 4000).plot(kind='hist')"
   ]
  },
  {
   "cell_type": "code",
   "execution_count": null,
   "metadata": {
    "colab": {
     "base_uri": "https://localhost:8080/",
     "height": 297
    },
    "colab_type": "code",
    "id": "fsfAKFdTNS__",
    "outputId": "ca48718a-01a9-4c24-8157-7be232e7ce92"
   },
   "outputs": [
    {
     "data": {
      "text/html": [
       "<div>\n",
       "<style scoped>\n",
       "    .dataframe tbody tr th:only-of-type {\n",
       "        vertical-align: middle;\n",
       "    }\n",
       "\n",
       "    .dataframe tbody tr th {\n",
       "        vertical-align: top;\n",
       "    }\n",
       "\n",
       "    .dataframe thead th {\n",
       "        text-align: right;\n",
       "    }\n",
       "</style>\n",
       "<table border=\"1\" class=\"dataframe\">\n",
       "  <thead>\n",
       "    <tr style=\"text-align: right;\">\n",
       "      <th></th>\n",
       "      <th>label</th>\n",
       "      <th>len_txt</th>\n",
       "    </tr>\n",
       "  </thead>\n",
       "  <tbody>\n",
       "    <tr>\n",
       "      <th>count</th>\n",
       "      <td>647.000000</td>\n",
       "      <td>647.000000</td>\n",
       "    </tr>\n",
       "    <tr>\n",
       "      <th>mean</th>\n",
       "      <td>0.571870</td>\n",
       "      <td>1516.514683</td>\n",
       "    </tr>\n",
       "    <tr>\n",
       "      <th>std</th>\n",
       "      <td>0.495191</td>\n",
       "      <td>1698.831551</td>\n",
       "    </tr>\n",
       "    <tr>\n",
       "      <th>min</th>\n",
       "      <td>0.000000</td>\n",
       "      <td>99.000000</td>\n",
       "    </tr>\n",
       "    <tr>\n",
       "      <th>25%</th>\n",
       "      <td>0.000000</td>\n",
       "      <td>750.500000</td>\n",
       "    </tr>\n",
       "    <tr>\n",
       "      <th>50%</th>\n",
       "      <td>1.000000</td>\n",
       "      <td>1123.000000</td>\n",
       "    </tr>\n",
       "    <tr>\n",
       "      <th>75%</th>\n",
       "      <td>1.000000</td>\n",
       "      <td>1635.500000</td>\n",
       "    </tr>\n",
       "    <tr>\n",
       "      <th>max</th>\n",
       "      <td>1.000000</td>\n",
       "      <td>28652.000000</td>\n",
       "    </tr>\n",
       "  </tbody>\n",
       "</table>\n",
       "</div>"
      ],
      "text/plain": [
       "            label       len_txt\n",
       "count  647.000000    647.000000\n",
       "mean     0.571870   1516.514683\n",
       "std      0.495191   1698.831551\n",
       "min      0.000000     99.000000\n",
       "25%      0.000000    750.500000\n",
       "50%      1.000000   1123.000000\n",
       "75%      1.000000   1635.500000\n",
       "max      1.000000  28652.000000"
      ]
     },
     "execution_count": 23,
     "metadata": {
      "tags": []
     },
     "output_type": "execute_result"
    }
   ],
   "source": [
    "df['len_txt'] =df['text'].apply(lambda x: len(x.split()))\n",
    "df.describe()"
   ]
  },
  {
   "cell_type": "code",
   "execution_count": null,
   "metadata": {
    "colab": {
     "base_uri": "https://localhost:8080/",
     "height": 34
    },
    "colab_type": "code",
    "id": "v4qEn_AONl0V",
    "outputId": "47ab1f11-a372-42ae-95d7-77aac68e0a35"
   },
   "outputs": [
    {
     "data": {
      "text/plain": [
       "598"
      ]
     },
     "execution_count": 24,
     "metadata": {
      "tags": []
     },
     "output_type": "execute_result"
    }
   ],
   "source": [
    "len(df[df['len_txt'] > 512]) "
   ]
  },
  {
   "cell_type": "code",
   "execution_count": null,
   "metadata": {
    "colab": {},
    "colab_type": "code",
    "id": "N4iGX0oA_5Ko"
   },
   "outputs": [],
   "source": [
    "# Combine the training inputs into a TensorDataset.\n",
    "dataset = TensorDataset(input_ids, attention_masks, labels)"
   ]
  },
  {
   "cell_type": "code",
   "execution_count": null,
   "metadata": {
    "colab": {
     "base_uri": "https://localhost:8080/",
     "height": 51
    },
    "colab_type": "code",
    "id": "hjaZOiqV_5Kq",
    "outputId": "af28a565-99eb-4c55-cf19-66ec44cb9596"
   },
   "outputs": [
    {
     "name": "stdout",
     "output_type": "stream",
     "text": [
      "647\n",
      "512\n"
     ]
    }
   ],
   "source": [
    "# check size of embeddings\n",
    "print(len(input_ids))\n",
    "print(len(input_ids[0]))"
   ]
  },
  {
   "cell_type": "code",
   "execution_count": null,
   "metadata": {
    "colab": {},
    "colab_type": "code",
    "id": "n_X8c-AaDqTI"
   },
   "outputs": [],
   "source": []
  },
  {
   "cell_type": "code",
   "execution_count": null,
   "metadata": {
    "colab": {},
    "colab_type": "code",
    "id": "-LUl293eOESc"
   },
   "outputs": [],
   "source": []
  },
  {
   "cell_type": "code",
   "execution_count": null,
   "metadata": {
    "colab": {
     "base_uri": "https://localhost:8080/",
     "height": 51
    },
    "colab_type": "code",
    "id": "4SSD8wCT_5Ks",
    "outputId": "4a57cf3a-855f-4c9c-f870-70ce6e4b4ef9"
   },
   "outputs": [
    {
     "name": "stdout",
     "output_type": "stream",
     "text": [
      "  582 training samples\n",
      "   65 validation samples\n"
     ]
    }
   ],
   "source": [
    "# Create a 90-10 train-validation split.\n",
    "train_size = int(0.9 * len(dataset))\n",
    "val_size = len(dataset) - train_size\n",
    "\n",
    "train_dataset, val_dataset = random_split(dataset, [train_size, val_size])\n",
    "\n",
    "print('{:>5,} training samples'.format(train_size))\n",
    "print('{:>5,} validation samples'.format(val_size))"
   ]
  },
  {
   "cell_type": "code",
   "execution_count": null,
   "metadata": {
    "colab": {},
    "colab_type": "code",
    "id": "-YSQ87ha_5Kv"
   },
   "outputs": [],
   "source": [
    "# Create the DataLoaders for our training and validation sets.\n",
    "train_dataloader = DataLoader(\n",
    "            train_dataset,  # The training samples.\n",
    "            sampler = RandomSampler(train_dataset), # Select batches randomly\n",
    "            batch_size = batch_size # Trains with this batch size.\n",
    "        )\n",
    "\n",
    "# For validation the order doesn't matter, so just read them sequentially.\n",
    "validation_dataloader = DataLoader(\n",
    "            val_dataset, # The validation samples.\n",
    "            sampler = SequentialSampler(val_dataset), # Pull out batches sequentially.\n",
    "            batch_size = batch_size # Evaluate with this batch size.\n",
    "        )"
   ]
  },
  {
   "cell_type": "code",
   "execution_count": null,
   "metadata": {
    "colab": {},
    "colab_type": "code",
    "id": "V4sVuVoL_5K0"
   },
   "outputs": [],
   "source": [
    "# Note: AdamW is a class from the huggingface library (as opposed to pytorch) \n",
    "# I believe the 'W' stands for 'Weight Decay fix\"\n",
    "optimizer = AdamW(model.parameters(),\n",
    "                  lr = lr, # args.learning_rate - default is 5e-5, our notebook had 2e-5\n",
    "                  eps = 1e-8 # args.adam_epsilon  - default is 1e-8.\n",
    "                )"
   ]
  },
  {
   "cell_type": "code",
   "execution_count": null,
   "metadata": {
    "colab": {
     "base_uri": "https://localhost:8080/",
     "height": 1000
    },
    "colab_type": "code",
    "id": "OpCOLW4q_5Kx",
    "outputId": "e93a97c9-ede2-4db3-bc28-d173d810ff02"
   },
   "outputs": [
    {
     "data": {
      "text/plain": [
       "LongformerForSequenceClassification(\n",
       "  (longformer): LongformerModel(\n",
       "    (embeddings): RobertaEmbeddings(\n",
       "      (word_embeddings): Embedding(50265, 768, padding_idx=1)\n",
       "      (position_embeddings): Embedding(4098, 768, padding_idx=1)\n",
       "      (token_type_embeddings): Embedding(1, 768)\n",
       "      (LayerNorm): LayerNorm((768,), eps=1e-05, elementwise_affine=True)\n",
       "      (dropout): Dropout(p=0.1, inplace=False)\n",
       "    )\n",
       "    (encoder): LongformerEncoder(\n",
       "      (layer): ModuleList(\n",
       "        (0): LongformerLayer(\n",
       "          (attention): LongformerAttention(\n",
       "            (self): LongformerSelfAttention(\n",
       "              (query): Linear(in_features=768, out_features=768, bias=True)\n",
       "              (key): Linear(in_features=768, out_features=768, bias=True)\n",
       "              (value): Linear(in_features=768, out_features=768, bias=True)\n",
       "              (query_global): Linear(in_features=768, out_features=768, bias=True)\n",
       "              (key_global): Linear(in_features=768, out_features=768, bias=True)\n",
       "              (value_global): Linear(in_features=768, out_features=768, bias=True)\n",
       "            )\n",
       "            (output): BertSelfOutput(\n",
       "              (dense): Linear(in_features=768, out_features=768, bias=True)\n",
       "              (LayerNorm): LayerNorm((768,), eps=1e-05, elementwise_affine=True)\n",
       "              (dropout): Dropout(p=0.1, inplace=False)\n",
       "            )\n",
       "          )\n",
       "          (intermediate): BertIntermediate(\n",
       "            (dense): Linear(in_features=768, out_features=3072, bias=True)\n",
       "          )\n",
       "          (output): BertOutput(\n",
       "            (dense): Linear(in_features=3072, out_features=768, bias=True)\n",
       "            (LayerNorm): LayerNorm((768,), eps=1e-05, elementwise_affine=True)\n",
       "            (dropout): Dropout(p=0.1, inplace=False)\n",
       "          )\n",
       "        )\n",
       "        (1): LongformerLayer(\n",
       "          (attention): LongformerAttention(\n",
       "            (self): LongformerSelfAttention(\n",
       "              (query): Linear(in_features=768, out_features=768, bias=True)\n",
       "              (key): Linear(in_features=768, out_features=768, bias=True)\n",
       "              (value): Linear(in_features=768, out_features=768, bias=True)\n",
       "              (query_global): Linear(in_features=768, out_features=768, bias=True)\n",
       "              (key_global): Linear(in_features=768, out_features=768, bias=True)\n",
       "              (value_global): Linear(in_features=768, out_features=768, bias=True)\n",
       "            )\n",
       "            (output): BertSelfOutput(\n",
       "              (dense): Linear(in_features=768, out_features=768, bias=True)\n",
       "              (LayerNorm): LayerNorm((768,), eps=1e-05, elementwise_affine=True)\n",
       "              (dropout): Dropout(p=0.1, inplace=False)\n",
       "            )\n",
       "          )\n",
       "          (intermediate): BertIntermediate(\n",
       "            (dense): Linear(in_features=768, out_features=3072, bias=True)\n",
       "          )\n",
       "          (output): BertOutput(\n",
       "            (dense): Linear(in_features=3072, out_features=768, bias=True)\n",
       "            (LayerNorm): LayerNorm((768,), eps=1e-05, elementwise_affine=True)\n",
       "            (dropout): Dropout(p=0.1, inplace=False)\n",
       "          )\n",
       "        )\n",
       "        (2): LongformerLayer(\n",
       "          (attention): LongformerAttention(\n",
       "            (self): LongformerSelfAttention(\n",
       "              (query): Linear(in_features=768, out_features=768, bias=True)\n",
       "              (key): Linear(in_features=768, out_features=768, bias=True)\n",
       "              (value): Linear(in_features=768, out_features=768, bias=True)\n",
       "              (query_global): Linear(in_features=768, out_features=768, bias=True)\n",
       "              (key_global): Linear(in_features=768, out_features=768, bias=True)\n",
       "              (value_global): Linear(in_features=768, out_features=768, bias=True)\n",
       "            )\n",
       "            (output): BertSelfOutput(\n",
       "              (dense): Linear(in_features=768, out_features=768, bias=True)\n",
       "              (LayerNorm): LayerNorm((768,), eps=1e-05, elementwise_affine=True)\n",
       "              (dropout): Dropout(p=0.1, inplace=False)\n",
       "            )\n",
       "          )\n",
       "          (intermediate): BertIntermediate(\n",
       "            (dense): Linear(in_features=768, out_features=3072, bias=True)\n",
       "          )\n",
       "          (output): BertOutput(\n",
       "            (dense): Linear(in_features=3072, out_features=768, bias=True)\n",
       "            (LayerNorm): LayerNorm((768,), eps=1e-05, elementwise_affine=True)\n",
       "            (dropout): Dropout(p=0.1, inplace=False)\n",
       "          )\n",
       "        )\n",
       "        (3): LongformerLayer(\n",
       "          (attention): LongformerAttention(\n",
       "            (self): LongformerSelfAttention(\n",
       "              (query): Linear(in_features=768, out_features=768, bias=True)\n",
       "              (key): Linear(in_features=768, out_features=768, bias=True)\n",
       "              (value): Linear(in_features=768, out_features=768, bias=True)\n",
       "              (query_global): Linear(in_features=768, out_features=768, bias=True)\n",
       "              (key_global): Linear(in_features=768, out_features=768, bias=True)\n",
       "              (value_global): Linear(in_features=768, out_features=768, bias=True)\n",
       "            )\n",
       "            (output): BertSelfOutput(\n",
       "              (dense): Linear(in_features=768, out_features=768, bias=True)\n",
       "              (LayerNorm): LayerNorm((768,), eps=1e-05, elementwise_affine=True)\n",
       "              (dropout): Dropout(p=0.1, inplace=False)\n",
       "            )\n",
       "          )\n",
       "          (intermediate): BertIntermediate(\n",
       "            (dense): Linear(in_features=768, out_features=3072, bias=True)\n",
       "          )\n",
       "          (output): BertOutput(\n",
       "            (dense): Linear(in_features=3072, out_features=768, bias=True)\n",
       "            (LayerNorm): LayerNorm((768,), eps=1e-05, elementwise_affine=True)\n",
       "            (dropout): Dropout(p=0.1, inplace=False)\n",
       "          )\n",
       "        )\n",
       "        (4): LongformerLayer(\n",
       "          (attention): LongformerAttention(\n",
       "            (self): LongformerSelfAttention(\n",
       "              (query): Linear(in_features=768, out_features=768, bias=True)\n",
       "              (key): Linear(in_features=768, out_features=768, bias=True)\n",
       "              (value): Linear(in_features=768, out_features=768, bias=True)\n",
       "              (query_global): Linear(in_features=768, out_features=768, bias=True)\n",
       "              (key_global): Linear(in_features=768, out_features=768, bias=True)\n",
       "              (value_global): Linear(in_features=768, out_features=768, bias=True)\n",
       "            )\n",
       "            (output): BertSelfOutput(\n",
       "              (dense): Linear(in_features=768, out_features=768, bias=True)\n",
       "              (LayerNorm): LayerNorm((768,), eps=1e-05, elementwise_affine=True)\n",
       "              (dropout): Dropout(p=0.1, inplace=False)\n",
       "            )\n",
       "          )\n",
       "          (intermediate): BertIntermediate(\n",
       "            (dense): Linear(in_features=768, out_features=3072, bias=True)\n",
       "          )\n",
       "          (output): BertOutput(\n",
       "            (dense): Linear(in_features=3072, out_features=768, bias=True)\n",
       "            (LayerNorm): LayerNorm((768,), eps=1e-05, elementwise_affine=True)\n",
       "            (dropout): Dropout(p=0.1, inplace=False)\n",
       "          )\n",
       "        )\n",
       "        (5): LongformerLayer(\n",
       "          (attention): LongformerAttention(\n",
       "            (self): LongformerSelfAttention(\n",
       "              (query): Linear(in_features=768, out_features=768, bias=True)\n",
       "              (key): Linear(in_features=768, out_features=768, bias=True)\n",
       "              (value): Linear(in_features=768, out_features=768, bias=True)\n",
       "              (query_global): Linear(in_features=768, out_features=768, bias=True)\n",
       "              (key_global): Linear(in_features=768, out_features=768, bias=True)\n",
       "              (value_global): Linear(in_features=768, out_features=768, bias=True)\n",
       "            )\n",
       "            (output): BertSelfOutput(\n",
       "              (dense): Linear(in_features=768, out_features=768, bias=True)\n",
       "              (LayerNorm): LayerNorm((768,), eps=1e-05, elementwise_affine=True)\n",
       "              (dropout): Dropout(p=0.1, inplace=False)\n",
       "            )\n",
       "          )\n",
       "          (intermediate): BertIntermediate(\n",
       "            (dense): Linear(in_features=768, out_features=3072, bias=True)\n",
       "          )\n",
       "          (output): BertOutput(\n",
       "            (dense): Linear(in_features=3072, out_features=768, bias=True)\n",
       "            (LayerNorm): LayerNorm((768,), eps=1e-05, elementwise_affine=True)\n",
       "            (dropout): Dropout(p=0.1, inplace=False)\n",
       "          )\n",
       "        )\n",
       "        (6): LongformerLayer(\n",
       "          (attention): LongformerAttention(\n",
       "            (self): LongformerSelfAttention(\n",
       "              (query): Linear(in_features=768, out_features=768, bias=True)\n",
       "              (key): Linear(in_features=768, out_features=768, bias=True)\n",
       "              (value): Linear(in_features=768, out_features=768, bias=True)\n",
       "              (query_global): Linear(in_features=768, out_features=768, bias=True)\n",
       "              (key_global): Linear(in_features=768, out_features=768, bias=True)\n",
       "              (value_global): Linear(in_features=768, out_features=768, bias=True)\n",
       "            )\n",
       "            (output): BertSelfOutput(\n",
       "              (dense): Linear(in_features=768, out_features=768, bias=True)\n",
       "              (LayerNorm): LayerNorm((768,), eps=1e-05, elementwise_affine=True)\n",
       "              (dropout): Dropout(p=0.1, inplace=False)\n",
       "            )\n",
       "          )\n",
       "          (intermediate): BertIntermediate(\n",
       "            (dense): Linear(in_features=768, out_features=3072, bias=True)\n",
       "          )\n",
       "          (output): BertOutput(\n",
       "            (dense): Linear(in_features=3072, out_features=768, bias=True)\n",
       "            (LayerNorm): LayerNorm((768,), eps=1e-05, elementwise_affine=True)\n",
       "            (dropout): Dropout(p=0.1, inplace=False)\n",
       "          )\n",
       "        )\n",
       "        (7): LongformerLayer(\n",
       "          (attention): LongformerAttention(\n",
       "            (self): LongformerSelfAttention(\n",
       "              (query): Linear(in_features=768, out_features=768, bias=True)\n",
       "              (key): Linear(in_features=768, out_features=768, bias=True)\n",
       "              (value): Linear(in_features=768, out_features=768, bias=True)\n",
       "              (query_global): Linear(in_features=768, out_features=768, bias=True)\n",
       "              (key_global): Linear(in_features=768, out_features=768, bias=True)\n",
       "              (value_global): Linear(in_features=768, out_features=768, bias=True)\n",
       "            )\n",
       "            (output): BertSelfOutput(\n",
       "              (dense): Linear(in_features=768, out_features=768, bias=True)\n",
       "              (LayerNorm): LayerNorm((768,), eps=1e-05, elementwise_affine=True)\n",
       "              (dropout): Dropout(p=0.1, inplace=False)\n",
       "            )\n",
       "          )\n",
       "          (intermediate): BertIntermediate(\n",
       "            (dense): Linear(in_features=768, out_features=3072, bias=True)\n",
       "          )\n",
       "          (output): BertOutput(\n",
       "            (dense): Linear(in_features=3072, out_features=768, bias=True)\n",
       "            (LayerNorm): LayerNorm((768,), eps=1e-05, elementwise_affine=True)\n",
       "            (dropout): Dropout(p=0.1, inplace=False)\n",
       "          )\n",
       "        )\n",
       "        (8): LongformerLayer(\n",
       "          (attention): LongformerAttention(\n",
       "            (self): LongformerSelfAttention(\n",
       "              (query): Linear(in_features=768, out_features=768, bias=True)\n",
       "              (key): Linear(in_features=768, out_features=768, bias=True)\n",
       "              (value): Linear(in_features=768, out_features=768, bias=True)\n",
       "              (query_global): Linear(in_features=768, out_features=768, bias=True)\n",
       "              (key_global): Linear(in_features=768, out_features=768, bias=True)\n",
       "              (value_global): Linear(in_features=768, out_features=768, bias=True)\n",
       "            )\n",
       "            (output): BertSelfOutput(\n",
       "              (dense): Linear(in_features=768, out_features=768, bias=True)\n",
       "              (LayerNorm): LayerNorm((768,), eps=1e-05, elementwise_affine=True)\n",
       "              (dropout): Dropout(p=0.1, inplace=False)\n",
       "            )\n",
       "          )\n",
       "          (intermediate): BertIntermediate(\n",
       "            (dense): Linear(in_features=768, out_features=3072, bias=True)\n",
       "          )\n",
       "          (output): BertOutput(\n",
       "            (dense): Linear(in_features=3072, out_features=768, bias=True)\n",
       "            (LayerNorm): LayerNorm((768,), eps=1e-05, elementwise_affine=True)\n",
       "            (dropout): Dropout(p=0.1, inplace=False)\n",
       "          )\n",
       "        )\n",
       "        (9): LongformerLayer(\n",
       "          (attention): LongformerAttention(\n",
       "            (self): LongformerSelfAttention(\n",
       "              (query): Linear(in_features=768, out_features=768, bias=True)\n",
       "              (key): Linear(in_features=768, out_features=768, bias=True)\n",
       "              (value): Linear(in_features=768, out_features=768, bias=True)\n",
       "              (query_global): Linear(in_features=768, out_features=768, bias=True)\n",
       "              (key_global): Linear(in_features=768, out_features=768, bias=True)\n",
       "              (value_global): Linear(in_features=768, out_features=768, bias=True)\n",
       "            )\n",
       "            (output): BertSelfOutput(\n",
       "              (dense): Linear(in_features=768, out_features=768, bias=True)\n",
       "              (LayerNorm): LayerNorm((768,), eps=1e-05, elementwise_affine=True)\n",
       "              (dropout): Dropout(p=0.1, inplace=False)\n",
       "            )\n",
       "          )\n",
       "          (intermediate): BertIntermediate(\n",
       "            (dense): Linear(in_features=768, out_features=3072, bias=True)\n",
       "          )\n",
       "          (output): BertOutput(\n",
       "            (dense): Linear(in_features=3072, out_features=768, bias=True)\n",
       "            (LayerNorm): LayerNorm((768,), eps=1e-05, elementwise_affine=True)\n",
       "            (dropout): Dropout(p=0.1, inplace=False)\n",
       "          )\n",
       "        )\n",
       "        (10): LongformerLayer(\n",
       "          (attention): LongformerAttention(\n",
       "            (self): LongformerSelfAttention(\n",
       "              (query): Linear(in_features=768, out_features=768, bias=True)\n",
       "              (key): Linear(in_features=768, out_features=768, bias=True)\n",
       "              (value): Linear(in_features=768, out_features=768, bias=True)\n",
       "              (query_global): Linear(in_features=768, out_features=768, bias=True)\n",
       "              (key_global): Linear(in_features=768, out_features=768, bias=True)\n",
       "              (value_global): Linear(in_features=768, out_features=768, bias=True)\n",
       "            )\n",
       "            (output): BertSelfOutput(\n",
       "              (dense): Linear(in_features=768, out_features=768, bias=True)\n",
       "              (LayerNorm): LayerNorm((768,), eps=1e-05, elementwise_affine=True)\n",
       "              (dropout): Dropout(p=0.1, inplace=False)\n",
       "            )\n",
       "          )\n",
       "          (intermediate): BertIntermediate(\n",
       "            (dense): Linear(in_features=768, out_features=3072, bias=True)\n",
       "          )\n",
       "          (output): BertOutput(\n",
       "            (dense): Linear(in_features=3072, out_features=768, bias=True)\n",
       "            (LayerNorm): LayerNorm((768,), eps=1e-05, elementwise_affine=True)\n",
       "            (dropout): Dropout(p=0.1, inplace=False)\n",
       "          )\n",
       "        )\n",
       "        (11): LongformerLayer(\n",
       "          (attention): LongformerAttention(\n",
       "            (self): LongformerSelfAttention(\n",
       "              (query): Linear(in_features=768, out_features=768, bias=True)\n",
       "              (key): Linear(in_features=768, out_features=768, bias=True)\n",
       "              (value): Linear(in_features=768, out_features=768, bias=True)\n",
       "              (query_global): Linear(in_features=768, out_features=768, bias=True)\n",
       "              (key_global): Linear(in_features=768, out_features=768, bias=True)\n",
       "              (value_global): Linear(in_features=768, out_features=768, bias=True)\n",
       "            )\n",
       "            (output): BertSelfOutput(\n",
       "              (dense): Linear(in_features=768, out_features=768, bias=True)\n",
       "              (LayerNorm): LayerNorm((768,), eps=1e-05, elementwise_affine=True)\n",
       "              (dropout): Dropout(p=0.1, inplace=False)\n",
       "            )\n",
       "          )\n",
       "          (intermediate): BertIntermediate(\n",
       "            (dense): Linear(in_features=768, out_features=3072, bias=True)\n",
       "          )\n",
       "          (output): BertOutput(\n",
       "            (dense): Linear(in_features=3072, out_features=768, bias=True)\n",
       "            (LayerNorm): LayerNorm((768,), eps=1e-05, elementwise_affine=True)\n",
       "            (dropout): Dropout(p=0.1, inplace=False)\n",
       "          )\n",
       "        )\n",
       "      )\n",
       "    )\n",
       "    (pooler): BertPooler(\n",
       "      (dense): Linear(in_features=768, out_features=768, bias=True)\n",
       "      (activation): Tanh()\n",
       "    )\n",
       "  )\n",
       "  (classifier): LongformerClassificationHead(\n",
       "    (dense): Linear(in_features=768, out_features=768, bias=True)\n",
       "    (dropout): Dropout(p=0.1, inplace=False)\n",
       "    (out_proj): Linear(in_features=768, out_features=2, bias=True)\n",
       "  )\n",
       ")"
      ]
     },
     "execution_count": 30,
     "metadata": {
      "tags": []
     },
     "output_type": "execute_result"
    }
   ],
   "source": [
    "# Tell pytorch to run this model on the GPU.\n",
    "model.cuda()"
   ]
  },
  {
   "cell_type": "code",
   "execution_count": null,
   "metadata": {
    "colab": {
     "base_uri": "https://localhost:8080/",
     "height": 612
    },
    "colab_type": "code",
    "id": "NH3yaw18CYcb",
    "outputId": "886665fe-f23e-4d07-c332-262591ee4452"
   },
   "outputs": [
    {
     "name": "stdout",
     "output_type": "stream",
     "text": [
      "The BERT model has 275 different named parameters.\n",
      "\n",
      "==== Embedding Layer ====\n",
      "\n",
      "longformer.embeddings.word_embeddings.weight            (50265, 768)\n",
      "longformer.embeddings.position_embeddings.weight         (4098, 768)\n",
      "longformer.embeddings.token_type_embeddings.weight          (1, 768)\n",
      "longformer.embeddings.LayerNorm.weight                        (768,)\n",
      "longformer.embeddings.LayerNorm.bias                          (768,)\n",
      "\n",
      "==== First Transformer ====\n",
      "\n",
      "longformer.encoder.layer.0.attention.self.query.weight    (768, 768)\n",
      "longformer.encoder.layer.0.attention.self.query.bias          (768,)\n",
      "longformer.encoder.layer.0.attention.self.key.weight      (768, 768)\n",
      "longformer.encoder.layer.0.attention.self.key.bias            (768,)\n",
      "longformer.encoder.layer.0.attention.self.value.weight    (768, 768)\n",
      "longformer.encoder.layer.0.attention.self.value.bias          (768,)\n",
      "longformer.encoder.layer.0.attention.self.query_global.weight   (768, 768)\n",
      "longformer.encoder.layer.0.attention.self.query_global.bias       (768,)\n",
      "longformer.encoder.layer.0.attention.self.key_global.weight   (768, 768)\n",
      "longformer.encoder.layer.0.attention.self.key_global.bias       (768,)\n",
      "longformer.encoder.layer.0.attention.self.value_global.weight   (768, 768)\n",
      "longformer.encoder.layer.0.attention.self.value_global.bias       (768,)\n",
      "longformer.encoder.layer.0.attention.output.dense.weight   (768, 768)\n",
      "longformer.encoder.layer.0.attention.output.dense.bias        (768,)\n",
      "longformer.encoder.layer.0.attention.output.LayerNorm.weight       (768,)\n",
      "longformer.encoder.layer.0.attention.output.LayerNorm.bias       (768,)\n",
      "\n",
      "==== Output Layer ====\n",
      "\n",
      "classifier.dense.weight                                   (768, 768)\n",
      "classifier.dense.bias                                         (768,)\n",
      "classifier.out_proj.weight                                  (2, 768)\n",
      "classifier.out_proj.bias                                        (2,)\n"
     ]
    }
   ],
   "source": [
    "# Get all of the model's parameters as a list of tuples.\n",
    "params = list(model.named_parameters())\n",
    "\n",
    "print('The BERT model has {:} different named parameters.\\n'.format(len(params)))\n",
    "\n",
    "print('==== Embedding Layer ====\\n')\n",
    "\n",
    "for p in params[0:5]:\n",
    "    print(\"{:<55} {:>12}\".format(p[0], str(tuple(p[1].size()))))\n",
    "\n",
    "print('\\n==== First Transformer ====\\n')\n",
    "\n",
    "for p in params[5:21]:\n",
    "    print(\"{:<55} {:>12}\".format(p[0], str(tuple(p[1].size()))))\n",
    "\n",
    "print('\\n==== Output Layer ====\\n')\n",
    "\n",
    "for p in params[-4:]:\n",
    "    print(\"{:<55} {:>12}\".format(p[0], str(tuple(p[1].size()))))"
   ]
  },
  {
   "cell_type": "code",
   "execution_count": null,
   "metadata": {
    "colab": {},
    "colab_type": "code",
    "id": "zvoMRhpaQVcC"
   },
   "outputs": [],
   "source": []
  },
  {
   "cell_type": "code",
   "execution_count": null,
   "metadata": {
    "colab": {},
    "colab_type": "code",
    "id": "vmZH3X0J_5K1"
   },
   "outputs": [],
   "source": [
    "# Number of training epochs. The BERT authors recommend between 2 and 4. \n",
    "epochs = num_epochs\n",
    "\n",
    "# Total number of training steps is [number of batches] x [number of epochs]. \n",
    "total_steps = len(train_dataloader) * epochs\n",
    "warmup_steps = total_steps * 0.1\n",
    "\n",
    "# Create the learning rate scheduler.\n",
    "scheduler = get_linear_schedule_with_warmup(optimizer, \n",
    "                                            num_warmup_steps = warmup_steps, # Default value in run_glue.py\n",
    "                                            num_training_steps = total_steps)"
   ]
  },
  {
   "cell_type": "code",
   "execution_count": null,
   "metadata": {
    "colab": {
     "base_uri": "https://localhost:8080/",
     "height": 1000
    },
    "colab_type": "code",
    "id": "1GsKTWcy_5K3",
    "outputId": "5a1b013d-c4b2-4b8e-b024-63beaff8b986"
   },
   "outputs": [
    {
     "name": "stdout",
     "output_type": "stream",
     "text": [
      "\n",
      "======== Epoch 1 / 5 ========\n",
      "Training...\n",
      "  Batch    16  of     73.    Elapsed: 0:00:46.\n",
      "  Batch    32  of     73.    Elapsed: 0:01:31.\n",
      "  Batch    48  of     73.    Elapsed: 0:02:17.\n",
      "  Batch    64  of     73.    Elapsed: 0:03:02.\n",
      "\n",
      "  Average training loss: 0.70\n",
      "  Training epcoh took: 0:03:27\n",
      "\n",
      "Running Validation...\n",
      "  Accuracy: 0.57\n",
      "  Validation Loss: 0.68\n",
      "  Validation took: 0:00:06\n",
      "\n",
      "======== Epoch 2 / 5 ========\n",
      "Training...\n",
      "  Batch    16  of     73.    Elapsed: 0:00:45.\n",
      "  Batch    32  of     73.    Elapsed: 0:01:31.\n",
      "  Batch    48  of     73.    Elapsed: 0:02:16.\n",
      "  Batch    64  of     73.    Elapsed: 0:03:02.\n",
      "\n",
      "  Average training loss: 0.69\n",
      "  Training epcoh took: 0:03:27\n",
      "\n",
      "Running Validation...\n",
      "  Accuracy: 0.57\n",
      "  Validation Loss: 0.68\n",
      "  Validation took: 0:00:06\n",
      "\n",
      "======== Epoch 3 / 5 ========\n",
      "Training...\n",
      "  Batch    16  of     73.    Elapsed: 0:00:45.\n",
      "  Batch    32  of     73.    Elapsed: 0:01:31.\n",
      "  Batch    48  of     73.    Elapsed: 0:02:16.\n",
      "  Batch    64  of     73.    Elapsed: 0:03:02.\n",
      "\n",
      "  Average training loss: 0.67\n",
      "  Training epcoh took: 0:03:27\n",
      "\n",
      "Running Validation...\n",
      "  Accuracy: 0.69\n",
      "  Validation Loss: 0.59\n",
      "  Validation took: 0:00:06\n",
      "\n",
      "======== Epoch 4 / 5 ========\n",
      "Training...\n",
      "  Batch    16  of     73.    Elapsed: 0:00:45.\n",
      "  Batch    32  of     73.    Elapsed: 0:01:31.\n",
      "  Batch    48  of     73.    Elapsed: 0:02:17.\n",
      "  Batch    64  of     73.    Elapsed: 0:03:02.\n",
      "\n",
      "  Average training loss: 0.64\n",
      "  Training epcoh took: 0:03:27\n",
      "\n",
      "Running Validation...\n",
      "  Accuracy: 0.74\n",
      "  Validation Loss: 0.55\n",
      "  Validation took: 0:00:06\n",
      "\n",
      "======== Epoch 5 / 5 ========\n",
      "Training...\n",
      "  Batch    16  of     73.    Elapsed: 0:00:45.\n",
      "  Batch    32  of     73.    Elapsed: 0:01:31.\n",
      "  Batch    48  of     73.    Elapsed: 0:02:16.\n",
      "  Batch    64  of     73.    Elapsed: 0:03:02.\n",
      "\n",
      "  Average training loss: 0.61\n",
      "  Training epcoh took: 0:03:27\n",
      "\n",
      "Running Validation...\n",
      "  Accuracy: 0.71\n",
      "  Validation Loss: 0.54\n",
      "  Validation took: 0:00:06\n",
      "\n",
      "Training complete!\n",
      "Total training took 0:17:47 (h:mm:ss)\n"
     ]
    }
   ],
   "source": [
    "# Train the model\n",
    "device = torch.device(\"cuda\")\n",
    "training_stats = []\n",
    "total_t0 = time.time()\n",
    "\n",
    "# For each epoch...\n",
    "for epoch_i in range(0, epochs):\n",
    "    \n",
    "    # ========================================\n",
    "    #               Training\n",
    "    # ========================================\n",
    "    \n",
    "    # Perform one full pass over the training set.\n",
    "\n",
    "    print(\"\")\n",
    "    print('======== Epoch {:} / {:} ========'.format(epoch_i + 1, epochs))\n",
    "    print('Training...')\n",
    "\n",
    "    t0 = time.time()\n",
    "\n",
    "    # Reset the total loss for this epoch.\n",
    "    total_train_loss = 0\n",
    "    model.train()\n",
    "\n",
    "    # For each batch of training data...\n",
    "    for step, batch in enumerate(train_dataloader):\n",
    "\n",
    "        if step % 16 == 0 and not step == 0:\n",
    "            elapsed = format_time(time.time() - t0)\n",
    "            print('  Batch {:>5,}  of  {:>5,}.    Elapsed: {:}.'.format(step, len(train_dataloader), elapsed))\n",
    "\n",
    "        b_input_ids = batch[0].to(device) # input ids\n",
    "        b_input_mask = batch[1].to(device) # attention masks\n",
    "        b_labels = batch[2].to(device) # labels\n",
    "\n",
    "        # Clear previously calculated gradients before performing backward pass. \n",
    "        model.zero_grad()        \n",
    "\n",
    "        # Forward pass\n",
    "        loss, logits = model(b_input_ids, \n",
    "                             token_type_ids=None, \n",
    "                             attention_mask=b_input_mask, \n",
    "                             labels=b_labels)\n",
    "\n",
    "        total_train_loss += loss.item() # Accumulate the training loss over all of the batches \n",
    "\n",
    "        # Perform a backward pass to calculate the gradients.\n",
    "        loss.backward()\n",
    "\n",
    "        # Clip the norm of the gradients to 1.0. to help prevent the \"exploding gradients\" problem.\n",
    "        torch.nn.utils.clip_grad_norm_(model.parameters(), 1.0)\n",
    "\n",
    "        # Update parameters and take a step using the computed gradient.\n",
    "        optimizer.step()\n",
    "\n",
    "        # Update the learning rate.\n",
    "        scheduler.step()\n",
    "\n",
    "    # Calculate the average loss over all of the batches.\n",
    "    avg_train_loss = total_train_loss / len(train_dataloader)            \n",
    "    \n",
    "    # Measure how long this epoch took.\n",
    "    training_time = format_time(time.time() - t0)\n",
    "\n",
    "    print(\"\")\n",
    "    print(\"  Average training loss: {0:.2f}\".format(avg_train_loss))\n",
    "    print(\"  Training epcoh took: {:}\".format(training_time))\n",
    "        \n",
    "    # ========================================\n",
    "    #               Validation\n",
    "    # ========================================\n",
    "    # After the completion of each training epoch, measure our performance on\n",
    "    # our validation set.\n",
    "\n",
    "    print(\"\")\n",
    "    print(\"Running Validation...\")\n",
    "\n",
    "    t0 = time.time()\n",
    "\n",
    "    # Put the model in evaluation mode--the dropout layers behave differently\n",
    "    # during evaluation.\n",
    "    model.eval()\n",
    "\n",
    "    # Tracking variables \n",
    "    total_eval_accuracy = 0\n",
    "    total_eval_loss = 0\n",
    "    nb_eval_steps = 0\n",
    "\n",
    "    # Evaluate data for one epoch\n",
    "    for batch in validation_dataloader:\n",
    "        b_input_ids = batch[0].to(device)\n",
    "        b_input_mask = batch[1].to(device)\n",
    "        b_labels = batch[2].to(device)\n",
    "        \n",
    "        with torch.no_grad():        \n",
    "\n",
    "            # Forward pass, calculate logit predictions.\n",
    "            (loss, logits) = model(b_input_ids, \n",
    "                                   token_type_ids=None, \n",
    "                                   attention_mask=b_input_mask,\n",
    "                                   labels=b_labels)\n",
    "            \n",
    "        # Accumulate the validation loss.\n",
    "        total_eval_loss += loss.item()\n",
    "\n",
    "        # Move logits and labels to CPU\n",
    "        logits = logits.detach().cpu().numpy()\n",
    "        label_ids = b_labels.to('cpu').numpy()\n",
    "\n",
    "        # Calculate the accuracy for this batch of test sentences, and accumulate over all batches.\n",
    "        total_eval_accuracy += flat_accuracy(logits, label_ids)\n",
    "\n",
    "    # Report the final accuracy for this validation run.\n",
    "    avg_val_accuracy = total_eval_accuracy / len(validation_dataloader)\n",
    "    print(\"  Accuracy: {0:.2f}\".format(avg_val_accuracy))\n",
    "\n",
    "    # Calculate the average loss over all of the batches.\n",
    "    avg_val_loss = total_eval_loss / len(validation_dataloader)\n",
    "    \n",
    "    # Measure how long the validation run took.\n",
    "    validation_time = format_time(time.time() - t0)\n",
    "    \n",
    "    print(\"  Validation Loss: {0:.2f}\".format(avg_val_loss))\n",
    "    print(\"  Validation took: {:}\".format(validation_time))\n",
    "\n",
    "    # Record all statistics from this epoch.\n",
    "    training_stats.append(\n",
    "        {\n",
    "            'epoch': epoch_i + 1,\n",
    "            'Training Loss': avg_train_loss,\n",
    "            'Valid. Loss': avg_val_loss,\n",
    "            'Valid. Accur.': avg_val_accuracy,\n",
    "            'Training Time': training_time,\n",
    "            'Validation Time': validation_time\n",
    "        }\n",
    "    )\n",
    "\n",
    "print(\"\")\n",
    "print(\"Training complete!\")\n",
    "\n",
    "print(\"Total training took {:} (h:mm:ss)\".format(format_time(time.time()-total_t0)))"
   ]
  },
  {
   "cell_type": "code",
   "execution_count": null,
   "metadata": {
    "colab": {
     "base_uri": "https://localhost:8080/",
     "height": 235
    },
    "colab_type": "code",
    "id": "hQla5mCH_5K4",
    "outputId": "43835e6b-dbf9-4dda-a921-935fb1d1d181"
   },
   "outputs": [
    {
     "data": {
      "text/html": [
       "<div>\n",
       "<style scoped>\n",
       "    .dataframe tbody tr th:only-of-type {\n",
       "        vertical-align: middle;\n",
       "    }\n",
       "\n",
       "    .dataframe tbody tr th {\n",
       "        vertical-align: top;\n",
       "    }\n",
       "\n",
       "    .dataframe thead th {\n",
       "        text-align: right;\n",
       "    }\n",
       "</style>\n",
       "<table border=\"1\" class=\"dataframe\">\n",
       "  <thead>\n",
       "    <tr style=\"text-align: right;\">\n",
       "      <th></th>\n",
       "      <th>Training Loss</th>\n",
       "      <th>Valid. Loss</th>\n",
       "      <th>Valid. Accur.</th>\n",
       "      <th>Training Time</th>\n",
       "      <th>Validation Time</th>\n",
       "    </tr>\n",
       "    <tr>\n",
       "      <th>epoch</th>\n",
       "      <th></th>\n",
       "      <th></th>\n",
       "      <th></th>\n",
       "      <th></th>\n",
       "      <th></th>\n",
       "    </tr>\n",
       "  </thead>\n",
       "  <tbody>\n",
       "    <tr>\n",
       "      <th>1</th>\n",
       "      <td>0.70</td>\n",
       "      <td>0.68</td>\n",
       "      <td>0.57</td>\n",
       "      <td>0:03:27</td>\n",
       "      <td>0:00:06</td>\n",
       "    </tr>\n",
       "    <tr>\n",
       "      <th>2</th>\n",
       "      <td>0.69</td>\n",
       "      <td>0.68</td>\n",
       "      <td>0.57</td>\n",
       "      <td>0:03:27</td>\n",
       "      <td>0:00:06</td>\n",
       "    </tr>\n",
       "    <tr>\n",
       "      <th>3</th>\n",
       "      <td>0.67</td>\n",
       "      <td>0.59</td>\n",
       "      <td>0.69</td>\n",
       "      <td>0:03:27</td>\n",
       "      <td>0:00:06</td>\n",
       "    </tr>\n",
       "    <tr>\n",
       "      <th>4</th>\n",
       "      <td>0.64</td>\n",
       "      <td>0.55</td>\n",
       "      <td>0.74</td>\n",
       "      <td>0:03:27</td>\n",
       "      <td>0:00:06</td>\n",
       "    </tr>\n",
       "    <tr>\n",
       "      <th>5</th>\n",
       "      <td>0.61</td>\n",
       "      <td>0.54</td>\n",
       "      <td>0.71</td>\n",
       "      <td>0:03:27</td>\n",
       "      <td>0:00:06</td>\n",
       "    </tr>\n",
       "  </tbody>\n",
       "</table>\n",
       "</div>"
      ],
      "text/plain": [
       "       Training Loss  Valid. Loss  Valid. Accur. Training Time Validation Time\n",
       "epoch                                                                         \n",
       "1               0.70         0.68           0.57       0:03:27         0:00:06\n",
       "2               0.69         0.68           0.57       0:03:27         0:00:06\n",
       "3               0.67         0.59           0.69       0:03:27         0:00:06\n",
       "4               0.64         0.55           0.74       0:03:27         0:00:06\n",
       "5               0.61         0.54           0.71       0:03:27         0:00:06"
      ]
     },
     "execution_count": 34,
     "metadata": {
      "tags": []
     },
     "output_type": "execute_result"
    }
   ],
   "source": [
    "# Display Results\n",
    "pd.set_option('precision', 2)\n",
    "df_stats = pd.DataFrame(data=training_stats)\n",
    "df_stats = df_stats.set_index('epoch')\n",
    "df_stats"
   ]
  },
  {
   "cell_type": "code",
   "execution_count": null,
   "metadata": {
    "colab": {
     "base_uri": "https://localhost:8080/",
     "height": 427
    },
    "colab_type": "code",
    "id": "_QQciFO3_5K7",
    "outputId": "871291cf-64b8-4fdd-bc90-487fafc8e223"
   },
   "outputs": [
    {
     "data": {
      "image/png": "[encoded data removed]",
      "text/plain": [
       "<Figure size 864x432 with 1 Axes>"
      ]
     },
     "metadata": {
      "tags": []
     },
     "output_type": "display_data"
    }
   ],
   "source": [
    "# Plot the learning curve.\n",
    "\n",
    "sns.set(style='darkgrid')\n",
    "sns.set(font_scale=1.5)\n",
    "plt.rcParams[\"figure.figsize\"] = (12,6)\n",
    "plt.plot(df_stats['Training Loss'], 'b-o', label=\"Training\")\n",
    "plt.plot(df_stats['Valid. Loss'], 'g-o', label=\"Validation\")\n",
    "plt.title(\"Training & Validation Loss\")\n",
    "plt.xlabel(\"Epoch\")\n",
    "plt.ylabel(\"Loss\")\n",
    "plt.legend()\n",
    "plt.xticks([1, 2, 3, 4, 5, 6, 7, 8, 9,10,11,12,13,14,15])\n",
    "\n",
    "plt.show()"
   ]
  },
  {
   "cell_type": "markdown",
   "metadata": {
    "colab_type": "text",
    "id": "qEChtbKj_5K9"
   },
   "source": [
    "# TEST THE MODEL"
   ]
  },
  {
   "cell_type": "code",
   "execution_count": null,
   "metadata": {
    "colab": {
     "base_uri": "https://localhost:8080/",
     "height": 204
    },
    "colab_type": "code",
    "id": "ISE5rHB7_5K9",
    "outputId": "084f6a9c-77b9-44a2-c9aa-6676e71c4612"
   },
   "outputs": [
    {
     "data": {
      "text/html": [
       "<div>\n",
       "<style scoped>\n",
       "    .dataframe tbody tr th:only-of-type {\n",
       "        vertical-align: middle;\n",
       "    }\n",
       "\n",
       "    .dataframe tbody tr th {\n",
       "        vertical-align: top;\n",
       "    }\n",
       "\n",
       "    .dataframe thead th {\n",
       "        text-align: right;\n",
       "    }\n",
       "</style>\n",
       "<table border=\"1\" class=\"dataframe\">\n",
       "  <thead>\n",
       "    <tr style=\"text-align: right;\">\n",
       "      <th></th>\n",
       "      <th>text</th>\n",
       "      <th>label</th>\n",
       "    </tr>\n",
       "  </thead>\n",
       "  <tbody>\n",
       "    <tr>\n",
       "      <th>0</th>\n",
       "      <td>SENTENCE\\n\\n[Name of the victim is suppressed....</td>\n",
       "      <td>1</td>\n",
       "    </tr>\n",
       "    <tr>\n",
       "      <th>1</th>\n",
       "      <td>JUDGMENT\\n\\nThis is an appeal against convicti...</td>\n",
       "      <td>1</td>\n",
       "    </tr>\n",
       "    <tr>\n",
       "      <th>2</th>\n",
       "      <td>JUDGMENT\\n\\n1. On 13 May 2008, the Appellant, ...</td>\n",
       "      <td>1</td>\n",
       "    </tr>\n",
       "    <tr>\n",
       "      <th>3</th>\n",
       "      <td>JUDGMENT\\n[1] On the 17th July 2012 in the Nas...</td>\n",
       "      <td>0</td>\n",
       "    </tr>\n",
       "    <tr>\n",
       "      <th>4</th>\n",
       "      <td>SENTENCE\\n\\nBackground \\n\\n1. The accused was ...</td>\n",
       "      <td>1</td>\n",
       "    </tr>\n",
       "  </tbody>\n",
       "</table>\n",
       "</div>"
      ],
      "text/plain": [
       "                                                text  label\n",
       "0  SENTENCE\\n\\n[Name of the victim is suppressed....      1\n",
       "1  JUDGMENT\\n\\nThis is an appeal against convicti...      1\n",
       "2  JUDGMENT\\n\\n1. On 13 May 2008, the Appellant, ...      1\n",
       "3  JUDGMENT\\n[1] On the 17th July 2012 in the Nas...      0\n",
       "4  SENTENCE\\n\\nBackground \\n\\n1. The accused was ...      1"
      ]
     },
     "execution_count": 36,
     "metadata": {
      "tags": []
     },
     "output_type": "execute_result"
    }
   ],
   "source": [
    "# Holdout\n",
    "df = get_data(test_file)\n",
    "df.head()"
   ]
  },
  {
   "cell_type": "code",
   "execution_count": null,
   "metadata": {
    "colab": {},
    "colab_type": "code",
    "id": "KQSTZBeA_5K_"
   },
   "outputs": [],
   "source": [
    "# Get tokenized labels\n",
    "if use_global_mask:\n",
    "    input_ids, attention_masks, labels = tokenize_manual(df)\n",
    "else:\n",
    "    input_ids, attention_masks, labels = tokenize_plus(df)"
   ]
  },
  {
   "cell_type": "code",
   "execution_count": null,
   "metadata": {
    "colab": {},
    "colab_type": "code",
    "id": "3J0sZyKc_5LB"
   },
   "outputs": [],
   "source": [
    "# create dataloader from input tensors, to help with memory usage\n",
    "prediction_data = TensorDataset(input_ids, attention_masks, labels)\n",
    "prediction_sampler = SequentialSampler(prediction_data)\n",
    "prediction_dataloader = DataLoader(prediction_data, sampler=prediction_sampler, batch_size=batch_size)"
   ]
  },
  {
   "cell_type": "code",
   "execution_count": null,
   "metadata": {
    "colab": {
     "base_uri": "https://localhost:8080/",
     "height": 51
    },
    "colab_type": "code",
    "id": "8w24knQ3_5LC",
    "outputId": "b06e8a44-e326-44f2-8f18-ddd43ebc9751"
   },
   "outputs": [
    {
     "name": "stdout",
     "output_type": "stream",
     "text": [
      "Predicting labels for 162 test sentences...\n",
      "    DONE.\n"
     ]
    }
   ],
   "source": [
    "# Prediction on test set\n",
    "\n",
    "print('Predicting labels for {:,} test sentences...'.format(len(input_ids)))\n",
    "\n",
    "# Put model in evaluation mode\n",
    "model.eval()\n",
    "\n",
    "# Tracking variables \n",
    "predictions , true_labels = [], []\n",
    "\n",
    "# Predict \n",
    "for batch in prediction_dataloader:\n",
    "  # Add batch to GPU\n",
    "  batch = tuple(t.to(device) for t in batch)\n",
    "  \n",
    "  # Unpack the inputs from our dataloader\n",
    "  b_input_ids, b_input_mask, b_labels = batch\n",
    "  \n",
    "  # Telling the model not to compute or store gradients, saving memory and \n",
    "  # speeding up prediction\n",
    "  with torch.no_grad():\n",
    "      # Forward pass, calculate logit predictions\n",
    "      outputs = model(b_input_ids, token_type_ids=None, \n",
    "                      attention_mask=b_input_mask)\n",
    "\n",
    "  logits = outputs[0]\n",
    "\n",
    "  # Move logits and labels to CPU\n",
    "  logits = logits.detach().cpu().numpy()\n",
    "  label_ids = b_labels.to('cpu').numpy()\n",
    "  \n",
    "  # Store predictions and true labels\n",
    "  predictions.append(logits)\n",
    "  true_labels.append(label_ids)\n",
    "\n",
    "print('    DONE.')"
   ]
  },
  {
   "cell_type": "code",
   "execution_count": null,
   "metadata": {
    "colab": {
     "base_uri": "https://localhost:8080/",
     "height": 34
    },
    "colab_type": "code",
    "id": "CUWhr_fD_5LE",
    "outputId": "b3964b55-a8f6-4903-d92e-3f29781b6a0d"
   },
   "outputs": [
    {
     "name": "stdout",
     "output_type": "stream",
     "text": [
      "Positive samples: 97 of 162 (59.88%)\n"
     ]
    }
   ],
   "source": [
    "print('Positive samples: %d of %d (%.2f%%)' % (df.label.sum(), len(df.label), (df.label.sum() / len(df.label) * 100.0)))"
   ]
  },
  {
   "cell_type": "code",
   "execution_count": null,
   "metadata": {
    "colab": {
     "base_uri": "https://localhost:8080/",
     "height": 34
    },
    "colab_type": "code",
    "id": "zhPpsYIe_5LF",
    "outputId": "d9ae3c97-b547-429e-98b5-2ee6b43b8903"
   },
   "outputs": [
    {
     "name": "stdout",
     "output_type": "stream",
     "text": [
      "Precision, Recall, F1, Support: (0.6666666666666666, 0.8041237113402062, 0.7289719626168224, None)\n"
     ]
    }
   ],
   "source": [
    "# Combine the results across all batches. \n",
    "flat_predictions = np.concatenate(predictions, axis=0)\n",
    "\n",
    "# For each sample, pick the label (0 or 1) with the higher score.\n",
    "flat_predictions = np.argmax(flat_predictions, axis=1).flatten()\n",
    "\n",
    "# Combine the correct labels for each batch into a single list.\n",
    "flat_true_labels = np.concatenate(true_labels, axis=0)\n",
    "\n",
    "scores = precision_recall_fscore_support(flat_true_labels, flat_predictions, average='binary')\n",
    "\n",
    "# Calculate the P,R,F1\n",
    "print('Precision, Recall, F1, Support:', scores)"
   ]
  },
  {
   "cell_type": "code",
   "execution_count": null,
   "metadata": {
    "colab": {
     "base_uri": "https://localhost:8080/",
     "height": 68
    },
    "colab_type": "code",
    "id": "72Whs8s6_5LG",
    "outputId": "73fce070-1033-4eaf-bf31-4bb469a04d95"
   },
   "outputs": [
    {
     "name": "stdout",
     "output_type": "stream",
     "text": [
      "number of good predictions: 104\n",
      "number of bad predictions: 58\n",
      "accuracy 0.6419753086419753\n"
     ]
    }
   ],
   "source": [
    "# get the bad predictions index\n",
    "bad_preds = [idx for idx, elem in enumerate(flat_predictions) if elem != flat_true_labels[idx]] \n",
    "good_preds = [idx for idx, elem in enumerate(flat_predictions) if elem == flat_true_labels[idx]] \n",
    "print(\"number of good predictions:\", len(good_preds))\n",
    "print(\"number of bad predictions:\", len(bad_preds))\n",
    "print(\"accuracy\", len(good_preds)/len(flat_predictions) )"
   ]
  },
  {
   "cell_type": "code",
   "execution_count": null,
   "metadata": {
    "colab": {
     "base_uri": "https://localhost:8080/",
     "height": 102
    },
    "colab_type": "code",
    "id": "SDMlLYe3_5LH",
    "outputId": "af9d126c-34f1-4570-d019-2ee56c2c2a19"
   },
   "outputs": [
    {
     "name": "stdout",
     "output_type": "stream",
     "text": [
      "[1 1 0 1 1 0 1 1 1 1 0 0 1 1 0 1 1 0 0 1 1 1 1 1 1 1 0 0 0 1 1 1 1 0 0 0 1\n",
      " 1 1 1 1 1 0 1 1 1 1 1 1 1 1 1 1 0 0 1 1 1 1 1 1 1 1 1 0 0 0 1 1 1 1 0 1 0\n",
      " 0 0 1 0 1 1 0 1 1 0 1 1 1 0 1 1 1 0 1 1 0 1 0 1 0 0 0 1 0 1 1 1 0 1 0 1 1\n",
      " 0 1 1 0 1 1 1 1 1 1 1 1 1 1 1 1 1 1 0 1 0 0 1 1 1 1 1 0 1 0 0 1 1 1 1 1 1\n",
      " 0 1 1 1 1 1 1 1 1 1 1 1 1 1]\n"
     ]
    }
   ],
   "source": [
    "print(flat_predictions)"
   ]
  },
  {
   "cell_type": "code",
   "execution_count": null,
   "metadata": {
    "colab": {},
    "colab_type": "code",
    "id": "Zv3QFUTq_5LJ"
   },
   "outputs": [],
   "source": []
  },
  {
   "cell_type": "code",
   "execution_count": null,
   "metadata": {
    "colab": {},
    "colab_type": "code",
    "id": "UwxZp1pl_5LK"
   },
   "outputs": [],
   "source": []
  },
  {
   "cell_type": "code",
   "execution_count": null,
   "metadata": {
    "colab": {},
    "colab_type": "code",
    "id": "tQoKdeBw_5LL"
   },
   "outputs": [],
   "source": []
  }
 ],
 "metadata": {
  "accelerator": "GPU",
  "colab": {
   "name": "Longfomer23Jul_16",
   "provenance": []
  },
  "environment": {
   "name": "pytorch-gpu.1-4.m50",
   "type": "gcloud",
   "uri": "gcr.io/deeplearning-platform-release/pytorch-gpu.1-4:m50"
  },
  "kernelspec": {
   "display_name": "Python 3",
   "language": "python",
   "name": "python3"
  },
  "language_info": {
   "codemirror_mode": {
    "name": "ipython",
    "version": 3
   },
   "file_extension": ".py",
   "mimetype": "text/x-python",
   "name": "python",
   "nbconvert_exporter": "python",
   "pygments_lexer": "ipython3",
   "version": "3.7.6"
  },
  "widgets": {
   "application/vnd.jupyter.widget-state+json": {
    "0824970a10634b26961e3fbca61caf75": {
     "model_module": "@jupyter-widgets/controls",
     "model_name": "HTMLModel",
     "state": {
      "_dom_classes": [],
      "_model_module": "@jupyter-widgets/controls",
      "_model_module_version": "1.5.0",
      "_model_name": "HTMLModel",
      "_view_count": null,
      "_view_module": "@jupyter-widgets/controls",
      "_view_module_version": "1.5.0",
      "_view_name": "HTMLView",
      "description": "",
      "description_tooltip": null,
      "layout": "IPY_MODEL_5c1b0e36b691423c903201e2aff47b93",
      "placeholder": "​",
      "style": "IPY_MODEL_d72b80797e2d4954b27b5be9a6b20f1f",
      "value": " 725/725 [00:00&lt;00:00, 1.84kB/s]"
     }
    },
    "09830c69fd914e3293c2c4d1b00494de": {
     "model_module": "@jupyter-widgets/base",
     "model_name": "LayoutModel",
     "state": {
      "_model_module": "@jupyter-widgets/base",
      "_model_module_version": "1.2.0",
      "_model_name": "LayoutModel",
      "_view_count": null,
      "_view_module": "@jupyter-widgets/base",
      "_view_module_version": "1.2.0",
      "_view_name": "LayoutView",
      "align_content": null,
      "align_items": null,
      "align_self": null,
      "border": null,
      "bottom": null,
      "display": null,
      "flex": null,
      "flex_flow": null,
      "grid_area": null,
      "grid_auto_columns": null,
      "grid_auto_flow": null,
      "grid_auto_rows": null,
      "grid_column": null,
      "grid_gap": null,
      "grid_row": null,
      "grid_template_areas": null,
      "grid_template_columns": null,
      "grid_template_rows": null,
      "height": null,
      "justify_content": null,
      "justify_items": null,
      "left": null,
      "margin": null,
      "max_height": null,
      "max_width": null,
      "min_height": null,
      "min_width": null,
      "object_fit": null,
      "object_position": null,
      "order": null,
      "overflow": null,
      "overflow_x": null,
      "overflow_y": null,
      "padding": null,
      "right": null,
      "top": null,
      "visibility": null,
      "width": null
     }
    },
    "0d7e9884fc80444d99ee4df11490ac53": {
     "model_module": "@jupyter-widgets/base",
     "model_name": "LayoutModel",
     "state": {
      "_model_module": "@jupyter-widgets/base",
      "_model_module_version": "1.2.0",
      "_model_name": "LayoutModel",
      "_view_count": null,
      "_view_module": "@jupyter-widgets/base",
      "_view_module_version": "1.2.0",
      "_view_name": "LayoutView",
      "align_content": null,
      "align_items": null,
      "align_self": null,
      "border": null,
      "bottom": null,
      "display": null,
      "flex": null,
      "flex_flow": null,
      "grid_area": null,
      "grid_auto_columns": null,
      "grid_auto_flow": null,
      "grid_auto_rows": null,
      "grid_column": null,
      "grid_gap": null,
      "grid_row": null,
      "grid_template_areas": null,
      "grid_template_columns": null,
      "grid_template_rows": null,
      "height": null,
      "justify_content": null,
      "justify_items": null,
      "left": null,
      "margin": null,
      "max_height": null,
      "max_width": null,
      "min_height": null,
      "min_width": null,
      "object_fit": null,
      "object_position": null,
      "order": null,
      "overflow": null,
      "overflow_x": null,
      "overflow_y": null,
      "padding": null,
      "right": null,
      "top": null,
      "visibility": null,
      "width": null
     }
    },
    "0e8c1bb4bc944b94a26d474e7802743f": {
     "model_module": "@jupyter-widgets/controls",
     "model_name": "HBoxModel",
     "state": {
      "_dom_classes": [],
      "_model_module": "@jupyter-widgets/controls",
      "_model_module_version": "1.5.0",
      "_model_name": "HBoxModel",
      "_view_count": null,
      "_view_module": "@jupyter-widgets/controls",
      "_view_module_version": "1.5.0",
      "_view_name": "HBoxView",
      "box_style": "",
      "children": [
       "IPY_MODEL_a48602ba5d7f42858c42410cbd854d63",
       "IPY_MODEL_a8a0d212d5a34314b450ba7fca9c4241"
      ],
      "layout": "IPY_MODEL_c23119b1869f4ceb83af75beadf0701a"
     }
    },
    "103de39330fa4f649bf167018b26290a": {
     "model_module": "@jupyter-widgets/base",
     "model_name": "LayoutModel",
     "state": {
      "_model_module": "@jupyter-widgets/base",
      "_model_module_version": "1.2.0",
      "_model_name": "LayoutModel",
      "_view_count": null,
      "_view_module": "@jupyter-widgets/base",
      "_view_module_version": "1.2.0",
      "_view_name": "LayoutView",
      "align_content": null,
      "align_items": null,
      "align_self": null,
      "border": null,
      "bottom": null,
      "display": null,
      "flex": null,
      "flex_flow": null,
      "grid_area": null,
      "grid_auto_columns": null,
      "grid_auto_flow": null,
      "grid_auto_rows": null,
      "grid_column": null,
      "grid_gap": null,
      "grid_row": null,
      "grid_template_areas": null,
      "grid_template_columns": null,
      "grid_template_rows": null,
      "height": null,
      "justify_content": null,
      "justify_items": null,
      "left": null,
      "margin": null,
      "max_height": null,
      "max_width": null,
      "min_height": null,
      "min_width": null,
      "object_fit": null,
      "object_position": null,
      "order": null,
      "overflow": null,
      "overflow_x": null,
      "overflow_y": null,
      "padding": null,
      "right": null,
      "top": null,
      "visibility": null,
      "width": null
     }
    },
    "1308cceaa050485b8c97b6b427955c7a": {
     "model_module": "@jupyter-widgets/controls",
     "model_name": "HBoxModel",
     "state": {
      "_dom_classes": [],
      "_model_module": "@jupyter-widgets/controls",
      "_model_module_version": "1.5.0",
      "_model_name": "HBoxModel",
      "_view_count": null,
      "_view_module": "@jupyter-widgets/controls",
      "_view_module_version": "1.5.0",
      "_view_name": "HBoxView",
      "box_style": "",
      "children": [
       "IPY_MODEL_4bee57c4ec4a4566a1ae11d82030e64d",
       "IPY_MODEL_0824970a10634b26961e3fbca61caf75"
      ],
      "layout": "IPY_MODEL_a3a356dfde81440c9d40e6d59b3748c3"
     }
    },
    "180042970bc846a691e232e13267519c": {
     "model_module": "@jupyter-widgets/controls",
     "model_name": "DescriptionStyleModel",
     "state": {
      "_model_module": "@jupyter-widgets/controls",
      "_model_module_version": "1.5.0",
      "_model_name": "DescriptionStyleModel",
      "_view_count": null,
      "_view_module": "@jupyter-widgets/base",
      "_view_module_version": "1.2.0",
      "_view_name": "StyleView",
      "description_width": ""
     }
    },
    "1e1825fd154d47abae7708c07bb77f00": {
     "model_module": "@jupyter-widgets/base",
     "model_name": "LayoutModel",
     "state": {
      "_model_module": "@jupyter-widgets/base",
      "_model_module_version": "1.2.0",
      "_model_name": "LayoutModel",
      "_view_count": null,
      "_view_module": "@jupyter-widgets/base",
      "_view_module_version": "1.2.0",
      "_view_name": "LayoutView",
      "align_content": null,
      "align_items": null,
      "align_self": null,
      "border": null,
      "bottom": null,
      "display": null,
      "flex": null,
      "flex_flow": null,
      "grid_area": null,
      "grid_auto_columns": null,
      "grid_auto_flow": null,
      "grid_auto_rows": null,
      "grid_column": null,
      "grid_gap": null,
      "grid_row": null,
      "grid_template_areas": null,
      "grid_template_columns": null,
      "grid_template_rows": null,
      "height": null,
      "justify_content": null,
      "justify_items": null,
      "left": null,
      "margin": null,
      "max_height": null,
      "max_width": null,
      "min_height": null,
      "min_width": null,
      "object_fit": null,
      "object_position": null,
      "order": null,
      "overflow": null,
      "overflow_x": null,
      "overflow_y": null,
      "padding": null,
      "right": null,
      "top": null,
      "visibility": null,
      "width": null
     }
    },
    "248d41a9c788428b964e49f88e926cb7": {
     "model_module": "@jupyter-widgets/controls",
     "model_name": "ProgressStyleModel",
     "state": {
      "_model_module": "@jupyter-widgets/controls",
      "_model_module_version": "1.5.0",
      "_model_name": "ProgressStyleModel",
      "_view_count": null,
      "_view_module": "@jupyter-widgets/base",
      "_view_module_version": "1.2.0",
      "_view_name": "StyleView",
      "bar_color": null,
      "description_width": "initial"
     }
    },
    "36fba1779978417396a85f6a6dea8887": {
     "model_module": "@jupyter-widgets/controls",
     "model_name": "HBoxModel",
     "state": {
      "_dom_classes": [],
      "_model_module": "@jupyter-widgets/controls",
      "_model_module_version": "1.5.0",
      "_model_name": "HBoxModel",
      "_view_count": null,
      "_view_module": "@jupyter-widgets/controls",
      "_view_module_version": "1.5.0",
      "_view_name": "HBoxView",
      "box_style": "",
      "children": [
       "IPY_MODEL_ca32b77a603042ada22d8d7b817c5718",
       "IPY_MODEL_a912b391f1734346a347a873a21275d4"
      ],
      "layout": "IPY_MODEL_e51a0e598de44367af35e1eded66c1b5"
     }
    },
    "44490d7186b047c7adfc27297c02261f": {
     "model_module": "@jupyter-widgets/base",
     "model_name": "LayoutModel",
     "state": {
      "_model_module": "@jupyter-widgets/base",
      "_model_module_version": "1.2.0",
      "_model_name": "LayoutModel",
      "_view_count": null,
      "_view_module": "@jupyter-widgets/base",
      "_view_module_version": "1.2.0",
      "_view_name": "LayoutView",
      "align_content": null,
      "align_items": null,
      "align_self": null,
      "border": null,
      "bottom": null,
      "display": null,
      "flex": null,
      "flex_flow": null,
      "grid_area": null,
      "grid_auto_columns": null,
      "grid_auto_flow": null,
      "grid_auto_rows": null,
      "grid_column": null,
      "grid_gap": null,
      "grid_row": null,
      "grid_template_areas": null,
      "grid_template_columns": null,
      "grid_template_rows": null,
      "height": null,
      "justify_content": null,
      "justify_items": null,
      "left": null,
      "margin": null,
      "max_height": null,
      "max_width": null,
      "min_height": null,
      "min_width": null,
      "object_fit": null,
      "object_position": null,
      "order": null,
      "overflow": null,
      "overflow_x": null,
      "overflow_y": null,
      "padding": null,
      "right": null,
      "top": null,
      "visibility": null,
      "width": null
     }
    },
    "4bee57c4ec4a4566a1ae11d82030e64d": {
     "model_module": "@jupyter-widgets/controls",
     "model_name": "FloatProgressModel",
     "state": {
      "_dom_classes": [],
      "_model_module": "@jupyter-widgets/controls",
      "_model_module_version": "1.5.0",
      "_model_name": "FloatProgressModel",
      "_view_count": null,
      "_view_module": "@jupyter-widgets/controls",
      "_view_module_version": "1.5.0",
      "_view_name": "ProgressView",
      "bar_style": "success",
      "description": "Downloading: 100%",
      "description_tooltip": null,
      "layout": "IPY_MODEL_e754a18730c044f2ab8a668952acddb5",
      "max": 725,
      "min": 0,
      "orientation": "horizontal",
      "style": "IPY_MODEL_c953994be49c40b28113a694064c4dd6",
      "value": 725
     }
    },
    "4e480ccaec1347f18f16c346411b67ef": {
     "model_module": "@jupyter-widgets/controls",
     "model_name": "HTMLModel",
     "state": {
      "_dom_classes": [],
      "_model_module": "@jupyter-widgets/controls",
      "_model_module_version": "1.5.0",
      "_model_name": "HTMLModel",
      "_view_count": null,
      "_view_module": "@jupyter-widgets/controls",
      "_view_module_version": "1.5.0",
      "_view_name": "HTMLView",
      "description": "",
      "description_tooltip": null,
      "layout": "IPY_MODEL_9cd88fb901e440c6b04680351966192b",
      "placeholder": "​",
      "style": "IPY_MODEL_6b141885dd7246919a96d0f5eb440a3c",
      "value": " 456k/456k [00:00&lt;00:00, 2.06MB/s]"
     }
    },
    "5c1b0e36b691423c903201e2aff47b93": {
     "model_module": "@jupyter-widgets/base",
     "model_name": "LayoutModel",
     "state": {
      "_model_module": "@jupyter-widgets/base",
      "_model_module_version": "1.2.0",
      "_model_name": "LayoutModel",
      "_view_count": null,
      "_view_module": "@jupyter-widgets/base",
      "_view_module_version": "1.2.0",
      "_view_name": "LayoutView",
      "align_content": null,
      "align_items": null,
      "align_self": null,
      "border": null,
      "bottom": null,
      "display": null,
      "flex": null,
      "flex_flow": null,
      "grid_area": null,
      "grid_auto_columns": null,
      "grid_auto_flow": null,
      "grid_auto_rows": null,
      "grid_column": null,
      "grid_gap": null,
      "grid_row": null,
      "grid_template_areas": null,
      "grid_template_columns": null,
      "grid_template_rows": null,
      "height": null,
      "justify_content": null,
      "justify_items": null,
      "left": null,
      "margin": null,
      "max_height": null,
      "max_width": null,
      "min_height": null,
      "min_width": null,
      "object_fit": null,
      "object_position": null,
      "order": null,
      "overflow": null,
      "overflow_x": null,
      "overflow_y": null,
      "padding": null,
      "right": null,
      "top": null,
      "visibility": null,
      "width": null
     }
    },
    "661765ecdf4c4bbe973a5c568e37a84d": {
     "model_module": "@jupyter-widgets/controls",
     "model_name": "FloatProgressModel",
     "state": {
      "_dom_classes": [],
      "_model_module": "@jupyter-widgets/controls",
      "_model_module_version": "1.5.0",
      "_model_name": "FloatProgressModel",
      "_view_count": null,
      "_view_module": "@jupyter-widgets/controls",
      "_view_module_version": "1.5.0",
      "_view_name": "ProgressView",
      "bar_style": "success",
      "description": "Downloading: 100%",
      "description_tooltip": null,
      "layout": "IPY_MODEL_0d7e9884fc80444d99ee4df11490ac53",
      "max": 456318,
      "min": 0,
      "orientation": "horizontal",
      "style": "IPY_MODEL_aff79ce6a6044e8e9f65af6e5e6b54d5",
      "value": 456318
     }
    },
    "6b141885dd7246919a96d0f5eb440a3c": {
     "model_module": "@jupyter-widgets/controls",
     "model_name": "DescriptionStyleModel",
     "state": {
      "_model_module": "@jupyter-widgets/controls",
      "_model_module_version": "1.5.0",
      "_model_name": "DescriptionStyleModel",
      "_view_count": null,
      "_view_module": "@jupyter-widgets/base",
      "_view_module_version": "1.2.0",
      "_view_name": "StyleView",
      "description_width": ""
     }
    },
    "93a78d934343477b83d4879a9f8b216a": {
     "model_module": "@jupyter-widgets/controls",
     "model_name": "ProgressStyleModel",
     "state": {
      "_model_module": "@jupyter-widgets/controls",
      "_model_module_version": "1.5.0",
      "_model_name": "ProgressStyleModel",
      "_view_count": null,
      "_view_module": "@jupyter-widgets/base",
      "_view_module_version": "1.2.0",
      "_view_name": "StyleView",
      "bar_color": null,
      "description_width": "initial"
     }
    },
    "96a77d8abfb6419d83645beb02a3d160": {
     "model_module": "@jupyter-widgets/base",
     "model_name": "LayoutModel",
     "state": {
      "_model_module": "@jupyter-widgets/base",
      "_model_module_version": "1.2.0",
      "_model_name": "LayoutModel",
      "_view_count": null,
      "_view_module": "@jupyter-widgets/base",
      "_view_module_version": "1.2.0",
      "_view_name": "LayoutView",
      "align_content": null,
      "align_items": null,
      "align_self": null,
      "border": null,
      "bottom": null,
      "display": null,
      "flex": null,
      "flex_flow": null,
      "grid_area": null,
      "grid_auto_columns": null,
      "grid_auto_flow": null,
      "grid_auto_rows": null,
      "grid_column": null,
      "grid_gap": null,
      "grid_row": null,
      "grid_template_areas": null,
      "grid_template_columns": null,
      "grid_template_rows": null,
      "height": null,
      "justify_content": null,
      "justify_items": null,
      "left": null,
      "margin": null,
      "max_height": null,
      "max_width": null,
      "min_height": null,
      "min_width": null,
      "object_fit": null,
      "object_position": null,
      "order": null,
      "overflow": null,
      "overflow_x": null,
      "overflow_y": null,
      "padding": null,
      "right": null,
      "top": null,
      "visibility": null,
      "width": null
     }
    },
    "9cd88fb901e440c6b04680351966192b": {
     "model_module": "@jupyter-widgets/base",
     "model_name": "LayoutModel",
     "state": {
      "_model_module": "@jupyter-widgets/base",
      "_model_module_version": "1.2.0",
      "_model_name": "LayoutModel",
      "_view_count": null,
      "_view_module": "@jupyter-widgets/base",
      "_view_module_version": "1.2.0",
      "_view_name": "LayoutView",
      "align_content": null,
      "align_items": null,
      "align_self": null,
      "border": null,
      "bottom": null,
      "display": null,
      "flex": null,
      "flex_flow": null,
      "grid_area": null,
      "grid_auto_columns": null,
      "grid_auto_flow": null,
      "grid_auto_rows": null,
      "grid_column": null,
      "grid_gap": null,
      "grid_row": null,
      "grid_template_areas": null,
      "grid_template_columns": null,
      "grid_template_rows": null,
      "height": null,
      "justify_content": null,
      "justify_items": null,
      "left": null,
      "margin": null,
      "max_height": null,
      "max_width": null,
      "min_height": null,
      "min_width": null,
      "object_fit": null,
      "object_position": null,
      "order": null,
      "overflow": null,
      "overflow_x": null,
      "overflow_y": null,
      "padding": null,
      "right": null,
      "top": null,
      "visibility": null,
      "width": null
     }
    },
    "a3a356dfde81440c9d40e6d59b3748c3": {
     "model_module": "@jupyter-widgets/base",
     "model_name": "LayoutModel",
     "state": {
      "_model_module": "@jupyter-widgets/base",
      "_model_module_version": "1.2.0",
      "_model_name": "LayoutModel",
      "_view_count": null,
      "_view_module": "@jupyter-widgets/base",
      "_view_module_version": "1.2.0",
      "_view_name": "LayoutView",
      "align_content": null,
      "align_items": null,
      "align_self": null,
      "border": null,
      "bottom": null,
      "display": null,
      "flex": null,
      "flex_flow": null,
      "grid_area": null,
      "grid_auto_columns": null,
      "grid_auto_flow": null,
      "grid_auto_rows": null,
      "grid_column": null,
      "grid_gap": null,
      "grid_row": null,
      "grid_template_areas": null,
      "grid_template_columns": null,
      "grid_template_rows": null,
      "height": null,
      "justify_content": null,
      "justify_items": null,
      "left": null,
      "margin": null,
      "max_height": null,
      "max_width": null,
      "min_height": null,
      "min_width": null,
      "object_fit": null,
      "object_position": null,
      "order": null,
      "overflow": null,
      "overflow_x": null,
      "overflow_y": null,
      "padding": null,
      "right": null,
      "top": null,
      "visibility": null,
      "width": null
     }
    },
    "a48602ba5d7f42858c42410cbd854d63": {
     "model_module": "@jupyter-widgets/controls",
     "model_name": "FloatProgressModel",
     "state": {
      "_dom_classes": [],
      "_model_module": "@jupyter-widgets/controls",
      "_model_module_version": "1.5.0",
      "_model_name": "FloatProgressModel",
      "_view_count": null,
      "_view_module": "@jupyter-widgets/controls",
      "_view_module_version": "1.5.0",
      "_view_name": "ProgressView",
      "bar_style": "success",
      "description": "Downloading: 100%",
      "description_tooltip": null,
      "layout": "IPY_MODEL_1e1825fd154d47abae7708c07bb77f00",
      "max": 898823,
      "min": 0,
      "orientation": "horizontal",
      "style": "IPY_MODEL_93a78d934343477b83d4879a9f8b216a",
      "value": 898823
     }
    },
    "a8a0d212d5a34314b450ba7fca9c4241": {
     "model_module": "@jupyter-widgets/controls",
     "model_name": "HTMLModel",
     "state": {
      "_dom_classes": [],
      "_model_module": "@jupyter-widgets/controls",
      "_model_module_version": "1.5.0",
      "_model_name": "HTMLModel",
      "_view_count": null,
      "_view_module": "@jupyter-widgets/controls",
      "_view_module_version": "1.5.0",
      "_view_name": "HTMLView",
      "description": "",
      "description_tooltip": null,
      "layout": "IPY_MODEL_103de39330fa4f649bf167018b26290a",
      "placeholder": "​",
      "style": "IPY_MODEL_180042970bc846a691e232e13267519c",
      "value": " 899k/899k [00:00&lt;00:00, 1.14MB/s]"
     }
    },
    "a912b391f1734346a347a873a21275d4": {
     "model_module": "@jupyter-widgets/controls",
     "model_name": "HTMLModel",
     "state": {
      "_dom_classes": [],
      "_model_module": "@jupyter-widgets/controls",
      "_model_module_version": "1.5.0",
      "_model_name": "HTMLModel",
      "_view_count": null,
      "_view_module": "@jupyter-widgets/controls",
      "_view_module_version": "1.5.0",
      "_view_name": "HTMLView",
      "description": "",
      "description_tooltip": null,
      "layout": "IPY_MODEL_44490d7186b047c7adfc27297c02261f",
      "placeholder": "​",
      "style": "IPY_MODEL_cbb42a523887483f9e9760056fd2f261",
      "value": " 597M/597M [00:52&lt;00:00, 11.3MB/s]"
     }
    },
    "aa630fa3a71c44978aef190bee53f8b7": {
     "model_module": "@jupyter-widgets/controls",
     "model_name": "HBoxModel",
     "state": {
      "_dom_classes": [],
      "_model_module": "@jupyter-widgets/controls",
      "_model_module_version": "1.5.0",
      "_model_name": "HBoxModel",
      "_view_count": null,
      "_view_module": "@jupyter-widgets/controls",
      "_view_module_version": "1.5.0",
      "_view_name": "HBoxView",
      "box_style": "",
      "children": [
       "IPY_MODEL_661765ecdf4c4bbe973a5c568e37a84d",
       "IPY_MODEL_4e480ccaec1347f18f16c346411b67ef"
      ],
      "layout": "IPY_MODEL_09830c69fd914e3293c2c4d1b00494de"
     }
    },
    "aff79ce6a6044e8e9f65af6e5e6b54d5": {
     "model_module": "@jupyter-widgets/controls",
     "model_name": "ProgressStyleModel",
     "state": {
      "_model_module": "@jupyter-widgets/controls",
      "_model_module_version": "1.5.0",
      "_model_name": "ProgressStyleModel",
      "_view_count": null,
      "_view_module": "@jupyter-widgets/base",
      "_view_module_version": "1.2.0",
      "_view_name": "StyleView",
      "bar_color": null,
      "description_width": "initial"
     }
    },
    "c23119b1869f4ceb83af75beadf0701a": {
     "model_module": "@jupyter-widgets/base",
     "model_name": "LayoutModel",
     "state": {
      "_model_module": "@jupyter-widgets/base",
      "_model_module_version": "1.2.0",
      "_model_name": "LayoutModel",
      "_view_count": null,
      "_view_module": "@jupyter-widgets/base",
      "_view_module_version": "1.2.0",
      "_view_name": "LayoutView",
      "align_content": null,
      "align_items": null,
      "align_self": null,
      "border": null,
      "bottom": null,
      "display": null,
      "flex": null,
      "flex_flow": null,
      "grid_area": null,
      "grid_auto_columns": null,
      "grid_auto_flow": null,
      "grid_auto_rows": null,
      "grid_column": null,
      "grid_gap": null,
      "grid_row": null,
      "grid_template_areas": null,
      "grid_template_columns": null,
      "grid_template_rows": null,
      "height": null,
      "justify_content": null,
      "justify_items": null,
      "left": null,
      "margin": null,
      "max_height": null,
      "max_width": null,
      "min_height": null,
      "min_width": null,
      "object_fit": null,
      "object_position": null,
      "order": null,
      "overflow": null,
      "overflow_x": null,
      "overflow_y": null,
      "padding": null,
      "right": null,
      "top": null,
      "visibility": null,
      "width": null
     }
    },
    "c953994be49c40b28113a694064c4dd6": {
     "model_module": "@jupyter-widgets/controls",
     "model_name": "ProgressStyleModel",
     "state": {
      "_model_module": "@jupyter-widgets/controls",
      "_model_module_version": "1.5.0",
      "_model_name": "ProgressStyleModel",
      "_view_count": null,
      "_view_module": "@jupyter-widgets/base",
      "_view_module_version": "1.2.0",
      "_view_name": "StyleView",
      "bar_color": null,
      "description_width": "initial"
     }
    },
    "ca32b77a603042ada22d8d7b817c5718": {
     "model_module": "@jupyter-widgets/controls",
     "model_name": "FloatProgressModel",
     "state": {
      "_dom_classes": [],
      "_model_module": "@jupyter-widgets/controls",
      "_model_module_version": "1.5.0",
      "_model_name": "FloatProgressModel",
      "_view_count": null,
      "_view_module": "@jupyter-widgets/controls",
      "_view_module_version": "1.5.0",
      "_view_name": "ProgressView",
      "bar_style": "success",
      "description": "Downloading: 100%",
      "description_tooltip": null,
      "layout": "IPY_MODEL_96a77d8abfb6419d83645beb02a3d160",
      "max": 597257159,
      "min": 0,
      "orientation": "horizontal",
      "style": "IPY_MODEL_248d41a9c788428b964e49f88e926cb7",
      "value": 597257159
     }
    },
    "cbb42a523887483f9e9760056fd2f261": {
     "model_module": "@jupyter-widgets/controls",
     "model_name": "DescriptionStyleModel",
     "state": {
      "_model_module": "@jupyter-widgets/controls",
      "_model_module_version": "1.5.0",
      "_model_name": "DescriptionStyleModel",
      "_view_count": null,
      "_view_module": "@jupyter-widgets/base",
      "_view_module_version": "1.2.0",
      "_view_name": "StyleView",
      "description_width": ""
     }
    },
    "d72b80797e2d4954b27b5be9a6b20f1f": {
     "model_module": "@jupyter-widgets/controls",
     "model_name": "DescriptionStyleModel",
     "state": {
      "_model_module": "@jupyter-widgets/controls",
      "_model_module_version": "1.5.0",
      "_model_name": "DescriptionStyleModel",
      "_view_count": null,
      "_view_module": "@jupyter-widgets/base",
      "_view_module_version": "1.2.0",
      "_view_name": "StyleView",
      "description_width": ""
     }
    },
    "e51a0e598de44367af35e1eded66c1b5": {
     "model_module": "@jupyter-widgets/base",
     "model_name": "LayoutModel",
     "state": {
      "_model_module": "@jupyter-widgets/base",
      "_model_module_version": "1.2.0",
      "_model_name": "LayoutModel",
      "_view_count": null,
      "_view_module": "@jupyter-widgets/base",
      "_view_module_version": "1.2.0",
      "_view_name": "LayoutView",
      "align_content": null,
      "align_items": null,
      "align_self": null,
      "border": null,
      "bottom": null,
      "display": null,
      "flex": null,
      "flex_flow": null,
      "grid_area": null,
      "grid_auto_columns": null,
      "grid_auto_flow": null,
      "grid_auto_rows": null,
      "grid_column": null,
      "grid_gap": null,
      "grid_row": null,
      "grid_template_areas": null,
      "grid_template_columns": null,
      "grid_template_rows": null,
      "height": null,
      "justify_content": null,
      "justify_items": null,
      "left": null,
      "margin": null,
      "max_height": null,
      "max_width": null,
      "min_height": null,
      "min_width": null,
      "object_fit": null,
      "object_position": null,
      "order": null,
      "overflow": null,
      "overflow_x": null,
      "overflow_y": null,
      "padding": null,
      "right": null,
      "top": null,
      "visibility": null,
      "width": null
     }
    },
    "e754a18730c044f2ab8a668952acddb5": {
     "model_module": "@jupyter-widgets/base",
     "model_name": "LayoutModel",
     "state": {
      "_model_module": "@jupyter-widgets/base",
      "_model_module_version": "1.2.0",
      "_model_name": "LayoutModel",
      "_view_count": null,
      "_view_module": "@jupyter-widgets/base",
      "_view_module_version": "1.2.0",
      "_view_name": "LayoutView",
      "align_content": null,
      "align_items": null,
      "align_self": null,
      "border": null,
      "bottom": null,
      "display": null,
      "flex": null,
      "flex_flow": null,
      "grid_area": null,
      "grid_auto_columns": null,
      "grid_auto_flow": null,
      "grid_auto_rows": null,
      "grid_column": null,
      "grid_gap": null,
      "grid_row": null,
      "grid_template_areas": null,
      "grid_template_columns": null,
      "grid_template_rows": null,
      "height": null,
      "justify_content": null,
      "justify_items": null,
      "left": null,
      "margin": null,
      "max_height": null,
      "max_width": null,
      "min_height": null,
      "min_width": null,
      "object_fit": null,
      "object_position": null,
      "order": null,
      "overflow": null,
      "overflow_x": null,
      "overflow_y": null,
      "padding": null,
      "right": null,
      "top": null,
      "visibility": null,
      "width": null
     }
    }
   }
  }
 },
 "nbformat": 4,
 "nbformat_minor": 1
}
