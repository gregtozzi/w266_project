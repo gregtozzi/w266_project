{
  "nbformat": 4,
  "nbformat_minor": 0,
  "metadata": {
    "colab": {
      "name": "USE_with_clustering.ipynb",
      "provenance": [],
      "collapsed_sections": []
    },
    "kernelspec": {
      "name": "python3",
      "display_name": "Python 3"
    },
    "accelerator": "GPU"
  },
  "cells": [
    {
      "cell_type": "markdown",
      "metadata": {
        "id": "edf_CkLKayDX",
        "colab_type": "text"
      },
      "source": [
        "# More experiments with the Universal Sentence Encoder"
      ]
    },
    {
      "cell_type": "markdown",
      "metadata": {
        "id": "5FYMYeoUbPHg",
        "colab_type": "text"
      },
      "source": [
        "## Load packages and external data"
      ]
    },
    {
      "cell_type": "code",
      "metadata": {
        "id": "cssLnhNoyE95",
        "colab_type": "code",
        "colab": {}
      },
      "source": [
        "import numpy as np\n",
        "import pandas as pd\n",
        "import tensorflow as tf\n",
        "import tensorflow_hub as hub\n",
        "from nltk import download\n",
        "from nltk.tokenize import sent_tokenize\n",
        "from sklearn.cluster import MiniBatchKMeans\n",
        "from sklearn.naive_bayes import MultinomialNB\n",
        "from sklearn.feature_extraction.text import TfidfTransformer\n",
        "from sklearn.metrics import plot_confusion_matrix\n",
        "from sklearn.metrics import plot_roc_curve\n",
        "import matplotlib.pyplot as plt\n",
        "from collections import Counter"
      ],
      "execution_count": 1,
      "outputs": []
    },
    {
      "cell_type": "code",
      "metadata": {
        "id": "kVrczLTlypR-",
        "colab_type": "code",
        "colab": {}
      },
      "source": [
        "embed = hub.load(\"https://tfhub.dev/google/universal-sentence-encoder/4\")"
      ],
      "execution_count": 2,
      "outputs": []
    },
    {
      "cell_type": "code",
      "metadata": {
        "id": "pFY7ThqMykFg",
        "colab_type": "code",
        "colab": {
          "base_uri": "https://localhost:8080/",
          "height": 68
        },
        "outputId": "4ebb5b50-3365-40f2-8853-3be2e01570ff"
      },
      "source": [
        "download('punkt')"
      ],
      "execution_count": 3,
      "outputs": [
        {
          "output_type": "stream",
          "text": [
            "[nltk_data] Downloading package punkt to /root/nltk_data...\n",
            "[nltk_data]   Package punkt is already up-to-date!\n"
          ],
          "name": "stdout"
        },
        {
          "output_type": "execute_result",
          "data": {
            "text/plain": [
              "True"
            ]
          },
          "metadata": {
            "tags": []
          },
          "execution_count": 3
        }
      ]
    },
    {
      "cell_type": "markdown",
      "metadata": {
        "id": "NVib2sXybS4q",
        "colab_type": "text"
      },
      "source": [
        "## Define functions"
      ]
    },
    {
      "cell_type": "code",
      "metadata": {
        "id": "AwQsYUlkyli3",
        "colab_type": "code",
        "colab": {}
      },
      "source": [
        "def process_doc(doc):\n",
        "  doc_carriage_return = doc.split('\\n')\n",
        "  doc_processed = [line for line in doc_carriage_return if line != '']\n",
        "  return (doc_processed)\n",
        "\n",
        "\n",
        "def set_to_embed(X_set):\n",
        "  X = []\n",
        "  for doc in X_set:\n",
        "    doc_processed = process_doc(doc)\n",
        "    for sentence in doc_processed:\n",
        "      X.append(sentence)\n",
        "  return np.array(X)\n",
        "\n",
        "\n",
        "def cluster_encoder(doc, clust):\n",
        "  doc_processed = process_doc(doc)\n",
        "  return clust.predict(embed(doc_processed).numpy())\n",
        "\n",
        "\n",
        "def cluster_counts(doc, clust):\n",
        "  count_vector = np.zeros(clust.n_clusters)\n",
        "  encoded_doc = cluster_encoder(doc, clust)\n",
        "  for i in encoded_doc:\n",
        "    count_vector[i] += 1\n",
        "  return count_vector\n",
        "\n",
        "\n",
        "def count_matrix(set, clust):\n",
        "  count_matrix = []\n",
        "  for doc in set:\n",
        "    count_matrix.append(cluster_counts(doc, clust))\n",
        "  return count_matrix"
      ],
      "execution_count": 4,
      "outputs": []
    },
    {
      "cell_type": "markdown",
      "metadata": {
        "id": "S1ti-qjFa5_Y",
        "colab_type": "text"
      },
      "source": [
        "## Load the data"
      ]
    },
    {
      "cell_type": "code",
      "metadata": {
        "id": "Lpq_IJEcyH0w",
        "colab_type": "code",
        "colab": {}
      },
      "source": [
        "train = pd.read_csv('/content/train.csv')\n",
        "X_train_raw = train.X\n",
        "y_train = train.y\n",
        "\n",
        "test = pd.read_csv('/content/test.csv')\n",
        "X_test_raw = test.X\n",
        "y_test = test.y"
      ],
      "execution_count": 5,
      "outputs": []
    },
    {
      "cell_type": "markdown",
      "metadata": {
        "id": "q0tLdHobbff2",
        "colab_type": "text"
      },
      "source": [
        "## Embed with the universal sentence encoder"
      ]
    },
    {
      "cell_type": "code",
      "metadata": {
        "id": "RvEZAPcoz-fn",
        "colab_type": "code",
        "colab": {}
      },
      "source": [
        "X_train_embed = embed(set_to_embed(X_train_raw))\n",
        "X_test_embed = embed(set_to_embed(X_test_raw))"
      ],
      "execution_count": 6,
      "outputs": []
    },
    {
      "cell_type": "markdown",
      "metadata": {
        "id": "70PNUDBDb5rk",
        "colab_type": "text"
      },
      "source": [
        "## Find clusters"
      ]
    },
    {
      "cell_type": "code",
      "metadata": {
        "id": "ZMAM4FyUjoBU",
        "colab_type": "code",
        "colab": {}
      },
      "source": [
        "clust = MiniBatchKMeans(n_clusters=400, batch_size=1000, verbose=0, max_no_improvement=200)\n",
        "X_clust = clust.fit(X_train_embed)"
      ],
      "execution_count": 7,
      "outputs": []
    },
    {
      "cell_type": "code",
      "metadata": {
        "id": "-EgjVrnM1NfD",
        "colab_type": "code",
        "colab": {
          "base_uri": "https://localhost:8080/",
          "height": 867
        },
        "outputId": "396b6e81-f06c-4d31-b6eb-f630607d70fd"
      },
      "source": [
        "clust.counts_"
      ],
      "execution_count": 8,
      "outputs": [
        {
          "output_type": "execute_result",
          "data": {
            "text/plain": [
              "array([  902.,  5184.,   816.,   818.,   818., 76435.,  1356.,  2216.,\n",
              "        1168.,  1992.,   823.,   818.,   816.,   828.,   820.,   816.,\n",
              "         818.,   819.,   816.,   818.,   816.,   817.,   816.,   832.,\n",
              "         817.,   816.,  4510.,   816.,   818.,   834.,   817.,   827.,\n",
              "         816.,  3935.,  1125.,   816.,   816.,   816.,   821.,   816.,\n",
              "         816.,  3010.,  1218.,   816.,   816.,   816.,   817.,  2421.,\n",
              "         816.,   816.,   816.,   824.,   816.,   819.,   816.,   816.,\n",
              "         816.,   861.,   816.,   817.,   816.,   816.,   816.,   816.,\n",
              "         818.,   816.,   837.,   816.,  1684.,   818.,   816.,   816.,\n",
              "         816.,  2160.,   816.,   816.,   818.,  3753.,   818.,   817.,\n",
              "         816.,   816.,   819.,   816.,   816.,   816.,   817.,   816.,\n",
              "         820.,   816.,   819.,   816.,   817.,   816.,  1146.,   820.,\n",
              "         816.,   816.,   820.,   816.,   816.,   816.,   816.,   819.,\n",
              "         817.,   816.,   819.,   818.,   823.,   816.,   823.,   816.,\n",
              "         818.,   818.,   816.,   820.,   816.,   823.,   818.,   821.,\n",
              "         816.,   818.,   817.,   817.,   816.,  3007.,   817.,   816.,\n",
              "         818.,   816.,   816.,   832.,   816.,   831.,   816.,   816.,\n",
              "        6441.,   821.,   817.,   817.,   882.,   816.,   816.,   819.,\n",
              "         824.,   817.,   816.,   816.,   817.,   816.,  3770.,  3554.,\n",
              "         819.,   820.,   830.,  1296.,   816.,  3465.,   817.,   816.,\n",
              "         816.,   817.,   816.,   816.,   828.,   826.,   816.,   837.,\n",
              "         816.,   820.,   843.,   818.,  2488.,   824.,   832.,   817.,\n",
              "         842.,   822.,   817., 12451.,  1333.,   816.,   816.,   816.,\n",
              "         816.,   819.,   827.,   818.,   841.,   816.,   818.,   822.,\n",
              "         816.,  2947.,   816.,  1005.,   818.,   816.,   816.,   816.,\n",
              "         816.,   907.,   816.,   816.,  3183.,   816.,   818.,   849.,\n",
              "         822.,   820.,   816.,   817.,  1131.,   827.,   816.,   829.,\n",
              "         822.,   820.,   817.,   816.,   821.,   817.,   816.,   816.,\n",
              "         826.,   816.,   823.,   837.,   817.,   816.,   816.,   816.,\n",
              "         818.,   816.,   821.,   817.,   817.,   816.,   816.,   816.,\n",
              "         816.,   822.,   821.,   839.,   816.,   826.,   817.,   816.,\n",
              "         821.,   816.,   816.,   817.,   817.,   816.,   824.,   820.,\n",
              "         819.,   816.,   818.,   816.,   816.,   816.,   821.,   816.,\n",
              "         816.,   828.,   816.,   818.,   816.,   818.,   824.,   816.,\n",
              "         819.,  2363.,   816.,   816.,   817.,   816.,   816.,   816.,\n",
              "         823.,   816.,   818.,   817.,   836.,   816.,  1103.,   816.,\n",
              "        1943.,   816.,   816.,   818.,   817.,   816.,   820.,   816.,\n",
              "         817.,   816.,   816.,   816.,   816.,  3202.,   817.,   824.,\n",
              "         817.,   816.,   818.,   816.,   816.,   816.,   816.,   817.,\n",
              "         816.,   817.,   817.,   816.,   817.,   830.,   819.,   843.,\n",
              "         816.,   816.,   825.,   822.,  2720.,   816.,  3409.,   818.,\n",
              "         816.,   825.,   816.,   816.,   817.,   816.,   821.,  2202.,\n",
              "         816.,   816.,   859.,   816.,   817.,  2658.,   816.,   816.,\n",
              "         823.,   816.,   816.,   829.,   816.,   816.,   816.,   818.,\n",
              "         816.,   823.,   844.,   816.,   816.,   816.,  2338.,   818.,\n",
              "         820.,   816.,   816.,   816.,   816.,   816.,   816.,   816.,\n",
              "         816.,   819.,   824.,   817.,   817.,   816.,   819.,   816.,\n",
              "         818.,   825.,  2031.,   817.,   816.,   818.,   816.,   818.,\n",
              "         821.,   816.,   816.,   856.,   816.,   816.,   816.,   816.,\n",
              "         816.,   816.,   818.,   817.,   816.,   816.,   826.,   816.])"
            ]
          },
          "metadata": {
            "tags": []
          },
          "execution_count": 8
        }
      ]
    },
    {
      "cell_type": "markdown",
      "metadata": {
        "id": "byIouC3nclAj",
        "colab_type": "text"
      },
      "source": [
        "## Generate count matricies"
      ]
    },
    {
      "cell_type": "code",
      "metadata": {
        "id": "MrmtktiOT8O1",
        "colab_type": "code",
        "colab": {}
      },
      "source": [
        "X_train = np.array([cluster_counts(doc, clust) for doc in X_train_raw])\n",
        "X_test = np.array([cluster_counts(doc, clust) for doc in X_test_raw])"
      ],
      "execution_count": 9,
      "outputs": []
    },
    {
      "cell_type": "markdown",
      "metadata": {
        "id": "6GXo_Cmtcxvb",
        "colab_type": "text"
      },
      "source": [
        "## Classifier tests"
      ]
    },
    {
      "cell_type": "markdown",
      "metadata": {
        "id": "7wsibxduc0jR",
        "colab_type": "text"
      },
      "source": [
        "### Test 1 - Naive Bayes using counts"
      ]
    },
    {
      "cell_type": "code",
      "metadata": {
        "id": "-xBVu9pDVKul",
        "colab_type": "code",
        "colab": {}
      },
      "source": [
        "NB = MultinomialNB()"
      ],
      "execution_count": 10,
      "outputs": []
    },
    {
      "cell_type": "code",
      "metadata": {
        "id": "7JxqjtGxW-Iv",
        "colab_type": "code",
        "colab": {
          "base_uri": "https://localhost:8080/",
          "height": 34
        },
        "outputId": "e53e3ece-73a8-41b5-a51a-b04510decede"
      },
      "source": [
        "NB.fit(X_train, y_train)"
      ],
      "execution_count": 11,
      "outputs": [
        {
          "output_type": "execute_result",
          "data": {
            "text/plain": [
              "MultinomialNB(alpha=1.0, class_prior=None, fit_prior=True)"
            ]
          },
          "metadata": {
            "tags": []
          },
          "execution_count": 11
        }
      ]
    },
    {
      "cell_type": "code",
      "metadata": {
        "id": "v-rvVut3dZlJ",
        "colab_type": "code",
        "colab": {
          "base_uri": "https://localhost:8080/",
          "height": 330
        },
        "outputId": "58530602-b56c-4b9c-cea5-4dd73c4be735"
      },
      "source": [
        "print('Training accuracy')\n",
        "print(NB.score(X_train, y_train))\n",
        "plot_confusion_matrix(NB, X_train, y_train)"
      ],
      "execution_count": 12,
      "outputs": [
        {
          "output_type": "stream",
          "text": [
            "Training accuracy\n",
            "0.5703245749613601\n"
          ],
          "name": "stdout"
        },
        {
          "output_type": "execute_result",
          "data": {
            "text/plain": [
              "<sklearn.metrics._plot.confusion_matrix.ConfusionMatrixDisplay at 0x7f3362a2c7b8>"
            ]
          },
          "metadata": {
            "tags": []
          },
          "execution_count": 12
        },
        {
          "output_type": "display_data",
          "data": {
            "image/png": "[encoded data removed]",
            "text/plain": [
              "<Figure size 432x288 with 2 Axes>"
            ]
          },
          "metadata": {
            "tags": [],
            "needs_background": "light"
          }
        }
      ]
    },
    {
      "cell_type": "code",
      "metadata": {
        "id": "bPY4EySHd2Xu",
        "colab_type": "code",
        "colab": {
          "base_uri": "https://localhost:8080/",
          "height": 334
        },
        "outputId": "e9b7dac8-4461-414e-fabb-60ed9aa56b06"
      },
      "source": [
        "print('Test accuracy')\n",
        "print(NB.score(X_test, y_test))\n",
        "plot_confusion_matrix(NB, X_test, y_test)"
      ],
      "execution_count": 13,
      "outputs": [
        {
          "output_type": "stream",
          "text": [
            "Test accuracy\n",
            "0.4691358024691358\n"
          ],
          "name": "stdout"
        },
        {
          "output_type": "execute_result",
          "data": {
            "text/plain": [
              "<sklearn.metrics._plot.confusion_matrix.ConfusionMatrixDisplay at 0x7f3362c04940>"
            ]
          },
          "metadata": {
            "tags": []
          },
          "execution_count": 13
        },
        {
          "output_type": "display_data",
          "data": {
            "image/png": "[encoded data removed]",
            "text/plain": [
              "<Figure size 432x288 with 2 Axes>"
            ]
          },
          "metadata": {
            "tags": [],
            "needs_background": "light"
          }
        }
      ]
    },
    {
      "cell_type": "markdown",
      "metadata": {
        "id": "n2BOC9U1eaNJ",
        "colab_type": "text"
      },
      "source": [
        "### Test 2 - Naive Bayes using tf-idf"
      ]
    },
    {
      "cell_type": "code",
      "metadata": {
        "id": "OjtBvYpUaARE",
        "colab_type": "code",
        "colab": {}
      },
      "source": [
        "tfidf = TfidfTransformer()\n",
        "X_train_tfidf = tfidf.fit_transform(X_train)\n",
        "X_test_tfidf = tfidf.transform(X_test)"
      ],
      "execution_count": 14,
      "outputs": []
    },
    {
      "cell_type": "code",
      "metadata": {
        "id": "MMTY5PEaaHWa",
        "colab_type": "code",
        "colab": {
          "base_uri": "https://localhost:8080/",
          "height": 34
        },
        "outputId": "75aedebe-cf7f-4637-ac9d-f8b5a5085022"
      },
      "source": [
        "NB.fit(X_train_tfidf, y_train)"
      ],
      "execution_count": 15,
      "outputs": [
        {
          "output_type": "execute_result",
          "data": {
            "text/plain": [
              "MultinomialNB(alpha=1.0, class_prior=None, fit_prior=True)"
            ]
          },
          "metadata": {
            "tags": []
          },
          "execution_count": 15
        }
      ]
    },
    {
      "cell_type": "code",
      "metadata": {
        "id": "2qQ0J_vraKBy",
        "colab_type": "code",
        "colab": {
          "base_uri": "https://localhost:8080/",
          "height": 330
        },
        "outputId": "b4376a02-6a93-4771-e902-de39967c626f"
      },
      "source": [
        "print('Training accuracy')\n",
        "print(NB.score(X_train_tfidf, y_train))\n",
        "plot_confusion_matrix(NB, X_train_tfidf, y_train)"
      ],
      "execution_count": 16,
      "outputs": [
        {
          "output_type": "stream",
          "text": [
            "Training accuracy\n",
            "0.6043276661514683\n"
          ],
          "name": "stdout"
        },
        {
          "output_type": "execute_result",
          "data": {
            "text/plain": [
              "<sklearn.metrics._plot.confusion_matrix.ConfusionMatrixDisplay at 0x7f33b00513c8>"
            ]
          },
          "metadata": {
            "tags": []
          },
          "execution_count": 16
        },
        {
          "output_type": "display_data",
          "data": {
            "image/png": "[encoded data removed]",
            "text/plain": [
              "<Figure size 432x288 with 2 Axes>"
            ]
          },
          "metadata": {
            "tags": [],
            "needs_background": "light"
          }
        }
      ]
    },
    {
      "cell_type": "code",
      "metadata": {
        "id": "AQn8vAXPaSzQ",
        "colab_type": "code",
        "colab": {
          "base_uri": "https://localhost:8080/",
          "height": 330
        },
        "outputId": "ab4c1cc3-235a-4ab0-f2ac-22c325622600"
      },
      "source": [
        "print('Test accuracy')\n",
        "print(NB.score(X_test_tfidf, y_test))\n",
        "plot_confusion_matrix(NB, X_test_tfidf, y_test)"
      ],
      "execution_count": 17,
      "outputs": [
        {
          "output_type": "stream",
          "text": [
            "Test accuracy\n",
            "0.5432098765432098\n"
          ],
          "name": "stdout"
        },
        {
          "output_type": "execute_result",
          "data": {
            "text/plain": [
              "<sklearn.metrics._plot.confusion_matrix.ConfusionMatrixDisplay at 0x7f3362bd4908>"
            ]
          },
          "metadata": {
            "tags": []
          },
          "execution_count": 17
        },
        {
          "output_type": "display_data",
          "data": {
            "image/png": "[encoded data removed]",
            "text/plain": [
              "<Figure size 432x288 with 2 Axes>"
            ]
          },
          "metadata": {
            "tags": [],
            "needs_background": "light"
          }
        }
      ]
    },
    {
      "cell_type": "markdown",
      "metadata": {
        "id": "GBkKE0Iqvtnd",
        "colab_type": "text"
      },
      "source": [
        "### Logistic regression"
      ]
    },
    {
      "cell_type": "code",
      "metadata": {
        "id": "m2_PnhZkwPKc",
        "colab_type": "code",
        "colab": {
          "base_uri": "https://localhost:8080/",
          "height": 187
        },
        "outputId": "a234fe94-c427-493e-fe90-4f9de7e6c4ed"
      },
      "source": [
        "model_lr = tf.keras.Sequential([\n",
        "                                tf.keras.layers.Input(X_train_tfidf[0].shape),\n",
        "                                tf.keras.layers.Dense(1, activation='sigmoid')\n",
        "])\n",
        "\n",
        "model_lr.summary()"
      ],
      "execution_count": 18,
      "outputs": [
        {
          "output_type": "stream",
          "text": [
            "Model: \"sequential\"\n",
            "_________________________________________________________________\n",
            "Layer (type)                 Output Shape              Param #   \n",
            "=================================================================\n",
            "dense (Dense)                (None, 1, 1)              401       \n",
            "=================================================================\n",
            "Total params: 401\n",
            "Trainable params: 401\n",
            "Non-trainable params: 0\n",
            "_________________________________________________________________\n"
          ],
          "name": "stdout"
        }
      ]
    },
    {
      "cell_type": "code",
      "metadata": {
        "id": "OLmfuShVwlSO",
        "colab_type": "code",
        "colab": {}
      },
      "source": [
        "model_lr.compile(optimizer='rmsprop',\n",
        "                 loss='binary_crossentropy',\n",
        "                 metrics=['accuracy'])"
      ],
      "execution_count": 19,
      "outputs": []
    },
    {
      "cell_type": "code",
      "metadata": {
        "id": "3UA9SCa8wwfv",
        "colab_type": "code",
        "colab": {
          "base_uri": "https://localhost:8080/",
          "height": 496
        },
        "outputId": "ddc30ff9-7d9a-480a-facd-26c08f71f9e4"
      },
      "source": [
        "model_lr.fit(x = X_train_tfidf.todense(), y=y_train,\n",
        "            validation_data=(X_test_tfidf.todense(), y_test),\n",
        "            epochs=10)"
      ],
      "execution_count": 20,
      "outputs": [
        {
          "output_type": "stream",
          "text": [
            "Epoch 1/10\n",
            "WARNING:tensorflow:Model was constructed with shape (None, 1, 400) for input Tensor(\"input_1:0\", shape=(None, 1, 400), dtype=float32), but it was called on an input with incompatible shape (None, 400).\n"
          ],
          "name": "stdout"
        },
        {
          "output_type": "stream",
          "text": [
            "WARNING:tensorflow:Model was constructed with shape (None, 1, 400) for input Tensor(\"input_1:0\", shape=(None, 1, 400), dtype=float32), but it was called on an input with incompatible shape (None, 400).\n"
          ],
          "name": "stderr"
        },
        {
          "output_type": "stream",
          "text": [
            "WARNING:tensorflow:Model was constructed with shape (None, 1, 400) for input Tensor(\"input_1:0\", shape=(None, 1, 400), dtype=float32), but it was called on an input with incompatible shape (None, 400).\n"
          ],
          "name": "stdout"
        },
        {
          "output_type": "stream",
          "text": [
            "WARNING:tensorflow:Model was constructed with shape (None, 1, 400) for input Tensor(\"input_1:0\", shape=(None, 1, 400), dtype=float32), but it was called on an input with incompatible shape (None, 400).\n"
          ],
          "name": "stderr"
        },
        {
          "output_type": "stream",
          "text": [
            "16/21 [=====================>........] - ETA: 0s - loss: 0.6966 - accuracy: 0.4453WARNING:tensorflow:Model was constructed with shape (None, 1, 400) for input Tensor(\"input_1:0\", shape=(None, 1, 400), dtype=float32), but it was called on an input with incompatible shape (None, 400).\n"
          ],
          "name": "stdout"
        },
        {
          "output_type": "stream",
          "text": [
            "WARNING:tensorflow:Model was constructed with shape (None, 1, 400) for input Tensor(\"input_1:0\", shape=(None, 1, 400), dtype=float32), but it was called on an input with incompatible shape (None, 400).\n"
          ],
          "name": "stderr"
        },
        {
          "output_type": "stream",
          "text": [
            "21/21 [==============================] - 0s 13ms/step - loss: 0.6961 - accuracy: 0.4513 - val_loss: 0.6937 - val_accuracy: 0.4938\n",
            "Epoch 2/10\n",
            "21/21 [==============================] - 0s 5ms/step - loss: 0.6921 - accuracy: 0.5054 - val_loss: 0.6917 - val_accuracy: 0.5000\n",
            "Epoch 3/10\n",
            "21/21 [==============================] - 0s 5ms/step - loss: 0.6894 - accuracy: 0.5240 - val_loss: 0.6900 - val_accuracy: 0.5617\n",
            "Epoch 4/10\n",
            "21/21 [==============================] - 0s 6ms/step - loss: 0.6870 - accuracy: 0.5688 - val_loss: 0.6888 - val_accuracy: 0.5679\n",
            "Epoch 5/10\n",
            "21/21 [==============================] - 0s 6ms/step - loss: 0.6851 - accuracy: 0.5827 - val_loss: 0.6877 - val_accuracy: 0.5617\n",
            "Epoch 6/10\n",
            "21/21 [==============================] - 0s 5ms/step - loss: 0.6832 - accuracy: 0.5827 - val_loss: 0.6872 - val_accuracy: 0.5679\n",
            "Epoch 7/10\n",
            "21/21 [==============================] - 0s 5ms/step - loss: 0.6820 - accuracy: 0.5811 - val_loss: 0.6867 - val_accuracy: 0.5679\n",
            "Epoch 8/10\n",
            "21/21 [==============================] - 0s 6ms/step - loss: 0.6808 - accuracy: 0.5796 - val_loss: 0.6863 - val_accuracy: 0.5679\n",
            "Epoch 9/10\n",
            "21/21 [==============================] - 0s 5ms/step - loss: 0.6796 - accuracy: 0.5811 - val_loss: 0.6858 - val_accuracy: 0.5679\n",
            "Epoch 10/10\n",
            "21/21 [==============================] - 0s 6ms/step - loss: 0.6784 - accuracy: 0.5781 - val_loss: 0.6856 - val_accuracy: 0.5679\n"
          ],
          "name": "stdout"
        },
        {
          "output_type": "execute_result",
          "data": {
            "text/plain": [
              "<tensorflow.python.keras.callbacks.History at 0x7f336044bcf8>"
            ]
          },
          "metadata": {
            "tags": []
          },
          "execution_count": 20
        }
      ]
    },
    {
      "cell_type": "markdown",
      "metadata": {
        "id": "S9SBNddTqjTk",
        "colab_type": "text"
      },
      "source": [
        "### Multi-Layer Preceptron backed by tf-idf"
      ]
    },
    {
      "cell_type": "code",
      "metadata": {
        "id": "jylgXl_KaU9_",
        "colab_type": "code",
        "colab": {}
      },
      "source": [
        "model = tf.keras.Sequential([\n",
        "                             tf.keras.layers.Input(X_train_tfidf.shape[1]),\n",
        "                             tf.keras.layers.Dense(256, activation='relu'),\n",
        "                             tf.keras.layers.Dense(256, activation='relu'),\n",
        "                             tf.keras.layers.Dense(512, activation='relu'),\n",
        "                             tf.keras.layers.Dense(512, activation='relu'),\n",
        "                             tf.keras.layers.Dense(1024, activation='relu'),\n",
        "                             tf.keras.layers.Dense(1024, activation='relu'),\n",
        "                             tf.keras.layers.Dropout(0.3),\n",
        "                             tf.keras.layers.Dense(1, activation='sigmoid')\n",
        "])"
      ],
      "execution_count": 21,
      "outputs": []
    },
    {
      "cell_type": "code",
      "metadata": {
        "id": "K71KiJyosnXg",
        "colab_type": "code",
        "colab": {
          "base_uri": "https://localhost:8080/",
          "height": 425
        },
        "outputId": "89e74c42-cca2-4c8e-b793-15c115dbc7f3"
      },
      "source": [
        "model.summary()"
      ],
      "execution_count": 22,
      "outputs": [
        {
          "output_type": "stream",
          "text": [
            "Model: \"sequential_1\"\n",
            "_________________________________________________________________\n",
            "Layer (type)                 Output Shape              Param #   \n",
            "=================================================================\n",
            "dense_1 (Dense)              (None, 256)               102656    \n",
            "_________________________________________________________________\n",
            "dense_2 (Dense)              (None, 256)               65792     \n",
            "_________________________________________________________________\n",
            "dense_3 (Dense)              (None, 512)               131584    \n",
            "_________________________________________________________________\n",
            "dense_4 (Dense)              (None, 512)               262656    \n",
            "_________________________________________________________________\n",
            "dense_5 (Dense)              (None, 1024)              525312    \n",
            "_________________________________________________________________\n",
            "dense_6 (Dense)              (None, 1024)              1049600   \n",
            "_________________________________________________________________\n",
            "dropout (Dropout)            (None, 1024)              0         \n",
            "_________________________________________________________________\n",
            "dense_7 (Dense)              (None, 1)                 1025      \n",
            "=================================================================\n",
            "Total params: 2,138,625\n",
            "Trainable params: 2,138,625\n",
            "Non-trainable params: 0\n",
            "_________________________________________________________________\n"
          ],
          "name": "stdout"
        }
      ]
    },
    {
      "cell_type": "code",
      "metadata": {
        "id": "bU1WWEu-kjY1",
        "colab_type": "code",
        "colab": {}
      },
      "source": [
        "model.reset_states()\n",
        "model.compile(optimizer='rmsprop',\n",
        "              loss='binary_crossentropy',\n",
        "              metrics=['accuracy'])"
      ],
      "execution_count": 23,
      "outputs": []
    },
    {
      "cell_type": "code",
      "metadata": {
        "id": "1eso6fy3rUxp",
        "colab_type": "code",
        "colab": {
          "base_uri": "https://localhost:8080/",
          "height": 714
        },
        "outputId": "04043f37-9778-4513-b1b7-8d39e03f8982"
      },
      "source": [
        "model.fit(x=X_train_tfidf.todense(), y=y_train, validation_data=(X_test_tfidf.todense(), y_test),\n",
        "          epochs=20)"
      ],
      "execution_count": 24,
      "outputs": [
        {
          "output_type": "stream",
          "text": [
            "Epoch 1/20\n",
            "21/21 [==============================] - 0s 15ms/step - loss: 0.6919 - accuracy: 0.5626 - val_loss: 0.6885 - val_accuracy: 0.5679\n",
            "Epoch 2/20\n",
            "21/21 [==============================] - 0s 9ms/step - loss: 0.6846 - accuracy: 0.5796 - val_loss: 0.6854 - val_accuracy: 0.5679\n",
            "Epoch 3/20\n",
            "21/21 [==============================] - 0s 9ms/step - loss: 0.6458 - accuracy: 0.6182 - val_loss: 0.7634 - val_accuracy: 0.5556\n",
            "Epoch 4/20\n",
            "21/21 [==============================] - 0s 10ms/step - loss: 0.6013 - accuracy: 0.6909 - val_loss: 0.7403 - val_accuracy: 0.4506\n",
            "Epoch 5/20\n",
            "21/21 [==============================] - 0s 10ms/step - loss: 0.5415 - accuracy: 0.7094 - val_loss: 1.1051 - val_accuracy: 0.4877\n",
            "Epoch 6/20\n",
            "21/21 [==============================] - 0s 9ms/step - loss: 0.4773 - accuracy: 0.7635 - val_loss: 1.2214 - val_accuracy: 0.5556\n",
            "Epoch 7/20\n",
            "21/21 [==============================] - 0s 10ms/step - loss: 0.4187 - accuracy: 0.8006 - val_loss: 1.3087 - val_accuracy: 0.5556\n",
            "Epoch 8/20\n",
            "21/21 [==============================] - 0s 10ms/step - loss: 0.3983 - accuracy: 0.8022 - val_loss: 1.1989 - val_accuracy: 0.5062\n",
            "Epoch 9/20\n",
            "21/21 [==============================] - 0s 10ms/step - loss: 0.3629 - accuracy: 0.7960 - val_loss: 1.4182 - val_accuracy: 0.5247\n",
            "Epoch 10/20\n",
            "21/21 [==============================] - 0s 11ms/step - loss: 0.3280 - accuracy: 0.8331 - val_loss: 1.4590 - val_accuracy: 0.5062\n",
            "Epoch 11/20\n",
            "21/21 [==============================] - 0s 9ms/step - loss: 0.3334 - accuracy: 0.8269 - val_loss: 1.6110 - val_accuracy: 0.5247\n",
            "Epoch 12/20\n",
            "21/21 [==============================] - 0s 9ms/step - loss: 0.2906 - accuracy: 0.8516 - val_loss: 1.7965 - val_accuracy: 0.5247\n",
            "Epoch 13/20\n",
            "21/21 [==============================] - 0s 9ms/step - loss: 0.3419 - accuracy: 0.8485 - val_loss: 1.3331 - val_accuracy: 0.5309\n",
            "Epoch 14/20\n",
            "21/21 [==============================] - 0s 9ms/step - loss: 0.2824 - accuracy: 0.8655 - val_loss: 1.6451 - val_accuracy: 0.5556\n",
            "Epoch 15/20\n",
            "21/21 [==============================] - 0s 10ms/step - loss: 0.2722 - accuracy: 0.8516 - val_loss: 1.9942 - val_accuracy: 0.5247\n",
            "Epoch 16/20\n",
            "21/21 [==============================] - 0s 9ms/step - loss: 0.3065 - accuracy: 0.8393 - val_loss: 1.9895 - val_accuracy: 0.4753\n",
            "Epoch 17/20\n",
            "21/21 [==============================] - 0s 9ms/step - loss: 0.2959 - accuracy: 0.8609 - val_loss: 1.6232 - val_accuracy: 0.5370\n",
            "Epoch 18/20\n",
            "21/21 [==============================] - 0s 10ms/step - loss: 0.2223 - accuracy: 0.8856 - val_loss: 3.3982 - val_accuracy: 0.5309\n",
            "Epoch 19/20\n",
            "21/21 [==============================] - 0s 9ms/step - loss: 0.2339 - accuracy: 0.8856 - val_loss: 1.8793 - val_accuracy: 0.4877\n",
            "Epoch 20/20\n",
            "21/21 [==============================] - 0s 10ms/step - loss: 0.2248 - accuracy: 0.8810 - val_loss: 2.5510 - val_accuracy: 0.4938\n"
          ],
          "name": "stdout"
        },
        {
          "output_type": "execute_result",
          "data": {
            "text/plain": [
              "<tensorflow.python.keras.callbacks.History at 0x7f335ca6ceb8>"
            ]
          },
          "metadata": {
            "tags": []
          },
          "execution_count": 24
        }
      ]
    },
    {
      "cell_type": "code",
      "metadata": {
        "id": "OHIxdSp51uOW",
        "colab_type": "code",
        "colab": {}
      },
      "source": [
        ""
      ],
      "execution_count": 24,
      "outputs": []
    }
  ]
}