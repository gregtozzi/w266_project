{
 "cells": [
  {
   "cell_type": "code",
   "execution_count": 6,
   "metadata": {},
   "outputs": [
    {
     "ename": "SyntaxError",
     "evalue": "EOF while scanning triple-quoted string literal (<ipython-input-6-41175c11392a>, line 39)",
     "output_type": "error",
     "traceback": [
      "\u001b[0;36m  File \u001b[0;32m\"<ipython-input-6-41175c11392a>\"\u001b[0;36m, line \u001b[0;32m39\u001b[0m\n\u001b[0;31m    df['text'] = pd.Series(re.sub(\"(\\\\W)+\", \" \", i) for i in df['text'])\u001b[0m\n\u001b[0m                                                                        \n^\u001b[0m\n\u001b[0;31mSyntaxError\u001b[0m\u001b[0;31m:\u001b[0m EOF while scanning triple-quoted string literal\n"
     ]
    }
   ],
   "source": [
    "def process_text(doc,\n",
    "                lowercase=True,\n",
    "                replace_dates=True,\n",
    "                remove_punctuation=True):\n",
    "    \"\"\"\n",
    "    Processes a single document applying rules in the\n",
    "    text processing roadmap.\n",
    "    \n",
    "    Args:   doc -> str containing the text of the document\n",
    "            in a single string\n",
    "    \n",
    "            lowercase, replace_dates, remove_punctuation,\n",
    "            remove_stopwords, remove_infrequent_words -> bool\n",
    "            \n",
    "    Returns:  clean_doc -> str containing cleaned text\n",
    "    \"\"\"\n",
    "    clean_doc = doc.copy()\n",
    "    \n",
    "    if lowercase:\n",
    "        clean_doc.str.lower()\n",
    "        \n",
    "    return clean_doc\n",
    "\n",
    "\"\"\"\n",
    "train_data = pd.read_csv(\"../w266_project/data/train.csv\")\n",
    "test_data = pd.read_csv(\"../w266_project/data/test.csv\")\n",
    "df = pd.concat([train_data,test_data])\n",
    "df['len_txt'] =df.cleaned_contents.apply(lambda x: len(x.split()))\n",
    "df = train_raw[train_raw.len_txt >249]\n",
    "df = train_raw[train_raw.len_txt <20000]\n",
    "df = df[['cleaned_contents', 'Discrimination_Label']]\n",
    "df = df.rename(columns = {'cleaned_contents':'text', 'Discrimination_Label':'label'})\n",
    "#lower case to help remove dates\n",
    "df['text'] = df['text'].str.lower()\n",
    "#remove dates\n",
    "df['text'] = pd.Series(re.sub(r'(jan(uary)?|feb(ruary)?|mar(ch)?|apr(il)?|may|jun(e)?|jul(y)?|aug(ust)?|sep(t)?(tember)?|oct(ober)?|nov(ember)?|dec(ember)?)([\\s]{1,3})?([0-9]{1,2})(.{1,3})?((,)|(.))?([\\s]{1,3})?([0-9]{4})|([0-9]{1,2})(.{1,3})?([\\s]{1,3})?(day)?([\\s]{1,3})?(of)?([\\s]{1,3})?(jan(uary)?|feb(ruary)?|mar(ch)?|apr(il)?|may|jun(e)?|jul(y)?|aug(ust)?|sep(t)?(tember)?|oct(ober)?|nov(ember)?|dec(ember)?)((,)|(.))?(\\s{1,3})?([0-9]{4})|(first|second|third|fourth|fifth|sixth|seventh|eighth|ninth|tenth|eleventh|twelfth|thirteenth|fourteenth|fifteenth|sixteenth|seventeenth|eighteenth|nineteenth|twentieth|twenty-first|twenty-second|twenty-third|twenty-fourth|twenty-fifth|twenty-sixth|twenty-seventh|twenty-eighth|twenty-ninth|thirtieth|thirty-first)([\\s]{1,3})?(day)?([\\s]{1,3})?(of)?([\\s]{1,3})?(jan(uary)?|feb(ruary)?|mar(ch)?|apr(il)?|may|jun(e)?|jul(y)?|aug(ust)?|sep(t)?(tember)?|oct(ober)?|nov(ember)?|dec(ember)?)((,)|(.))?(\\s{1,3})?([0-9]{4})|(\\b[0-9]{1,2}(\\-|\\/)[0-9]{1,2}(\\-|\\/)[0-9]{2,4}\\b)|(\\b[0-9]{2,4}(\\-|\\/)[0-9]{1,2}(\\-|\\/)[0-9]{1,2}\\b)', '[DATE]', i) for i in df['text'])\n",
    "#remove special character\n",
    "df['text'] = pd.Series(re.sub(\"'\", \"\", i) for i in df['text'])\n",
    "df['text'] = pd.Series(re.sub(\"(\\\\W)+\", \" \", i) for i in df['text'])"
   ]
  },
  {
   "cell_type": "code",
   "execution_count": 2,
   "metadata": {},
   "outputs": [],
   "source": [
    "import pandas as pd\n",
    "train = pd.read_csv('./data/train.csv')"
   ]
  },
  {
   "cell_type": "code",
   "execution_count": 4,
   "metadata": {},
   "outputs": [],
   "source": [
    "foo = train['cleaned_contents'][0]"
   ]
  },
  {
   "cell_type": "code",
   "execution_count": 8,
   "metadata": {},
   "outputs": [
    {
     "ename": "NameError",
     "evalue": "name 'process_text' is not defined",
     "output_type": "error",
     "traceback": [
      "\u001b[0;31m---------------------------------------------------------------------------\u001b[0m",
      "\u001b[0;31mNameError\u001b[0m                                 Traceback (most recent call last)",
      "\u001b[0;32m<ipython-input-8-f0fa251dd099>\u001b[0m in \u001b[0;36m<module>\u001b[0;34m\u001b[0m\n\u001b[0;32m----> 1\u001b[0;31m \u001b[0mprocess_text\u001b[0m\u001b[0;34m(\u001b[0m\u001b[0mfoo\u001b[0m\u001b[0;34m)\u001b[0m\u001b[0;34m\u001b[0m\u001b[0;34m\u001b[0m\u001b[0m\n\u001b[0m",
      "\u001b[0;31mNameError\u001b[0m: name 'process_text' is not defined"
     ]
    }
   ],
   "source": [
    "process_text(foo)"
   ]
  },
  {
   "cell_type": "code",
   "execution_count": null,
   "metadata": {},
   "outputs": [],
   "source": []
  }
 ],
 "metadata": {
  "kernelspec": {
   "display_name": "Python 3",
   "language": "python",
   "name": "python3"
  },
  "language_info": {
   "codemirror_mode": {
    "name": "ipython",
    "version": 3
   },
   "file_extension": ".py",
   "mimetype": "text/x-python",
   "name": "python",
   "nbconvert_exporter": "python",
   "pygments_lexer": "ipython3",
   "version": "3.7.7"
  }
 },
 "nbformat": 4,
 "nbformat_minor": 4
}
