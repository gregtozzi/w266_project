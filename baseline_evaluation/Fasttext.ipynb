{
 "cells": [
  {
   "cell_type": "markdown",
   "metadata": {},
   "source": [
    "# Fasttext"
   ]
  },
  {
   "cell_type": "code",
   "execution_count": 1,
   "metadata": {},
   "outputs": [],
   "source": [
    "%matplotlib inline\n",
    "\n",
    "import os\n",
    "\n",
    "os.environ[\"CUDA_DEVICE_ORDER\"]=\"PCI_BUS_ID\";\n",
    "os.environ[\"CUDA_VISIBLE_DEVICES\"]=\"0\"; "
   ]
  },
  {
   "cell_type": "code",
   "execution_count": 2,
   "metadata": {},
   "outputs": [],
   "source": [
    "import ktrain\n",
    "from ktrain import text"
   ]
  },
  {
   "cell_type": "markdown",
   "metadata": {},
   "source": [
    "## Build test and training sets & define preprocessing"
   ]
  },
  {
   "cell_type": "code",
   "execution_count": 3,
   "metadata": {},
   "outputs": [],
   "source": [
    "NUM_WORDS = 50000\n",
    "MAXLEN = 1000\n",
    "NGRAM_RANGE = 1"
   ]
  },
  {
   "cell_type": "code",
   "execution_count": 4,
   "metadata": {},
   "outputs": [
    {
     "name": "stdout",
     "output_type": "stream",
     "text": [
      "detected encoding: utf-8 (if wrong, set manually)\n",
      "language: en\n",
      "Word Counts: 17751\n",
      "Nrows: 647\n",
      "647 train sequences\n",
      "train sequence lengths:\n",
      "\tmean : 1526\n",
      "\t95percentile : 4005\n",
      "\t99percentile : 7619\n",
      "x_train shape: (647,1000)\n",
      "y_train shape: (647, 2)\n",
      "Is Multi-Label? False\n",
      "162 test sequences\n",
      "test sequence lengths:\n",
      "\tmean : 1414\n",
      "\t95percentile : 3320\n",
      "\t99percentile : 7203\n",
      "x_test shape: (162,1000)\n",
      "y_test shape: (162, 2)\n"
     ]
    }
   ],
   "source": [
    "train, test, preproc = text.texts_from_csv('../data/train.csv',\n",
    "                                          'cleaned_contents',\n",
    "                                          label_columns=['Discrimination_Label'],\n",
    "                                          val_filepath='../data/test.csv',\n",
    "                                          max_features=NUM_WORDS,\n",
    "                                          maxlen=MAXLEN,\n",
    "                                          ngram_range=NGRAM_RANGE)"
   ]
  },
  {
   "cell_type": "markdown",
   "metadata": {},
   "source": [
    "## Define and train the model"
   ]
  },
  {
   "cell_type": "code",
   "execution_count": 5,
   "metadata": {},
   "outputs": [
    {
     "name": "stdout",
     "output_type": "stream",
     "text": [
      "Is Multi-Label? False\n",
      "compiling word ID features...\n",
      "maxlen is 1000\n",
      "done.\n"
     ]
    }
   ],
   "source": [
    "model = text.text_classifier('fasttext', train, preproc=preproc)\n",
    "learner = ktrain.get_learner(model, train_data=train, val_data=test)"
   ]
  },
  {
   "cell_type": "code",
   "execution_count": 6,
   "metadata": {},
   "outputs": [
    {
     "name": "stdout",
     "output_type": "stream",
     "text": [
      "Model: \"sequential\"\n",
      "_________________________________________________________________\n",
      "Layer (type)                 Output Shape              Param #   \n",
      "=================================================================\n",
      "embedding (Embedding)        (None, 1000, 64)          3200000   \n",
      "_________________________________________________________________\n",
      "spatial_dropout1d (SpatialDr (None, 1000, 64)          0         \n",
      "_________________________________________________________________\n",
      "global_max_pooling1d (Global (None, 64)                0         \n",
      "_________________________________________________________________\n",
      "batch_normalization (BatchNo (None, 64)                256       \n",
      "_________________________________________________________________\n",
      "dense (Dense)                (None, 64)                4160      \n",
      "_________________________________________________________________\n",
      "dropout (Dropout)            (None, 64)                0         \n",
      "_________________________________________________________________\n",
      "dense_1 (Dense)              (None, 2)                 130       \n",
      "=================================================================\n",
      "Total params: 3,204,546\n",
      "Trainable params: 3,204,418\n",
      "Non-trainable params: 128\n",
      "_________________________________________________________________\n"
     ]
    }
   ],
   "source": [
    "learner.model.summary()"
   ]
  },
  {
   "cell_type": "markdown",
   "metadata": {},
   "source": [
    "### Find a good initial learning rate\n",
    "\n",
    "This is a method that was developed at the Naval Research Laboratory.  It's been promoted by Jeremy Howard."
   ]
  },
  {
   "cell_type": "code",
   "execution_count": 7,
   "metadata": {},
   "outputs": [
    {
     "name": "stdout",
     "output_type": "stream",
     "text": [
      "simulating training for different learning rates... this may take a few moments...\n",
      "Train on 647 samples\n",
      "Epoch 1/5\n"
     ]
    },
    {
     "name": "stderr",
     "output_type": "stream",
     "text": [
      "/usr/local/lib/python3.6/dist-packages/ktrain/core.py:476: UserWarning: max_epochs is being set to 5 since steps per epoch is small. If you wish to estimate LR using more epochs, set max_epochs manually.\n",
      "  'If you wish to estimate LR using more epochs, set max_epochs manually.')\n"
     ]
    },
    {
     "name": "stdout",
     "output_type": "stream",
     "text": [
      "647/647 [==============================] - 2s 3ms/sample - loss: 1.1054 - accuracy: 0.4791\n",
      "Epoch 2/5\n",
      "647/647 [==============================] - 1s 875us/sample - loss: 1.1372 - accuracy: 0.4807\n",
      "Epoch 3/5\n",
      "647/647 [==============================] - 1s 853us/sample - loss: 1.1474 - accuracy: 0.4637\n",
      "Epoch 4/5\n",
      "647/647 [==============================] - 1s 843us/sample - loss: 0.9344 - accuracy: 0.5379\n",
      "Epoch 5/5\n",
      "384/647 [================>.............] - ETA: 0s - loss: 23.6795 - accuracy: 0.5000\n",
      "\n",
      "done.\n",
      "Visually inspect loss plot and select learning rate associated with falling loss\n"
     ]
    },
    {
     "data": {
      "image/png": "[encoded data removed]",
      "text/plain": [
       "<Figure size 432x288 with 1 Axes>"
      ]
     },
     "metadata": {
      "needs_background": "light"
     },
     "output_type": "display_data"
    }
   ],
   "source": [
    "learner.lr_find(show_plot=True)"
   ]
  },
  {
   "cell_type": "markdown",
   "metadata": {},
   "source": [
    "### Train"
   ]
  },
  {
   "cell_type": "code",
   "execution_count": 8,
   "metadata": {},
   "outputs": [
    {
     "name": "stdout",
     "output_type": "stream",
     "text": [
      "reduce_on_plateau automatically enabled at patience=2\n",
      "\n",
      "\n",
      "begin training using triangular learning rate policy with max lr of 0.02...\n",
      "Train on 647 samples, validate on 162 samples\n",
      "Epoch 1/1024\n",
      "647/647 [==============================] - 1s 2ms/sample - loss: 0.9667 - accuracy: 0.5549 - val_loss: 0.6819 - val_accuracy: 0.5988\n",
      "Epoch 2/1024\n",
      "647/647 [==============================] - 1s 978us/sample - loss: 0.7748 - accuracy: 0.5518 - val_loss: 0.6721 - val_accuracy: 0.5988\n",
      "Epoch 3/1024\n",
      "647/647 [==============================] - 1s 919us/sample - loss: 0.6804 - accuracy: 0.5904 - val_loss: 0.6805 - val_accuracy: 0.5988\n",
      "Epoch 4/1024\n",
      "647/647 [==============================] - 1s 908us/sample - loss: 0.6676 - accuracy: 0.6229 - val_loss: 0.6713 - val_accuracy: 0.5988\n",
      "Epoch 5/1024\n",
      "647/647 [==============================] - 1s 939us/sample - loss: 0.6521 - accuracy: 0.6445 - val_loss: 0.6567 - val_accuracy: 0.5988\n",
      "Epoch 6/1024\n",
      "647/647 [==============================] - 1s 1ms/sample - loss: 0.6050 - accuracy: 0.6739 - val_loss: 0.6519 - val_accuracy: 0.5988\n",
      "Epoch 7/1024\n",
      "647/647 [==============================] - 1s 993us/sample - loss: 0.5632 - accuracy: 0.7264 - val_loss: 0.6332 - val_accuracy: 0.6296\n",
      "Epoch 8/1024\n",
      "647/647 [==============================] - 1s 970us/sample - loss: 0.5183 - accuracy: 0.7465 - val_loss: 0.6026 - val_accuracy: 0.6111\n",
      "Epoch 9/1024\n",
      "647/647 [==============================] - 1s 967us/sample - loss: 0.5400 - accuracy: 0.7465 - val_loss: 0.5953 - val_accuracy: 0.6543\n",
      "Epoch 10/1024\n",
      "647/647 [==============================] - 1s 923us/sample - loss: 0.5168 - accuracy: 0.7141 - val_loss: 0.5925 - val_accuracy: 0.6296\n",
      "Epoch 11/1024\n",
      "647/647 [==============================] - 1s 1ms/sample - loss: 0.4718 - accuracy: 0.7728 - val_loss: 0.5338 - val_accuracy: 0.7160\n",
      "Epoch 12/1024\n",
      "647/647 [==============================] - 1s 967us/sample - loss: 0.4365 - accuracy: 0.8022 - val_loss: 0.5340 - val_accuracy: 0.6914\n",
      "Epoch 13/1024\n",
      "608/647 [===========================>..] - ETA: 0s - loss: 0.4976 - accuracy: 0.7796\n",
      "Epoch 00013: Reducing Max LR on Plateau: new max lr will be 0.01 (if not early_stopping).\n",
      "647/647 [==============================] - 1s 946us/sample - loss: 0.4965 - accuracy: 0.7790 - val_loss: 0.5411 - val_accuracy: 0.7160\n",
      "Epoch 14/1024\n",
      "647/647 [==============================] - 1s 937us/sample - loss: 0.3970 - accuracy: 0.8207 - val_loss: 0.5385 - val_accuracy: 0.7222\n",
      "Epoch 15/1024\n",
      "647/647 [==============================] - 1s 927us/sample - loss: 0.3582 - accuracy: 0.8423 - val_loss: 0.5312 - val_accuracy: 0.7284\n",
      "Epoch 16/1024\n",
      "647/647 [==============================] - 1s 933us/sample - loss: 0.3643 - accuracy: 0.8547 - val_loss: 0.5153 - val_accuracy: 0.7346\n",
      "Epoch 17/1024\n",
      "647/647 [==============================] - 1s 954us/sample - loss: 0.3374 - accuracy: 0.8501 - val_loss: 0.5020 - val_accuracy: 0.7654\n",
      "Epoch 18/1024\n",
      "647/647 [==============================] - 1s 926us/sample - loss: 0.3299 - accuracy: 0.8686 - val_loss: 0.5008 - val_accuracy: 0.7469\n",
      "Epoch 19/1024\n",
      "647/647 [==============================] - 1s 886us/sample - loss: 0.2916 - accuracy: 0.8717 - val_loss: 0.5261 - val_accuracy: 0.7346\n",
      "Epoch 20/1024\n",
      "640/647 [============================>.] - ETA: 0s - loss: 0.3004 - accuracy: 0.8734\n",
      "Epoch 00020: Reducing Max LR on Plateau: new max lr will be 0.005 (if not early_stopping).\n",
      "647/647 [==============================] - 1s 932us/sample - loss: 0.3054 - accuracy: 0.8702 - val_loss: 0.5426 - val_accuracy: 0.7346\n",
      "Epoch 21/1024\n",
      "647/647 [==============================] - 1s 989us/sample - loss: 0.2396 - accuracy: 0.9150 - val_loss: 0.5537 - val_accuracy: 0.7346\n",
      "Epoch 22/1024\n",
      "608/647 [===========================>..] - ETA: 0s - loss: 0.3118 - accuracy: 0.8750\n",
      "Epoch 00022: Reducing Max LR on Plateau: new max lr will be 0.0025 (if not early_stopping).\n",
      "647/647 [==============================] - 1s 886us/sample - loss: 0.3159 - accuracy: 0.8702 - val_loss: 0.5516 - val_accuracy: 0.7407\n",
      "Epoch 23/1024\n",
      "640/647 [============================>.] - ETA: 0s - loss: 0.2572 - accuracy: 0.8984Restoring model weights from the end of the best epoch.\n",
      "647/647 [==============================] - 1s 935us/sample - loss: 0.2605 - accuracy: 0.8964 - val_loss: 0.5567 - val_accuracy: 0.7469\n",
      "Epoch 00023: early stopping\n",
      "Weights from best epoch have been loaded into model.\n"
     ]
    },
    {
     "data": {
      "text/plain": [
       "<tensorflow.python.keras.callbacks.History at 0x7f2f55776358>"
      ]
     },
     "execution_count": 8,
     "metadata": {},
     "output_type": "execute_result"
    }
   ],
   "source": [
    "learner.autofit(2e-2, early_stopping=5)"
   ]
  },
  {
   "cell_type": "markdown",
   "metadata": {},
   "source": [
    "## Examine results"
   ]
  },
  {
   "cell_type": "code",
   "execution_count": 9,
   "metadata": {},
   "outputs": [
    {
     "name": "stdout",
     "output_type": "stream",
     "text": [
      "              precision    recall  f1-score   support\n",
      "\n",
      "           0       0.70      0.65      0.67        65\n",
      "           1       0.77      0.81      0.79        97\n",
      "\n",
      "    accuracy                           0.75       162\n",
      "   macro avg       0.74      0.73      0.73       162\n",
      "weighted avg       0.74      0.75      0.75       162\n",
      "\n"
     ]
    },
    {
     "data": {
      "text/plain": [
       "array([[42, 23],\n",
       "       [18, 79]])"
      ]
     },
     "execution_count": 9,
     "metadata": {},
     "output_type": "execute_result"
    }
   ],
   "source": [
    "learner.validate(class_names=preproc.get_classes())"
   ]
  },
  {
   "cell_type": "markdown",
   "metadata": {},
   "source": [
    "## Explain a prediction"
   ]
  },
  {
   "cell_type": "code",
   "execution_count": 11,
   "metadata": {},
   "outputs": [],
   "source": [
    "import pandas as pd\n",
    "X_test = pd.read_csv('../data/test.csv')['cleaned_contents']"
   ]
  },
  {
   "cell_type": "code",
   "execution_count": 12,
   "metadata": {},
   "outputs": [],
   "source": [
    "predictor = ktrain.get_predictor(learner.model, preproc=preproc)"
   ]
  },
  {
   "cell_type": "code",
   "execution_count": 13,
   "metadata": {},
   "outputs": [
    {
     "data": {
      "text/html": [
       "\n",
       "    <style>\n",
       "    table.eli5-weights tr:hover {\n",
       "        filter: brightness(85%);\n",
       "    }\n",
       "</style>\n",
       "\n",
       "\n",
       "\n",
       "    \n",
       "\n",
       "    \n",
       "\n",
       "    \n",
       "\n",
       "    \n",
       "\n",
       "    \n",
       "\n",
       "    \n",
       "\n",
       "\n",
       "    \n",
       "\n",
       "    \n",
       "\n",
       "    \n",
       "\n",
       "    \n",
       "        \n",
       "\n",
       "    \n",
       "\n",
       "        \n",
       "\n",
       "        \n",
       "    \n",
       "        \n",
       "        \n",
       "    \n",
       "        <p style=\"margin-bottom: 0.5em; margin-top: 0em\">\n",
       "            <b>\n",
       "    \n",
       "        y=1\n",
       "    \n",
       "</b>\n",
       "\n",
       "    \n",
       "    (probability <b>0.654</b>, score <b>0.635</b>)\n",
       "\n",
       "top features\n",
       "        </p>\n",
       "    \n",
       "    <table class=\"eli5-weights\"\n",
       "           style=\"border-collapse: collapse; border: none; margin-top: 0em; table-layout: auto; margin-bottom: 2em;\">\n",
       "        <thead>\n",
       "        <tr style=\"border: none;\">\n",
       "            \n",
       "                <th style=\"padding: 0 1em 0 0.5em; text-align: right; border: none;\" title=\"Feature contribution already accounts for the feature value (for linear models, contribution = weight * feature value), and the sum of feature contributions is equal to the score or, for some classifiers, to the probability. Feature values are shown if &quot;show_feature_values&quot; is True.\">\n",
       "                    Contribution<sup>?</sup>\n",
       "                </th>\n",
       "            \n",
       "            <th style=\"padding: 0 0.5em 0 0.5em; text-align: left; border: none;\">Feature</th>\n",
       "            \n",
       "        </tr>\n",
       "        </thead>\n",
       "        <tbody>\n",
       "        \n",
       "            <tr style=\"background-color: hsl(120, 100.00%, 80.00%); border: none;\">\n",
       "    <td style=\"padding: 0 1em 0 0.5em; text-align: right; border: none;\">\n",
       "        +1.791\n",
       "    </td>\n",
       "    <td style=\"padding: 0 0.5em 0 0.5em; text-align: left; border: none;\">\n",
       "        Highlighted in text (sum)\n",
       "    </td>\n",
       "    \n",
       "</tr>\n",
       "        \n",
       "        \n",
       "\n",
       "        \n",
       "        \n",
       "            <tr style=\"background-color: hsl(0, 100.00%, 85.28%); border: none;\">\n",
       "    <td style=\"padding: 0 1em 0 0.5em; text-align: right; border: none;\">\n",
       "        -1.156\n",
       "    </td>\n",
       "    <td style=\"padding: 0 0.5em 0 0.5em; text-align: left; border: none;\">\n",
       "        &lt;BIAS&gt;\n",
       "    </td>\n",
       "    \n",
       "</tr>\n",
       "        \n",
       "\n",
       "        </tbody>\n",
       "    </table>\n",
       "\n",
       "    \n",
       "\n",
       "\n",
       "\n",
       "    <p style=\"margin-bottom: 2.5em; margin-top:-0.5em;\">\n",
       "        <span style=\"background-color: hsl(120, 100.00%, 96.04%); opacity: 0.81\" title=\"0.087\">as</span><span style=\"opacity: 0.80\"> </span><span style=\"background-color: hsl(120, 100.00%, 93.67%); opacity: 0.81\" title=\"0.171\">the</span><span style=\"opacity: 0.80\"> </span><span style=\"background-color: hsl(120, 100.00%, 89.71%); opacity: 0.83\" title=\"0.342\">accused</span><span style=\"opacity: 0.80\"> </span><span style=\"background-color: hsl(120, 100.00%, 88.89%); opacity: 0.83\" title=\"0.382\">is</span><span style=\"opacity: 0.80\"> </span><span style=\"background-color: hsl(120, 100.00%, 94.04%); opacity: 0.81\" title=\"0.157\">the</span><span style=\"opacity: 0.80\"> </span><span style=\"background-color: hsl(120, 100.00%, 62.03%); opacity: 0.99\" title=\"2.210\">sole</span><span style=\"opacity: 0.80\"> </span><span style=\"background-color: hsl(120, 100.00%, 60.00%); opacity: 1.00\" title=\"2.380\">breadwinner</span><span style=\"opacity: 0.80\"> </span><span style=\"background-color: hsl(120, 100.00%, 92.30%); opacity: 0.82\" title=\"0.226\">for</span><span style=\"opacity: 0.80\"> </span><span style=\"background-color: hsl(120, 100.00%, 95.58%); opacity: 0.81\" title=\"0.102\">his</span><span style=\"opacity: 0.80\"> </span><span style=\"background-color: hsl(120, 100.00%, 71.80%); opacity: 0.92\" title=\"1.445\">family</span><span style=\"opacity: 0.80\">, </span><span style=\"background-color: hsl(120, 100.00%, 90.36%); opacity: 0.83\" title=\"0.312\">i</span><span style=\"opacity: 0.80\"> </span><span style=\"background-color: hsl(120, 100.00%, 94.13%); opacity: 0.81\" title=\"0.153\">reduce</span><span style=\"opacity: 0.80\"> </span><span style=\"background-color: hsl(120, 100.00%, 91.59%); opacity: 0.82\" title=\"0.256\">his</span><span style=\"opacity: 0.80\"> </span><span style=\"background-color: hsl(120, 100.00%, 92.63%); opacity: 0.82\" title=\"0.213\">sentence</span><span style=\"opacity: 0.80\"> </span><span style=\"background-color: hsl(120, 100.00%, 91.87%); opacity: 0.82\" title=\"0.245\">by</span><span style=\"opacity: 0.80\"> </span><span style=\"background-color: hsl(120, 100.00%, 94.55%); opacity: 0.81\" title=\"0.138\">two</span><span style=\"opacity: 0.80\"> </span><span style=\"background-color: hsl(120, 100.00%, 98.78%); opacity: 0.80\" title=\"0.016\">years</span><span style=\"opacity: 0.80\">.</span>\n",
       "    </p>\n",
       "\n",
       "\n",
       "    \n",
       "\n",
       "    \n",
       "\n",
       "    \n",
       "\n",
       "    \n",
       "\n",
       "\n",
       "    \n",
       "\n",
       "    \n",
       "\n",
       "    \n",
       "\n",
       "    \n",
       "\n",
       "    \n",
       "\n",
       "    \n",
       "\n",
       "\n",
       "    \n",
       "\n",
       "    \n",
       "\n",
       "    \n",
       "\n",
       "    \n",
       "\n",
       "    \n",
       "\n",
       "    \n",
       "\n",
       "\n",
       "\n"
      ],
      "text/plain": [
       "<IPython.core.display.HTML object>"
      ]
     },
     "execution_count": 13,
     "metadata": {},
     "output_type": "execute_result"
    }
   ],
   "source": [
    "predictor.explain('As the accused is the sole breadwinner for his family, I reduce his sentence by two years.')"
   ]
  },
  {
   "cell_type": "code",
   "execution_count": 14,
   "metadata": {},
   "outputs": [],
   "source": [
    "predictor.save('models/fasttext')"
   ]
  },
  {
   "cell_type": "code",
   "execution_count": 15,
   "metadata": {},
   "outputs": [],
   "source": [
    "new_pred = ktrain.load_predictor('models/fasttext')"
   ]
  },
  {
   "cell_type": "code",
   "execution_count": 16,
   "metadata": {},
   "outputs": [
    {
     "data": {
      "text/html": [
       "\n",
       "    <style>\n",
       "    table.eli5-weights tr:hover {\n",
       "        filter: brightness(85%);\n",
       "    }\n",
       "</style>\n",
       "\n",
       "\n",
       "\n",
       "    \n",
       "\n",
       "    \n",
       "\n",
       "    \n",
       "\n",
       "    \n",
       "\n",
       "    \n",
       "\n",
       "    \n",
       "\n",
       "\n",
       "    \n",
       "\n",
       "    \n",
       "\n",
       "    \n",
       "\n",
       "    \n",
       "        \n",
       "\n",
       "    \n",
       "\n",
       "        \n",
       "\n",
       "        \n",
       "    \n",
       "        \n",
       "        \n",
       "    \n",
       "        <p style=\"margin-bottom: 0.5em; margin-top: 0em\">\n",
       "            <b>\n",
       "    \n",
       "        y=1\n",
       "    \n",
       "</b>\n",
       "\n",
       "    \n",
       "    (probability <b>0.654</b>, score <b>0.635</b>)\n",
       "\n",
       "top features\n",
       "        </p>\n",
       "    \n",
       "    <table class=\"eli5-weights\"\n",
       "           style=\"border-collapse: collapse; border: none; margin-top: 0em; table-layout: auto; margin-bottom: 2em;\">\n",
       "        <thead>\n",
       "        <tr style=\"border: none;\">\n",
       "            \n",
       "                <th style=\"padding: 0 1em 0 0.5em; text-align: right; border: none;\" title=\"Feature contribution already accounts for the feature value (for linear models, contribution = weight * feature value), and the sum of feature contributions is equal to the score or, for some classifiers, to the probability. Feature values are shown if &quot;show_feature_values&quot; is True.\">\n",
       "                    Contribution<sup>?</sup>\n",
       "                </th>\n",
       "            \n",
       "            <th style=\"padding: 0 0.5em 0 0.5em; text-align: left; border: none;\">Feature</th>\n",
       "            \n",
       "        </tr>\n",
       "        </thead>\n",
       "        <tbody>\n",
       "        \n",
       "            <tr style=\"background-color: hsl(120, 100.00%, 80.00%); border: none;\">\n",
       "    <td style=\"padding: 0 1em 0 0.5em; text-align: right; border: none;\">\n",
       "        +1.791\n",
       "    </td>\n",
       "    <td style=\"padding: 0 0.5em 0 0.5em; text-align: left; border: none;\">\n",
       "        Highlighted in text (sum)\n",
       "    </td>\n",
       "    \n",
       "</tr>\n",
       "        \n",
       "        \n",
       "\n",
       "        \n",
       "        \n",
       "            <tr style=\"background-color: hsl(0, 100.00%, 85.28%); border: none;\">\n",
       "    <td style=\"padding: 0 1em 0 0.5em; text-align: right; border: none;\">\n",
       "        -1.156\n",
       "    </td>\n",
       "    <td style=\"padding: 0 0.5em 0 0.5em; text-align: left; border: none;\">\n",
       "        &lt;BIAS&gt;\n",
       "    </td>\n",
       "    \n",
       "</tr>\n",
       "        \n",
       "\n",
       "        </tbody>\n",
       "    </table>\n",
       "\n",
       "    \n",
       "\n",
       "\n",
       "\n",
       "    <p style=\"margin-bottom: 2.5em; margin-top:-0.5em;\">\n",
       "        <span style=\"background-color: hsl(120, 100.00%, 96.04%); opacity: 0.81\" title=\"0.087\">as</span><span style=\"opacity: 0.80\"> </span><span style=\"background-color: hsl(120, 100.00%, 93.67%); opacity: 0.81\" title=\"0.171\">the</span><span style=\"opacity: 0.80\"> </span><span style=\"background-color: hsl(120, 100.00%, 89.71%); opacity: 0.83\" title=\"0.342\">accused</span><span style=\"opacity: 0.80\"> </span><span style=\"background-color: hsl(120, 100.00%, 88.89%); opacity: 0.83\" title=\"0.382\">is</span><span style=\"opacity: 0.80\"> </span><span style=\"background-color: hsl(120, 100.00%, 94.04%); opacity: 0.81\" title=\"0.157\">the</span><span style=\"opacity: 0.80\"> </span><span style=\"background-color: hsl(120, 100.00%, 62.03%); opacity: 0.99\" title=\"2.210\">sole</span><span style=\"opacity: 0.80\"> </span><span style=\"background-color: hsl(120, 100.00%, 60.00%); opacity: 1.00\" title=\"2.380\">breadwinner</span><span style=\"opacity: 0.80\"> </span><span style=\"background-color: hsl(120, 100.00%, 92.30%); opacity: 0.82\" title=\"0.226\">for</span><span style=\"opacity: 0.80\"> </span><span style=\"background-color: hsl(120, 100.00%, 95.58%); opacity: 0.81\" title=\"0.102\">his</span><span style=\"opacity: 0.80\"> </span><span style=\"background-color: hsl(120, 100.00%, 71.80%); opacity: 0.92\" title=\"1.445\">family</span><span style=\"opacity: 0.80\">, </span><span style=\"background-color: hsl(120, 100.00%, 90.36%); opacity: 0.83\" title=\"0.312\">i</span><span style=\"opacity: 0.80\"> </span><span style=\"background-color: hsl(120, 100.00%, 94.13%); opacity: 0.81\" title=\"0.153\">reduce</span><span style=\"opacity: 0.80\"> </span><span style=\"background-color: hsl(120, 100.00%, 91.59%); opacity: 0.82\" title=\"0.256\">his</span><span style=\"opacity: 0.80\"> </span><span style=\"background-color: hsl(120, 100.00%, 92.63%); opacity: 0.82\" title=\"0.213\">sentence</span><span style=\"opacity: 0.80\"> </span><span style=\"background-color: hsl(120, 100.00%, 91.87%); opacity: 0.82\" title=\"0.245\">by</span><span style=\"opacity: 0.80\"> </span><span style=\"background-color: hsl(120, 100.00%, 94.55%); opacity: 0.81\" title=\"0.138\">two</span><span style=\"opacity: 0.80\"> </span><span style=\"background-color: hsl(120, 100.00%, 98.78%); opacity: 0.80\" title=\"0.016\">years</span><span style=\"opacity: 0.80\">.</span>\n",
       "    </p>\n",
       "\n",
       "\n",
       "    \n",
       "\n",
       "    \n",
       "\n",
       "    \n",
       "\n",
       "    \n",
       "\n",
       "\n",
       "    \n",
       "\n",
       "    \n",
       "\n",
       "    \n",
       "\n",
       "    \n",
       "\n",
       "    \n",
       "\n",
       "    \n",
       "\n",
       "\n",
       "    \n",
       "\n",
       "    \n",
       "\n",
       "    \n",
       "\n",
       "    \n",
       "\n",
       "    \n",
       "\n",
       "    \n",
       "\n",
       "\n",
       "\n"
      ],
      "text/plain": [
       "<IPython.core.display.HTML object>"
      ]
     },
     "execution_count": 16,
     "metadata": {},
     "output_type": "execute_result"
    }
   ],
   "source": [
    "new_pred.explain('As the accused is the sole breadwinner for his family, I reduce his sentence by two years.')"
   ]
  },
  {
   "cell_type": "markdown",
   "metadata": {},
   "source": []
  }
 ],
 "metadata": {
  "kernelspec": {
   "display_name": "Python 3",
   "language": "python",
   "name": "python3"
  },
  "language_info": {
   "codemirror_mode": {
    "name": "ipython",
    "version": 3
   },
   "file_extension": ".py",
   "mimetype": "text/x-python",
   "name": "python",
   "nbconvert_exporter": "python",
   "pygments_lexer": "ipython3",
   "version": "3.6.9"
  }
 },
 "nbformat": 4,
 "nbformat_minor": 4
}
