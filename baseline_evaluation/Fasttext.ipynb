{
 "cells": [
  {
   "cell_type": "markdown",
   "metadata": {},
   "source": [
    "# Fasttext"
   ]
  },
  {
   "cell_type": "code",
   "execution_count": 1,
   "metadata": {},
   "outputs": [],
   "source": [
    "%matplotlib inline\n",
    "\n",
    "import os\n",
    "\n",
    "os.environ[\"CUDA_DEVICE_ORDER\"]=\"PCI_BUS_ID\";\n",
    "os.environ[\"CUDA_VISIBLE_DEVICES\"]=\"0\"; "
   ]
  },
  {
   "cell_type": "code",
   "execution_count": 2,
   "metadata": {},
   "outputs": [],
   "source": [
    "import ktrain\n",
    "from ktrain import text"
   ]
  },
  {
   "cell_type": "markdown",
   "metadata": {},
   "source": [
    "## Build test and training sets & define preprocessing"
   ]
  },
  {
   "cell_type": "code",
   "execution_count": 3,
   "metadata": {},
   "outputs": [],
   "source": [
    "NUM_WORDS = 50000\n",
    "MAXLEN = 1000\n",
    "NGRAM_RANGE = 1"
   ]
  },
  {
   "cell_type": "code",
   "execution_count": 4,
   "metadata": {},
   "outputs": [
    {
     "name": "stdout",
     "output_type": "stream",
     "text": [
      "detected encoding: utf-8 (if wrong, set manually)\n",
      "language: en\n",
      "Word Counts: 17751\n",
      "Nrows: 647\n",
      "647 train sequences\n",
      "train sequence lengths:\n",
      "\tmean : 1526\n",
      "\t95percentile : 4005\n",
      "\t99percentile : 7619\n",
      "x_train shape: (647,1000)\n",
      "y_train shape: (647, 2)\n",
      "Is Multi-Label? False\n",
      "162 test sequences\n",
      "test sequence lengths:\n",
      "\tmean : 1414\n",
      "\t95percentile : 3320\n",
      "\t99percentile : 7203\n",
      "x_test shape: (162,1000)\n",
      "y_test shape: (162, 2)\n"
     ]
    }
   ],
   "source": [
    "train, test, preproc = text.texts_from_csv('../data/train.csv',\n",
    "                                          'cleaned_contents',\n",
    "                                          label_columns=['Discrimination_Label'],\n",
    "                                          val_filepath='../data/test.csv',\n",
    "                                          max_features=NUM_WORDS,\n",
    "                                          maxlen=MAXLEN,\n",
    "                                          ngram_range=NGRAM_RANGE)"
   ]
  },
  {
   "cell_type": "markdown",
   "metadata": {},
   "source": [
    "## Define and train the model"
   ]
  },
  {
   "cell_type": "code",
   "execution_count": 5,
   "metadata": {},
   "outputs": [
    {
     "name": "stdout",
     "output_type": "stream",
     "text": [
      "Is Multi-Label? False\n",
      "compiling word ID features...\n",
      "maxlen is 1000\n",
      "done.\n"
     ]
    }
   ],
   "source": [
    "model = text.text_classifier('fasttext', train, preproc=preproc)\n",
    "learner = ktrain.get_learner(model, train_data=train, val_data=test)"
   ]
  },
  {
   "cell_type": "code",
   "execution_count": 6,
   "metadata": {},
   "outputs": [
    {
     "name": "stdout",
     "output_type": "stream",
     "text": [
      "Model: \"sequential\"\n",
      "_________________________________________________________________\n",
      "Layer (type)                 Output Shape              Param #   \n",
      "=================================================================\n",
      "embedding (Embedding)        (None, 1000, 64)          3200000   \n",
      "_________________________________________________________________\n",
      "spatial_dropout1d (SpatialDr (None, 1000, 64)          0         \n",
      "_________________________________________________________________\n",
      "global_max_pooling1d (Global (None, 64)                0         \n",
      "_________________________________________________________________\n",
      "batch_normalization (BatchNo (None, 64)                256       \n",
      "_________________________________________________________________\n",
      "dense (Dense)                (None, 64)                4160      \n",
      "_________________________________________________________________\n",
      "dropout (Dropout)            (None, 64)                0         \n",
      "_________________________________________________________________\n",
      "dense_1 (Dense)              (None, 2)                 130       \n",
      "=================================================================\n",
      "Total params: 3,204,546\n",
      "Trainable params: 3,204,418\n",
      "Non-trainable params: 128\n",
      "_________________________________________________________________\n"
     ]
    }
   ],
   "source": [
    "learner.model.summary()"
   ]
  },
  {
   "cell_type": "markdown",
   "metadata": {},
   "source": [
    "### Find a good initial learning rate\n",
    "\n",
    "This is a method that was developed at the Naval Research Laboratory.  It's been promoted by Jeremy Howard."
   ]
  },
  {
   "cell_type": "code",
   "execution_count": 7,
   "metadata": {},
   "outputs": [
    {
     "name": "stdout",
     "output_type": "stream",
     "text": [
      "simulating training for different learning rates... this may take a few moments...\n",
      "Train on 647 samples\n",
      "Epoch 1/5\n"
     ]
    },
    {
     "name": "stderr",
     "output_type": "stream",
     "text": [
      "/usr/local/lib/python3.6/dist-packages/ktrain/core.py:476: UserWarning: max_epochs is being set to 5 since steps per epoch is small. If you wish to estimate LR using more epochs, set max_epochs manually.\n",
      "  'If you wish to estimate LR using more epochs, set max_epochs manually.')\n"
     ]
    },
    {
     "name": "stdout",
     "output_type": "stream",
     "text": [
      "647/647 [==============================] - 2s 2ms/sample - loss: 0.9779 - accuracy: 0.5379\n",
      "Epoch 2/5\n",
      "647/647 [==============================] - 1s 819us/sample - loss: 0.9450 - accuracy: 0.5193\n",
      "Epoch 3/5\n",
      "647/647 [==============================] - 0s 770us/sample - loss: 0.9212 - accuracy: 0.5270\n",
      "Epoch 4/5\n",
      "647/647 [==============================] - 1s 795us/sample - loss: 0.9279 - accuracy: 0.5286\n",
      "Epoch 5/5\n",
      "352/647 [===============>..............] - ETA: 0s - loss: 1.9160 - accuracy: 0.5426\n",
      "\n",
      "done.\n",
      "Visually inspect loss plot and select learning rate associated with falling loss\n"
     ]
    },
    {
     "data": {
      "image/png": "[encoded data removed]",
      "text/plain": [
       "<Figure size 432x288 with 1 Axes>"
      ]
     },
     "metadata": {
      "needs_background": "light"
     },
     "output_type": "display_data"
    }
   ],
   "source": [
    "learner.lr_find(show_plot=True)"
   ]
  },
  {
   "cell_type": "markdown",
   "metadata": {},
   "source": [
    "### Train"
   ]
  },
  {
   "cell_type": "code",
   "execution_count": 8,
   "metadata": {},
   "outputs": [
    {
     "name": "stdout",
     "output_type": "stream",
     "text": [
      "reduce_on_plateau automatically enabled at patience=2\n",
      "\n",
      "\n",
      "begin training using triangular learning rate policy with max lr of 0.02...\n",
      "Train on 647 samples, validate on 162 samples\n",
      "Epoch 1/1024\n",
      "647/647 [==============================] - 1s 2ms/sample - loss: 0.9146 - accuracy: 0.5317 - val_loss: 0.6981 - val_accuracy: 0.4136\n",
      "Epoch 2/1024\n",
      "647/647 [==============================] - 1s 925us/sample - loss: 0.7763 - accuracy: 0.5332 - val_loss: 0.6909 - val_accuracy: 0.6049\n",
      "Epoch 3/1024\n",
      "647/647 [==============================] - 1s 902us/sample - loss: 0.7056 - accuracy: 0.5564 - val_loss: 0.6852 - val_accuracy: 0.6358\n",
      "Epoch 4/1024\n",
      "647/647 [==============================] - 1s 878us/sample - loss: 0.6878 - accuracy: 0.5796 - val_loss: 0.6707 - val_accuracy: 0.5988\n",
      "Epoch 5/1024\n",
      "647/647 [==============================] - 1s 860us/sample - loss: 0.6701 - accuracy: 0.6090 - val_loss: 0.6778 - val_accuracy: 0.6481\n",
      "Epoch 6/1024\n",
      "640/647 [============================>.] - ETA: 0s - loss: 0.6303 - accuracy: 0.6531\n",
      "Epoch 00006: Reducing Max LR on Plateau: new max lr will be 0.01 (if not early_stopping).\n",
      "647/647 [==============================] - 1s 837us/sample - loss: 0.6316 - accuracy: 0.6522 - val_loss: 0.6788 - val_accuracy: 0.6173\n",
      "Epoch 7/1024\n",
      "647/647 [==============================] - 1s 935us/sample - loss: 0.5984 - accuracy: 0.6862 - val_loss: 0.6927 - val_accuracy: 0.4938\n",
      "Epoch 8/1024\n",
      "647/647 [==============================] - 1s 881us/sample - loss: 0.5805 - accuracy: 0.7048 - val_loss: 0.6621 - val_accuracy: 0.6420\n",
      "Epoch 9/1024\n",
      "647/647 [==============================] - 1s 880us/sample - loss: 0.5634 - accuracy: 0.7141 - val_loss: 0.6610 - val_accuracy: 0.6111\n",
      "Epoch 10/1024\n",
      "647/647 [==============================] - 1s 858us/sample - loss: 0.5476 - accuracy: 0.7434 - val_loss: 0.6390 - val_accuracy: 0.6914\n",
      "Epoch 11/1024\n",
      "647/647 [==============================] - 1s 898us/sample - loss: 0.5124 - accuracy: 0.7419 - val_loss: 0.6305 - val_accuracy: 0.7222\n",
      "Epoch 12/1024\n",
      "647/647 [==============================] - 1s 884us/sample - loss: 0.5399 - accuracy: 0.7202 - val_loss: 0.6272 - val_accuracy: 0.7346\n",
      "Epoch 13/1024\n",
      "647/647 [==============================] - 1s 874us/sample - loss: 0.5065 - accuracy: 0.7651 - val_loss: 0.6203 - val_accuracy: 0.6790\n",
      "Epoch 14/1024\n",
      "647/647 [==============================] - 1s 877us/sample - loss: 0.5104 - accuracy: 0.7419 - val_loss: 0.6184 - val_accuracy: 0.7099\n",
      "Epoch 15/1024\n",
      "647/647 [==============================] - 1s 877us/sample - loss: 0.4900 - accuracy: 0.7512 - val_loss: 0.6057 - val_accuracy: 0.7346\n",
      "Epoch 16/1024\n",
      "647/647 [==============================] - 1s 919us/sample - loss: 0.4458 - accuracy: 0.8037 - val_loss: 0.5771 - val_accuracy: 0.7407\n",
      "Epoch 17/1024\n",
      "647/647 [==============================] - 1s 902us/sample - loss: 0.4749 - accuracy: 0.7728 - val_loss: 0.5739 - val_accuracy: 0.7284\n",
      "Epoch 18/1024\n",
      "647/647 [==============================] - 1s 881us/sample - loss: 0.4450 - accuracy: 0.7991 - val_loss: 0.5567 - val_accuracy: 0.7222\n",
      "Epoch 19/1024\n",
      "647/647 [==============================] - 1s 862us/sample - loss: 0.3742 - accuracy: 0.8315 - val_loss: 0.5937 - val_accuracy: 0.7160\n",
      "Epoch 20/1024\n",
      "608/647 [===========================>..] - ETA: 0s - loss: 0.3892 - accuracy: 0.8306\n",
      "Epoch 00020: Reducing Max LR on Plateau: new max lr will be 0.005 (if not early_stopping).\n",
      "647/647 [==============================] - 1s 882us/sample - loss: 0.3942 - accuracy: 0.8253 - val_loss: 0.5989 - val_accuracy: 0.7160\n",
      "Epoch 21/1024\n",
      "647/647 [==============================] - 1s 858us/sample - loss: 0.3364 - accuracy: 0.8563 - val_loss: 0.5971 - val_accuracy: 0.7160\n",
      "Epoch 22/1024\n",
      "608/647 [===========================>..] - ETA: 0s - loss: 0.3414 - accuracy: 0.8586\n",
      "Epoch 00022: Reducing Max LR on Plateau: new max lr will be 0.0025 (if not early_stopping).\n",
      "647/647 [==============================] - 1s 860us/sample - loss: 0.3447 - accuracy: 0.8563 - val_loss: 0.5978 - val_accuracy: 0.7037\n",
      "Epoch 23/1024\n",
      "640/647 [============================>.] - ETA: 0s - loss: 0.3122 - accuracy: 0.8547Restoring model weights from the end of the best epoch.\n",
      "647/647 [==============================] - 1s 864us/sample - loss: 0.3161 - accuracy: 0.8532 - val_loss: 0.6005 - val_accuracy: 0.7037\n",
      "Epoch 00023: early stopping\n",
      "Weights from best epoch have been loaded into model.\n"
     ]
    },
    {
     "data": {
      "text/plain": [
       "<tensorflow.python.keras.callbacks.History at 0x7f102a478e10>"
      ]
     },
     "execution_count": 8,
     "metadata": {},
     "output_type": "execute_result"
    }
   ],
   "source": [
    "learner.autofit(2e-2, early_stopping=5)"
   ]
  },
  {
   "cell_type": "markdown",
   "metadata": {},
   "source": [
    "## Examine results"
   ]
  },
  {
   "cell_type": "code",
   "execution_count": 9,
   "metadata": {},
   "outputs": [
    {
     "name": "stdout",
     "output_type": "stream",
     "text": [
      "              precision    recall  f1-score   support\n",
      "\n",
      "           0       0.68      0.58      0.63        65\n",
      "           1       0.75      0.81      0.78        97\n",
      "\n",
      "    accuracy                           0.72       162\n",
      "   macro avg       0.71      0.70      0.70       162\n",
      "weighted avg       0.72      0.72      0.72       162\n",
      "\n"
     ]
    },
    {
     "data": {
      "text/plain": [
       "array([[38, 27],\n",
       "       [18, 79]])"
      ]
     },
     "execution_count": 9,
     "metadata": {},
     "output_type": "execute_result"
    }
   ],
   "source": [
    "learner.validate(class_names=preproc.get_classes())"
   ]
  },
  {
   "cell_type": "markdown",
   "metadata": {},
   "source": [
    "## Explain a prediction"
   ]
  },
  {
   "cell_type": "code",
   "execution_count": 10,
   "metadata": {},
   "outputs": [],
   "source": [
    "import pandas as pd\n",
    "X_test = pd.read_csv('../data/test.csv')['cleaned_contents']"
   ]
  },
  {
   "cell_type": "code",
   "execution_count": 11,
   "metadata": {},
   "outputs": [],
   "source": [
    "predictor = ktrain.get_predictor(learner.model, preproc=preproc)"
   ]
  },
  {
   "cell_type": "code",
   "execution_count": 12,
   "metadata": {},
   "outputs": [
    {
     "data": {
      "text/html": [
       "\n",
       "    <style>\n",
       "    table.eli5-weights tr:hover {\n",
       "        filter: brightness(85%);\n",
       "    }\n",
       "</style>\n",
       "\n",
       "\n",
       "\n",
       "    \n",
       "\n",
       "    \n",
       "\n",
       "    \n",
       "\n",
       "    \n",
       "\n",
       "    \n",
       "\n",
       "    \n",
       "\n",
       "\n",
       "    \n",
       "\n",
       "    \n",
       "\n",
       "    \n",
       "\n",
       "    \n",
       "        \n",
       "\n",
       "    \n",
       "\n",
       "        \n",
       "\n",
       "        \n",
       "    \n",
       "        \n",
       "        \n",
       "    \n",
       "        <p style=\"margin-bottom: 0.5em; margin-top: 0em\">\n",
       "            <b>\n",
       "    \n",
       "        y=0\n",
       "    \n",
       "</b>\n",
       "\n",
       "    \n",
       "    (probability <b>0.552</b>, score <b>-0.208</b>)\n",
       "\n",
       "top features\n",
       "        </p>\n",
       "    \n",
       "    <table class=\"eli5-weights\"\n",
       "           style=\"border-collapse: collapse; border: none; margin-top: 0em; table-layout: auto; margin-bottom: 2em;\">\n",
       "        <thead>\n",
       "        <tr style=\"border: none;\">\n",
       "            \n",
       "                <th style=\"padding: 0 1em 0 0.5em; text-align: right; border: none;\" title=\"Feature contribution already accounts for the feature value (for linear models, contribution = weight * feature value), and the sum of feature contributions is equal to the score or, for some classifiers, to the probability. Feature values are shown if &quot;show_feature_values&quot; is True.\">\n",
       "                    Contribution<sup>?</sup>\n",
       "                </th>\n",
       "            \n",
       "            <th style=\"padding: 0 0.5em 0 0.5em; text-align: left; border: none;\">Feature</th>\n",
       "            \n",
       "        </tr>\n",
       "        </thead>\n",
       "        <tbody>\n",
       "        \n",
       "            <tr style=\"background-color: hsl(120, 100.00%, 80.00%); border: none;\">\n",
       "    <td style=\"padding: 0 1em 0 0.5em; text-align: right; border: none;\">\n",
       "        +0.161\n",
       "    </td>\n",
       "    <td style=\"padding: 0 0.5em 0 0.5em; text-align: left; border: none;\">\n",
       "        &lt;BIAS&gt;\n",
       "    </td>\n",
       "    \n",
       "</tr>\n",
       "        \n",
       "            <tr style=\"background-color: hsl(120, 100.00%, 91.58%); border: none;\">\n",
       "    <td style=\"padding: 0 1em 0 0.5em; text-align: right; border: none;\">\n",
       "        +0.047\n",
       "    </td>\n",
       "    <td style=\"padding: 0 0.5em 0 0.5em; text-align: left; border: none;\">\n",
       "        Highlighted in text (sum)\n",
       "    </td>\n",
       "    \n",
       "</tr>\n",
       "        \n",
       "        \n",
       "\n",
       "        \n",
       "        \n",
       "\n",
       "        </tbody>\n",
       "    </table>\n",
       "\n",
       "    \n",
       "\n",
       "\n",
       "\n",
       "    <p style=\"margin-bottom: 2.5em; margin-top:-0.5em;\">\n",
       "        <span style=\"background-color: hsl(120, 100.00%, 79.25%); opacity: 0.88\" title=\"0.041\">as</span><span style=\"opacity: 0.80\"> the </span><span style=\"background-color: hsl(120, 100.00%, 99.39%); opacity: 0.80\" title=\"0.000\">accused</span><span style=\"opacity: 0.80\"> </span><span style=\"background-color: hsl(0, 100.00%, 78.74%); opacity: 0.88\" title=\"-0.042\">is</span><span style=\"opacity: 0.80\"> </span><span style=\"background-color: hsl(120, 100.00%, 86.80%); opacity: 0.84\" title=\"0.021\">the</span><span style=\"opacity: 0.80\"> sole </span><span style=\"background-color: hsl(120, 100.00%, 69.39%); opacity: 0.94\" title=\"0.071\">breadwinner</span><span style=\"opacity: 0.80\"> </span><span style=\"background-color: hsl(120, 100.00%, 72.19%); opacity: 0.92\" title=\"0.062\">for</span><span style=\"opacity: 0.80\"> </span><span style=\"background-color: hsl(120, 100.00%, 60.00%); opacity: 1.00\" title=\"0.104\">his</span><span style=\"opacity: 0.80\"> </span><span style=\"background-color: hsl(120, 100.00%, 79.89%); opacity: 0.87\" title=\"0.039\">family</span><span style=\"opacity: 0.80\">, </span><span style=\"background-color: hsl(120, 100.00%, 81.30%); opacity: 0.87\" title=\"0.035\">i</span><span style=\"opacity: 0.80\"> </span><span style=\"background-color: hsl(0, 100.00%, 83.33%); opacity: 0.86\" title=\"-0.030\">reduce</span><span style=\"opacity: 0.80\"> </span><span style=\"background-color: hsl(0, 100.00%, 79.77%); opacity: 0.88\" title=\"-0.039\">his</span><span style=\"opacity: 0.80\"> </span><span style=\"background-color: hsl(0, 100.00%, 69.95%); opacity: 0.93\" title=\"-0.069\">sentence</span><span style=\"opacity: 0.80\"> </span><span style=\"background-color: hsl(0, 100.00%, 81.60%); opacity: 0.87\" title=\"-0.034\">by</span><span style=\"opacity: 0.80\"> two years.</span>\n",
       "    </p>\n",
       "\n",
       "\n",
       "    \n",
       "\n",
       "    \n",
       "\n",
       "    \n",
       "\n",
       "    \n",
       "\n",
       "\n",
       "    \n",
       "\n",
       "    \n",
       "\n",
       "    \n",
       "\n",
       "    \n",
       "\n",
       "    \n",
       "\n",
       "    \n",
       "\n",
       "\n",
       "    \n",
       "\n",
       "    \n",
       "\n",
       "    \n",
       "\n",
       "    \n",
       "\n",
       "    \n",
       "\n",
       "    \n",
       "\n",
       "\n",
       "\n"
      ],
      "text/plain": [
       "<IPython.core.display.HTML object>"
      ]
     },
     "execution_count": 12,
     "metadata": {},
     "output_type": "execute_result"
    }
   ],
   "source": [
    "predictor.explain('As the accused is the sole breadwinner for his family, I reduce his sentence by two years.')"
   ]
  },
  {
   "cell_type": "markdown",
   "metadata": {},
   "source": []
  }
 ],
 "metadata": {
  "kernelspec": {
   "display_name": "Python 3",
   "language": "python",
   "name": "python3"
  },
  "language_info": {
   "codemirror_mode": {
    "name": "ipython",
    "version": 3
   },
   "file_extension": ".py",
   "mimetype": "text/x-python",
   "name": "python",
   "nbconvert_exporter": "python",
   "pygments_lexer": "ipython3",
   "version": "3.6.9"
  }
 },
 "nbformat": 4,
 "nbformat_minor": 4
}
