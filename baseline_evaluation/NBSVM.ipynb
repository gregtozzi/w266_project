{
 "cells": [
  {
   "cell_type": "markdown",
   "metadata": {},
   "source": [
    "# NBSVM"
   ]
  },
  {
   "cell_type": "code",
   "execution_count": 1,
   "metadata": {},
   "outputs": [],
   "source": [
    "%matplotlib inline\n",
    "\n",
    "import os\n",
    "\n",
    "os.environ[\"CUDA_DEVICE_ORDER\"]=\"PCI_BUS_ID\";\n",
    "os.environ[\"CUDA_VISIBLE_DEVICES\"]=\"0\"; "
   ]
  },
  {
   "cell_type": "code",
   "execution_count": 2,
   "metadata": {},
   "outputs": [],
   "source": [
    "import ktrain\n",
    "from ktrain import text"
   ]
  },
  {
   "cell_type": "markdown",
   "metadata": {},
   "source": [
    "## Build test and training sets & define preprocessing"
   ]
  },
  {
   "cell_type": "code",
   "execution_count": 3,
   "metadata": {},
   "outputs": [],
   "source": [
    "NUM_WORDS = 50000\n",
    "MAXLEN = 8000\n",
    "NGRAM_RANGE = 1"
   ]
  },
  {
   "cell_type": "code",
   "execution_count": 4,
   "metadata": {},
   "outputs": [
    {
     "name": "stdout",
     "output_type": "stream",
     "text": [
      "detected encoding: utf-8 (if wrong, set manually)\n",
      "language: en\n",
      "Word Counts: 17751\n",
      "Nrows: 647\n",
      "647 train sequences\n",
      "train sequence lengths:\n",
      "\tmean : 1526\n",
      "\t95percentile : 4005\n",
      "\t99percentile : 7619\n",
      "x_train shape: (647,8000)\n",
      "y_train shape: (647, 2)\n",
      "Is Multi-Label? False\n",
      "162 test sequences\n",
      "test sequence lengths:\n",
      "\tmean : 1414\n",
      "\t95percentile : 3320\n",
      "\t99percentile : 7203\n",
      "x_test shape: (162,8000)\n",
      "y_test shape: (162, 2)\n"
     ]
    }
   ],
   "source": [
    "train, test, preproc = text.texts_from_csv('../data/train.csv',\n",
    "                                          'cleaned_contents',\n",
    "                                          label_columns=['Discrimination_Label'],\n",
    "                                          val_filepath='../data/test.csv',\n",
    "                                          max_features=NUM_WORDS,\n",
    "                                          maxlen=MAXLEN,\n",
    "                                          ngram_range=NGRAM_RANGE)"
   ]
  },
  {
   "cell_type": "markdown",
   "metadata": {},
   "source": [
    "## Define and train the model"
   ]
  },
  {
   "cell_type": "code",
   "execution_count": 5,
   "metadata": {},
   "outputs": [
    {
     "name": "stdout",
     "output_type": "stream",
     "text": [
      "Is Multi-Label? False\n",
      "compiling word ID features...\n",
      "maxlen is 8000\n",
      "building document-term matrix... this may take a few moments...\n",
      "rows: 1-647\n",
      "computing log-count ratios...\n",
      "done.\n"
     ]
    }
   ],
   "source": [
    "model = text.text_classifier('nbsvm', train, preproc=preproc)\n",
    "learner = ktrain.get_learner(model, train_data=train, val_data=test)"
   ]
  },
  {
   "cell_type": "code",
   "execution_count": 6,
   "metadata": {},
   "outputs": [
    {
     "name": "stdout",
     "output_type": "stream",
     "text": [
      "Model: \"model\"\n",
      "__________________________________________________________________________________________________\n",
      "Layer (type)                    Output Shape         Param #     Connected to                     \n",
      "==================================================================================================\n",
      "input_1 (InputLayer)            [(None, 8000)]       0                                            \n",
      "__________________________________________________________________________________________________\n",
      "embedding (Embedding)           (None, 8000, 2)      35504       input_1[0][0]                    \n",
      "__________________________________________________________________________________________________\n",
      "embedding_1 (Embedding)         (None, 8000, 1)      17752       input_1[0][0]                    \n",
      "__________________________________________________________________________________________________\n",
      "dot (Dot)                       (None, 2, 1)         0           embedding[0][0]                  \n",
      "                                                                 embedding_1[0][0]                \n",
      "__________________________________________________________________________________________________\n",
      "flatten (Flatten)               (None, 2)            0           dot[0][0]                        \n",
      "__________________________________________________________________________________________________\n",
      "activation_10 (Activation)      (None, 2)            0           flatten[0][0]                    \n",
      "==================================================================================================\n",
      "Total params: 53,256\n",
      "Trainable params: 17,752\n",
      "Non-trainable params: 35,504\n",
      "__________________________________________________________________________________________________\n"
     ]
    }
   ],
   "source": [
    "learner.model.summary()"
   ]
  },
  {
   "cell_type": "markdown",
   "metadata": {},
   "source": [
    "### Find a good initial learning rate\n",
    "\n",
    "This is a method that was developed at the Naval Research Laboratory.  It's been promoted by Jeremy Howard."
   ]
  },
  {
   "cell_type": "code",
   "execution_count": 7,
   "metadata": {},
   "outputs": [
    {
     "name": "stdout",
     "output_type": "stream",
     "text": [
      "simulating training for different learning rates... this may take a few moments...\n",
      "Train on 647 samples\n",
      "Epoch 1/5\n"
     ]
    },
    {
     "name": "stderr",
     "output_type": "stream",
     "text": [
      "/usr/local/lib/python3.6/dist-packages/ktrain/core.py:476: UserWarning: max_epochs is being set to 5 since steps per epoch is small. If you wish to estimate LR using more epochs, set max_epochs manually.\n",
      "  'If you wish to estimate LR using more epochs, set max_epochs manually.')\n"
     ]
    },
    {
     "name": "stdout",
     "output_type": "stream",
     "text": [
      "647/647 [==============================] - 1s 2ms/sample - loss: 0.8522 - accuracy: 0.4637\n",
      "Epoch 2/5\n",
      "647/647 [==============================] - 0s 515us/sample - loss: 0.8334 - accuracy: 0.4745\n",
      "Epoch 3/5\n",
      "647/647 [==============================] - 0s 529us/sample - loss: 0.6759 - accuracy: 0.6151\n",
      "Epoch 4/5\n",
      "647/647 [==============================] - 0s 478us/sample - loss: 0.3423 - accuracy: 0.8764\n",
      "Epoch 5/5\n",
      "288/647 [============>.................] - ETA: 0s - loss: 1.3544 - accuracy: 0.9375\n",
      "\n",
      "done.\n",
      "Visually inspect loss plot and select learning rate associated with falling loss\n"
     ]
    },
    {
     "data": {
      "image/png": "[encoded data removed]",
      "text/plain": [
       "<Figure size 432x288 with 1 Axes>"
      ]
     },
     "metadata": {
      "needs_background": "light"
     },
     "output_type": "display_data"
    }
   ],
   "source": [
    "learner.lr_find(show_plot=True)"
   ]
  },
  {
   "cell_type": "markdown",
   "metadata": {},
   "source": [
    "### Train"
   ]
  },
  {
   "cell_type": "code",
   "execution_count": 8,
   "metadata": {},
   "outputs": [
    {
     "name": "stdout",
     "output_type": "stream",
     "text": [
      "reduce_on_plateau automatically enabled at patience=2\n",
      "\n",
      "\n",
      "begin training using triangular learning rate policy with max lr of 0.001...\n",
      "Train on 647 samples, validate on 162 samples\n",
      "Epoch 1/1024\n",
      "647/647 [==============================] - 1s 1ms/sample - loss: 0.7246 - accuracy: 0.5951 - val_loss: 0.6382 - val_accuracy: 0.6852\n",
      "Epoch 2/1024\n",
      "647/647 [==============================] - 0s 568us/sample - loss: 0.5282 - accuracy: 0.7141 - val_loss: 0.6027 - val_accuracy: 0.7099\n",
      "Epoch 3/1024\n",
      "647/647 [==============================] - 0s 580us/sample - loss: 0.4332 - accuracy: 0.8114 - val_loss: 0.5822 - val_accuracy: 0.6728\n",
      "Epoch 4/1024\n",
      "647/647 [==============================] - 0s 550us/sample - loss: 0.3734 - accuracy: 0.8624 - val_loss: 0.5746 - val_accuracy: 0.7037\n",
      "Epoch 5/1024\n",
      "647/647 [==============================] - 0s 617us/sample - loss: 0.3300 - accuracy: 0.9042 - val_loss: 0.5739 - val_accuracy: 0.7037\n",
      "Epoch 6/1024\n",
      "647/647 [==============================] - 0s 553us/sample - loss: 0.2986 - accuracy: 0.9227 - val_loss: 0.5706 - val_accuracy: 0.7037\n",
      "Epoch 7/1024\n",
      "647/647 [==============================] - 0s 550us/sample - loss: 0.2752 - accuracy: 0.9243 - val_loss: 0.5692 - val_accuracy: 0.7037\n",
      "Epoch 8/1024\n",
      "647/647 [==============================] - 0s 549us/sample - loss: 0.2488 - accuracy: 0.9459 - val_loss: 0.5568 - val_accuracy: 0.7284\n",
      "Epoch 9/1024\n",
      "647/647 [==============================] - 0s 565us/sample - loss: 0.2307 - accuracy: 0.9583 - val_loss: 0.5567 - val_accuracy: 0.7222\n",
      "Epoch 10/1024\n",
      "647/647 [==============================] - 0s 548us/sample - loss: 0.2133 - accuracy: 0.9629 - val_loss: 0.5610 - val_accuracy: 0.7160\n",
      "Epoch 11/1024\n",
      "544/647 [========================>.....] - ETA: 0s - loss: 0.1997 - accuracy: 0.9688\n",
      "Epoch 00011: Reducing Max LR on Plateau: new max lr will be 0.0005 (if not early_stopping).\n",
      "647/647 [==============================] - 0s 534us/sample - loss: 0.1990 - accuracy: 0.9691 - val_loss: 0.5586 - val_accuracy: 0.7284\n",
      "Epoch 12/1024\n",
      "647/647 [==============================] - 0s 545us/sample - loss: 0.1874 - accuracy: 0.9768 - val_loss: 0.5575 - val_accuracy: 0.7222\n",
      "Epoch 13/1024\n",
      "544/647 [========================>.....] - ETA: 0s - loss: 0.1779 - accuracy: 0.9798\n",
      "Epoch 00013: Reducing Max LR on Plateau: new max lr will be 0.00025 (if not early_stopping).\n",
      "647/647 [==============================] - 0s 522us/sample - loss: 0.1814 - accuracy: 0.9784 - val_loss: 0.5572 - val_accuracy: 0.7284\n",
      "Epoch 14/1024\n",
      "640/647 [============================>.] - ETA: 0s - loss: 0.1763 - accuracy: 0.9781Restoring model weights from the end of the best epoch.\n",
      "647/647 [==============================] - 0s 568us/sample - loss: 0.1759 - accuracy: 0.9784 - val_loss: 0.5583 - val_accuracy: 0.7284\n",
      "Epoch 00014: early stopping\n",
      "Weights from best epoch have been loaded into model.\n"
     ]
    },
    {
     "data": {
      "text/plain": [
       "<tensorflow.python.keras.callbacks.History at 0x7fdb95da2160>"
      ]
     },
     "execution_count": 8,
     "metadata": {},
     "output_type": "execute_result"
    }
   ],
   "source": [
    "learner.autofit(1e-3, early_stopping=5)"
   ]
  },
  {
   "cell_type": "markdown",
   "metadata": {},
   "source": [
    "## Examine results"
   ]
  },
  {
   "cell_type": "code",
   "execution_count": 9,
   "metadata": {},
   "outputs": [
    {
     "name": "stdout",
     "output_type": "stream",
     "text": [
      "              precision    recall  f1-score   support\n",
      "\n",
      "           0       0.71      0.52      0.60        65\n",
      "           1       0.73      0.86      0.79        97\n",
      "\n",
      "    accuracy                           0.72       162\n",
      "   macro avg       0.72      0.69      0.69       162\n",
      "weighted avg       0.72      0.72      0.71       162\n",
      "\n"
     ]
    },
    {
     "data": {
      "text/plain": [
       "array([[34, 31],\n",
       "       [14, 83]])"
      ]
     },
     "execution_count": 9,
     "metadata": {},
     "output_type": "execute_result"
    }
   ],
   "source": [
    "learner.validate(class_names=preproc.get_classes())"
   ]
  },
  {
   "cell_type": "markdown",
   "metadata": {},
   "source": [
    "## Explain a prediction"
   ]
  },
  {
   "cell_type": "code",
   "execution_count": 10,
   "metadata": {},
   "outputs": [],
   "source": [
    "import pandas as pd\n",
    "X_test = pd.read_csv('../data/test.csv')['cleaned_contents']"
   ]
  },
  {
   "cell_type": "code",
   "execution_count": 11,
   "metadata": {},
   "outputs": [],
   "source": [
    "predictor = ktrain.get_predictor(learner.model, preproc=preproc)"
   ]
  },
  {
   "cell_type": "code",
   "execution_count": 12,
   "metadata": {},
   "outputs": [
    {
     "data": {
      "text/html": [
       "\n",
       "    <style>\n",
       "    table.eli5-weights tr:hover {\n",
       "        filter: brightness(85%);\n",
       "    }\n",
       "</style>\n",
       "\n",
       "\n",
       "\n",
       "    \n",
       "\n",
       "    \n",
       "\n",
       "    \n",
       "\n",
       "    \n",
       "\n",
       "    \n",
       "\n",
       "    \n",
       "\n",
       "\n",
       "    \n",
       "\n",
       "    \n",
       "\n",
       "    \n",
       "\n",
       "    \n",
       "        \n",
       "\n",
       "    \n",
       "\n",
       "        \n",
       "\n",
       "        \n",
       "    \n",
       "        \n",
       "        \n",
       "    \n",
       "        <p style=\"margin-bottom: 0.5em; margin-top: 0em\">\n",
       "            <b>\n",
       "    \n",
       "        y=1\n",
       "    \n",
       "</b>\n",
       "\n",
       "    \n",
       "    (probability <b>0.633</b>, score <b>0.545</b>)\n",
       "\n",
       "top features\n",
       "        </p>\n",
       "    \n",
       "    <table class=\"eli5-weights\"\n",
       "           style=\"border-collapse: collapse; border: none; margin-top: 0em; table-layout: auto; margin-bottom: 2em;\">\n",
       "        <thead>\n",
       "        <tr style=\"border: none;\">\n",
       "            \n",
       "                <th style=\"padding: 0 1em 0 0.5em; text-align: right; border: none;\" title=\"Feature contribution already accounts for the feature value (for linear models, contribution = weight * feature value), and the sum of feature contributions is equal to the score or, for some classifiers, to the probability. Feature values are shown if &quot;show_feature_values&quot; is True.\">\n",
       "                    Contribution<sup>?</sup>\n",
       "                </th>\n",
       "            \n",
       "            <th style=\"padding: 0 0.5em 0 0.5em; text-align: left; border: none;\">Feature</th>\n",
       "            \n",
       "        </tr>\n",
       "        </thead>\n",
       "        <tbody>\n",
       "        \n",
       "            <tr style=\"background-color: hsl(120, 100.00%, 80.00%); border: none;\">\n",
       "    <td style=\"padding: 0 1em 0 0.5em; text-align: right; border: none;\">\n",
       "        +0.596\n",
       "    </td>\n",
       "    <td style=\"padding: 0 0.5em 0 0.5em; text-align: left; border: none;\">\n",
       "        Highlighted in text (sum)\n",
       "    </td>\n",
       "    \n",
       "</tr>\n",
       "        \n",
       "        \n",
       "\n",
       "        \n",
       "        \n",
       "            <tr style=\"background-color: hsl(0, 100.00%, 96.43%); border: none;\">\n",
       "    <td style=\"padding: 0 1em 0 0.5em; text-align: right; border: none;\">\n",
       "        -0.051\n",
       "    </td>\n",
       "    <td style=\"padding: 0 0.5em 0 0.5em; text-align: left; border: none;\">\n",
       "        &lt;BIAS&gt;\n",
       "    </td>\n",
       "    \n",
       "</tr>\n",
       "        \n",
       "\n",
       "        </tbody>\n",
       "    </table>\n",
       "\n",
       "    \n",
       "\n",
       "\n",
       "\n",
       "    <p style=\"margin-bottom: 2.5em; margin-top:-0.5em;\">\n",
       "        <span style=\"background-color: hsl(0, 100.00%, 74.72%); opacity: 0.90\" title=\"-0.099\">as</span><span style=\"opacity: 0.80\"> the accused </span><span style=\"background-color: hsl(0, 100.00%, 98.06%); opacity: 0.80\" title=\"-0.003\">is</span><span style=\"opacity: 0.80\"> </span><span style=\"background-color: hsl(0, 100.00%, 98.06%); opacity: 0.80\" title=\"-0.003\">the</span><span style=\"opacity: 0.80\"> </span><span style=\"background-color: hsl(120, 100.00%, 60.00%); opacity: 1.00\" title=\"0.191\">sole</span><span style=\"opacity: 0.80\"> </span><span style=\"background-color: hsl(120, 100.00%, 83.82%); opacity: 0.85\" title=\"0.053\">breadwinner</span><span style=\"opacity: 0.80\"> </span><span style=\"background-color: hsl(120, 100.00%, 92.03%); opacity: 0.82\" title=\"0.019\">for</span><span style=\"opacity: 0.80\"> his </span><span style=\"background-color: hsl(120, 100.00%, 71.06%); opacity: 0.93\" title=\"0.121\">family</span><span style=\"opacity: 0.80\">, </span><span style=\"background-color: hsl(120, 100.00%, 96.90%); opacity: 0.81\" title=\"0.005\">i</span><span style=\"opacity: 0.80\"> </span><span style=\"background-color: hsl(120, 100.00%, 73.28%); opacity: 0.91\" title=\"0.108\">reduce</span><span style=\"opacity: 0.80\"> </span><span style=\"background-color: hsl(120, 100.00%, 82.50%); opacity: 0.86\" title=\"0.059\">his</span><span style=\"opacity: 0.80\"> </span><span style=\"background-color: hsl(120, 100.00%, 79.61%); opacity: 0.88\" title=\"0.073\">sentence</span><span style=\"opacity: 0.80\"> </span><span style=\"background-color: hsl(0, 100.00%, 99.56%); opacity: 0.80\" title=\"-0.000\">by</span><span style=\"opacity: 0.80\"> </span><span style=\"background-color: hsl(0, 100.00%, 81.92%); opacity: 0.86\" title=\"-0.062\">two</span><span style=\"opacity: 0.80\"> years.</span>\n",
       "    </p>\n",
       "\n",
       "\n",
       "    \n",
       "\n",
       "    \n",
       "\n",
       "    \n",
       "\n",
       "    \n",
       "\n",
       "\n",
       "    \n",
       "\n",
       "    \n",
       "\n",
       "    \n",
       "\n",
       "    \n",
       "\n",
       "    \n",
       "\n",
       "    \n",
       "\n",
       "\n",
       "    \n",
       "\n",
       "    \n",
       "\n",
       "    \n",
       "\n",
       "    \n",
       "\n",
       "    \n",
       "\n",
       "    \n",
       "\n",
       "\n",
       "\n"
      ],
      "text/plain": [
       "<IPython.core.display.HTML object>"
      ]
     },
     "execution_count": 12,
     "metadata": {},
     "output_type": "execute_result"
    }
   ],
   "source": [
    "predictor.explain('As the accused is the sole breadwinner for his family, I reduce his sentence by two years.')"
   ]
  },
  {
   "cell_type": "code",
   "execution_count": 10,
   "metadata": {},
   "outputs": [
    {
     "ename": "NameError",
     "evalue": "name 'predictor' is not defined",
     "output_type": "error",
     "traceback": [
      "\u001b[0;31m---------------------------------------------------------------------------\u001b[0m",
      "\u001b[0;31mNameError\u001b[0m                                 Traceback (most recent call last)",
      "\u001b[0;32m<ipython-input-10-9255b97af490>\u001b[0m in \u001b[0;36m<module>\u001b[0;34m\u001b[0m\n\u001b[0;32m----> 1\u001b[0;31m \u001b[0mpredictor\u001b[0m\u001b[0;34m.\u001b[0m\u001b[0msave\u001b[0m\u001b[0;34m(\u001b[0m\u001b[0;34m'models/nbsvm'\u001b[0m\u001b[0;34m)\u001b[0m\u001b[0;34m\u001b[0m\u001b[0;34m\u001b[0m\u001b[0m\n\u001b[0m",
      "\u001b[0;31mNameError\u001b[0m: name 'predictor' is not defined"
     ]
    }
   ],
   "source": [
    "predictor.save('models/nbsvm')"
   ]
  },
  {
   "cell_type": "code",
   "execution_count": null,
   "metadata": {},
   "outputs": [],
   "source": []
  }
 ],
 "metadata": {
  "kernelspec": {
   "display_name": "Python 3",
   "language": "python",
   "name": "python3"
  },
  "language_info": {
   "codemirror_mode": {
    "name": "ipython",
    "version": 3
   },
   "file_extension": ".py",
   "mimetype": "text/x-python",
   "name": "python",
   "nbconvert_exporter": "python",
   "pygments_lexer": "ipython3",
   "version": "3.6.9"
  }
 },
 "nbformat": 4,
 "nbformat_minor": 4
}
