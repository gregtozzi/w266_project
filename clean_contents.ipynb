{
 "cells": [
  {
   "cell_type": "code",
   "execution_count": 20,
   "metadata": {},
   "outputs": [],
   "source": [
    "%matplotlib inline\n",
    "\n",
    "# General libraries.\n",
    "import re\n",
    "import numpy as np\n",
    "import pandas as pd\n",
    "import matplotlib.pyplot as plt\n",
    "import nltk\n",
    "from sklearn.model_selection import train_test_split"
   ]
  },
  {
   "cell_type": "code",
   "execution_count": 21,
   "metadata": {},
   "outputs": [
    {
     "name": "stdout",
     "output_type": "stream",
     "text": [
      "809\n"
     ]
    }
   ],
   "source": [
    "# load the matching document contents\n",
    "df_text = pd.read_csv(\"data/trackGBV_xls_match.csv\")\n",
    "print(len(df_text))"
   ]
  },
  {
   "cell_type": "code",
   "execution_count": 22,
   "metadata": {},
   "outputs": [
    {
     "name": "stdout",
     "output_type": "stream",
     "text": [
      "809\n"
     ]
    }
   ],
   "source": [
    "df_labels = pd.read_csv(\"data/trackGBV_labels.csv\")\n",
    "print(len(df_labels))"
   ]
  },
  {
   "cell_type": "markdown",
   "metadata": {},
   "source": [
    "## There are 5 types of document\n",
    "\n",
    "* Judgment\n",
    "* Sentence\n",
    "* Ruling\n",
    "* Decision\n",
    "* Other"
   ]
  },
  {
   "cell_type": "code",
   "execution_count": 23,
   "metadata": {},
   "outputs": [],
   "source": [
    "# Get the index of the document type\n",
    "df_text[\"j_idx\"]= df_text[\"contents\"].str.find(\"JUDGMENT\") \n",
    "df_text[\"s_idx\"]= df_text[\"contents\"].str.find(\"SENTENCE\") \n",
    "df_text[\"r_idx\"]= df_text[\"contents\"].str.find(\"RULING\")\n",
    "df_text[\"d_idx\"]= df_text[\"contents\"].str.find(\"DECISION\")\n",
    "df_text[\"o_idx\"] = df_text[\"contents\"].str.find('APPLICATION FOR BAIL PENDING APPEAL')"
   ]
  },
  {
   "cell_type": "code",
   "execution_count": 24,
   "metadata": {},
   "outputs": [
    {
     "name": "stdout",
     "output_type": "stream",
     "text": [
      "Number of docs that are:\n",
      "\n",
      "JUDGMENT: 196\n",
      "SENTENCE: 555\n",
      "RULING: 46\n",
      "DECISION: 4\n",
      "OTHER: 1\n",
      "JUDGMENT & SENTENCE: 9\n",
      "JUDGMENT & RULING: 1\n",
      "JUDGMENT & DECISION: 0\n",
      "SENTENCE & RULING: 2\n",
      "SENTENCE & DECISION: 0\n",
      "RULING & DECISION: 0\n"
     ]
    }
   ],
   "source": [
    "# check if there are any duplicate document_types\n",
    "# first j_idx and s_idx, then do the others\n",
    "\n",
    "print(\"Number of docs that are:\")\n",
    "print()\n",
    "print(\"JUDGMENT:\", len(df_text.loc[(df_text.j_idx != -1)])) # 203\n",
    "print(\"SENTENCE:\", len(df_text.loc[(df_text.s_idx != -1)])) # 565\n",
    "print(\"RULING:\", len(df_text.loc[(df_text.r_idx != -1)]))   # 47\n",
    "print(\"DECISION:\", len(df_text.loc[(df_text.d_idx != -1)])) # 4\n",
    "print(\"OTHER:\", len(df_text.loc[(df_text.o_idx != -1)])) # 4\n",
    "\n",
    "print(\"JUDGMENT & SENTENCE:\", len(df_text.loc[((df_text.j_idx != -1) & (df_text.s_idx != -1))])) # 9\n",
    "print(\"JUDGMENT & RULING:\", len(df_text.loc[((df_text.j_idx != -1) & (df_text.r_idx != -1))]))   # 1\n",
    "print(\"JUDGMENT & DECISION:\", len(df_text.loc[((df_text.j_idx != -1) & (df_text.d_idx != -1))])) # 0\n",
    "\n",
    "print(\"SENTENCE & RULING:\", len(df_text.loc[((df_text.s_idx != -1) & (df_text.r_idx != -1))]))   # 2\n",
    "print(\"SENTENCE & DECISION:\", len(df_text.loc[((df_text.s_idx != -1) & (df_text.d_idx != -1))])) # 0\n",
    "\n",
    "print(\"RULING & DECISION:\", len(df_text.loc[((df_text.r_idx != -1) & (df_text.d_idx != -1))])) # 0"
   ]
  },
  {
   "cell_type": "code",
   "execution_count": 25,
   "metadata": {},
   "outputs": [],
   "source": [
    "# find and replace missing judgment statements\n",
    "df_text.loc[((df_text.j_idx == -1) & (df_text.s_idx == -1) & (df_text.r_idx == -1) & (df_text.d_idx == -1) & \n",
    "              df_text.contents.str.contains('J U D G M E N T')\n",
    "            ), 'j_idx' ] = df_text.loc[((df_text.j_idx == -1) & (df_text.s_idx == -1) & (df_text.r_idx == -1) & (df_text.d_idx == -1) & \n",
    "              df_text.contents.str.contains('J U D G M E N T')\n",
    "            )]['contents'].str.find('J U D G M E N T')\n",
    "\n",
    "df_text.loc[((df_text.j_idx == -1) & (df_text.s_idx == -1) & (df_text.r_idx == -1) & (df_text.d_idx == -1) & \n",
    "              df_text.contents.str.contains('JUDGEMENT')\n",
    "            ), 'j_idx' ] = df_text.loc[((df_text.j_idx == -1) & (df_text.s_idx == -1) & (df_text.r_idx == -1) & (df_text.d_idx == -1) & \n",
    "              df_text.contents.str.contains('JUDGEMENT')\n",
    "            )]['contents'].str.find('JUDGEMENT')"
   ]
  },
  {
   "cell_type": "code",
   "execution_count": 26,
   "metadata": {},
   "outputs": [],
   "source": [
    "# find and replace missing ruling statements\n",
    "\n",
    "df_text.loc[((df_text.j_idx == -1) & (df_text.s_idx == -1) & (df_text.r_idx == -1) & (df_text.d_idx == -1) & \n",
    "              df_text.contents.str.contains('R U L I N G')\n",
    "            ), 'r_idx' ] = df_text.loc[((df_text.j_idx == -1) & (df_text.s_idx == -1) & (df_text.r_idx == -1) & (df_text.d_idx == -1) & \n",
    "              df_text.contents.str.contains('R U L I N G')\n",
    "            )]['contents'].str.find('R U L I N G')"
   ]
  },
  {
   "cell_type": "code",
   "execution_count": 27,
   "metadata": {},
   "outputs": [],
   "source": [
    "# find and replace missing sentence statements\n",
    "\n",
    "df_text.loc[((df_text.j_idx == -1) & (df_text.s_idx == -1) & (df_text.r_idx == -1) & (df_text.d_idx == -1) & \n",
    "              df_text.contents.str.contains('S E N T E N C E')\n",
    "            ), 's_idx' ] = df_text.loc[((df_text.j_idx == -1) & (df_text.s_idx == -1) & (df_text.r_idx == -1) & (df_text.d_idx == -1) & \n",
    "              df_text.contents.str.contains('S E N T E N C E')\n",
    "            )]['contents'].str.find('S E N T E N C E')"
   ]
  },
  {
   "cell_type": "code",
   "execution_count": 28,
   "metadata": {},
   "outputs": [],
   "source": [
    "# find and replace missing 'other' statements\n",
    "df_text.loc[((df_text.j_idx == -1) & (df_text.s_idx == -1) & (df_text.r_idx == -1) & (df_text.d_idx == -1) & \n",
    "              df_text.contents.str.contains('CHARGE')\n",
    "            ), 'o_idx' ] = df_text.loc[((df_text.j_idx == -1) & (df_text.s_idx == -1) & (df_text.r_idx == -1) & (df_text.d_idx == -1) & \n",
    "              df_text.contents.str.contains('CHARGE')\n",
    "            )]['contents'].str.find('CHARGE')\n",
    "\n",
    "df_text.loc[((df_text.j_idx == -1) & (df_text.s_idx == -1) & (df_text.r_idx == -1) & (df_text.d_idx == -1) & \n",
    "              df_text.contents.str.contains('PUNISHMENT')\n",
    "            ), 'o_idx' ] = df_text.loc[((df_text.j_idx == -1) & (df_text.s_idx == -1) & (df_text.r_idx == -1) & (df_text.d_idx == -1) & \n",
    "              df_text.contents.str.contains('PUNISHMENT')\n",
    "            )]['contents'].str.find('PUNISHMENT')\n",
    "\n",
    "df_text.loc[((df_text.j_idx == -1) & (df_text.s_idx == -1) & (df_text.r_idx == -1) & (df_text.d_idx == -1) & \n",
    "              df_text.contents.str.contains('ORDER OF SUMMARY DISMISSAL')\n",
    "            ), 'o_idx' ] = df_text.loc[((df_text.j_idx == -1) & (df_text.s_idx == -1) & (df_text.r_idx == -1) & (df_text.d_idx == -1) & \n",
    "              df_text.contents.str.contains('ORDER OF SUMMARY DISMISSAL')\n",
    "            )]['contents'].str.find('ORDER OF SUMMARY DISMISSAL')"
   ]
  },
  {
   "cell_type": "code",
   "execution_count": 29,
   "metadata": {},
   "outputs": [],
   "source": [
    "# Fix the lower case 'sentence' and 'judgment' cases (there are only 6)\n",
    "df_text.loc[((df_text.j_idx == -1) & (df_text.s_idx == -1) & (df_text.r_idx == -1) & (df_text.d_idx == -1) & \n",
    "              df_text.contents.str.contains('Sentence')\n",
    "            ), 's_idx' ] = df_text.loc[((df_text.j_idx == -1) & (df_text.s_idx == -1) & (df_text.r_idx == -1) & (df_text.d_idx == -1) & \n",
    "              df_text.contents.str.contains('Sentence')\n",
    "            )]['contents'].str.find('Sentence')\n",
    "\n",
    "df_text.loc[((df_text.j_idx == -1) & (df_text.s_idx == -1) & (df_text.r_idx == -1) & (df_text.d_idx == -1) & \n",
    "              df_text.contents.str.contains('Judgment')\n",
    "            ), 'j_idx' ] = df_text.loc[((df_text.j_idx == -1) & (df_text.s_idx == -1) & (df_text.r_idx == -1) & (df_text.d_idx == -1) & \n",
    "              df_text.contents.str.contains('Judgment')\n",
    "            )]['contents'].str.find('Judgment')"
   ]
  },
  {
   "cell_type": "code",
   "execution_count": 30,
   "metadata": {},
   "outputs": [
    {
     "data": {
      "text/html": [
       "<div>\n",
       "<style scoped>\n",
       "    .dataframe tbody tr th:only-of-type {\n",
       "        vertical-align: middle;\n",
       "    }\n",
       "\n",
       "    .dataframe tbody tr th {\n",
       "        vertical-align: top;\n",
       "    }\n",
       "\n",
       "    .dataframe thead th {\n",
       "        text-align: right;\n",
       "    }\n",
       "</style>\n",
       "<table border=\"1\" class=\"dataframe\">\n",
       "  <thead>\n",
       "    <tr style=\"text-align: right;\">\n",
       "      <th></th>\n",
       "      <th>docid</th>\n",
       "      <th>contents</th>\n",
       "      <th>j_idx</th>\n",
       "      <th>s_idx</th>\n",
       "      <th>r_idx</th>\n",
       "      <th>d_idx</th>\n",
       "      <th>o_idx</th>\n",
       "    </tr>\n",
       "  </thead>\n",
       "  <tbody>\n",
       "  </tbody>\n",
       "</table>\n",
       "</div>"
      ],
      "text/plain": [
       "Empty DataFrame\n",
       "Columns: [docid, contents, j_idx, s_idx, r_idx, d_idx, o_idx]\n",
       "Index: []"
      ]
     },
     "execution_count": 30,
     "metadata": {},
     "output_type": "execute_result"
    }
   ],
   "source": [
    "# Check we have captured every doc type = there should be none\n",
    "df_text.loc[((df_text.j_idx == -1) & (df_text.s_idx == -1) & (df_text.r_idx == -1) & (df_text.d_idx == -1) & (df_text.o_idx == -1))]"
   ]
  },
  {
   "cell_type": "code",
   "execution_count": 31,
   "metadata": {},
   "outputs": [],
   "source": [
    "# Replace all -1s to a None so that we can get the \"minimum Non -1 value to key off of in or replace text\"\n",
    "df_text.loc[df_text['s_idx'] == -1, 's_idx'] = None\n",
    "df_text.loc[df_text['j_idx'] == -1, 'j_idx'] = None\n",
    "df_text.loc[df_text['r_idx'] == -1, 'r_idx'] = None\n",
    "df_text.loc[df_text['d_idx'] == -1, 'd_idx'] = None\n",
    "df_text.loc[df_text['o_idx'] == -1, 'o_idx'] = None"
   ]
  },
  {
   "cell_type": "code",
   "execution_count": 32,
   "metadata": {},
   "outputs": [],
   "source": [
    "df_text['type_idx'] = df_text[['s_idx', 'j_idx', 'r_idx', 'd_idx', 'o_idx']].min(axis=1).astype(int)"
   ]
  },
  {
   "cell_type": "code",
   "execution_count": 33,
   "metadata": {},
   "outputs": [],
   "source": [
    "# Remove all the parts of the document up to the document type\n",
    "for row in df_text.itertuples():\n",
    "    idx = row.type_idx\n",
    "    new_text = row.contents[idx:]\n",
    "    df_text.at[row.Index, 'cleaned_contents'] = new_text"
   ]
  },
  {
   "cell_type": "code",
   "execution_count": 34,
   "metadata": {
    "scrolled": false
   },
   "outputs": [],
   "source": [
    "# Remove URL\n",
    "df_text['cleaned_contents'] = df_text['cleaned_contents'].replace(r'http://www.paclii.org.*', '<URL>', regex=True)           "
   ]
  },
  {
   "cell_type": "code",
   "execution_count": 35,
   "metadata": {},
   "outputs": [
    {
     "name": "stdout",
     "output_type": "stream",
     "text": [
      "SENTENCE\n",
      "[Child Rape]\n",
      "\n",
      "[1] On the 11th October 2011 the accused entered a plea of guilty to one charge of rape contrary to Section 207(1) & (2) (b) of the Crimes Decree 2009, the particulars being that on the 14th March 2010 at Uciwai settlement, Korolevu he raped a child with his finger. He agreed to facts put to him, whereupon he was found guilty and convicted.\n",
      "\n",
      "[2] The facts admitted by the accused were that in March 2010 he was staying with the victims' family, he being related to the victims' father. On the 14th March 2010, the mother had left home to visit the father in hospital. She left the victim, who at the time was 9 years old and her elder brother in the care of the accused.\n",
      "\n",
      "[3] After dinner the two children went to sleep on a mattress. The boy asked the accused to sleep on the mattress with them as his mother has not yet returned. The accused blew out the candle and joined them on the mattress. The boy told the victim to lie in the middle between him and the accused. While lying down the accused pulled down the girls' panties and used his fingers to indecently invade her. The victim felt pain and tried to push his hand away, however the accused persisted. The next morning the young girl told her mother what had happened. The accused was chased from the house and the Police informed.\n",
      "\n",
      "[4] The maximum penalty for rape is life imprisonment and the Courts have recently been handing down very heavy sentences on offenders against children. Sexual offending against children in this country has become far too prevalent and it is the hope that harsh sentences will send out a clear message to would be perpetrators that our children are to be protected from such unrestrained immorality.\n",
      "\n",
      "[5] In Tamanitoakula HAC 28 of 2010 (Lbs), Thurairaja J passed a sentence of 16 years against an accused convicted of rape of a thirteen year old, as a deterrent punishment.\n",
      "\n",
      "[6] A very similar case to this was in Labasa where a 50 years old raped a nine year old and attracted a sentence of twelve years by Goundar J in Joji Mara HAC 38 of 2010(Lbs).\n",
      "\n",
      "[7] The Court of Appeal has set the starting point for rape of a child to be ten years imprisonment in Drotini AAU0001.2005S.\n",
      "\n",
      "[8] In mitigation, Counsel for the accused tells me that the accused is 57 years old, and while previously a saw miller, he now works as a security guard. He regrets what has happened and when he came to his senses he got up and left the room. He was previously a member of the Catholic Church but now belongs to the Harvest Evangelical Church whose Senior Pastor gave a sworn testimonial in his favour.\n",
      "\n",
      "[9] He produces a letter from the Parish Priest of the Lautoka Catholic Church attesting to his good character.\n",
      "\n",
      "[10] He is asthmatic and intensely remorseful. He would have sought forgiveness from the victim but was unable to because of the strict bail conditions imposed on him.\n",
      "\n",
      "[11] Two of the biggest mitigatory features in his favour are his \"eve of trial\" plea of guilty, and in doing so relieving the victim of having to relive her ordeal.\n",
      "\n",
      "[12] It is an aggravating feature of the case that the accused was in a position of trust, that trust given him by the mother to care for the children in her absence. That trust he abused.\n",
      "\n",
      "[13] I take as a starting point a term of fourteen years imprisonment and for the aggravation of breach of trust I increase that to a term of sixteen years. For the demonstrable remorse and religious mitigation I deduct 2 years. This also includes credit for his clear record. The plea of guilty was entered on the day of trial and will not receive the full credit it could; but I am nevertheless aware of the saving of the young girl giving evidence. He will receive credit for that of three years, meaning that the accused will serve a total term of imprisonment of 11 years.\n",
      "\n",
      "[14] He will serve a minimum term of nine years before being eligible for parole.\n",
      "\n",
      "Paul K. Madigan\n",
      "JUDGE\n",
      "At Lautoka\n",
      "12th October 2011.\n",
      "\n",
      "\n",
      "PacLII: Copyright Policy | Disclaimers | Privacy Policy | Feedback\n",
      "URL: <URL>\n",
      "\n",
      "\n",
      "\n",
      "\n",
      "\n"
     ]
    }
   ],
   "source": [
    "print(df_text['cleaned_contents'][0])"
   ]
  },
  {
   "cell_type": "code",
   "execution_count": 36,
   "metadata": {},
   "outputs": [
    {
     "name": "stdout",
     "output_type": "stream",
     "text": [
      "1 24 25 CARDINAL\n",
      "the 11th October 2011 30 51 DATE\n",
      "one 92 95 CARDINAL\n",
      "Section 207(1) & (2 123 142 LAW\n",
      "the Crimes Decree 2009 151 173 LAW\n",
      "the 14th March 2010 205 224 DATE\n",
      "Uciwai 228 234 ORG\n",
      "Korolevu 247 255 PERSON\n",
      "2 368 369 CARDINAL\n",
      "March 2010 418 428 DATE\n",
      "the 14th March 2010 514 533 DATE\n",
      "9 years old 634 645 DATE\n",
      "3 698 699 CARDINAL\n",
      "two 718 721 CARDINAL\n",
      "The next morning 1188 1204 TIME\n",
      "Police 1301 1307 ORG\n",
      "4 1320 1321 CARDINAL\n",
      "Courts 1381 1387 ORG\n",
      "5 1721 1722 CARDINAL\n",
      "Thurairaja J 1763 1775 PERSON\n",
      "16 years 1797 1805 DATE\n",
      "thirteen year old 1848 1865 DATE\n",
      "6 1896 1897 CARDINAL\n",
      "Labasa 1934 1940 GPE\n",
      "50 years old 1949 1961 DATE\n",
      "nine year old 1970 1983 DATE\n",
      "twelve years 2012 2024 DATE\n",
      "Goundar J 2028 2037 PERSON\n",
      "Joji Mara 2041 2050 PERSON\n",
      "38 2055 2057 CARDINAL\n",
      "2010(Lbs 2061 2069 CARDINAL\n",
      "7 2074 2075 CARDINAL\n",
      "The Court of Appeal 2077 2096 ORG\n",
      "ten years 2150 2159 DATE\n",
      "Drotini AAU0001.2005S. 2176 2198 FAC\n",
      "8 2201 2202 CARDINAL\n",
      "57 years old 2272 2284 DATE\n",
      "miller 2313 2319 PERSON\n",
      "the Catholic Church 2474 2493 ORG\n",
      "the Harvest Evangelical Church 2513 2543 ORG\n",
      "9 2606 2607 CARDINAL\n",
      "Parish 2639 2645 NORP\n",
      "10 2719 2721 CARDINAL\n",
      "11 2888 2890 CARDINAL\n",
      "Two 2892 2895 CARDINAL\n",
      "12 3055 3057 CARDINAL\n",
      "13 3245 3247 CARDINAL\n",
      "fourteen years 3286 3300 DATE\n",
      "sixteen years 3386 3399 DATE\n",
      "2 years 3464 3471 DATE\n",
      "the day 3555 3562 DATE\n",
      "three years 3731 3742 DATE\n",
      "11 years 3812 3820 DATE\n",
      "14 3824 3826 CARDINAL\n",
      "nine years 3860 3870 DATE\n",
      "Paul K. Madigan 3906 3921 PERSON\n",
      "Lautoka 3931 3938 ORG\n",
      "12th October 2011 3939 3956 DATE\n",
      "Copyright Policy | Disclaimers | Privacy Policy | Feedback 3968 4026 WORK_OF_ART\n",
      "SENTENCE\n",
      "[Child Rape]\n",
      "\n",
      "[1] On the 11th October 2011 the accused entered a plea of guilty to one charge of rape contrary to Section 207(1) & (2) (b) of the Crimes Decree 2009, the particulars being that on the 14th March 2010 at Uciwai settlement, Korolevu he raped a child with his finger. He agreed to facts put to him, whereupon he was found guilty and convicted.\n",
      "\n",
      "[2] The facts admitted by the accused were that in March 2010 he was staying with the victims' family, he being related to the victims' father. On the 14th March 2010, the mother had left home to visit the father in hospital. She left the victim, who at the time was 9 years old and her elder brother in the care of the accused.\n",
      "\n",
      "[3] After dinner the two children went to sleep on a mattress. The boy asked the accused to sleep on the mattress with them as his mother has not yet returned. The accused blew out the candle and joined them on the mattress. The boy told the victim to lie in the middle between him and the accused. While lying down the accused pulled down the girls' panties and used his fingers to indecently invade her. The victim felt pain and tried to push his hand away, however the accused persisted. The next morning the young girl told her mother what had happened. The accused was chased from the house and the Police informed.\n",
      "\n",
      "[4] The maximum penalty for rape is life imprisonment and the Courts have recently been handing down very heavy sentences on offenders against children. Sexual offending against children in this country has become far too prevalent and it is the hope that harsh sentences will send out a clear message to would be perpetrators that our children are to be protected from such unrestrained immorality.\n",
      "\n",
      "[5] In Tamanitoakula HAC 28 of 2010 (Lbs), Thurairaja J passed a sentence of 16 years against an accused convicted of rape of a thirteen year old, as a deterrent punishment.\n",
      "\n",
      "[6] A very similar case to this was in Labasa where a 50 years old raped a nine year old and attracted a sentence of twelve years by Goundar J in Joji Mara HAC 38 of 2010(Lbs).\n",
      "\n",
      "[7] The Court of Appeal has set the starting point for rape of a child to be ten years imprisonment in Drotini AAU0001.2005S.\n",
      "\n",
      "[8] In mitigation, Counsel for the accused tells me that the accused is 57 years old, and while previously a saw miller, he now works as a security guard. He regrets what has happened and when he came to his senses he got up and left the room. He was previously a member of the Catholic Church but now belongs to the Harvest Evangelical Church whose Senior Pastor gave a sworn testimonial in his favour.\n",
      "\n",
      "[9] He produces a letter from the Parish Priest of the Lautoka Catholic Church attesting to his good character.\n",
      "\n",
      "[10] He is asthmatic and intensely remorseful. He would have sought forgiveness from the victim but was unable to because of the strict bail conditions imposed on him.\n",
      "\n",
      "[11] Two of the biggest mitigatory features in his favour are his \"eve of trial\" plea of guilty, and in doing so relieving the victim of having to relive her ordeal.\n",
      "\n",
      "[12] It is an aggravating feature of the case that the accused was in a position of trust, that trust given him by the mother to care for the children in her absence. That trust he abused.\n",
      "\n",
      "[13] I take as a starting point a term of fourteen years imprisonment and for the aggravation of breach of trust I increase that to a term of sixteen years. For the demonstrable remorse and religious mitigation I deduct 2 years. This also includes credit for his clear record. The plea of guilty was entered on the day of trial and will not receive the full credit it could; but I am nevertheless aware of the saving of the young girl giving evidence. He will receive credit for that of three years, meaning that the accused will serve a total term of imprisonment of 11 years.\n",
      "\n",
      "[14] He will serve a minimum term of nine years before being eligible for parole.\n",
      "\n",
      "Paul K. Madigan\n",
      "JUDGE\n",
      "At Lautoka\n",
      "12th October 2011.\n",
      "\n",
      "\n",
      "PacLII: Copyright Policy | Disclaimers | Privacy Policy | Feedback\n",
      "URL: <URL>\n",
      "\n",
      "\n",
      "\n",
      "\n",
      "\n"
     ]
    }
   ],
   "source": [
    "# replace all dates?\n",
    "# replace all names?\n",
    "import spacy \n",
    "  \n",
    "nlp = spacy.load('en_core_web_sm') \n",
    "  \n",
    "sentence = df_text['cleaned_contents'][0]\n",
    "doc = nlp(sentence) \n",
    "  \n",
    "for ent in doc.ents: \n",
    "    print(ent.text, ent.start_char, ent.end_char, ent.label_) \n",
    "print(df_text['cleaned_contents'][0])\n"
   ]
  },
  {
   "cell_type": "code",
   "execution_count": 57,
   "metadata": {},
   "outputs": [],
   "source": [
    "# lower case\n",
    "df_text['cleaned_contents'] = df_text['cleaned_contents'].str.lower()"
   ]
  },
  {
   "cell_type": "code",
   "execution_count": 58,
   "metadata": {},
   "outputs": [],
   "source": [
    "# Train test split\n",
    "df_labels = pd.read_csv(\"data/trackGBV_labels.csv\")\n",
    "df = pd.merge(left=df_text, right=df_labels, left_on='docid', right_on='DocID')\n",
    "df_split = df[['docid', 'cleaned_contents', 'Discrimination_Label']].copy()\n",
    "train, test = train_test_split(df_split, test_size=0.2, random_state=42, shuffle=True)"
   ]
  },
  {
   "cell_type": "code",
   "execution_count": 60,
   "metadata": {},
   "outputs": [],
   "source": [
    "train.to_csv(r'data/train.csv', index = False)\n",
    "test.to_csv(r'data/test.csv', index = False)"
   ]
  },
  {
   "cell_type": "code",
   "execution_count": 91,
   "metadata": {},
   "outputs": [
    {
     "name": "stdout",
     "output_type": "stream",
     "text": [
      "1 24 25 CARDINAL\n",
      "11th 34 38 ORDINAL\n",
      "one 92 95 CARDINAL\n",
      "2009 169 173 DATE\n",
      "the 14th march 2010 205 224 DATE\n",
      "2 368 369 CARDINAL\n",
      "march 2010 418 428 DATE\n",
      "the 14th march 2010 514 533 DATE\n",
      "9 years old 634 645 DATE\n",
      "3 698 699 CARDINAL\n",
      "two 718 721 CARDINAL\n",
      "the next morning 1188 1204 TIME\n",
      "4 1320 1321 CARDINAL\n",
      "5 1721 1722 CARDINAL\n",
      "28 1745 1747 CARDINAL\n",
      "2010 1751 1755 DATE\n",
      "16 years 1797 1805 DATE\n",
      "thirteen year old 1848 1865 DATE\n",
      "6 1896 1897 CARDINAL\n",
      "labasa 1934 1940 GPE\n",
      "50 years old 1949 1961 DATE\n",
      "nine year old 1970 1983 DATE\n",
      "twelve years 2012 2024 DATE\n",
      "goundar j 2028 2037 PERSON\n",
      "joji 2041 2045 GPE\n",
      "mara 2046 2050 GPE\n",
      "38 2055 2057 CARDINAL\n",
      "7 2074 2075 CARDINAL\n",
      "ten years 2150 2159 DATE\n",
      "8 2201 2202 CARDINAL\n",
      "57 years old 2272 2284 DATE\n",
      "miller 2313 2319 PERSON\n",
      "the catholic church 2474 2493 ORG\n",
      "9 2606 2607 CARDINAL\n",
      "10 2719 2721 CARDINAL\n",
      "11 2888 2890 CARDINAL\n",
      "two 2892 2895 CARDINAL\n",
      "12 3055 3057 CARDINAL\n",
      "13 3245 3247 CARDINAL\n",
      "fourteen years 3286 3300 DATE\n",
      "sixteen years 3386 3399 DATE\n",
      "2 years 3464 3471 DATE\n",
      "the day 3555 3562 DATE\n",
      "three years 3731 3742 DATE\n",
      "11 years 3812 3820 DATE\n",
      "14 3824 3826 CARDINAL\n",
      "nine years 3860 3870 DATE\n",
      "paul k. madigan 3906 3921 PERSON\n",
      "12th october 2011 3939 3956 DATE\n",
      "sentence\n",
      "[child rape]\n",
      "\n",
      "[1] on the 11th october 2011 the accused entered a plea of guilty to one charge of rape contrary to section 207(1) & (2) (b) of the crimes decree 2009, the particulars being that on the 14th march 2010 at uciwai settlement, korolevu he raped a child with his finger. he agreed to facts put to him, whereupon he was found guilty and convicted.\n",
      "\n",
      "[2] the facts admitted by the accused were that in march 2010 he was staying with the victims' family, he being related to the victims' father. on the 14th march 2010, the mother had left home to visit the father in hospital. she left the victim, who at the time was 9 years old and her elder brother in the care of the accused.\n",
      "\n",
      "[3] after dinner the two children went to sleep on a mattress. the boy asked the accused to sleep on the mattress with them as his mother has not yet returned. the accused blew out the candle and joined them on the mattress. the boy told the victim to lie in the middle between him and the accused. while lying down the accused pulled down the girls' panties and used his fingers to indecently invade her. the victim felt pain and tried to push his hand away, however the accused persisted. the next morning the young girl told her mother what had happened. the accused was chased from the house and the police informed.\n",
      "\n",
      "[4] the maximum penalty for rape is life imprisonment and the courts have recently been handing down very heavy sentences on offenders against children. sexual offending against children in this country has become far too prevalent and it is the hope that harsh sentences will send out a clear message to would be perpetrators that our children are to be protected from such unrestrained immorality.\n",
      "\n",
      "[5] in tamanitoakula hac 28 of 2010 (lbs), thurairaja j passed a sentence of 16 years against an accused convicted of rape of a thirteen year old, as a deterrent punishment.\n",
      "\n",
      "[6] a very similar case to this was in labasa where a 50 years old raped a nine year old and attracted a sentence of twelve years by goundar j in joji mara hac 38 of 2010(lbs).\n",
      "\n",
      "[7] the court of appeal has set the starting point for rape of a child to be ten years imprisonment in drotini aau0001.2005s.\n",
      "\n",
      "[8] in mitigation, counsel for the accused tells me that the accused is 57 years old, and while previously a saw miller, he now works as a security guard. he regrets what has happened and when he came to his senses he got up and left the room. he was previously a member of the catholic church but now belongs to the harvest evangelical church whose senior pastor gave a sworn testimonial in his favour.\n",
      "\n",
      "[9] he produces a letter from the parish priest of the lautoka catholic church attesting to his good character.\n",
      "\n",
      "[10] he is asthmatic and intensely remorseful. he would have sought forgiveness from the victim but was unable to because of the strict bail conditions imposed on him.\n",
      "\n",
      "[11] two of the biggest mitigatory features in his favour are his \"eve of trial\" plea of guilty, and in doing so relieving the victim of having to relive her ordeal.\n",
      "\n",
      "[12] it is an aggravating feature of the case that the accused was in a position of trust, that trust given him by the mother to care for the children in her absence. that trust he abused.\n",
      "\n",
      "[13] i take as a starting point a term of fourteen years imprisonment and for the aggravation of breach of trust i increase that to a term of sixteen years. for the demonstrable remorse and religious mitigation i deduct 2 years. this also includes credit for his clear record. the plea of guilty was entered on the day of trial and will not receive the full credit it could; but i am nevertheless aware of the saving of the young girl giving evidence. he will receive credit for that of three years, meaning that the accused will serve a total term of imprisonment of 11 years.\n",
      "\n",
      "[14] he will serve a minimum term of nine years before being eligible for parole.\n",
      "\n",
      "paul k. madigan\n",
      "judge\n",
      "at lautoka\n",
      "12th october 2011.\n",
      "\n",
      "\n",
      "paclii: copyright policy | disclaimers | privacy policy | feedback\n",
      "url: <url>\n",
      "\n",
      "\n",
      "\n",
      "\n",
      "\n"
     ]
    }
   ],
   "source": [
    "import spacy \n",
    "  \n",
    "nlp = spacy.load('en_core_web_sm') \n",
    "  \n",
    "sentence = df_text['cleaned_contents'][0]\n",
    "doc = nlp(sentence) \n",
    "  \n",
    "for ent in doc.ents: \n",
    "    print(ent.text, ent.start_char, ent.end_char, ent.label_) \n",
    "print(df_text['cleaned_contents'][0])"
   ]
  },
  {
   "cell_type": "code",
   "execution_count": null,
   "metadata": {},
   "outputs": [],
   "source": []
  }
 ],
 "metadata": {
  "kernelspec": {
   "display_name": "w266",
   "language": "python",
   "name": "w266"
  },
  "language_info": {
   "codemirror_mode": {
    "name": "ipython",
    "version": 3
   },
   "file_extension": ".py",
   "mimetype": "text/x-python",
   "name": "python",
   "nbconvert_exporter": "python",
   "pygments_lexer": "ipython3",
   "version": "3.7.6"
  }
 },
 "nbformat": 4,
 "nbformat_minor": 4
}
