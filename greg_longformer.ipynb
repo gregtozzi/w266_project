{
 "cells": [
  {
   "cell_type": "code",
   "execution_count": 7,
   "metadata": {},
   "outputs": [],
   "source": [
    "import ktrain\n",
    "from ktrain import text\n",
    "import pandas as pd\n",
    "%reload_ext autoreload\n",
    "%autoreload 2\n",
    "%matplotlib inline\n",
    "import os\n",
    "os.environ[\"CUDA_DEVICE_ORDER\"]=\"PCI_BUS_ID\";\n",
    "os.environ[\"CUDA_VISIBLE_DEVICES\"]=\"0\"; "
   ]
  },
  {
   "cell_type": "code",
   "execution_count": 8,
   "metadata": {},
   "outputs": [],
   "source": [
    "train = pd.read_csv('./data/train.csv')"
   ]
  },
  {
   "cell_type": "code",
   "execution_count": 9,
   "metadata": {},
   "outputs": [],
   "source": [
    "test = pd.read_csv('./data/test.csv')"
   ]
  },
  {
   "cell_type": "code",
   "execution_count": 15,
   "metadata": {},
   "outputs": [],
   "source": [
    "x_train = list(train.cleaned_contents)\n",
    "y_train = train.Discrimination_Label\n",
    "x_test = list(test.cleaned_contents)\n",
    "y_test = test.Discrimination_Label"
   ]
  },
  {
   "cell_type": "code",
   "execution_count": 16,
   "metadata": {},
   "outputs": [],
   "source": [
    "MODEL = 'allenai/longformer-base-4096'"
   ]
  },
  {
   "cell_type": "code",
   "execution_count": 17,
   "metadata": {},
   "outputs": [
    {
     "name": "stderr",
     "output_type": "stream",
     "text": [
      "/usr/local/lib/python3.6/dist-packages/ktrain/text/preprocessor.py:399: UserWarning: The class_names argument is replacing the classes argument. Please update your code.\n",
      "  warnings.warn('The class_names argument is replacing the classes argument. Please update your code.')\n"
     ]
    }
   ],
   "source": [
    "t = text.Transformer(model_name=MODEL, maxlen=512, classes=y_train.unique())"
   ]
  },
  {
   "cell_type": "code",
   "execution_count": 18,
   "metadata": {},
   "outputs": [
    {
     "name": "stdout",
     "output_type": "stream",
     "text": [
      "preprocessing train...\n",
      "language: en\n",
      "train sequence lengths:\n",
      "\tmean : 1517\n",
      "\t95percentile : 3952\n",
      "\t99percentile : 7492\n"
     ]
    },
    {
     "data": {
      "application/vnd.jupyter.widget-view+json": {
       "model_id": "ea4d3f674e09405ca01e4d54f77cfedb",
       "version_major": 2,
       "version_minor": 0
      },
      "text/plain": [
       "HBox(children=(FloatProgress(value=0.0, description='Downloading', max=898823.0, style=ProgressStyle(descripti…"
      ]
     },
     "metadata": {},
     "output_type": "display_data"
    },
    {
     "name": "stdout",
     "output_type": "stream",
     "text": [
      "\n"
     ]
    },
    {
     "data": {
      "application/vnd.jupyter.widget-view+json": {
       "model_id": "a55d31cb38774b67ba46d2e019dbb095",
       "version_major": 2,
       "version_minor": 0
      },
      "text/plain": [
       "HBox(children=(FloatProgress(value=0.0, description='Downloading', max=456318.0, style=ProgressStyle(descripti…"
      ]
     },
     "metadata": {},
     "output_type": "display_data"
    },
    {
     "name": "stdout",
     "output_type": "stream",
     "text": [
      "\n"
     ]
    },
    {
     "data": {
      "text/html": [],
      "text/plain": [
       "<IPython.core.display.HTML object>"
      ]
     },
     "metadata": {},
     "output_type": "display_data"
    },
    {
     "name": "stdout",
     "output_type": "stream",
     "text": [
      "Is Multi-Label? False\n",
      "preprocessing test...\n",
      "language: en\n",
      "test sequence lengths:\n",
      "\tmean : 1421\n",
      "\t95percentile : 3336\n",
      "\t99percentile : 7242\n"
     ]
    },
    {
     "data": {
      "text/html": [],
      "text/plain": [
       "<IPython.core.display.HTML object>"
      ]
     },
     "metadata": {},
     "output_type": "display_data"
    }
   ],
   "source": [
    "trn = t.preprocess_train(x_train, y_train)\n",
    "val = t.preprocess_test(x_test, y_test)"
   ]
  },
  {
   "cell_type": "code",
   "execution_count": 19,
   "metadata": {},
   "outputs": [
    {
     "data": {
      "application/vnd.jupyter.widget-view+json": {
       "model_id": "b588b5d9861547bd998f5f50e46a0439",
       "version_major": 2,
       "version_minor": 0
      },
      "text/plain": [
       "HBox(children=(FloatProgress(value=0.0, description='Downloading', max=597257159.0, style=ProgressStyle(descri…"
      ]
     },
     "metadata": {},
     "output_type": "display_data"
    },
    {
     "name": "stdout",
     "output_type": "stream",
     "text": [
      "\n"
     ]
    }
   ],
   "source": [
    "model = t.get_classifier()\n",
    "learner = ktrain.get_learner(model, train_data=trn, val_data=val, batch_size=6)"
   ]
  },
  {
   "cell_type": "code",
   "execution_count": 22,
   "metadata": {},
   "outputs": [
    {
     "name": "stdout",
     "output_type": "stream",
     "text": [
      "early_stopping automatically enabled at patience=5\n",
      "reduce_on_plateau automatically enabled at patience=2\n",
      "\n",
      "\n",
      "begin training using triangular learning rate policy with max lr of 4e-05...\n",
      "Train for 108 steps, validate for 6 steps\n",
      "Epoch 1/1024\n",
      "108/108 [==============================] - 56s 520ms/step - loss: 0.6957 - accuracy: 0.5410 - val_loss: 0.6569 - val_accuracy: 0.5988\n",
      "Epoch 2/1024\n",
      "108/108 [==============================] - 53s 491ms/step - loss: 0.6919 - accuracy: 0.5564 - val_loss: 0.6548 - val_accuracy: 0.5988\n",
      "Epoch 3/1024\n",
      "108/108 [==============================] - 53s 488ms/step - loss: 0.6972 - accuracy: 0.5549 - val_loss: 0.6452 - val_accuracy: 0.5988\n",
      "Epoch 4/1024\n",
      "108/108 [==============================] - 52s 482ms/step - loss: 0.6926 - accuracy: 0.5626 - val_loss: 0.6511 - val_accuracy: 0.5988\n",
      "Epoch 5/1024\n",
      "107/108 [============================>.] - ETA: 0s - loss: 0.6918 - accuracy: 0.5545\n",
      "Epoch 00005: Reducing Max LR on Plateau: new max lr will be 2e-05 (if not early_stopping).\n",
      "108/108 [==============================] - 52s 482ms/step - loss: 0.6923 - accuracy: 0.5533 - val_loss: 0.6571 - val_accuracy: 0.5988\n",
      "Epoch 6/1024\n",
      "108/108 [==============================] - 52s 482ms/step - loss: 0.6885 - accuracy: 0.5564 - val_loss: 0.6509 - val_accuracy: 0.5988\n",
      "Epoch 7/1024\n",
      "107/108 [============================>.] - ETA: 0s - loss: 0.6835 - accuracy: 0.5717\n",
      "Epoch 00007: Reducing Max LR on Plateau: new max lr will be 1e-05 (if not early_stopping).\n",
      "108/108 [==============================] - 52s 483ms/step - loss: 0.6838 - accuracy: 0.5719 - val_loss: 0.6483 - val_accuracy: 0.5988\n",
      "Epoch 8/1024\n",
      "107/108 [============================>.] - ETA: 0s - loss: 0.6879 - accuracy: 0.5639Restoring model weights from the end of the best epoch.\n",
      "108/108 [==============================] - 53s 486ms/step - loss: 0.6871 - accuracy: 0.5657 - val_loss: 0.6522 - val_accuracy: 0.5988\n",
      "Epoch 00008: early stopping\n",
      "Weights from best epoch have been loaded into model.\n"
     ]
    },
    {
     "data": {
      "text/plain": [
       "<tensorflow.python.keras.callbacks.History at 0x7faac58f72e8>"
      ]
     },
     "execution_count": 22,
     "metadata": {},
     "output_type": "execute_result"
    }
   ],
   "source": [
    "learner.autofit(4e-5)"
   ]
  },
  {
   "cell_type": "code",
   "execution_count": null,
   "metadata": {},
   "outputs": [],
   "source": []
  }
 ],
 "metadata": {
  "kernelspec": {
   "display_name": "Python 3",
   "language": "python",
   "name": "python3"
  },
  "language_info": {
   "codemirror_mode": {
    "name": "ipython",
    "version": 3
   },
   "file_extension": ".py",
   "mimetype": "text/x-python",
   "name": "python",
   "nbconvert_exporter": "python",
   "pygments_lexer": "ipython3",
   "version": "3.6.9"
  }
 },
 "nbformat": 4,
 "nbformat_minor": 4
}
