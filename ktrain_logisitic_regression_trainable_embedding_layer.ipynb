{
 "cells": [
  {
   "cell_type": "markdown",
   "metadata": {},
   "source": [
    "# Logistic Regression with a Trainable Embedding Layer"
   ]
  },
  {
   "cell_type": "code",
   "execution_count": 1,
   "metadata": {},
   "outputs": [],
   "source": [
    "%matplotlib inline\n",
    "\n",
    "import os\n",
    "\n",
    "os.environ[\"CUDA_DEVICE_ORDER\"]=\"PCI_BUS_ID\";\n",
    "os.environ[\"CUDA_VISIBLE_DEVICES\"]=\"0\"; "
   ]
  },
  {
   "cell_type": "code",
   "execution_count": 2,
   "metadata": {},
   "outputs": [],
   "source": [
    "import ktrain\n",
    "from ktrain import text"
   ]
  },
  {
   "cell_type": "markdown",
   "metadata": {},
   "source": [
    "## Build test and training sets & define preprocessing"
   ]
  },
  {
   "cell_type": "code",
   "execution_count": 3,
   "metadata": {},
   "outputs": [],
   "source": [
    "NUM_WORDS = 50000\n",
    "MAXLEN = 1000\n",
    "NGRAM_RANGE = 1"
   ]
  },
  {
   "cell_type": "code",
   "execution_count": 4,
   "metadata": {},
   "outputs": [
    {
     "name": "stdout",
     "output_type": "stream",
     "text": [
      "detected encoding: utf-8 (if wrong, set manually)\n",
      "language: en\n",
      "Word Counts: 17751\n",
      "Nrows: 647\n",
      "647 train sequences\n",
      "train sequence lengths:\n",
      "\tmean : 1526\n",
      "\t95percentile : 4005\n",
      "\t99percentile : 7619\n",
      "x_train shape: (647,1000)\n",
      "y_train shape: (647, 2)\n",
      "Is Multi-Label? False\n",
      "162 test sequences\n",
      "test sequence lengths:\n",
      "\tmean : 1414\n",
      "\t95percentile : 3320\n",
      "\t99percentile : 7203\n",
      "x_test shape: (162,1000)\n",
      "y_test shape: (162, 2)\n"
     ]
    }
   ],
   "source": [
    "train, test, preproc = text.texts_from_csv('./data/train.csv',\n",
    "                                          'cleaned_contents',\n",
    "                                          label_columns=['Discrimination_Label'],\n",
    "                                          val_filepath='./data/test.csv',\n",
    "                                          max_features=NUM_WORDS,\n",
    "                                          maxlen=MAXLEN,\n",
    "                                          ngram_range=NGRAM_RANGE)"
   ]
  },
  {
   "cell_type": "markdown",
   "metadata": {},
   "source": [
    "## Define and train the model\n",
    "\n",
    "We'll need to dig into the ktrain code to determine what exactly they're doing."
   ]
  },
  {
   "cell_type": "code",
   "execution_count": 5,
   "metadata": {},
   "outputs": [
    {
     "name": "stdout",
     "output_type": "stream",
     "text": [
      "Is Multi-Label? False\n",
      "compiling word ID features...\n",
      "maxlen is 1000\n",
      "done.\n"
     ]
    }
   ],
   "source": [
    "model = text.text_classifier('logreg', train, preproc=preproc)\n",
    "learner = ktrain.get_learner(model, train_data=train, val_data=test)"
   ]
  },
  {
   "cell_type": "markdown",
   "metadata": {},
   "source": [
    "### Find a good initial learning rate\n",
    "\n",
    "This is a method that was developed at the Naval Research Laboratory.  It's been promoted by Jeremy Howard."
   ]
  },
  {
   "cell_type": "code",
   "execution_count": 6,
   "metadata": {},
   "outputs": [
    {
     "name": "stdout",
     "output_type": "stream",
     "text": [
      "simulating training for different learning rates... this may take a few moments...\n"
     ]
    },
    {
     "name": "stderr",
     "output_type": "stream",
     "text": [
      "/Users/gregorytozzi/opt/anaconda3/lib/python3.7/site-packages/ktrain/core.py:464: UserWarning: max_epochs is being set to 5 since steps per epoch is small. If you wish to estimate LR using more epochs, set max_epochs manually.\n",
      "  warnings.warn('max_epochs is being set to 5 since steps per epoch is small. ' +\\\n"
     ]
    },
    {
     "name": "stdout",
     "output_type": "stream",
     "text": [
      "Train on 647 samples\n",
      "Epoch 1/5\n",
      "647/647 [==============================] - 0s 700us/sample - loss: 0.8997 - accuracy: 0.4266\n",
      "Epoch 2/5\n",
      "647/647 [==============================] - 0s 119us/sample - loss: 0.8385 - accuracy: 0.4250\n",
      "Epoch 3/5\n",
      "647/647 [==============================] - 0s 107us/sample - loss: 0.6527 - accuracy: 0.6306\n",
      "Epoch 4/5\n",
      "647/647 [==============================] - 0s 110us/sample - loss: 1.2530 - accuracy: 0.7419\n",
      "Epoch 5/5\n",
      " 32/647 [>.............................] - ETA: 0s - loss: 3.8352 - accuracy: 0.7500\n",
      "\n",
      "done.\n",
      "Please invoke the Learner.lr_plot() method to visually inspect the loss plot to help identify the maximal learning rate associated with falling loss.\n"
     ]
    }
   ],
   "source": [
    "learner.lr_find()"
   ]
  },
  {
   "cell_type": "code",
   "execution_count": 7,
   "metadata": {},
   "outputs": [
    {
     "data": {
      "image/png": "[encoded data removed]",
      "text/plain": [
       "<Figure size 432x288 with 1 Axes>"
      ]
     },
     "metadata": {
      "needs_background": "light"
     },
     "output_type": "display_data"
    }
   ],
   "source": [
    "learner.lr_plot()"
   ]
  },
  {
   "cell_type": "markdown",
   "metadata": {},
   "source": [
    "### Train"
   ]
  },
  {
   "cell_type": "code",
   "execution_count": 8,
   "metadata": {},
   "outputs": [
    {
     "name": "stdout",
     "output_type": "stream",
     "text": [
      "early_stopping automatically enabled at patience=5\n",
      "reduce_on_plateau automatically enabled at patience=2\n",
      "\n",
      "\n",
      "begin training using triangular learning rate policy with max lr of 0.1...\n",
      "Train on 647 samples, validate on 162 samples\n",
      "Epoch 1/1024\n",
      "647/647 [==============================] - 0s 259us/sample - loss: 2.1715 - accuracy: 0.6414 - val_loss: 3.1932 - val_accuracy: 0.6914\n",
      "Epoch 2/1024\n",
      "647/647 [==============================] - 0s 145us/sample - loss: 1.4668 - accuracy: 0.8439 - val_loss: 4.4536 - val_accuracy: 0.6358\n",
      "Epoch 3/1024\n",
      "480/647 [=====================>........] - ETA: 0s - loss: 0.7317 - accuracy: 0.9042\n",
      "Epoch 00003: Reducing Max LR on Plateau: new max lr will be 0.05 (if not early_stopping).\n",
      "647/647 [==============================] - 0s 144us/sample - loss: 0.8044 - accuracy: 0.9073 - val_loss: 4.2261 - val_accuracy: 0.6605\n",
      "Epoch 4/1024\n",
      "647/647 [==============================] - 0s 146us/sample - loss: 0.3206 - accuracy: 0.9567 - val_loss: 3.0176 - val_accuracy: 0.7284\n",
      "Epoch 5/1024\n",
      "647/647 [==============================] - 0s 148us/sample - loss: 0.0966 - accuracy: 0.9876 - val_loss: 2.9230 - val_accuracy: 0.7160\n",
      "Epoch 6/1024\n",
      "647/647 [==============================] - 0s 148us/sample - loss: 0.0140 - accuracy: 0.9969 - val_loss: 3.5929 - val_accuracy: 0.7037\n",
      "Epoch 7/1024\n",
      "448/647 [===================>..........] - ETA: 0s - loss: 0.0076 - accuracy: 0.9978    \n",
      "Epoch 00007: Reducing Max LR on Plateau: new max lr will be 0.025 (if not early_stopping).\n",
      "647/647 [==============================] - 0s 153us/sample - loss: 0.0447 - accuracy: 0.9954 - val_loss: 3.3353 - val_accuracy: 0.7099\n",
      "Epoch 8/1024\n",
      "647/647 [==============================] - 0s 176us/sample - loss: 0.0353 - accuracy: 0.9907 - val_loss: 3.1527 - val_accuracy: 0.6790\n",
      "Epoch 9/1024\n",
      "416/647 [==================>...........] - ETA: 0s - loss: 2.3585e-04 - accuracy: 1.0000\n",
      "Epoch 00009: Reducing Max LR on Plateau: new max lr will be 0.0125 (if not early_stopping).\n",
      "647/647 [==============================] - 0s 163us/sample - loss: 0.0091 - accuracy: 0.9985 - val_loss: 3.3515 - val_accuracy: 0.6728\n",
      "Epoch 10/1024\n",
      "384/647 [================>.............] - ETA: 0s - loss: 9.8119e-04 - accuracy: 1.0000Restoring model weights from the end of the best epoch.\n",
      "647/647 [==============================] - 0s 160us/sample - loss: 0.0172 - accuracy: 0.9985 - val_loss: 3.2451 - val_accuracy: 0.6728\n",
      "Epoch 00010: early stopping\n",
      "Weights from best epoch have been loaded into model.\n"
     ]
    },
    {
     "data": {
      "text/plain": [
       "<tensorflow.python.keras.callbacks.History at 0x7fa38d5deb90>"
      ]
     },
     "execution_count": 8,
     "metadata": {},
     "output_type": "execute_result"
    }
   ],
   "source": [
    "learner.autofit(0.1)"
   ]
  },
  {
   "cell_type": "markdown",
   "metadata": {},
   "source": [
    "## Examine results"
   ]
  },
  {
   "cell_type": "code",
   "execution_count": 9,
   "metadata": {},
   "outputs": [
    {
     "name": "stdout",
     "output_type": "stream",
     "text": [
      "              precision    recall  f1-score   support\n",
      "\n",
      "           0       0.65      0.63      0.64        65\n",
      "           1       0.76      0.77      0.77        97\n",
      "\n",
      "    accuracy                           0.72       162\n",
      "   macro avg       0.70      0.70      0.70       162\n",
      "weighted avg       0.71      0.72      0.72       162\n",
      "\n"
     ]
    },
    {
     "data": {
      "text/plain": [
       "array([[41, 24],\n",
       "       [22, 75]])"
      ]
     },
     "execution_count": 9,
     "metadata": {},
     "output_type": "execute_result"
    }
   ],
   "source": [
    "learner.validate(class_names=preproc.get_classes())"
   ]
  },
  {
   "cell_type": "code",
   "execution_count": 10,
   "metadata": {},
   "outputs": [],
   "source": [
    "import pandas as pd\n",
    "X_test = pd.read_csv('./data/test.csv')['cleaned_contents']"
   ]
  },
  {
   "cell_type": "code",
   "execution_count": 11,
   "metadata": {},
   "outputs": [],
   "source": [
    "predictor = ktrain.get_predictor(learner.model, preproc=preproc)"
   ]
  },
  {
   "cell_type": "code",
   "execution_count": null,
   "metadata": {},
   "outputs": [],
   "source": [
    "predictor.explain(X_test[0])"
   ]
  }
 ],
 "metadata": {
  "kernelspec": {
   "display_name": "Python 3",
   "language": "python",
   "name": "python3"
  },
  "language_info": {
   "codemirror_mode": {
    "name": "ipython",
    "version": 3
   },
   "file_extension": ".py",
   "mimetype": "text/x-python",
   "name": "python",
   "nbconvert_exporter": "python",
   "pygments_lexer": "ipython3",
   "version": "3.7.7"
  }
 },
 "nbformat": 4,
 "nbformat_minor": 4
}
