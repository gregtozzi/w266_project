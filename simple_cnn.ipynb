{
 "cells": [
  {
   "cell_type": "code",
   "execution_count": null,
   "metadata": {},
   "outputs": [],
   "source": [
    "import pandas as pd\n",
    "import numpy as np\n",
    "import pickle\n",
    "import tensorflow as tf\n",
    "import ktrain"
   ]
  },
  {
   "cell_type": "code",
   "execution_count": null,
   "metadata": {},
   "outputs": [],
   "source": [
    "def pad_or_cut(x, max_len):\n",
    "    # Cut to the maximum length; computationally cheaper than testing\n",
    "    x = x[0:max_len,:]\n",
    "    \n",
    "    # Pad with zeros\n",
    "    len_diff = max_len - len(x)\n",
    "    if len_diff > 0:\n",
    "        x = np.concatenate((x, np.zeros((len_diff, x.shape[1]))))\n",
    "        \n",
    "    return x"
   ]
  },
  {
   "cell_type": "code",
   "execution_count": null,
   "metadata": {},
   "outputs": [],
   "source": [
    "def build_embedding_list(data_path, max_len='max'):\n",
    "    # Load the data\n",
    "    fname = data_path\n",
    "    with open(fname, 'rb') as fp:\n",
    "        df = pickle.load(fp)\n",
    "    \n",
    "    # Break into train and test\n",
    "    train_mask = df.doc_use == 'train'\n",
    "    train = df[train_mask]\n",
    "    test = df[~train_mask]\n",
    "    \n",
    "    # Stack documents\n",
    "    train_embeddings = [np.stack(train.embeddings[train.docid == ID]) for ID in train.docid.unique()]\n",
    "    test_embeddings = [np.stack(test.embeddings[test.docid == ID]) for ID in test.docid.unique()]\n",
    "    \n",
    "    # Pad documents\n",
    "    if max_len == 'max':\n",
    "        max_len = max([len(doc) for doc in train_embeddings])\n",
    "    \n",
    "    x_train = [pad_or_cut(doc, max_len) for doc in train_embeddings]\n",
    "    x_train = np.stack(x_train)\n",
    "    \n",
    "    x_test = [pad_or_cut(doc, max_len) for doc in test_embeddings]\n",
    "    x_test = np.stack(x_test)\n",
    "    \n",
    "    return x_train, x_test"
   ]
  },
  {
   "cell_type": "code",
   "execution_count": null,
   "metadata": {},
   "outputs": [],
   "source": [
    "x_train, x_test = build_embedding_list('./w266_project/data/distilBert_embeddings_stack512.pkl')"
   ]
  },
  {
   "cell_type": "code",
   "execution_count": null,
   "metadata": {},
   "outputs": [],
   "source": [
    "x_train.shape"
   ]
  },
  {
   "cell_type": "code",
   "execution_count": null,
   "metadata": {},
   "outputs": [],
   "source": [
    "x_test.shape"
   ]
  },
  {
   "cell_type": "code",
   "execution_count": null,
   "metadata": {},
   "outputs": [],
   "source": [
    "model = tf.keras.Sequential([\n",
    "    tf.keras.layers.Input(shape=(32, 768)),\n",
    "    tf.keras.layers.Conv1D(filters=5, kernel_size=3, padding='same'),\n",
    "    tf.keras.layers.MaxPool1D(pool_size=2),\n",
    "    tf.keras.layers.Flatten(),\n",
    "    tf.keras.layers.Dense(1, activation='sigmoid')\n",
    "])"
   ]
  },
  {
   "cell_type": "code",
   "execution_count": null,
   "metadata": {},
   "outputs": [],
   "source": [
    "model.summary()"
   ]
  },
  {
   "cell_type": "code",
   "execution_count": null,
   "metadata": {},
   "outputs": [],
   "source": [
    "y_train = np.ones(641)\n",
    "y_test = np.ones(162)"
   ]
  },
  {
   "cell_type": "code",
   "execution_count": null,
   "metadata": {},
   "outputs": [],
   "source": [
    "model.compile(optimizer='adam', loss='binary_crossentropy')"
   ]
  },
  {
   "cell_type": "code",
   "execution_count": null,
   "metadata": {},
   "outputs": [],
   "source": [
    "model.fit(x=x_train, y=y_train)"
   ]
  },
  {
   "cell_type": "code",
   "execution_count": null,
   "metadata": {},
   "outputs": [],
   "source": []
  }
 ],
 "metadata": {
  "kernelspec": {
   "display_name": "Python 3",
   "language": "python",
   "name": "python3"
  },
  "language_info": {
   "codemirror_mode": {
    "name": "ipython",
    "version": 3
   },
   "file_extension": ".py",
   "mimetype": "text/x-python",
   "name": "python",
   "nbconvert_exporter": "python",
   "pygments_lexer": "ipython3",
   "version": "3.6.9"
  }
 },
 "nbformat": 4,
 "nbformat_minor": 4
}
