{
 "cells": [
  {
   "cell_type": "code",
   "execution_count": 32,
   "metadata": {},
   "outputs": [],
   "source": [
    "import pandas as pd\n",
    "import numpy as np\n",
    "import pickle\n",
    "import tensorflow as tf\n",
    "#import ktrain"
   ]
  },
  {
   "cell_type": "code",
   "execution_count": 33,
   "metadata": {},
   "outputs": [],
   "source": [
    "def pad_or_cut(x, max_len):\n",
    "    # Cut to the maximum length; computationally cheaper than testing\n",
    "    x = x[0:max_len,:]\n",
    "    \n",
    "    # Pad with zeros\n",
    "    len_diff = max_len - len(x)\n",
    "    if len_diff > 0:\n",
    "        x = np.concatenate((x, np.zeros((len_diff, x.shape[1]))))\n",
    "        \n",
    "    return x"
   ]
  },
  {
   "cell_type": "code",
   "execution_count": 38,
   "metadata": {},
   "outputs": [],
   "source": [
    "def build_embedding_list(data_path, max_len='max'):\n",
    "    # Load the data\n",
    "    fname = data_path\n",
    "    with open(fname, 'rb') as fp:\n",
    "        df = pickle.load(fp)\n",
    "    \n",
    "    # Break into train and test\n",
    "    train_mask = df.doc_use == 'train'\n",
    "    train = df[train_mask]\n",
    "    test = df[~train_mask]\n",
    "    \n",
    "    # Stack documents\n",
    "    train_embeddings = [np.stack(train.embeddings[train.docid == ID]) for ID in train.docid.unique()]\n",
    "    test_embeddings = [np.stack(test.embeddings[test.docid == ID]) for ID in test.docid.unique()]\n",
    "    \n",
    "    # Pad documents\n",
    "    if max_len == 'max':\n",
    "        max_len = max([len(doc) for doc in train_embeddings])\n",
    "    \n",
    "    x_train = [pad_or_cut(doc, max_len) for doc in train_embeddings]\n",
    "    x_train = np.stack(x_train)\n",
    "    \n",
    "    x_test = [pad_or_cut(doc, max_len) for doc in test_embeddings]\n",
    "    x_test = np.stack(x_test)\n",
    "    \n",
    "    return df, x_train, x_test"
   ]
  },
  {
   "cell_type": "code",
   "execution_count": 89,
   "metadata": {},
   "outputs": [],
   "source": [
    "df, x_train, x_test = build_embedding_list('data/distilBert_embeddings_stack_512.pkl')"
   ]
  },
  {
   "cell_type": "code",
   "execution_count": 90,
   "metadata": {},
   "outputs": [],
   "source": [
    "model = tf.keras.Sequential([\n",
    "    tf.keras.layers.Input(shape=(x_train.shape[1], 768)),\n",
    "    tf.keras.layers.Conv1D(filters=5, kernel_size=3, padding='same'),\n",
    "    tf.keras.layers.MaxPool1D(pool_size=2),\n",
    "    tf.keras.layers.Flatten(),\n",
    "    tf.keras.layers.Dense(1, activation='sigmoid')\n",
    "])"
   ]
  },
  {
   "cell_type": "code",
   "execution_count": 91,
   "metadata": {},
   "outputs": [
    {
     "name": "stdout",
     "output_type": "stream",
     "text": [
      "Model: \"sequential_3\"\n",
      "_________________________________________________________________\n",
      "Layer (type)                 Output Shape              Param #   \n",
      "=================================================================\n",
      "conv1d_3 (Conv1D)            (None, 32, 5)             11525     \n",
      "_________________________________________________________________\n",
      "max_pooling1d_3 (MaxPooling1 (None, 16, 5)             0         \n",
      "_________________________________________________________________\n",
      "flatten_3 (Flatten)          (None, 80)                0         \n",
      "_________________________________________________________________\n",
      "dense_3 (Dense)              (None, 1)                 81        \n",
      "=================================================================\n",
      "Total params: 11,606\n",
      "Trainable params: 11,606\n",
      "Non-trainable params: 0\n",
      "_________________________________________________________________\n"
     ]
    }
   ],
   "source": [
    "model.summary()"
   ]
  },
  {
   "cell_type": "code",
   "execution_count": 92,
   "metadata": {},
   "outputs": [],
   "source": [
    "y_train = np.ones(641)\n",
    "y_test = np.ones(162)"
   ]
  },
  {
   "cell_type": "code",
   "execution_count": 93,
   "metadata": {},
   "outputs": [],
   "source": [
    "model.compile(optimizer='adam', loss='binary_crossentropy')"
   ]
  },
  {
   "cell_type": "code",
   "execution_count": 94,
   "metadata": {},
   "outputs": [
    {
     "name": "stdout",
     "output_type": "stream",
     "text": [
      "Train on 641 samples\n",
      "641/641 [==============================] - 0s 624us/sample - loss: 0.1533\n"
     ]
    },
    {
     "data": {
      "text/plain": [
       "<tensorflow.python.keras.callbacks.History at 0x7fa1c565c450>"
      ]
     },
     "execution_count": 94,
     "metadata": {},
     "output_type": "execute_result"
    }
   ],
   "source": [
    "model.fit(x=x_train, y=y_train)"
   ]
  },
  {
   "cell_type": "code",
   "execution_count": 97,
   "metadata": {},
   "outputs": [
    {
     "data": {
      "text/plain": [
       "162"
      ]
     },
     "execution_count": 97,
     "metadata": {},
     "output_type": "execute_result"
    }
   ],
   "source": [
    "test_preds = model.predict_classes(x_test)\n",
    "test_y = df[df['doc_use'] == 'test'].groupby('docid').first()['label'].to_list()\n",
    "len(test_preds)\n",
    "print('accuracy on test set for 200 stacked = ', \n",
    "      sum(1 for x,y in zip(test_preds,test_y) if x == y) / len(test_preds))"
   ]
  },
  {
   "cell_type": "code",
   "execution_count": 96,
   "metadata": {},
   "outputs": [
    {
     "name": "stdout",
     "output_type": "stream",
     "text": [
      "accuracy on test set for 200 stacked =  0.5987654320987654\n"
     ]
    }
   ],
   "source": [
    "print('accuracy on test set for 200 stacked = ', \n",
    "      sum(1 for x,y in zip(test_preds,test_y) if x == y) / len(test_preds))"
   ]
  }
 ],
 "metadata": {
  "kernelspec": {
   "display_name": "Python 3",
   "language": "python",
   "name": "python3"
  },
  "language_info": {
   "codemirror_mode": {
    "name": "ipython",
    "version": 3
   },
   "file_extension": ".py",
   "mimetype": "text/x-python",
   "name": "python",
   "nbconvert_exporter": "python",
   "pygments_lexer": "ipython3",
   "version": "3.7.6"
  }
 },
 "nbformat": 4,
 "nbformat_minor": 4
}
